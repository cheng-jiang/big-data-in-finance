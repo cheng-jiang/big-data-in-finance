{
 "cells": [
  {
   "cell_type": "markdown",
   "metadata": {
    "toc": true
   },
   "source": [
    "<h1>Table of Contents<span class=\"tocSkip\"></span></h1>\n",
    "<div class=\"toc\"><ul class=\"toc-item\"><li><span><a href=\"#Setup\" data-toc-modified-id=\"Setup-1\"><span class=\"toc-item-num\">1&nbsp;&nbsp;</span>Setup</a></span></li><li><span><a href=\"#Download-Data\" data-toc-modified-id=\"Download-Data-2\"><span class=\"toc-item-num\">2&nbsp;&nbsp;</span>Download Data</a></span></li><li><span><a href=\"#Calculate-past-11-1-returns\" data-toc-modified-id=\"Calculate-past-11-1-returns-3\"><span class=\"toc-item-num\">3&nbsp;&nbsp;</span>Calculate past 11-1 returns</a></span></li><li><span><a href=\"#Portfolio-Sorts\" data-toc-modified-id=\"Portfolio-Sorts-4\"><span class=\"toc-item-num\">4&nbsp;&nbsp;</span>Portfolio Sorts</a></span><ul class=\"toc-item\"><li><span><a href=\"#Portfolio-Sorts\" data-toc-modified-id=\"Portfolio-Sorts-4.1\"><span class=\"toc-item-num\">4.1&nbsp;&nbsp;</span>Portfolio Sorts</a></span></li><li><span><a href=\"#Rankdate-definition\" data-toc-modified-id=\"Rankdate-definition-4.2\"><span class=\"toc-item-num\">4.2&nbsp;&nbsp;</span>Rankdate definition</a></span></li><li><span><a href=\"#Merge-data\" data-toc-modified-id=\"Merge-data-4.3\"><span class=\"toc-item-num\">4.3&nbsp;&nbsp;</span>Merge data</a></span></li><li><span><a href=\"#Calculate-returns\" data-toc-modified-id=\"Calculate-returns-4.4\"><span class=\"toc-item-num\">4.4&nbsp;&nbsp;</span>Calculate returns</a></span></li></ul></li><li><span><a href=\"#Compare-with-Fama-and-French-(Ken-French-website)\" data-toc-modified-id=\"Compare-with-Fama-and-French-(Ken-French-website)-5\"><span class=\"toc-item-num\">5&nbsp;&nbsp;</span>Compare with Fama and French (Ken French website)</a></span><ul class=\"toc-item\"><li><span><a href=\"#Correlation\" data-toc-modified-id=\"Correlation-5.1\"><span class=\"toc-item-num\">5.1&nbsp;&nbsp;</span>Correlation</a></span></li><li><span><a href=\"#Time-series-plot\" data-toc-modified-id=\"Time-series-plot-5.2\"><span class=\"toc-item-num\">5.2&nbsp;&nbsp;</span>Time series plot</a></span></li></ul></li></ul></div>"
   ]
  },
  {
   "cell_type": "markdown",
   "metadata": {},
   "source": [
    "# Big Data in Finance: Part III <BR><BR>Homework 2: Momentum Factor\n",
    "    \n",
    "**Instructor** <BR>\n",
    "Ritt Keerati, ritt.keerati@gsb.columbia.edu\n",
    "    \n",
    "**TA's:** <BR>\n",
    "Meha Sadasivam, MSadasivam21@gsb.columbia.edu <BR>\n",
    "Daheng Yang, dyang22@gsb.columbia.edu"
   ]
  },
  {
   "cell_type": "markdown",
   "metadata": {
    "slideshow": {
     "slide_type": "slide"
    }
   },
   "source": [
    "## Setup"
   ]
  },
  {
   "cell_type": "code",
   "execution_count": 1,
   "metadata": {
    "slideshow": {
     "slide_type": "fragment"
    }
   },
   "outputs": [],
   "source": [
    "%matplotlib inline\n",
    "\n",
    "# Packages \n",
    "import sys\n",
    "import pandas as pd\n",
    "import numpy as np\n",
    "import datetime\n",
    "import matplotlib.pyplot as plt\n",
    "\n",
    "import statsmodels.api as sm\n",
    "import statsmodels.formula.api as smf\n",
    "\n",
    "import time\n",
    "from time import strptime, strftime\n",
    "from pandas.tseries.offsets import MonthEnd\n",
    "\n",
    "# Setups\n",
    "pd.set_option(\"display.max_rows\", 100) # max number or rows to be displayed \n",
    "plt.rcParams['figure.figsize'] = [10, 6]\n",
    "idx = pd.IndexSlice"
   ]
  },
  {
   "cell_type": "code",
   "execution_count": 2,
   "metadata": {
    "slideshow": {
     "slide_type": "subslide"
    }
   },
   "outputs": [],
   "source": [
    "# Packages from fire_pytools\n",
    "sys.path.append(\"/Users/rk2941/Dropbox/courses/big_data_2022/fire_pytools\")\n",
    "\n",
    "# Data Import\n",
    "from data_setup import stock_monthly\n",
    "from data_setup import stock_annual\n",
    "\n",
    "# Functions\n",
    "from utils.monthly_date import *\n",
    "from portools.find_breakpoints import find_breakpoints\n",
    "from portools.sort_portfolios import sort_portfolios\n",
    "from import_kf.kf_factors import *\n",
    "from utils.post_event_nan import *\n",
    "\n",
    "import warnings\n",
    "warnings.filterwarnings('ignore')"
   ]
  },
  {
   "cell_type": "markdown",
   "metadata": {
    "slideshow": {
     "slide_type": "slide"
    }
   },
   "source": [
    "## Download Data"
   ]
  },
  {
   "cell_type": "code",
   "execution_count": 3,
   "metadata": {
    "slideshow": {
     "slide_type": "subslide"
    }
   },
   "outputs": [],
   "source": [
    "# This is the same data we used in class. It use data download from CRSP\n",
    "#mdata = stock_monthly.main()\n",
    "#mdata.to_pickle(path = '/Users/rk2941/Dropbox/courses/big_data_2022/data/stock_monthly.pkl')\n",
    "mdata = pd.read_pickle('/Users/rk2941/Dropbox/courses/big_data_2022/data/stock_monthly.pkl')"
   ]
  },
  {
   "cell_type": "markdown",
   "metadata": {
    "slideshow": {
     "slide_type": "slide"
    }
   },
   "source": [
    "## Calculate past 11-1 returns"
   ]
  },
  {
   "cell_type": "code",
   "execution_count": 4,
   "metadata": {},
   "outputs": [],
   "source": [
    "# Clean Data\n",
    "## Data start in 1970\n",
    "mdata = mdata[mdata.date>='1970-01-01']\n",
    "## Share type - select only common stocks \n",
    "mdata = mdata[mdata.shrcd.isin([10, 11])]\n",
    "## Select stocks traded on the major stock exchanges\n",
    "mdata = mdata[mdata.exchcd.isin([1, 2, 3])]\n",
    "## Set index\n",
    "mdata.set_index(['permno','date'], inplace=True)"
   ]
  },
  {
   "cell_type": "code",
   "execution_count": 5,
   "metadata": {},
   "outputs": [],
   "source": [
    "# Calculate excess returns\n",
    "mdata['exret'] = mdata['retadj'] - mdata['rf']"
   ]
  },
  {
   "cell_type": "code",
   "execution_count": 6,
   "metadata": {},
   "outputs": [],
   "source": [
    "# Calculate past returns \n",
    "def calculate_cumulative_returns(mdata, tt, min_periods):\n",
    "    \"\"\"\n",
    "    Calculate past returns for momentum stratagy\n",
    "\n",
    "    Parameters:\n",
    "    ------------\n",
    "    mdata: data frame\n",
    "        crsp monthly data with cols permno, date as index.\n",
    "    tt: int\n",
    "        number of periods to cumulate retuns\n",
    "    min_periods: int\n",
    "    \"\"\"\n",
    "    start_time = time.time()\n",
    "    required_cols = ['exret']\n",
    "\n",
    "    assert set(required_cols).issubset(mdata.columns), \"Required columns: {}.\".format(', '.join(required_cols))\n",
    "\n",
    "    df = mdata[required_cols].copy()\n",
    "\n",
    "    # Before applying the function calculate_cumulative_returns you need to make sure \n",
    "    # we don't have missing dates. Missing dates would lead to the wrong number of periods \n",
    "    # to cumulate returns.\n",
    "\n",
    "    # Resample data \n",
    "    # CRSP data has skipping months.\n",
    "    # Create line to missing  months to facilitate the calculation of lag/past returns\n",
    "    df.reset_index(inplace=True)\n",
    "    df['edate'] = df['date'] + MonthEnd(0)\n",
    "    df.sort_values(['permno', 'edate'], inplace=True)\n",
    "    pk_integrity(df, ['permno', 'edate'])\n",
    "    df.set_index(['edate'], inplace=True)\n",
    "    # Resample to take care of missing months\n",
    "    sdf = df[['permno', 'exret']].groupby('permno').resample('M').mean().drop(columns='permno')\n",
    "    sdf.reset_index(inplace=True)\n",
    "    print(\"Time to resample data: %s seconds\" % str(time.time() - start_time))\n",
    "    print(\"We have added %s rows to the data\" % str(sdf.shape[0] - df.shape[0]))\n",
    "\n",
    "    # Cumulative Return (adjusted) in tt months\n",
    "    sdf['gret'] = sdf['exret'].fillna(0)+1\n",
    "    sdf['ret_notnull'] = sdf['exret'].notnull()\n",
    "\n",
    "    cret = sdf.groupby(['permno']).gret.rolling(window=tt, min_periods=1).apply(np.prod, raw=True)\n",
    "    cret.reset_index(drop=True, inplace=True)\n",
    "\n",
    "    nona_count = sdf.groupby(['permno']).ret_notnull.rolling(window=tt, min_periods=1).apply(np.sum, raw=True)\n",
    "    nona_count.reset_index(drop=True, inplace=True)\n",
    "\n",
    "    cret[nona_count<min_periods] = np.nan\n",
    "    sdf['ret' + str(tt)] = cret\n",
    "\n",
    "    # Delete rows that were not in the original data set\n",
    "    df.reset_index(inplace=True)\n",
    "    fdata = pd.merge(df,\n",
    "             sdf[['edate', 'permno','ret' + str(tt)]],\n",
    "             on = ['edate', 'permno'])         \n",
    "    fdata.set_index(['permno','date'],inplace = True)\n",
    "    x = fdata['ret' + str(tt)]\n",
    "\n",
    "    print(\"Time to calculate %d months past returns: %s seconds\" % (tt, str(round(time.time() - start_time, 2))))\n",
    "\n",
    "    return x"
   ]
  },
  {
   "cell_type": "code",
   "execution_count": 7,
   "metadata": {},
   "outputs": [
    {
     "name": "stdout",
     "output_type": "stream",
     "text": [
      "Time to resample data: 68.78757405281067 seconds\n",
      "We have added 68342 rows to the data\n",
      "Time to calculate 11 months past returns: 96.09 seconds\n"
     ]
    }
   ],
   "source": [
    "## Calculate 11 months returns\n",
    "mdata['ret11'] = calculate_cumulative_returns(mdata, 11, 8)"
   ]
  },
  {
   "cell_type": "code",
   "execution_count": 8,
   "metadata": {},
   "outputs": [],
   "source": [
    "## Skip one month \n",
    "mdata['ret11_1'] = mdata.groupby(['permno']).ret11.shift(1)"
   ]
  },
  {
   "cell_type": "code",
   "execution_count": 9,
   "metadata": {},
   "outputs": [],
   "source": [
    "# Create MEsum: when sorting by size this is the ME to be used\n",
    "mdata['mesum'] = mdata.groupby(['date', 'permco']).me.transform(np.sum, min_count=1)"
   ]
  },
  {
   "cell_type": "markdown",
   "metadata": {
    "slideshow": {
     "slide_type": "slide"
    }
   },
   "source": [
    "## Portfolio Sorts"
   ]
  },
  {
   "cell_type": "markdown",
   "metadata": {},
   "source": [
    "### Portfolio Sorts"
   ]
  },
  {
   "cell_type": "code",
   "execution_count": 10,
   "metadata": {},
   "outputs": [],
   "source": [
    "# Clean data\n",
    "sort_data = mdata[mdata.ret11_1.notnull()]\n",
    "sort_data = sort_data[sort_data.mesum.notnull()]\n",
    "\n",
    "# Reset index\n",
    "mdata.reset_index(inplace=True)"
   ]
  },
  {
   "cell_type": "code",
   "execution_count": 11,
   "metadata": {
    "slideshow": {
     "slide_type": "fragment"
    }
   },
   "outputs": [
    {
     "name": "stdout",
     "output_type": "stream",
     "text": [
      "NYSE breakpoints were calculated for mesum.\n",
      "Stocks were sorted according to breakpoints, starting in 1970-09-30 00:00:00\n",
      "NYSE breakpoints were calculated for ret11_1.\n",
      "Stocks were sorted according to breakpoints, starting in 1970-09-30 00:00:00\n"
     ]
    }
   ],
   "source": [
    "port = sort_portfolios(data = sort_data,\n",
    "                       quantiles={'mesum': [0.5],\n",
    "                                  'ret11_1': [0.3, 0.7]},\n",
    "                       id_variables=['date', 'permno', 'exchcd'],\n",
    "                       exch_cd=[1])"
   ]
  },
  {
   "cell_type": "markdown",
   "metadata": {},
   "source": [
    "### Rankdate definition"
   ]
  },
  {
   "cell_type": "code",
   "execution_count": 14,
   "metadata": {
    "slideshow": {
     "slide_type": "subslide"
    }
   },
   "outputs": [],
   "source": [
    "# Create rankdate variable to merge with stock file\n",
    "port['rankdate'] = port.date.dt.year * 100 + port.date.dt.month\n",
    "\n",
    "port.drop(columns='date', inplace=True)"
   ]
  },
  {
   "cell_type": "code",
   "execution_count": 15,
   "metadata": {
    "slideshow": {
     "slide_type": "subslide"
    }
   },
   "outputs": [],
   "source": [
    "# Create rankdate variable to merge with portfolio sort\n",
    "mdata['rankdate'] = mdata['date'] - pd.Timedelta('35 days')\n",
    "\n",
    "mdata['rankdate'] = mdata.rankdate.dt.year * 100 + mdata.rankdate.dt.month"
   ]
  },
  {
   "cell_type": "markdown",
   "metadata": {
    "slideshow": {
     "slide_type": "subslide"
    }
   },
   "source": [
    "### Merge data"
   ]
  },
  {
   "cell_type": "code",
   "execution_count": 16,
   "metadata": {
    "slideshow": {
     "slide_type": "fragment"
    }
   },
   "outputs": [],
   "source": [
    "fdata = pd.merge(mdata[['permno', 'date', 'rankdate', 'retadj', 'lag_me', 'ticker']], \n",
    "                port,\n",
    "                on = ['permno', 'rankdate'])"
   ]
  },
  {
   "cell_type": "markdown",
   "metadata": {
    "slideshow": {
     "slide_type": "subslide"
    }
   },
   "source": [
    "Have a look at Apple in 2019. Which portfolio did Apple belong to?"
   ]
  },
  {
   "cell_type": "code",
   "execution_count": 17,
   "metadata": {
    "slideshow": {
     "slide_type": "fragment"
    }
   },
   "outputs": [
    {
     "data": {
      "text/html": [
       "<div>\n",
       "<style scoped>\n",
       "    .dataframe tbody tr th:only-of-type {\n",
       "        vertical-align: middle;\n",
       "    }\n",
       "\n",
       "    .dataframe tbody tr th {\n",
       "        vertical-align: top;\n",
       "    }\n",
       "\n",
       "    .dataframe thead th {\n",
       "        text-align: right;\n",
       "    }\n",
       "</style>\n",
       "<table border=\"1\" class=\"dataframe\">\n",
       "  <thead>\n",
       "    <tr style=\"text-align: right;\">\n",
       "      <th></th>\n",
       "      <th>permno</th>\n",
       "      <th>date</th>\n",
       "      <th>rankdate</th>\n",
       "      <th>retadj</th>\n",
       "      <th>lag_me</th>\n",
       "      <th>ticker</th>\n",
       "      <th>ret11_1portfolio</th>\n",
       "      <th>mesumportfolio</th>\n",
       "    </tr>\n",
       "  </thead>\n",
       "  <tbody>\n",
       "    <tr>\n",
       "      <th>322224</th>\n",
       "      <td>14593</td>\n",
       "      <td>2019-01-31</td>\n",
       "      <td>201812</td>\n",
       "      <td>0.055154</td>\n",
       "      <td>7.460792e+05</td>\n",
       "      <td>AAPL</td>\n",
       "      <td>ret11_12</td>\n",
       "      <td>mesum2</td>\n",
       "    </tr>\n",
       "    <tr>\n",
       "      <th>322225</th>\n",
       "      <td>14593</td>\n",
       "      <td>2019-02-28</td>\n",
       "      <td>201901</td>\n",
       "      <td>0.044701</td>\n",
       "      <td>7.848112e+05</td>\n",
       "      <td>AAPL</td>\n",
       "      <td>ret11_12</td>\n",
       "      <td>mesum2</td>\n",
       "    </tr>\n",
       "    <tr>\n",
       "      <th>322226</th>\n",
       "      <td>14593</td>\n",
       "      <td>2019-03-29</td>\n",
       "      <td>201902</td>\n",
       "      <td>0.097026</td>\n",
       "      <td>8.164507e+05</td>\n",
       "      <td>AAPL</td>\n",
       "      <td>ret11_12</td>\n",
       "      <td>mesum2</td>\n",
       "    </tr>\n",
       "    <tr>\n",
       "      <th>322227</th>\n",
       "      <td>14593</td>\n",
       "      <td>2019-04-30</td>\n",
       "      <td>201903</td>\n",
       "      <td>0.056436</td>\n",
       "      <td>8.956674e+05</td>\n",
       "      <td>AAPL</td>\n",
       "      <td>ret11_12</td>\n",
       "      <td>mesum2</td>\n",
       "    </tr>\n",
       "    <tr>\n",
       "      <th>322228</th>\n",
       "      <td>14593</td>\n",
       "      <td>2019-05-31</td>\n",
       "      <td>201904</td>\n",
       "      <td>-0.123735</td>\n",
       "      <td>9.232977e+05</td>\n",
       "      <td>AAPL</td>\n",
       "      <td>ret11_13</td>\n",
       "      <td>mesum2</td>\n",
       "    </tr>\n",
       "    <tr>\n",
       "      <th>322229</th>\n",
       "      <td>14593</td>\n",
       "      <td>2019-06-28</td>\n",
       "      <td>201905</td>\n",
       "      <td>0.130519</td>\n",
       "      <td>8.055102e+05</td>\n",
       "      <td>AAPL</td>\n",
       "      <td>ret11_12</td>\n",
       "      <td>mesum2</td>\n",
       "    </tr>\n",
       "    <tr>\n",
       "      <th>322230</th>\n",
       "      <td>14593</td>\n",
       "      <td>2019-07-31</td>\n",
       "      <td>201906</td>\n",
       "      <td>0.076394</td>\n",
       "      <td>8.968537e+05</td>\n",
       "      <td>AAPL</td>\n",
       "      <td>ret11_12</td>\n",
       "      <td>mesum2</td>\n",
       "    </tr>\n",
       "    <tr>\n",
       "      <th>322231</th>\n",
       "      <td>14593</td>\n",
       "      <td>2019-08-30</td>\n",
       "      <td>201907</td>\n",
       "      <td>-0.016570</td>\n",
       "      <td>9.627661e+05</td>\n",
       "      <td>AAPL</td>\n",
       "      <td>ret11_12</td>\n",
       "      <td>mesum2</td>\n",
       "    </tr>\n",
       "    <tr>\n",
       "      <th>322232</th>\n",
       "      <td>14593</td>\n",
       "      <td>2019-09-30</td>\n",
       "      <td>201908</td>\n",
       "      <td>0.072962</td>\n",
       "      <td>9.433337e+05</td>\n",
       "      <td>AAPL</td>\n",
       "      <td>ret11_12</td>\n",
       "      <td>mesum2</td>\n",
       "    </tr>\n",
       "    <tr>\n",
       "      <th>322233</th>\n",
       "      <td>14593</td>\n",
       "      <td>2019-10-31</td>\n",
       "      <td>201909</td>\n",
       "      <td>0.110684</td>\n",
       "      <td>9.951516e+05</td>\n",
       "      <td>AAPL</td>\n",
       "      <td>ret11_12</td>\n",
       "      <td>mesum2</td>\n",
       "    </tr>\n",
       "    <tr>\n",
       "      <th>322234</th>\n",
       "      <td>14593</td>\n",
       "      <td>2019-11-29</td>\n",
       "      <td>201910</td>\n",
       "      <td>0.077424</td>\n",
       "      <td>1.105307e+06</td>\n",
       "      <td>AAPL</td>\n",
       "      <td>ret11_12</td>\n",
       "      <td>mesum2</td>\n",
       "    </tr>\n",
       "    <tr>\n",
       "      <th>322235</th>\n",
       "      <td>14593</td>\n",
       "      <td>2019-12-31</td>\n",
       "      <td>201911</td>\n",
       "      <td>0.098784</td>\n",
       "      <td>1.187463e+06</td>\n",
       "      <td>AAPL</td>\n",
       "      <td>ret11_13</td>\n",
       "      <td>mesum2</td>\n",
       "    </tr>\n",
       "  </tbody>\n",
       "</table>\n",
       "</div>"
      ],
      "text/plain": [
       "        permno       date  rankdate    retadj        lag_me ticker  \\\n",
       "322224   14593 2019-01-31    201812  0.055154  7.460792e+05   AAPL   \n",
       "322225   14593 2019-02-28    201901  0.044701  7.848112e+05   AAPL   \n",
       "322226   14593 2019-03-29    201902  0.097026  8.164507e+05   AAPL   \n",
       "322227   14593 2019-04-30    201903  0.056436  8.956674e+05   AAPL   \n",
       "322228   14593 2019-05-31    201904 -0.123735  9.232977e+05   AAPL   \n",
       "322229   14593 2019-06-28    201905  0.130519  8.055102e+05   AAPL   \n",
       "322230   14593 2019-07-31    201906  0.076394  8.968537e+05   AAPL   \n",
       "322231   14593 2019-08-30    201907 -0.016570  9.627661e+05   AAPL   \n",
       "322232   14593 2019-09-30    201908  0.072962  9.433337e+05   AAPL   \n",
       "322233   14593 2019-10-31    201909  0.110684  9.951516e+05   AAPL   \n",
       "322234   14593 2019-11-29    201910  0.077424  1.105307e+06   AAPL   \n",
       "322235   14593 2019-12-31    201911  0.098784  1.187463e+06   AAPL   \n",
       "\n",
       "       ret11_1portfolio mesumportfolio  \n",
       "322224         ret11_12         mesum2  \n",
       "322225         ret11_12         mesum2  \n",
       "322226         ret11_12         mesum2  \n",
       "322227         ret11_12         mesum2  \n",
       "322228         ret11_13         mesum2  \n",
       "322229         ret11_12         mesum2  \n",
       "322230         ret11_12         mesum2  \n",
       "322231         ret11_12         mesum2  \n",
       "322232         ret11_12         mesum2  \n",
       "322233         ret11_12         mesum2  \n",
       "322234         ret11_12         mesum2  \n",
       "322235         ret11_13         mesum2  "
      ]
     },
     "execution_count": 17,
     "metadata": {},
     "output_type": "execute_result"
    }
   ],
   "source": [
    "fdata[(fdata.ticker=='AAPL') & (fdata.date.dt.year==2019)]"
   ]
  },
  {
   "cell_type": "markdown",
   "metadata": {
    "slideshow": {
     "slide_type": "subslide"
    }
   },
   "source": [
    "### Calculate returns"
   ]
  },
  {
   "cell_type": "code",
   "execution_count": 18,
   "metadata": {
    "slideshow": {
     "slide_type": "subslide"
    }
   },
   "outputs": [
    {
     "data": {
      "text/plain": [
       "0.9992668559830881"
      ]
     },
     "execution_count": 18,
     "metadata": {},
     "output_type": "execute_result"
    }
   ],
   "source": [
    "fdata.retadj.notnull().mean()"
   ]
  },
  {
   "cell_type": "code",
   "execution_count": 19,
   "metadata": {
    "slideshow": {
     "slide_type": "subslide"
    }
   },
   "outputs": [],
   "source": [
    "fdata = fdata[fdata.retadj.notnull()]"
   ]
  },
  {
   "cell_type": "code",
   "execution_count": 20,
   "metadata": {},
   "outputs": [
    {
     "data": {
      "text/html": [
       "<div>\n",
       "<style scoped>\n",
       "    .dataframe tbody tr th:only-of-type {\n",
       "        vertical-align: middle;\n",
       "    }\n",
       "\n",
       "    .dataframe tbody tr th {\n",
       "        vertical-align: top;\n",
       "    }\n",
       "\n",
       "    .dataframe thead th {\n",
       "        text-align: right;\n",
       "    }\n",
       "</style>\n",
       "<table border=\"1\" class=\"dataframe\">\n",
       "  <thead>\n",
       "    <tr style=\"text-align: right;\">\n",
       "      <th></th>\n",
       "      <th>permno</th>\n",
       "      <th>date</th>\n",
       "      <th>rankdate</th>\n",
       "      <th>retadj</th>\n",
       "      <th>lag_me</th>\n",
       "      <th>ticker</th>\n",
       "      <th>ret11_1portfolio</th>\n",
       "      <th>mesumportfolio</th>\n",
       "    </tr>\n",
       "  </thead>\n",
       "  <tbody>\n",
       "    <tr>\n",
       "      <th>0</th>\n",
       "      <td>10000</td>\n",
       "      <td>1986-11-28</td>\n",
       "      <td>198610</td>\n",
       "      <td>0.060000</td>\n",
       "      <td>3.002344e+00</td>\n",
       "      <td>OMFGA</td>\n",
       "      <td>ret11_11</td>\n",
       "      <td>mesum1</td>\n",
       "    </tr>\n",
       "    <tr>\n",
       "      <th>1</th>\n",
       "      <td>10000</td>\n",
       "      <td>1986-12-31</td>\n",
       "      <td>198611</td>\n",
       "      <td>-0.377358</td>\n",
       "      <td>3.182484e+00</td>\n",
       "      <td>OMFGA</td>\n",
       "      <td>ret11_11</td>\n",
       "      <td>mesum1</td>\n",
       "    </tr>\n",
       "    <tr>\n",
       "      <th>2</th>\n",
       "      <td>10000</td>\n",
       "      <td>1987-01-30</td>\n",
       "      <td>198612</td>\n",
       "      <td>-0.212121</td>\n",
       "      <td>1.981547e+00</td>\n",
       "      <td>OMFGA</td>\n",
       "      <td>ret11_11</td>\n",
       "      <td>mesum1</td>\n",
       "    </tr>\n",
       "    <tr>\n",
       "      <th>3</th>\n",
       "      <td>10000</td>\n",
       "      <td>1987-02-27</td>\n",
       "      <td>198701</td>\n",
       "      <td>0.000000</td>\n",
       "      <td>1.581531e+00</td>\n",
       "      <td>OMFGA</td>\n",
       "      <td>ret11_11</td>\n",
       "      <td>mesum1</td>\n",
       "    </tr>\n",
       "    <tr>\n",
       "      <th>4</th>\n",
       "      <td>10000</td>\n",
       "      <td>1987-03-31</td>\n",
       "      <td>198702</td>\n",
       "      <td>-0.384615</td>\n",
       "      <td>1.581531e+00</td>\n",
       "      <td>OMFGA</td>\n",
       "      <td>ret11_11</td>\n",
       "      <td>mesum1</td>\n",
       "    </tr>\n",
       "    <tr>\n",
       "      <th>...</th>\n",
       "      <td>...</td>\n",
       "      <td>...</td>\n",
       "      <td>...</td>\n",
       "      <td>...</td>\n",
       "      <td>...</td>\n",
       "      <td>...</td>\n",
       "      <td>...</td>\n",
       "      <td>...</td>\n",
       "    </tr>\n",
       "    <tr>\n",
       "      <th>2843911</th>\n",
       "      <td>93436</td>\n",
       "      <td>2021-08-31</td>\n",
       "      <td>202107</td>\n",
       "      <td>0.070605</td>\n",
       "      <td>6.803383e+05</td>\n",
       "      <td>TSLA</td>\n",
       "      <td>ret11_13</td>\n",
       "      <td>mesum2</td>\n",
       "    </tr>\n",
       "    <tr>\n",
       "      <th>2843912</th>\n",
       "      <td>93436</td>\n",
       "      <td>2021-09-30</td>\n",
       "      <td>202108</td>\n",
       "      <td>0.054042</td>\n",
       "      <td>7.370200e+05</td>\n",
       "      <td>TSLA</td>\n",
       "      <td>ret11_12</td>\n",
       "      <td>mesum2</td>\n",
       "    </tr>\n",
       "    <tr>\n",
       "      <th>2843913</th>\n",
       "      <td>93436</td>\n",
       "      <td>2021-10-29</td>\n",
       "      <td>202109</td>\n",
       "      <td>0.436530</td>\n",
       "      <td>7.785819e+05</td>\n",
       "      <td>TSLA</td>\n",
       "      <td>ret11_12</td>\n",
       "      <td>mesum2</td>\n",
       "    </tr>\n",
       "    <tr>\n",
       "      <th>2843914</th>\n",
       "      <td>93436</td>\n",
       "      <td>2021-11-30</td>\n",
       "      <td>202110</td>\n",
       "      <td>0.027612</td>\n",
       "      <td>1.118751e+06</td>\n",
       "      <td>TSLA</td>\n",
       "      <td>ret11_13</td>\n",
       "      <td>mesum2</td>\n",
       "    </tr>\n",
       "    <tr>\n",
       "      <th>2843915</th>\n",
       "      <td>93436</td>\n",
       "      <td>2021-12-31</td>\n",
       "      <td>202111</td>\n",
       "      <td>-0.076855</td>\n",
       "      <td>1.149642e+06</td>\n",
       "      <td>TSLA</td>\n",
       "      <td>ret11_13</td>\n",
       "      <td>mesum2</td>\n",
       "    </tr>\n",
       "  </tbody>\n",
       "</table>\n",
       "<p>2841831 rows × 8 columns</p>\n",
       "</div>"
      ],
      "text/plain": [
       "         permno       date  rankdate    retadj        lag_me ticker  \\\n",
       "0         10000 1986-11-28    198610  0.060000  3.002344e+00  OMFGA   \n",
       "1         10000 1986-12-31    198611 -0.377358  3.182484e+00  OMFGA   \n",
       "2         10000 1987-01-30    198612 -0.212121  1.981547e+00  OMFGA   \n",
       "3         10000 1987-02-27    198701  0.000000  1.581531e+00  OMFGA   \n",
       "4         10000 1987-03-31    198702 -0.384615  1.581531e+00  OMFGA   \n",
       "...         ...        ...       ...       ...           ...    ...   \n",
       "2843911   93436 2021-08-31    202107  0.070605  6.803383e+05   TSLA   \n",
       "2843912   93436 2021-09-30    202108  0.054042  7.370200e+05   TSLA   \n",
       "2843913   93436 2021-10-29    202109  0.436530  7.785819e+05   TSLA   \n",
       "2843914   93436 2021-11-30    202110  0.027612  1.118751e+06   TSLA   \n",
       "2843915   93436 2021-12-31    202111 -0.076855  1.149642e+06   TSLA   \n",
       "\n",
       "        ret11_1portfolio mesumportfolio  \n",
       "0               ret11_11         mesum1  \n",
       "1               ret11_11         mesum1  \n",
       "2               ret11_11         mesum1  \n",
       "3               ret11_11         mesum1  \n",
       "4               ret11_11         mesum1  \n",
       "...                  ...            ...  \n",
       "2843911         ret11_13         mesum2  \n",
       "2843912         ret11_12         mesum2  \n",
       "2843913         ret11_12         mesum2  \n",
       "2843914         ret11_13         mesum2  \n",
       "2843915         ret11_13         mesum2  \n",
       "\n",
       "[2841831 rows x 8 columns]"
      ]
     },
     "execution_count": 20,
     "metadata": {},
     "output_type": "execute_result"
    }
   ],
   "source": [
    "fdata"
   ]
  },
  {
   "cell_type": "code",
   "execution_count": 21,
   "metadata": {
    "slideshow": {
     "slide_type": "subslide"
    }
   },
   "outputs": [],
   "source": [
    "ret = fdata.groupby(['date', \n",
    "                     'mesumportfolio', \n",
    "                     'ret11_1portfolio']).apply(lambda x: np.average(x['retadj'], \n",
    "                                                                weights = x['lag_me']))"
   ]
  },
  {
   "cell_type": "code",
   "execution_count": 22,
   "metadata": {
    "slideshow": {
     "slide_type": "subslide"
    }
   },
   "outputs": [],
   "source": [
    "ret = ret.unstack(level=[1, 2])"
   ]
  },
  {
   "cell_type": "code",
   "execution_count": 23,
   "metadata": {
    "slideshow": {
     "slide_type": "subslide"
    }
   },
   "outputs": [
    {
     "data": {
      "text/plain": [
       "<AxesSubplot:xlabel='date'>"
      ]
     },
     "execution_count": 23,
     "metadata": {},
     "output_type": "execute_result"
    },
    {
     "data": {
      "image/png": "[encoded data removed]",
      "text/plain": [
       "<Figure size 720x432 with 1 Axes>"
      ]
     },
     "metadata": {
      "needs_background": "light"
     },
     "output_type": "display_data"
    }
   ],
   "source": [
    "np.log(1+ret).cumsum().plot()"
   ]
  },
  {
   "cell_type": "code",
   "execution_count": 24,
   "metadata": {},
   "outputs": [
    {
     "data": {
      "text/html": [
       "<div>\n",
       "<style scoped>\n",
       "    .dataframe tbody tr th:only-of-type {\n",
       "        vertical-align: middle;\n",
       "    }\n",
       "\n",
       "    .dataframe tbody tr th {\n",
       "        vertical-align: top;\n",
       "    }\n",
       "\n",
       "    .dataframe thead tr th {\n",
       "        text-align: left;\n",
       "    }\n",
       "\n",
       "    .dataframe thead tr:last-of-type th {\n",
       "        text-align: right;\n",
       "    }\n",
       "</style>\n",
       "<table border=\"1\" class=\"dataframe\">\n",
       "  <thead>\n",
       "    <tr>\n",
       "      <th>mesumportfolio</th>\n",
       "      <th colspan=\"3\" halign=\"left\">mesum1</th>\n",
       "      <th colspan=\"3\" halign=\"left\">mesum2</th>\n",
       "    </tr>\n",
       "    <tr>\n",
       "      <th>ret11_1portfolio</th>\n",
       "      <th>ret11_11</th>\n",
       "      <th>ret11_12</th>\n",
       "      <th>ret11_13</th>\n",
       "      <th>ret11_11</th>\n",
       "      <th>ret11_12</th>\n",
       "      <th>ret11_13</th>\n",
       "    </tr>\n",
       "    <tr>\n",
       "      <th>date</th>\n",
       "      <th></th>\n",
       "      <th></th>\n",
       "      <th></th>\n",
       "      <th></th>\n",
       "      <th></th>\n",
       "      <th></th>\n",
       "    </tr>\n",
       "  </thead>\n",
       "  <tbody>\n",
       "    <tr>\n",
       "      <th>1970-10-30</th>\n",
       "      <td>-0.108311</td>\n",
       "      <td>-0.032706</td>\n",
       "      <td>-0.003526</td>\n",
       "      <td>-0.071985</td>\n",
       "      <td>-0.009034</td>\n",
       "      <td>-0.008271</td>\n",
       "    </tr>\n",
       "    <tr>\n",
       "      <th>1970-11-30</th>\n",
       "      <td>-0.008591</td>\n",
       "      <td>0.027862</td>\n",
       "      <td>0.027413</td>\n",
       "      <td>0.043484</td>\n",
       "      <td>0.052768</td>\n",
       "      <td>0.059474</td>\n",
       "    </tr>\n",
       "    <tr>\n",
       "      <th>1970-12-31</th>\n",
       "      <td>0.096765</td>\n",
       "      <td>0.088479</td>\n",
       "      <td>0.087699</td>\n",
       "      <td>0.070133</td>\n",
       "      <td>0.070353</td>\n",
       "      <td>0.044860</td>\n",
       "    </tr>\n",
       "    <tr>\n",
       "      <th>1971-01-29</th>\n",
       "      <td>0.150844</td>\n",
       "      <td>0.101969</td>\n",
       "      <td>0.090199</td>\n",
       "      <td>0.102374</td>\n",
       "      <td>0.048239</td>\n",
       "      <td>0.032106</td>\n",
       "    </tr>\n",
       "    <tr>\n",
       "      <th>1971-02-26</th>\n",
       "      <td>0.043734</td>\n",
       "      <td>0.031622</td>\n",
       "      <td>0.042867</td>\n",
       "      <td>0.004361</td>\n",
       "      <td>0.010449</td>\n",
       "      <td>0.021424</td>\n",
       "    </tr>\n",
       "    <tr>\n",
       "      <th>...</th>\n",
       "      <td>...</td>\n",
       "      <td>...</td>\n",
       "      <td>...</td>\n",
       "      <td>...</td>\n",
       "      <td>...</td>\n",
       "      <td>...</td>\n",
       "    </tr>\n",
       "    <tr>\n",
       "      <th>2021-08-31</th>\n",
       "      <td>0.004799</td>\n",
       "      <td>0.021244</td>\n",
       "      <td>0.031848</td>\n",
       "      <td>0.015570</td>\n",
       "      <td>0.033683</td>\n",
       "      <td>0.047769</td>\n",
       "    </tr>\n",
       "    <tr>\n",
       "      <th>2021-09-30</th>\n",
       "      <td>-0.033504</td>\n",
       "      <td>-0.028109</td>\n",
       "      <td>-0.018957</td>\n",
       "      <td>-0.049463</td>\n",
       "      <td>-0.044251</td>\n",
       "      <td>-0.030973</td>\n",
       "    </tr>\n",
       "    <tr>\n",
       "      <th>2021-10-29</th>\n",
       "      <td>0.003577</td>\n",
       "      <td>0.032508</td>\n",
       "      <td>0.047792</td>\n",
       "      <td>0.043100</td>\n",
       "      <td>0.081226</td>\n",
       "      <td>0.081407</td>\n",
       "    </tr>\n",
       "    <tr>\n",
       "      <th>2021-11-30</th>\n",
       "      <td>-0.066439</td>\n",
       "      <td>-0.026030</td>\n",
       "      <td>-0.036975</td>\n",
       "      <td>-0.031700</td>\n",
       "      <td>0.000501</td>\n",
       "      <td>-0.030554</td>\n",
       "    </tr>\n",
       "    <tr>\n",
       "      <th>2021-12-31</th>\n",
       "      <td>0.002458</td>\n",
       "      <td>0.042995</td>\n",
       "      <td>0.018953</td>\n",
       "      <td>0.042099</td>\n",
       "      <td>0.054086</td>\n",
       "      <td>-0.001083</td>\n",
       "    </tr>\n",
       "  </tbody>\n",
       "</table>\n",
       "<p>615 rows × 6 columns</p>\n",
       "</div>"
      ],
      "text/plain": [
       "mesumportfolio      mesum1                        mesum2                    \n",
       "ret11_1portfolio  ret11_11  ret11_12  ret11_13  ret11_11  ret11_12  ret11_13\n",
       "date                                                                        \n",
       "1970-10-30       -0.108311 -0.032706 -0.003526 -0.071985 -0.009034 -0.008271\n",
       "1970-11-30       -0.008591  0.027862  0.027413  0.043484  0.052768  0.059474\n",
       "1970-12-31        0.096765  0.088479  0.087699  0.070133  0.070353  0.044860\n",
       "1971-01-29        0.150844  0.101969  0.090199  0.102374  0.048239  0.032106\n",
       "1971-02-26        0.043734  0.031622  0.042867  0.004361  0.010449  0.021424\n",
       "...                    ...       ...       ...       ...       ...       ...\n",
       "2021-08-31        0.004799  0.021244  0.031848  0.015570  0.033683  0.047769\n",
       "2021-09-30       -0.033504 -0.028109 -0.018957 -0.049463 -0.044251 -0.030973\n",
       "2021-10-29        0.003577  0.032508  0.047792  0.043100  0.081226  0.081407\n",
       "2021-11-30       -0.066439 -0.026030 -0.036975 -0.031700  0.000501 -0.030554\n",
       "2021-12-31        0.002458  0.042995  0.018953  0.042099  0.054086 -0.001083\n",
       "\n",
       "[615 rows x 6 columns]"
      ]
     },
     "execution_count": 24,
     "metadata": {},
     "output_type": "execute_result"
    }
   ],
   "source": [
    "ret"
   ]
  },
  {
   "cell_type": "code",
   "execution_count": 25,
   "metadata": {},
   "outputs": [
    {
     "data": {
      "text/html": [
       "<div>\n",
       "<style scoped>\n",
       "    .dataframe tbody tr th:only-of-type {\n",
       "        vertical-align: middle;\n",
       "    }\n",
       "\n",
       "    .dataframe tbody tr th {\n",
       "        vertical-align: top;\n",
       "    }\n",
       "\n",
       "    .dataframe thead tr th {\n",
       "        text-align: left;\n",
       "    }\n",
       "\n",
       "    .dataframe thead tr:last-of-type th {\n",
       "        text-align: right;\n",
       "    }\n",
       "</style>\n",
       "<table border=\"1\" class=\"dataframe\">\n",
       "  <thead>\n",
       "    <tr>\n",
       "      <th>mesumportfolio</th>\n",
       "      <th>mesum1</th>\n",
       "      <th>mesum2</th>\n",
       "    </tr>\n",
       "    <tr>\n",
       "      <th>ret11_1portfolio</th>\n",
       "      <th>ret11_13</th>\n",
       "      <th>ret11_13</th>\n",
       "    </tr>\n",
       "    <tr>\n",
       "      <th>date</th>\n",
       "      <th></th>\n",
       "      <th></th>\n",
       "    </tr>\n",
       "  </thead>\n",
       "  <tbody>\n",
       "    <tr>\n",
       "      <th>1970-10-30</th>\n",
       "      <td>-0.003526</td>\n",
       "      <td>-0.008271</td>\n",
       "    </tr>\n",
       "    <tr>\n",
       "      <th>1970-11-30</th>\n",
       "      <td>0.027413</td>\n",
       "      <td>0.059474</td>\n",
       "    </tr>\n",
       "    <tr>\n",
       "      <th>1970-12-31</th>\n",
       "      <td>0.087699</td>\n",
       "      <td>0.044860</td>\n",
       "    </tr>\n",
       "    <tr>\n",
       "      <th>1971-01-29</th>\n",
       "      <td>0.090199</td>\n",
       "      <td>0.032106</td>\n",
       "    </tr>\n",
       "    <tr>\n",
       "      <th>1971-02-26</th>\n",
       "      <td>0.042867</td>\n",
       "      <td>0.021424</td>\n",
       "    </tr>\n",
       "    <tr>\n",
       "      <th>...</th>\n",
       "      <td>...</td>\n",
       "      <td>...</td>\n",
       "    </tr>\n",
       "    <tr>\n",
       "      <th>2021-08-31</th>\n",
       "      <td>0.031848</td>\n",
       "      <td>0.047769</td>\n",
       "    </tr>\n",
       "    <tr>\n",
       "      <th>2021-09-30</th>\n",
       "      <td>-0.018957</td>\n",
       "      <td>-0.030973</td>\n",
       "    </tr>\n",
       "    <tr>\n",
       "      <th>2021-10-29</th>\n",
       "      <td>0.047792</td>\n",
       "      <td>0.081407</td>\n",
       "    </tr>\n",
       "    <tr>\n",
       "      <th>2021-11-30</th>\n",
       "      <td>-0.036975</td>\n",
       "      <td>-0.030554</td>\n",
       "    </tr>\n",
       "    <tr>\n",
       "      <th>2021-12-31</th>\n",
       "      <td>0.018953</td>\n",
       "      <td>-0.001083</td>\n",
       "    </tr>\n",
       "  </tbody>\n",
       "</table>\n",
       "<p>615 rows × 2 columns</p>\n",
       "</div>"
      ],
      "text/plain": [
       "mesumportfolio      mesum1    mesum2\n",
       "ret11_1portfolio  ret11_13  ret11_13\n",
       "date                                \n",
       "1970-10-30       -0.003526 -0.008271\n",
       "1970-11-30        0.027413  0.059474\n",
       "1970-12-31        0.087699  0.044860\n",
       "1971-01-29        0.090199  0.032106\n",
       "1971-02-26        0.042867  0.021424\n",
       "...                    ...       ...\n",
       "2021-08-31        0.031848  0.047769\n",
       "2021-09-30       -0.018957 -0.030973\n",
       "2021-10-29        0.047792  0.081407\n",
       "2021-11-30       -0.036975 -0.030554\n",
       "2021-12-31        0.018953 -0.001083\n",
       "\n",
       "[615 rows x 2 columns]"
      ]
     },
     "execution_count": 25,
     "metadata": {},
     "output_type": "execute_result"
    }
   ],
   "source": [
    "ret.loc[:, idx[:, 'ret11_13']]"
   ]
  },
  {
   "cell_type": "code",
   "execution_count": 26,
   "metadata": {
    "slideshow": {
     "slide_type": "subslide"
    }
   },
   "outputs": [],
   "source": [
    "mom = ret.loc[:, idx[:, 'ret11_13']].mean(axis=1)-ret.loc[:, idx[:, 'ret11_11']].mean(axis=1)"
   ]
  },
  {
   "cell_type": "code",
   "execution_count": 27,
   "metadata": {
    "slideshow": {
     "slide_type": "subslide"
    }
   },
   "outputs": [
    {
     "data": {
      "text/plain": [
       "<AxesSubplot:xlabel='date'>"
      ]
     },
     "execution_count": 27,
     "metadata": {},
     "output_type": "execute_result"
    },
    {
     "data": {
      "image/png": "[encoded data removed]",
      "text/plain": [
       "<Figure size 720x432 with 1 Axes>"
      ]
     },
     "metadata": {
      "needs_background": "light"
     },
     "output_type": "display_data"
    }
   ],
   "source": [
    "np.log(1+mom).cumsum().plot()"
   ]
  },
  {
   "cell_type": "markdown",
   "metadata": {
    "slideshow": {
     "slide_type": "slide"
    }
   },
   "source": [
    "## Compare with Fama and French (Ken French website)"
   ]
  },
  {
   "cell_type": "code",
   "execution_count": 28,
   "metadata": {
    "slideshow": {
     "slide_type": "subslide"
    }
   },
   "outputs": [],
   "source": [
    "# Import MOM from Ken French website\n",
    "ff = pd.read_csv('/Users/rk2941/Dropbox/courses/big_data_2022/homeworks/hw_ii/F-F_Momentum_Factor.CSV', skiprows=14, skipfooter=100,names=['mdate','Mom'], on_bad_lines='skip')\n"
   ]
  },
  {
   "cell_type": "code",
   "execution_count": 29,
   "metadata": {
    "slideshow": {
     "slide_type": "subslide"
    }
   },
   "outputs": [],
   "source": [
    "ff['mom_ff'] = ff['Mom']/100"
   ]
  },
  {
   "cell_type": "code",
   "execution_count": 30,
   "metadata": {
    "slideshow": {
     "slide_type": "fragment"
    }
   },
   "outputs": [],
   "source": [
    "# Set up our data\n",
    "mom=mom.to_frame('mom')\n",
    "mom.reset_index(inplace=True)\n",
    "mom['mdate'] = mom.date.dt.year*100 + mom.date.dt.month"
   ]
  },
  {
   "cell_type": "code",
   "execution_count": 31,
   "metadata": {
    "slideshow": {
     "slide_type": "subslide"
    }
   },
   "outputs": [],
   "source": [
    "# Merge \n",
    "mom = pd.merge(mom, ff[['mdate', 'mom_ff']])"
   ]
  },
  {
   "cell_type": "code",
   "execution_count": 32,
   "metadata": {
    "slideshow": {
     "slide_type": "fragment"
    }
   },
   "outputs": [],
   "source": [
    "mom.drop(columns='mdate', inplace=True)"
   ]
  },
  {
   "cell_type": "code",
   "execution_count": 33,
   "metadata": {
    "slideshow": {
     "slide_type": "fragment"
    }
   },
   "outputs": [],
   "source": [
    "mom.set_index('date', inplace=True)"
   ]
  },
  {
   "cell_type": "markdown",
   "metadata": {
    "slideshow": {
     "slide_type": "subslide"
    }
   },
   "source": [
    "### Correlation"
   ]
  },
  {
   "cell_type": "code",
   "execution_count": 34,
   "metadata": {},
   "outputs": [
    {
     "data": {
      "text/html": [
       "<div>\n",
       "<style scoped>\n",
       "    .dataframe tbody tr th:only-of-type {\n",
       "        vertical-align: middle;\n",
       "    }\n",
       "\n",
       "    .dataframe tbody tr th {\n",
       "        vertical-align: top;\n",
       "    }\n",
       "\n",
       "    .dataframe thead th {\n",
       "        text-align: right;\n",
       "    }\n",
       "</style>\n",
       "<table border=\"1\" class=\"dataframe\">\n",
       "  <thead>\n",
       "    <tr style=\"text-align: right;\">\n",
       "      <th></th>\n",
       "      <th>mom</th>\n",
       "      <th>mom_ff</th>\n",
       "    </tr>\n",
       "  </thead>\n",
       "  <tbody>\n",
       "    <tr>\n",
       "      <th>mom</th>\n",
       "      <td>1.000000</td>\n",
       "      <td>0.996041</td>\n",
       "    </tr>\n",
       "    <tr>\n",
       "      <th>mom_ff</th>\n",
       "      <td>0.996041</td>\n",
       "      <td>1.000000</td>\n",
       "    </tr>\n",
       "  </tbody>\n",
       "</table>\n",
       "</div>"
      ],
      "text/plain": [
       "             mom    mom_ff\n",
       "mom     1.000000  0.996041\n",
       "mom_ff  0.996041  1.000000"
      ]
     },
     "execution_count": 34,
     "metadata": {},
     "output_type": "execute_result"
    }
   ],
   "source": [
    "mom.corr()"
   ]
  },
  {
   "cell_type": "markdown",
   "metadata": {},
   "source": [
    "### Time series plot"
   ]
  },
  {
   "cell_type": "code",
   "execution_count": 35,
   "metadata": {
    "slideshow": {
     "slide_type": "subslide"
    }
   },
   "outputs": [
    {
     "data": {
      "text/plain": [
       "<AxesSubplot:xlabel='date'>"
      ]
     },
     "execution_count": 35,
     "metadata": {},
     "output_type": "execute_result"
    },
    {
     "data": {
      "image/png": "[encoded data removed]",
      "text/plain": [
       "<Figure size 720x432 with 1 Axes>"
      ]
     },
     "metadata": {
      "needs_background": "light"
     },
     "output_type": "display_data"
    }
   ],
   "source": [
    "((1+mom[['mom','mom_ff']]).cumprod()).plot(logy=True)"
   ]
  }
 ],
 "metadata": {
  "celltoolbar": "Slideshow",
  "kernelspec": {
   "display_name": "Python 3 (ipykernel)",
   "language": "python",
   "name": "python3"
  },
  "language_info": {
   "codemirror_mode": {
    "name": "ipython",
    "version": 3
   },
   "file_extension": ".py",
   "mimetype": "text/x-python",
   "name": "python",
   "nbconvert_exporter": "python",
   "pygments_lexer": "ipython3",
   "version": "3.8.12"
  },
  "toc": {
   "base_numbering": 1,
   "nav_menu": {},
   "number_sections": true,
   "sideBar": true,
   "skip_h1_title": true,
   "title_cell": "Table of Contents",
   "title_sidebar": "Contents",
   "toc_cell": true,
   "toc_position": {},
   "toc_section_display": true,
   "toc_window_display": true
  }
 },
 "nbformat": 4,
 "nbformat_minor": 4
}
