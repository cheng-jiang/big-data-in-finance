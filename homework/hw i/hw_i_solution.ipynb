{
 "cells": [
  {
   "cell_type": "markdown",
   "metadata": {
    "toc": true
   },
   "source": [
    "<h1>Table of Contents<span class=\"tocSkip\"></span></h1>\n",
    "<div class=\"toc\"><ul class=\"toc-item\"><li><span><a href=\"#Packages\" data-toc-modified-id=\"Packages-1\"><span class=\"toc-item-num\">1&nbsp;&nbsp;</span>Packages</a></span></li><li><span><a href=\"#WRDS-Connection\" data-toc-modified-id=\"WRDS-Connection-2\"><span class=\"toc-item-num\">2&nbsp;&nbsp;</span>WRDS Connection</a></span></li><li><span><a href=\"#Determine-the-libraries-available-at-WRDS\" data-toc-modified-id=\"Determine-the-libraries-available-at-WRDS-3\"><span class=\"toc-item-num\">3&nbsp;&nbsp;</span>Determine the libraries available at WRDS</a></span></li><li><span><a href=\"#Determine-the-datasets-within-a-given-library\" data-toc-modified-id=\"Determine-the-datasets-within-a-given-library-4\"><span class=\"toc-item-num\">4&nbsp;&nbsp;</span>Determine the datasets within a given library</a></span></li><li><span><a href=\"#Determine-the-column-headers-(variables)-within-a-given-dataset\" data-toc-modified-id=\"Determine-the-column-headers-(variables)-within-a-given-dataset-5\"><span class=\"toc-item-num\">5&nbsp;&nbsp;</span>Determine the column headers (variables) within a given dataset</a></span></li><li><span><a href=\"#Example-of-submitting-a-SQL-query-to-import-data\" data-toc-modified-id=\"Example-of-submitting-a-SQL-query-to-import-data-6\"><span class=\"toc-item-num\">6&nbsp;&nbsp;</span>Example of submitting a SQL query to import data</a></span></li><li><span><a href=\"#Q0----Preparing-the-Data\" data-toc-modified-id=\"Q0----Preparing-the-Data-7\"><span class=\"toc-item-num\">7&nbsp;&nbsp;</span>Q0 -- Preparing the Data</a></span><ul class=\"toc-item\"><li><span><a href=\"#Download-MSF\" data-toc-modified-id=\"Download-MSF-7.1\"><span class=\"toc-item-num\">7.1&nbsp;&nbsp;</span>Download MSF</a></span></li><li><span><a href=\"#Download-MSEALL\" data-toc-modified-id=\"Download-MSEALL-7.2\"><span class=\"toc-item-num\">7.2&nbsp;&nbsp;</span>Download MSEALL</a></span></li><li><span><a href=\"#Merge-MSF-and-MSEALL\" data-toc-modified-id=\"Merge-MSF-and-MSEALL-7.3\"><span class=\"toc-item-num\">7.3&nbsp;&nbsp;</span>Merge MSF and MSEALL</a></span></li><li><span><a href=\"#Adjust-returns-for-stock-delisting\" data-toc-modified-id=\"Adjust-returns-for-stock-delisting-7.4\"><span class=\"toc-item-num\">7.4&nbsp;&nbsp;</span>Adjust returns for stock delisting</a></span></li><li><span><a href=\"#Calculate-market-value-of-equity\" data-toc-modified-id=\"Calculate-market-value-of-equity-7.5\"><span class=\"toc-item-num\">7.5&nbsp;&nbsp;</span>Calculate market value of equity</a></span></li><li><span><a href=\"#Lagged-ME\" data-toc-modified-id=\"Lagged-ME-7.6\"><span class=\"toc-item-num\">7.6&nbsp;&nbsp;</span>Lagged ME</a></span></li><li><span><a href=\"#Apply-Filters\" data-toc-modified-id=\"Apply-Filters-7.7\"><span class=\"toc-item-num\">7.7&nbsp;&nbsp;</span>Apply Filters</a></span></li><li><span><a href=\"#Cumulative-returns\" data-toc-modified-id=\"Cumulative-returns-7.8\"><span class=\"toc-item-num\">7.8&nbsp;&nbsp;</span>Cumulative returns</a></span></li></ul></li><li><span><a href=\"#Q1----CRSP-Stock-Returns\" data-toc-modified-id=\"Q1----CRSP-Stock-Returns-8\"><span class=\"toc-item-num\">8&nbsp;&nbsp;</span>Q1 -- CRSP Stock Returns</a></span><ul class=\"toc-item\"><li><span><a href=\"#CRSP-value-weighted-returns\" data-toc-modified-id=\"CRSP-value-weighted-returns-8.1\"><span class=\"toc-item-num\">8.1&nbsp;&nbsp;</span>CRSP value weighted returns</a></span></li><li><span><a href=\"#CRSP-equal-weighted-returns\" data-toc-modified-id=\"CRSP-equal-weighted-returns-8.2\"><span class=\"toc-item-num\">8.2&nbsp;&nbsp;</span>CRSP equal weighted returns</a></span></li><li><span><a href=\"#Plot-cumulative-returns\" data-toc-modified-id=\"Plot-cumulative-returns-8.3\"><span class=\"toc-item-num\">8.3&nbsp;&nbsp;</span>Plot cumulative returns</a></span></li><li><span><a href=\"#Report-returns\" data-toc-modified-id=\"Report-returns-8.4\"><span class=\"toc-item-num\">8.4&nbsp;&nbsp;</span>Report returns</a></span></li><li><span><a href=\"#Top-10-Stocks----CRSP\" data-toc-modified-id=\"Top-10-Stocks----CRSP-8.5\"><span class=\"toc-item-num\">8.5&nbsp;&nbsp;</span>Top 10 Stocks -- CRSP</a></span></li></ul></li><li><span><a href=\"#Q2----Tech-Stock-Returns\" data-toc-modified-id=\"Q2----Tech-Stock-Returns-9\"><span class=\"toc-item-num\">9&nbsp;&nbsp;</span>Q2 -- Tech Stock Returns</a></span><ul class=\"toc-item\"><li><span><a href=\"#TECH-value-weighted-returns\" data-toc-modified-id=\"TECH-value-weighted-returns-9.1\"><span class=\"toc-item-num\">9.1&nbsp;&nbsp;</span>TECH value weighted returns</a></span></li><li><span><a href=\"#TECH-equal-weighted-returns\" data-toc-modified-id=\"TECH-equal-weighted-returns-9.2\"><span class=\"toc-item-num\">9.2&nbsp;&nbsp;</span>TECH equal weighted returns</a></span></li><li><span><a href=\"#Plot-cumulative-returns\" data-toc-modified-id=\"Plot-cumulative-returns-9.3\"><span class=\"toc-item-num\">9.3&nbsp;&nbsp;</span>Plot cumulative returns</a></span></li><li><span><a href=\"#Report-returns\" data-toc-modified-id=\"Report-returns-9.4\"><span class=\"toc-item-num\">9.4&nbsp;&nbsp;</span>Report returns</a></span></li><li><span><a href=\"#Top-10-Stocks----TECH\" data-toc-modified-id=\"Top-10-Stocks----TECH-9.5\"><span class=\"toc-item-num\">9.5&nbsp;&nbsp;</span>Top 10 Stocks -- TECH</a></span></li></ul></li><li><span><a href=\"#Q3----OPBE-Sorts\" data-toc-modified-id=\"Q3----OPBE-Sorts-10\"><span class=\"toc-item-num\">10&nbsp;&nbsp;</span>Q3 -- OPBE Sorts</a></span><ul class=\"toc-item\"><li><span><a href=\"#Download-Compustat-in-2020\" data-toc-modified-id=\"Download-Compustat-in-2020-10.1\"><span class=\"toc-item-num\">10.1&nbsp;&nbsp;</span>Download Compustat in 2020</a></span></li><li><span><a href=\"#Keep-the-latest-(datadate)-obervation-if-there-are-duplicates\" data-toc-modified-id=\"Keep-the-latest-(datadate)-obervation-if-there-are-duplicates-10.2\"><span class=\"toc-item-num\">10.2&nbsp;&nbsp;</span>Keep the latest (datadate) obervation if there are duplicates</a></span></li><li><span><a href=\"#Calculate-OPBE\" data-toc-modified-id=\"Calculate-OPBE-10.3\"><span class=\"toc-item-num\">10.3&nbsp;&nbsp;</span>Calculate OPBE</a></span></li><li><span><a href=\"#Merge\" data-toc-modified-id=\"Merge-10.4\"><span class=\"toc-item-num\">10.4&nbsp;&nbsp;</span>Merge</a></span></li><li><span><a href=\"#Top-10-most-profitable-stocks\" data-toc-modified-id=\"Top-10-most-profitable-stocks-10.5\"><span class=\"toc-item-num\">10.5&nbsp;&nbsp;</span>Top 10 most profitable stocks</a></span></li><li><span><a href=\"#Performance-of-top-10-most-profitable-stocks\" data-toc-modified-id=\"Performance-of-top-10-most-profitable-stocks-10.6\"><span class=\"toc-item-num\">10.6&nbsp;&nbsp;</span>Performance of top 10 most profitable stocks</a></span><ul class=\"toc-item\"><li><span><a href=\"#Market-cap-weighted-returns\" data-toc-modified-id=\"Market-cap-weighted-returns-10.6.1\"><span class=\"toc-item-num\">10.6.1&nbsp;&nbsp;</span>Market-cap weighted returns</a></span></li><li><span><a href=\"#Equal-weighted-returns\" data-toc-modified-id=\"Equal-weighted-returns-10.6.2\"><span class=\"toc-item-num\">10.6.2&nbsp;&nbsp;</span>Equal weighted returns</a></span></li><li><span><a href=\"#Plot-cumulative-returns\" data-toc-modified-id=\"Plot-cumulative-returns-10.6.3\"><span class=\"toc-item-num\">10.6.3&nbsp;&nbsp;</span>Plot cumulative returns</a></span></li><li><span><a href=\"#Report-returns\" data-toc-modified-id=\"Report-returns-10.6.4\"><span class=\"toc-item-num\">10.6.4&nbsp;&nbsp;</span>Report returns</a></span></li></ul></li></ul></li><li><span><a href=\"#Q4----Comparing-Results\" data-toc-modified-id=\"Q4----Comparing-Results-11\"><span class=\"toc-item-num\">11&nbsp;&nbsp;</span>Q4 -- Comparing Results</a></span></li></ul></div>"
   ]
  },
  {
   "cell_type": "markdown",
   "metadata": {},
   "source": [
    "# Big Data in Finance <BR><BR> Homework 1: CRSP and Compustat\n",
    "    \n",
    "**Instructor** <BR>\n",
    "Ritt Keerati, ritt.keerati@gsb.columbia.edu\n",
    "    \n",
    "**TA's:** <BR>\n",
    "Meha Sadasivam, MSadasivam21@gsb.columbia.edu <BR>\n",
    "Daheng Yang, dyang22@gsb.columbia.edu"
   ]
  },
  {
   "cell_type": "markdown",
   "metadata": {},
   "source": [
    "**Due:** March 3, 2021, by 11:59 pm. Late submission will not be accepted.\n",
    "\n",
    "**Goal**: Explore the information CRSP and Compustat\n",
    "\n",
    "**Delivery**: Please, upload on canvas a .zip file with your .ipynb and .html notebook. "
   ]
  },
  {
   "cell_type": "markdown",
   "metadata": {},
   "source": [
    "# Description\n",
    "\n",
    "The year 2020 was remarkable for U.S. stock market investors. The S&P 500-stock index, the most widely watched gauge, finished the year up more than 16 percent. The Dow Jones industrial average and the tech-heavy Nasdaq gained 7.25 percent and 43.6 percent, respectively. The Dow and S&P 500 finished at record levels despite the public health and economic crises.\n",
    "\n",
    "Let's look at what happened with stock returns using the data downloaded from CRSP and Compustat.\n",
    "\n",
    "1. What was the cumulative average (market-cap weighted and equal-weighted) returns of CRSP stocks in 2020? Plot the cumulative monthly returns and report how much an investor would have the by the end of 2020 had she invested $1 in the CRSP stocks at the beginning of 2020. How much would the same investor have had she entered the market at the end of March, during which stock volatility was the highest? What were the 10 top performing stocks in 2020? Somethings to be aware:\n",
    "\n",
    "    a. You should only consider ordinary common stocks, i.e., shrcd equal to 10 or 11.\n",
    "    \n",
    "    b. You should only consider stocks listed in one of the three main stock exchanges, i.e., exchcd equal to 1 (NYSE), 2 (NYSE MKT) or 3 (NASDAQ).\n",
    "    \n",
    "    c. Think about what market-cap you should use when calculating your weight.\n",
    "\n",
    "\n",
    "2. How much an investor would have by the end of 2020 had he invested $1 in a TECH portfolio (market-cap weighted and equal-weighted) at the beginning of 2020? How much would the same investor have had she entered the market at the end of March? Plot the cumulative returns from the beginning of the year. What are the 10 top performing tech stocks in the year of 2020? Some things to be aware:\n",
    "\n",
    "    a. The closest definition of Tech firms according to Fama and French is Business Equipment industry, which includes Computers, Software, and Electronic Equipment. These are firms with SIC codes in the following ranges:\n",
    "          3570-3579\n",
    "          3660-3692\n",
    "          3694-3699\n",
    "          3810-3829\n",
    "          7370-7379\n",
    "\n",
    "\n",
    "3. How much an investor would have by the end of 2020 had he invested instead in a portfolio (market-cap weighted and equal-weighted) of stocks of the most profitable companies at the beginning of 2020? Use operating profitability normalized by book-equity (OPBE) from the lecture notes as a measure of profitability. How much would the same investor have had she entered the market at the end of March? Plot the cumulative returns from the beginning of the year. What are the 10 top performing tech stocks in the year of 2020? Some things to be aware:\n",
    "\n",
    "    a. Publicly-listed companies must report their financials within 91 days after the end of the fiscal period. Most companies report on the deadline. Consider this when merging financial results to stock performance.\n",
    "\n",
    "\n",
    "4. Compare your results from (2) and (3). Which portfolio performed better? Do the results make sense?"
   ]
  },
  {
   "cell_type": "markdown",
   "metadata": {},
   "source": [
    "# Code \n",
    "\n",
    "## Packages\n",
    "\n",
    "Below is some code that will help you get started. Make sure you have installed all required packages. Use \"conda install\" or \"pip install\" if you you are missing any of the packages."
   ]
  },
  {
   "cell_type": "code",
   "execution_count": 1,
   "metadata": {
    "pycharm": {
     "is_executing": false
    }
   },
   "outputs": [],
   "source": [
    "# Packages\n",
    "%matplotlib inline\n",
    "import matplotlib.pyplot as plt\n",
    "import numpy as np\n",
    "import pandas as pd\n",
    "import wrds\n",
    "from datetime import datetime, timedelta\n",
    "\n",
    "# Setups\n",
    "pd.set_option(\"display.max_rows\", 100)"
   ]
  },
  {
   "cell_type": "markdown",
   "metadata": {},
   "source": [
    "##   WRDS Connection\n",
    "\n",
    "Make sure you can connect to WRDS server. You should configure wrds connector before hand. Please check the syllabus for details.\n"
   ]
  },
  {
   "cell_type": "code",
   "execution_count": 2,
   "metadata": {
    "pycharm": {
     "is_executing": false
    }
   },
   "outputs": [
    {
     "name": "stdout",
     "output_type": "stream",
     "text": [
      "Loading library list...\n",
      "Done\n"
     ]
    }
   ],
   "source": [
    "# Set Up WRDS connection\n",
    "db = wrds.Connection(wrds_username='rkeerati') # make sure to change the username. "
   ]
  },
  {
   "cell_type": "markdown",
   "metadata": {},
   "source": [
    "## Determine the libraries available at WRDS"
   ]
  },
  {
   "cell_type": "code",
   "execution_count": 3,
   "metadata": {
    "pycharm": {
     "is_executing": false
    }
   },
   "outputs": [],
   "source": [
    "# # List all libraries in WRDS\n",
    "# libs = db.list_libraries()\n",
    "# libs.__class__ # Notice that libs is a list. \n",
    "# pd.DataFrame({'libraries':libs}).sort_values('libraries') # Transform libs to a Pandas data frame to have a better display."
   ]
  },
  {
   "cell_type": "markdown",
   "metadata": {},
   "source": [
    " ## Determine the datasets within a given library"
   ]
  },
  {
   "cell_type": "code",
   "execution_count": 4,
   "metadata": {},
   "outputs": [],
   "source": [
    "# compd_tables = db.list_tables(library=\"comp\") # compd: Compustat daily update\n",
    "# pd.DataFrame({'tables':compd_tables}) # Transform libs to a Pandas data frame to have a better display."
   ]
  },
  {
   "cell_type": "markdown",
   "metadata": {},
   "source": [
    " ## Determine the column headers (variables) within a given dataset"
   ]
  },
  {
   "cell_type": "code",
   "execution_count": 5,
   "metadata": {},
   "outputs": [],
   "source": [
    "# db.describe_table(library=\"comp\", table=\"funda\")"
   ]
  },
  {
   "cell_type": "markdown",
   "metadata": {},
   "source": [
    "## Example of submitting a SQL query to import data"
   ]
  },
  {
   "cell_type": "code",
   "execution_count": 6,
   "metadata": {},
   "outputs": [],
   "source": [
    "# comp = db.raw_sql('SELECT datadate, fyear, gvkey, conm, at, ebit, che FROM compm.funda LIMIT 10;', date_cols=['datadate'])\n",
    "# comp"
   ]
  },
  {
   "cell_type": "markdown",
   "metadata": {},
   "source": [
    "## Q0 -- Preparing the Data"
   ]
  },
  {
   "cell_type": "markdown",
   "metadata": {},
   "source": [
    "### Download MSF"
   ]
  },
  {
   "cell_type": "code",
   "execution_count": 7,
   "metadata": {},
   "outputs": [],
   "source": [
    "sfvars = ['prc','vol','ret', 'retx','cfacpr','cfacshr']\n",
    "query = \"\"\"SELECT date, permno, permco, {} \n",
    "           FROM crsp.msf\n",
    "           WHERE date>='2019-12-01'\"\"\".format(', '.join(sfvars))\n",
    "msf_data = db.raw_sql(query, date_cols=['date'])\n",
    "\n",
    "# check PK\n",
    "assert msf_data.duplicated(subset=['date','permno']).sum() == 0"
   ]
  },
  {
   "cell_type": "markdown",
   "metadata": {},
   "source": [
    "### Download MSEALL"
   ]
  },
  {
   "cell_type": "code",
   "execution_count": 8,
   "metadata": {},
   "outputs": [],
   "source": [
    "msevars = ['comnam', 'dlret', 'dlretx', 'exchcd','naics', 'cusip', 'ncusip', 'shrcd', 'shrout', \n",
    "           'siccd', 'ticker']\n",
    "query = \"\"\"SELECT date, permno, permco, {} \n",
    "           FROM crspq.mseall\n",
    "           WHERE date>='2019-12-01'\"\"\".format(', '.join(msevars))\n",
    "mse_data = db.raw_sql(query, date_cols=['date'])\n",
    "\n",
    "# drop duplicates\n",
    "mse_data = mse_data[~mse_data.duplicated()].copy()\n",
    "\n",
    "# check PK\n",
    "assert mse_data.duplicated(subset=['date','permno']).sum() == 0"
   ]
  },
  {
   "cell_type": "markdown",
   "metadata": {},
   "source": [
    "### Merge MSF and MSEALL"
   ]
  },
  {
   "cell_type": "code",
   "execution_count": 9,
   "metadata": {},
   "outputs": [],
   "source": [
    "# sort\n",
    "msf_data.sort_values(['date', 'permno'], inplace=True)\n",
    "mse_data.sort_values(['date', 'permno'], inplace=True)\n",
    "\n",
    "# Check of coverage\n",
    "x = pd.Series(msf_data.permno.unique())\n",
    "y = pd.Series(mse_data.permno.unique())\n",
    "assert len(x[~x.isin(y)]) == 0\n",
    "\n",
    "# Check if delisting happens only once per security\n",
    "assert mse_data[mse_data.dlret.notnull()].groupby(['permno']).date.value_counts().max() == 1\n",
    "\n",
    "# Check if delisting returns only appears after the firm is not longer covered by msf\n",
    "test = mse_data[mse_data.dlret.notnull()]\n",
    "test = pd.merge(msf_data, test[['permno', 'dlret', 'date']], on=['permno'])\n",
    "assert len(test[test.date_x>test.date_y]) == 0"
   ]
  },
  {
   "cell_type": "code",
   "execution_count": 10,
   "metadata": {},
   "outputs": [],
   "source": [
    "crsp = pd.merge_asof(msf_data, \n",
    "                     mse_data, \n",
    "                     on='date', \n",
    "                     by=['permno','permco'], \n",
    "                     direction='backward')\n",
    "\n",
    "# Check Primary Key\n",
    "assert crsp.duplicated(subset=['permno','date']).sum() == 0"
   ]
  },
  {
   "cell_type": "code",
   "execution_count": 11,
   "metadata": {},
   "outputs": [],
   "source": [
    "#crsp.head()"
   ]
  },
  {
   "cell_type": "markdown",
   "metadata": {},
   "source": [
    "### Adjust returns for stock delisting"
   ]
  },
  {
   "cell_type": "code",
   "execution_count": 12,
   "metadata": {},
   "outputs": [],
   "source": [
    "crsp['retadj'] = ((1+crsp['ret'].fillna(0))*(1+crsp['dlret'].fillna(0))-1)\n",
    "crsp.loc[crsp[['ret', 'dlret']].isnull().all(axis=1), 'retadj'] = np.nan"
   ]
  },
  {
   "cell_type": "markdown",
   "metadata": {},
   "source": [
    "### Calculate market value of equity"
   ]
  },
  {
   "cell_type": "code",
   "execution_count": 13,
   "metadata": {},
   "outputs": [],
   "source": [
    "# SHROUT is the number of publicly held shares, recorded in thousands. ME will be reported in 1,000,000 ($10^6$),\n",
    "# Like on Ken French's website. \n",
    "crsp['me'] = abs(crsp['prc']) * (crsp['shrout']/1000)\n",
    "\n",
    "# If the stock is delisted, we set ME to NaN.\n",
    "crsp.loc[crsp.dlret.notnull(), 'me'] = np.nan"
   ]
  },
  {
   "cell_type": "markdown",
   "metadata": {},
   "source": [
    "### Lagged ME"
   ]
  },
  {
   "cell_type": "code",
   "execution_count": 14,
   "metadata": {},
   "outputs": [],
   "source": [
    "# lag one month for value weighting\n",
    "crsp.sort_values(['permno','date'], inplace=True)\n",
    "crsp['melag_nt']=crsp.groupby(['permno']).me.shift(1)\n",
    "\n",
    "# TODO: Check for skipping\n",
    "# What to do if ME is missing? We pad for the lattest available info\n",
    "crsp['melag'] = crsp.groupby('permno').melag_nt.fillna(method='pad')\n",
    "\n",
    "# keep 2020 data\n",
    "crsp = crsp[crsp['date'] >= '2020-01-01']"
   ]
  },
  {
   "cell_type": "markdown",
   "metadata": {},
   "source": [
    "### Apply Filters"
   ]
  },
  {
   "cell_type": "code",
   "execution_count": 15,
   "metadata": {},
   "outputs": [],
   "source": [
    "crsp = crsp.loc[(crsp['shrcd'] == 11) | (crsp['shrcd'] == 10)].copy()\n",
    "crsp = crsp.loc[(crsp['exchcd'] == 1) | (crsp['exchcd'] == 2) | (crsp['exchcd'] == 3)].copy()"
   ]
  },
  {
   "cell_type": "markdown",
   "metadata": {},
   "source": [
    "### Cumulative returns"
   ]
  },
  {
   "cell_type": "code",
   "execution_count": 16,
   "metadata": {},
   "outputs": [],
   "source": [
    "crsp.sort_values(by=['permno', 'date'], ascending=True, inplace=True)\n",
    "crsp = crsp[crsp.melag.notnull()]\n",
    "crsp = crsp[crsp.retadj.notnull()]\n",
    "crsp['cum_ret'] = crsp.groupby('permno')['retadj'].apply(lambda x: (1 + x).cumprod())"
   ]
  },
  {
   "cell_type": "markdown",
   "metadata": {},
   "source": [
    "## Q1 -- CRSP Stock Returns"
   ]
  },
  {
   "cell_type": "markdown",
   "metadata": {},
   "source": [
    "### CRSP value weighted returns"
   ]
  },
  {
   "cell_type": "code",
   "execution_count": 17,
   "metadata": {},
   "outputs": [],
   "source": [
    "crsp_ret = crsp.groupby('date').apply(lambda x: np.average(x['retadj'], weights = x['melag']))\n",
    "crsp_ret = pd.DataFrame(crsp_ret, index=crsp_ret.index, columns=['ret_w'])\n",
    "crsp_ret['cum_w'] = (1 + crsp_ret['ret_w']).cumprod()"
   ]
  },
  {
   "cell_type": "markdown",
   "metadata": {},
   "source": [
    "### CRSP equal weighted returns"
   ]
  },
  {
   "cell_type": "code",
   "execution_count": 18,
   "metadata": {},
   "outputs": [],
   "source": [
    "crsp_ret['ret_e'] = crsp.groupby('date')['retadj'].mean()\n",
    "crsp_ret['cum_e'] = (1 + crsp_ret['ret_e']).cumprod()"
   ]
  },
  {
   "cell_type": "markdown",
   "metadata": {},
   "source": [
    "### Plot cumulative returns"
   ]
  },
  {
   "cell_type": "code",
   "execution_count": 19,
   "metadata": {},
   "outputs": [
    {
     "data": {
      "text/plain": [
       "<AxesSubplot:xlabel='date'>"
      ]
     },
     "execution_count": 19,
     "metadata": {},
     "output_type": "execute_result"
    },
    {
     "data": {
      "image/png": "[encoded data removed]",
      "text/plain": [
       "<Figure size 432x288 with 1 Axes>"
      ]
     },
     "metadata": {
      "needs_background": "light"
     },
     "output_type": "display_data"
    }
   ],
   "source": [
    "crsp_ret[['cum_w','cum_e']].plot()"
   ]
  },
  {
   "cell_type": "markdown",
   "metadata": {},
   "source": [
    "### Report returns"
   ]
  },
  {
   "cell_type": "code",
   "execution_count": 20,
   "metadata": {},
   "outputs": [
    {
     "data": {
      "text/html": [
       "<div>\n",
       "<style scoped>\n",
       "    .dataframe tbody tr th:only-of-type {\n",
       "        vertical-align: middle;\n",
       "    }\n",
       "\n",
       "    .dataframe tbody tr th {\n",
       "        vertical-align: top;\n",
       "    }\n",
       "\n",
       "    .dataframe thead th {\n",
       "        text-align: right;\n",
       "    }\n",
       "</style>\n",
       "<table border=\"1\" class=\"dataframe\">\n",
       "  <thead>\n",
       "    <tr style=\"text-align: right;\">\n",
       "      <th></th>\n",
       "      <th>cum_w</th>\n",
       "      <th>cum_e</th>\n",
       "    </tr>\n",
       "    <tr>\n",
       "      <th>date</th>\n",
       "      <th></th>\n",
       "      <th></th>\n",
       "    </tr>\n",
       "  </thead>\n",
       "  <tbody>\n",
       "    <tr>\n",
       "      <th>2020-12-31</th>\n",
       "      <td>1.240421</td>\n",
       "      <td>1.378564</td>\n",
       "    </tr>\n",
       "  </tbody>\n",
       "</table>\n",
       "</div>"
      ],
      "text/plain": [
       "               cum_w     cum_e\n",
       "date                          \n",
       "2020-12-31  1.240421  1.378564"
      ]
     },
     "execution_count": 20,
     "metadata": {},
     "output_type": "execute_result"
    }
   ],
   "source": [
    "# Return from beginning of the year\n",
    "crsp_ret.loc[crsp_ret.index=='2020-12-31',['cum_w','cum_e']]"
   ]
  },
  {
   "cell_type": "code",
   "execution_count": 21,
   "metadata": {},
   "outputs": [
    {
     "data": {
      "text/html": [
       "<div>\n",
       "<style scoped>\n",
       "    .dataframe tbody tr th:only-of-type {\n",
       "        vertical-align: middle;\n",
       "    }\n",
       "\n",
       "    .dataframe tbody tr th {\n",
       "        vertical-align: top;\n",
       "    }\n",
       "\n",
       "    .dataframe thead th {\n",
       "        text-align: right;\n",
       "    }\n",
       "</style>\n",
       "<table border=\"1\" class=\"dataframe\">\n",
       "  <thead>\n",
       "    <tr style=\"text-align: right;\">\n",
       "      <th></th>\n",
       "      <th>cum_w</th>\n",
       "      <th>cum_e</th>\n",
       "    </tr>\n",
       "    <tr>\n",
       "      <th>date</th>\n",
       "      <th></th>\n",
       "      <th></th>\n",
       "    </tr>\n",
       "  </thead>\n",
       "  <tbody>\n",
       "    <tr>\n",
       "      <th>2020-04-30</th>\n",
       "      <td>1.136098</td>\n",
       "      <td>1.190976</td>\n",
       "    </tr>\n",
       "    <tr>\n",
       "      <th>2020-05-29</th>\n",
       "      <td>1.199578</td>\n",
       "      <td>1.285797</td>\n",
       "    </tr>\n",
       "    <tr>\n",
       "      <th>2020-06-30</th>\n",
       "      <td>1.229205</td>\n",
       "      <td>1.375160</td>\n",
       "    </tr>\n",
       "    <tr>\n",
       "      <th>2020-07-31</th>\n",
       "      <td>1.300239</td>\n",
       "      <td>1.428541</td>\n",
       "    </tr>\n",
       "    <tr>\n",
       "      <th>2020-08-31</th>\n",
       "      <td>1.399520</td>\n",
       "      <td>1.496234</td>\n",
       "    </tr>\n",
       "    <tr>\n",
       "      <th>2020-09-30</th>\n",
       "      <td>1.348866</td>\n",
       "      <td>1.455818</td>\n",
       "    </tr>\n",
       "    <tr>\n",
       "      <th>2020-10-30</th>\n",
       "      <td>1.320623</td>\n",
       "      <td>1.467942</td>\n",
       "    </tr>\n",
       "    <tr>\n",
       "      <th>2020-11-30</th>\n",
       "      <td>1.485379</td>\n",
       "      <td>1.768106</td>\n",
       "    </tr>\n",
       "    <tr>\n",
       "      <th>2020-12-31</th>\n",
       "      <td>1.554241</td>\n",
       "      <td>1.938370</td>\n",
       "    </tr>\n",
       "    <tr>\n",
       "      <th>2021-01-29</th>\n",
       "      <td>1.554018</td>\n",
       "      <td>2.150374</td>\n",
       "    </tr>\n",
       "    <tr>\n",
       "      <th>2021-02-26</th>\n",
       "      <td>1.597222</td>\n",
       "      <td>2.336996</td>\n",
       "    </tr>\n",
       "    <tr>\n",
       "      <th>2021-03-31</th>\n",
       "      <td>1.646526</td>\n",
       "      <td>2.366674</td>\n",
       "    </tr>\n",
       "    <tr>\n",
       "      <th>2021-04-30</th>\n",
       "      <td>1.727439</td>\n",
       "      <td>2.395955</td>\n",
       "    </tr>\n",
       "    <tr>\n",
       "      <th>2021-05-28</th>\n",
       "      <td>1.732392</td>\n",
       "      <td>2.422012</td>\n",
       "    </tr>\n",
       "    <tr>\n",
       "      <th>2021-06-30</th>\n",
       "      <td>1.780008</td>\n",
       "      <td>2.494853</td>\n",
       "    </tr>\n",
       "    <tr>\n",
       "      <th>2021-07-30</th>\n",
       "      <td>1.802618</td>\n",
       "      <td>2.389529</td>\n",
       "    </tr>\n",
       "    <tr>\n",
       "      <th>2021-08-31</th>\n",
       "      <td>1.855069</td>\n",
       "      <td>2.445970</td>\n",
       "    </tr>\n",
       "    <tr>\n",
       "      <th>2021-09-30</th>\n",
       "      <td>1.774100</td>\n",
       "      <td>2.375851</td>\n",
       "    </tr>\n",
       "    <tr>\n",
       "      <th>2021-10-29</th>\n",
       "      <td>1.892149</td>\n",
       "      <td>2.430829</td>\n",
       "    </tr>\n",
       "    <tr>\n",
       "      <th>2021-11-30</th>\n",
       "      <td>1.862987</td>\n",
       "      <td>2.301111</td>\n",
       "    </tr>\n",
       "    <tr>\n",
       "      <th>2021-12-31</th>\n",
       "      <td>1.920896</td>\n",
       "      <td>2.280537</td>\n",
       "    </tr>\n",
       "  </tbody>\n",
       "</table>\n",
       "</div>"
      ],
      "text/plain": [
       "               cum_w     cum_e\n",
       "date                          \n",
       "2020-04-30  1.136098  1.190976\n",
       "2020-05-29  1.199578  1.285797\n",
       "2020-06-30  1.229205  1.375160\n",
       "2020-07-31  1.300239  1.428541\n",
       "2020-08-31  1.399520  1.496234\n",
       "2020-09-30  1.348866  1.455818\n",
       "2020-10-30  1.320623  1.467942\n",
       "2020-11-30  1.485379  1.768106\n",
       "2020-12-31  1.554241  1.938370\n",
       "2021-01-29  1.554018  2.150374\n",
       "2021-02-26  1.597222  2.336996\n",
       "2021-03-31  1.646526  2.366674\n",
       "2021-04-30  1.727439  2.395955\n",
       "2021-05-28  1.732392  2.422012\n",
       "2021-06-30  1.780008  2.494853\n",
       "2021-07-30  1.802618  2.389529\n",
       "2021-08-31  1.855069  2.445970\n",
       "2021-09-30  1.774100  2.375851\n",
       "2021-10-29  1.892149  2.430829\n",
       "2021-11-30  1.862987  2.301111\n",
       "2021-12-31  1.920896  2.280537"
      ]
     },
     "execution_count": 21,
     "metadata": {},
     "output_type": "execute_result"
    }
   ],
   "source": [
    "# Return from the end of March\n",
    "crsp_ret[crsp_ret.index >'2020-03-31'][['cum_w','cum_e']] / crsp_ret.loc[crsp_ret.index=='2020-03-31',['cum_w','cum_e']].values"
   ]
  },
  {
   "cell_type": "markdown",
   "metadata": {},
   "source": [
    "### Top 10 Stocks -- CRSP"
   ]
  },
  {
   "cell_type": "code",
   "execution_count": 22,
   "metadata": {},
   "outputs": [
    {
     "data": {
      "text/html": [
       "<div>\n",
       "<style scoped>\n",
       "    .dataframe tbody tr th:only-of-type {\n",
       "        vertical-align: middle;\n",
       "    }\n",
       "\n",
       "    .dataframe tbody tr th {\n",
       "        vertical-align: top;\n",
       "    }\n",
       "\n",
       "    .dataframe thead th {\n",
       "        text-align: right;\n",
       "    }\n",
       "</style>\n",
       "<table border=\"1\" class=\"dataframe\">\n",
       "  <thead>\n",
       "    <tr style=\"text-align: right;\">\n",
       "      <th></th>\n",
       "      <th>comnam</th>\n",
       "      <th>cum_ret</th>\n",
       "    </tr>\n",
       "  </thead>\n",
       "  <tbody>\n",
       "    <tr>\n",
       "      <th>99176</th>\n",
       "      <td>NOVAVAX INC</td>\n",
       "      <td>28.017587</td>\n",
       "    </tr>\n",
       "    <tr>\n",
       "      <th>95782</th>\n",
       "      <td>BLINK CHARGING CO</td>\n",
       "      <td>22.983871</td>\n",
       "    </tr>\n",
       "    <tr>\n",
       "      <th>98284</th>\n",
       "      <td>VAXART INC</td>\n",
       "      <td>16.291015</td>\n",
       "    </tr>\n",
       "    <tr>\n",
       "      <th>96563</th>\n",
       "      <td>BEAM GLOBAL</td>\n",
       "      <td>15.832618</td>\n",
       "    </tr>\n",
       "    <tr>\n",
       "      <th>100919</th>\n",
       "      <td>RIOT BLOCKCHAIN INC</td>\n",
       "      <td>15.169643</td>\n",
       "    </tr>\n",
       "    <tr>\n",
       "      <th>93875</th>\n",
       "      <td>CARDIFF ONCOLOGY INC</td>\n",
       "      <td>14.508064</td>\n",
       "    </tr>\n",
       "    <tr>\n",
       "      <th>99997</th>\n",
       "      <td>KIRKLANDS INC</td>\n",
       "      <td>14.419354</td>\n",
       "    </tr>\n",
       "    <tr>\n",
       "      <th>94492</th>\n",
       "      <td>AGEAGLE AERIAL SYSTEMS INC</td>\n",
       "      <td>13.333335</td>\n",
       "    </tr>\n",
       "    <tr>\n",
       "      <th>95810</th>\n",
       "      <td>GENPREX INC</td>\n",
       "      <td>12.968751</td>\n",
       "    </tr>\n",
       "    <tr>\n",
       "      <th>94539</th>\n",
       "      <td>MARATHON PATENT GROUP INC</td>\n",
       "      <td>11.844793</td>\n",
       "    </tr>\n",
       "  </tbody>\n",
       "</table>\n",
       "</div>"
      ],
      "text/plain": [
       "                            comnam    cum_ret\n",
       "99176                  NOVAVAX INC  28.017587\n",
       "95782            BLINK CHARGING CO  22.983871\n",
       "98284                   VAXART INC  16.291015\n",
       "96563                  BEAM GLOBAL  15.832618\n",
       "100919         RIOT BLOCKCHAIN INC  15.169643\n",
       "93875         CARDIFF ONCOLOGY INC  14.508064\n",
       "99997                KIRKLANDS INC  14.419354\n",
       "94492   AGEAGLE AERIAL SYSTEMS INC  13.333335\n",
       "95810                  GENPREX INC  12.968751\n",
       "94539    MARATHON PATENT GROUP INC  11.844793"
      ]
     },
     "execution_count": 22,
     "metadata": {},
     "output_type": "execute_result"
    }
   ],
   "source": [
    "crsp.loc[crsp['date'] == '2020-12-31', ['comnam', 'cum_ret']].sort_values(by='cum_ret', ascending=False).head(10)"
   ]
  },
  {
   "cell_type": "markdown",
   "metadata": {},
   "source": [
    "Many of these are stocks of biotech companies"
   ]
  },
  {
   "cell_type": "markdown",
   "metadata": {},
   "source": [
    "## Q2 -- Tech Stock Returns"
   ]
  },
  {
   "cell_type": "code",
   "execution_count": 23,
   "metadata": {},
   "outputs": [],
   "source": [
    "tech = crsp.loc[((crsp['siccd'] >= 3570) & (crsp['siccd'] <= 3579)) |\n",
    "                ((crsp['siccd'] >= 3660) & (crsp['siccd'] <= 3692)) |\n",
    "                ((crsp['siccd'] >= 3694) & (crsp['siccd'] <= 3699)) |\n",
    "                ((crsp['siccd'] >= 3810) & (crsp['siccd'] <= 3829)) |\n",
    "                ((crsp['siccd'] >= 7370) & (crsp['siccd'] <= 7379))].copy()"
   ]
  },
  {
   "cell_type": "markdown",
   "metadata": {},
   "source": [
    "### TECH value weighted returns"
   ]
  },
  {
   "cell_type": "code",
   "execution_count": 24,
   "metadata": {
    "scrolled": true
   },
   "outputs": [],
   "source": [
    "tech_ret = tech.groupby('date').apply(lambda x:\n",
    "                                       np.average(x['retadj'], \n",
    "                                                  weights = x['melag']))\n",
    "tech_ret = pd.DataFrame(tech_ret, index=tech_ret.index, columns=['ret_w'])\n",
    "tech_ret['cum_w'] = (1 + tech_ret['ret_w']).cumprod()"
   ]
  },
  {
   "cell_type": "markdown",
   "metadata": {},
   "source": [
    "### TECH equal weighted returns"
   ]
  },
  {
   "cell_type": "code",
   "execution_count": 25,
   "metadata": {},
   "outputs": [],
   "source": [
    "tech_ret['ret_e'] = tech.groupby('date')['retadj'].mean()\n",
    "tech_ret['cum_e'] = (1 + tech_ret['ret_e']).cumprod()"
   ]
  },
  {
   "cell_type": "markdown",
   "metadata": {},
   "source": [
    "### Plot cumulative returns"
   ]
  },
  {
   "cell_type": "code",
   "execution_count": 26,
   "metadata": {},
   "outputs": [
    {
     "data": {
      "text/plain": [
       "<AxesSubplot:xlabel='date'>"
      ]
     },
     "execution_count": 26,
     "metadata": {},
     "output_type": "execute_result"
    },
    {
     "data": {
      "image/png": "[encoded data removed]",
      "text/plain": [
       "<Figure size 432x288 with 1 Axes>"
      ]
     },
     "metadata": {
      "needs_background": "light"
     },
     "output_type": "display_data"
    }
   ],
   "source": [
    "tech_ret[['cum_w','cum_e']].plot()"
   ]
  },
  {
   "cell_type": "markdown",
   "metadata": {},
   "source": [
    "### Report returns"
   ]
  },
  {
   "cell_type": "code",
   "execution_count": 27,
   "metadata": {},
   "outputs": [
    {
     "data": {
      "text/html": [
       "<div>\n",
       "<style scoped>\n",
       "    .dataframe tbody tr th:only-of-type {\n",
       "        vertical-align: middle;\n",
       "    }\n",
       "\n",
       "    .dataframe tbody tr th {\n",
       "        vertical-align: top;\n",
       "    }\n",
       "\n",
       "    .dataframe thead th {\n",
       "        text-align: right;\n",
       "    }\n",
       "</style>\n",
       "<table border=\"1\" class=\"dataframe\">\n",
       "  <thead>\n",
       "    <tr style=\"text-align: right;\">\n",
       "      <th></th>\n",
       "      <th>cum_w</th>\n",
       "      <th>cum_e</th>\n",
       "    </tr>\n",
       "    <tr>\n",
       "      <th>date</th>\n",
       "      <th></th>\n",
       "      <th></th>\n",
       "    </tr>\n",
       "  </thead>\n",
       "  <tbody>\n",
       "    <tr>\n",
       "      <th>2020-01-31</th>\n",
       "      <td>1.042881</td>\n",
       "      <td>1.008340</td>\n",
       "    </tr>\n",
       "    <tr>\n",
       "      <th>2020-02-28</th>\n",
       "      <td>0.970189</td>\n",
       "      <td>0.928169</td>\n",
       "    </tr>\n",
       "    <tr>\n",
       "      <th>2020-03-31</th>\n",
       "      <td>0.890945</td>\n",
       "      <td>0.758493</td>\n",
       "    </tr>\n",
       "    <tr>\n",
       "      <th>2020-04-30</th>\n",
       "      <td>1.032740</td>\n",
       "      <td>0.901959</td>\n",
       "    </tr>\n",
       "    <tr>\n",
       "      <th>2020-05-29</th>\n",
       "      <td>1.095235</td>\n",
       "      <td>0.983817</td>\n",
       "    </tr>\n",
       "    <tr>\n",
       "      <th>2020-06-30</th>\n",
       "      <td>1.162186</td>\n",
       "      <td>1.052164</td>\n",
       "    </tr>\n",
       "    <tr>\n",
       "      <th>2020-07-31</th>\n",
       "      <td>1.246549</td>\n",
       "      <td>1.143319</td>\n",
       "    </tr>\n",
       "    <tr>\n",
       "      <th>2020-08-31</th>\n",
       "      <td>1.386541</td>\n",
       "      <td>1.175830</td>\n",
       "    </tr>\n",
       "    <tr>\n",
       "      <th>2020-09-30</th>\n",
       "      <td>1.298947</td>\n",
       "      <td>1.147641</td>\n",
       "    </tr>\n",
       "    <tr>\n",
       "      <th>2020-10-30</th>\n",
       "      <td>1.262751</td>\n",
       "      <td>1.160833</td>\n",
       "    </tr>\n",
       "    <tr>\n",
       "      <th>2020-11-30</th>\n",
       "      <td>1.387182</td>\n",
       "      <td>1.398794</td>\n",
       "    </tr>\n",
       "    <tr>\n",
       "      <th>2020-12-31</th>\n",
       "      <td>1.448711</td>\n",
       "      <td>1.539932</td>\n",
       "    </tr>\n",
       "    <tr>\n",
       "      <th>2021-01-29</th>\n",
       "      <td>1.448680</td>\n",
       "      <td>1.656609</td>\n",
       "    </tr>\n",
       "    <tr>\n",
       "      <th>2021-02-26</th>\n",
       "      <td>1.457145</td>\n",
       "      <td>1.800039</td>\n",
       "    </tr>\n",
       "    <tr>\n",
       "      <th>2021-03-31</th>\n",
       "      <td>1.477300</td>\n",
       "      <td>1.772706</td>\n",
       "    </tr>\n",
       "    <tr>\n",
       "      <th>2021-04-30</th>\n",
       "      <td>1.582385</td>\n",
       "      <td>1.788173</td>\n",
       "    </tr>\n",
       "    <tr>\n",
       "      <th>2021-05-28</th>\n",
       "      <td>1.560903</td>\n",
       "      <td>1.812406</td>\n",
       "    </tr>\n",
       "    <tr>\n",
       "      <th>2021-06-30</th>\n",
       "      <td>1.670001</td>\n",
       "      <td>1.954638</td>\n",
       "    </tr>\n",
       "    <tr>\n",
       "      <th>2021-07-30</th>\n",
       "      <td>1.725355</td>\n",
       "      <td>1.919543</td>\n",
       "    </tr>\n",
       "    <tr>\n",
       "      <th>2021-08-31</th>\n",
       "      <td>1.814094</td>\n",
       "      <td>1.960429</td>\n",
       "    </tr>\n",
       "    <tr>\n",
       "      <th>2021-09-30</th>\n",
       "      <td>1.700851</td>\n",
       "      <td>1.868155</td>\n",
       "    </tr>\n",
       "    <tr>\n",
       "      <th>2021-10-29</th>\n",
       "      <td>1.832306</td>\n",
       "      <td>1.949608</td>\n",
       "    </tr>\n",
       "    <tr>\n",
       "      <th>2021-11-30</th>\n",
       "      <td>1.880741</td>\n",
       "      <td>1.864193</td>\n",
       "    </tr>\n",
       "    <tr>\n",
       "      <th>2021-12-31</th>\n",
       "      <td>1.904251</td>\n",
       "      <td>1.883030</td>\n",
       "    </tr>\n",
       "  </tbody>\n",
       "</table>\n",
       "</div>"
      ],
      "text/plain": [
       "               cum_w     cum_e\n",
       "date                          \n",
       "2020-01-31  1.042881  1.008340\n",
       "2020-02-28  0.970189  0.928169\n",
       "2020-03-31  0.890945  0.758493\n",
       "2020-04-30  1.032740  0.901959\n",
       "2020-05-29  1.095235  0.983817\n",
       "2020-06-30  1.162186  1.052164\n",
       "2020-07-31  1.246549  1.143319\n",
       "2020-08-31  1.386541  1.175830\n",
       "2020-09-30  1.298947  1.147641\n",
       "2020-10-30  1.262751  1.160833\n",
       "2020-11-30  1.387182  1.398794\n",
       "2020-12-31  1.448711  1.539932\n",
       "2021-01-29  1.448680  1.656609\n",
       "2021-02-26  1.457145  1.800039\n",
       "2021-03-31  1.477300  1.772706\n",
       "2021-04-30  1.582385  1.788173\n",
       "2021-05-28  1.560903  1.812406\n",
       "2021-06-30  1.670001  1.954638\n",
       "2021-07-30  1.725355  1.919543\n",
       "2021-08-31  1.814094  1.960429\n",
       "2021-09-30  1.700851  1.868155\n",
       "2021-10-29  1.832306  1.949608\n",
       "2021-11-30  1.880741  1.864193\n",
       "2021-12-31  1.904251  1.883030"
      ]
     },
     "execution_count": 27,
     "metadata": {},
     "output_type": "execute_result"
    }
   ],
   "source": [
    "# Return from beginning of the year\n",
    "tech_ret[['cum_w','cum_e']]"
   ]
  },
  {
   "cell_type": "code",
   "execution_count": 28,
   "metadata": {},
   "outputs": [
    {
     "data": {
      "text/html": [
       "<div>\n",
       "<style scoped>\n",
       "    .dataframe tbody tr th:only-of-type {\n",
       "        vertical-align: middle;\n",
       "    }\n",
       "\n",
       "    .dataframe tbody tr th {\n",
       "        vertical-align: top;\n",
       "    }\n",
       "\n",
       "    .dataframe thead th {\n",
       "        text-align: right;\n",
       "    }\n",
       "</style>\n",
       "<table border=\"1\" class=\"dataframe\">\n",
       "  <thead>\n",
       "    <tr style=\"text-align: right;\">\n",
       "      <th></th>\n",
       "      <th>cum_w</th>\n",
       "      <th>cum_e</th>\n",
       "    </tr>\n",
       "    <tr>\n",
       "      <th>date</th>\n",
       "      <th></th>\n",
       "      <th></th>\n",
       "    </tr>\n",
       "  </thead>\n",
       "  <tbody>\n",
       "    <tr>\n",
       "      <th>2020-04-30</th>\n",
       "      <td>1.159152</td>\n",
       "      <td>1.189146</td>\n",
       "    </tr>\n",
       "    <tr>\n",
       "      <th>2020-05-29</th>\n",
       "      <td>1.229297</td>\n",
       "      <td>1.297067</td>\n",
       "    </tr>\n",
       "    <tr>\n",
       "      <th>2020-06-30</th>\n",
       "      <td>1.304442</td>\n",
       "      <td>1.387176</td>\n",
       "    </tr>\n",
       "    <tr>\n",
       "      <th>2020-07-31</th>\n",
       "      <td>1.399132</td>\n",
       "      <td>1.507355</td>\n",
       "    </tr>\n",
       "    <tr>\n",
       "      <th>2020-08-31</th>\n",
       "      <td>1.556260</td>\n",
       "      <td>1.550218</td>\n",
       "    </tr>\n",
       "    <tr>\n",
       "      <th>2020-09-30</th>\n",
       "      <td>1.457944</td>\n",
       "      <td>1.513054</td>\n",
       "    </tr>\n",
       "    <tr>\n",
       "      <th>2020-10-30</th>\n",
       "      <td>1.417317</td>\n",
       "      <td>1.530446</td>\n",
       "    </tr>\n",
       "    <tr>\n",
       "      <th>2020-11-30</th>\n",
       "      <td>1.556979</td>\n",
       "      <td>1.844175</td>\n",
       "    </tr>\n",
       "    <tr>\n",
       "      <th>2020-12-31</th>\n",
       "      <td>1.626040</td>\n",
       "      <td>2.030252</td>\n",
       "    </tr>\n",
       "    <tr>\n",
       "      <th>2021-01-29</th>\n",
       "      <td>1.626004</td>\n",
       "      <td>2.184079</td>\n",
       "    </tr>\n",
       "    <tr>\n",
       "      <th>2021-02-26</th>\n",
       "      <td>1.635505</td>\n",
       "      <td>2.373177</td>\n",
       "    </tr>\n",
       "    <tr>\n",
       "      <th>2021-03-31</th>\n",
       "      <td>1.658128</td>\n",
       "      <td>2.337142</td>\n",
       "    </tr>\n",
       "    <tr>\n",
       "      <th>2021-04-30</th>\n",
       "      <td>1.776076</td>\n",
       "      <td>2.357532</td>\n",
       "    </tr>\n",
       "    <tr>\n",
       "      <th>2021-05-28</th>\n",
       "      <td>1.751964</td>\n",
       "      <td>2.389481</td>\n",
       "    </tr>\n",
       "    <tr>\n",
       "      <th>2021-06-30</th>\n",
       "      <td>1.874417</td>\n",
       "      <td>2.577002</td>\n",
       "    </tr>\n",
       "    <tr>\n",
       "      <th>2021-07-30</th>\n",
       "      <td>1.936546</td>\n",
       "      <td>2.530732</td>\n",
       "    </tr>\n",
       "    <tr>\n",
       "      <th>2021-08-31</th>\n",
       "      <td>2.036148</td>\n",
       "      <td>2.584636</td>\n",
       "    </tr>\n",
       "    <tr>\n",
       "      <th>2021-09-30</th>\n",
       "      <td>1.909042</td>\n",
       "      <td>2.462982</td>\n",
       "    </tr>\n",
       "    <tr>\n",
       "      <th>2021-10-29</th>\n",
       "      <td>2.056588</td>\n",
       "      <td>2.570369</td>\n",
       "    </tr>\n",
       "    <tr>\n",
       "      <th>2021-11-30</th>\n",
       "      <td>2.110952</td>\n",
       "      <td>2.457758</td>\n",
       "    </tr>\n",
       "    <tr>\n",
       "      <th>2021-12-31</th>\n",
       "      <td>2.137340</td>\n",
       "      <td>2.482593</td>\n",
       "    </tr>\n",
       "  </tbody>\n",
       "</table>\n",
       "</div>"
      ],
      "text/plain": [
       "               cum_w     cum_e\n",
       "date                          \n",
       "2020-04-30  1.159152  1.189146\n",
       "2020-05-29  1.229297  1.297067\n",
       "2020-06-30  1.304442  1.387176\n",
       "2020-07-31  1.399132  1.507355\n",
       "2020-08-31  1.556260  1.550218\n",
       "2020-09-30  1.457944  1.513054\n",
       "2020-10-30  1.417317  1.530446\n",
       "2020-11-30  1.556979  1.844175\n",
       "2020-12-31  1.626040  2.030252\n",
       "2021-01-29  1.626004  2.184079\n",
       "2021-02-26  1.635505  2.373177\n",
       "2021-03-31  1.658128  2.337142\n",
       "2021-04-30  1.776076  2.357532\n",
       "2021-05-28  1.751964  2.389481\n",
       "2021-06-30  1.874417  2.577002\n",
       "2021-07-30  1.936546  2.530732\n",
       "2021-08-31  2.036148  2.584636\n",
       "2021-09-30  1.909042  2.462982\n",
       "2021-10-29  2.056588  2.570369\n",
       "2021-11-30  2.110952  2.457758\n",
       "2021-12-31  2.137340  2.482593"
      ]
     },
     "execution_count": 28,
     "metadata": {},
     "output_type": "execute_result"
    }
   ],
   "source": [
    "# Return from the end of March\n",
    "tech_ret[tech_ret.index >'2020-03-31'][['cum_w','cum_e']] / tech_ret.loc[tech_ret.index=='2020-03-31',['cum_w','cum_e']].values"
   ]
  },
  {
   "cell_type": "markdown",
   "metadata": {},
   "source": [
    "### Top 10 Stocks -- TECH"
   ]
  },
  {
   "cell_type": "code",
   "execution_count": 29,
   "metadata": {},
   "outputs": [
    {
     "data": {
      "text/html": [
       "<div>\n",
       "<style scoped>\n",
       "    .dataframe tbody tr th:only-of-type {\n",
       "        vertical-align: middle;\n",
       "    }\n",
       "\n",
       "    .dataframe tbody tr th {\n",
       "        vertical-align: top;\n",
       "    }\n",
       "\n",
       "    .dataframe thead th {\n",
       "        text-align: right;\n",
       "    }\n",
       "</style>\n",
       "<table border=\"1\" class=\"dataframe\">\n",
       "  <thead>\n",
       "    <tr style=\"text-align: right;\">\n",
       "      <th></th>\n",
       "      <th>comnam</th>\n",
       "      <th>cum_ret</th>\n",
       "    </tr>\n",
       "  </thead>\n",
       "  <tbody>\n",
       "    <tr>\n",
       "      <th>98917</th>\n",
       "      <td>UNIVERSAL SECURITY INSTRS INC</td>\n",
       "      <td>8.080646</td>\n",
       "    </tr>\n",
       "    <tr>\n",
       "      <th>99803</th>\n",
       "      <td>DIGITAL TURBINE INC</td>\n",
       "      <td>7.932679</td>\n",
       "    </tr>\n",
       "    <tr>\n",
       "      <th>99268</th>\n",
       "      <td>MICROVISION INC WA</td>\n",
       "      <td>7.472223</td>\n",
       "    </tr>\n",
       "    <tr>\n",
       "      <th>98723</th>\n",
       "      <td>KOPIN CORP</td>\n",
       "      <td>6.058340</td>\n",
       "    </tr>\n",
       "    <tr>\n",
       "      <th>99689</th>\n",
       "      <td>EMAGIN CORP</td>\n",
       "      <td>4.799302</td>\n",
       "    </tr>\n",
       "    <tr>\n",
       "      <th>98910</th>\n",
       "      <td>INNODATA INC</td>\n",
       "      <td>4.649123</td>\n",
       "    </tr>\n",
       "    <tr>\n",
       "      <th>94718</th>\n",
       "      <td>VUZIX CORP</td>\n",
       "      <td>4.517413</td>\n",
       "    </tr>\n",
       "    <tr>\n",
       "      <th>100560</th>\n",
       "      <td>C B A K ENERGY TECHNOLOGY INC</td>\n",
       "      <td>4.400000</td>\n",
       "    </tr>\n",
       "    <tr>\n",
       "      <th>96585</th>\n",
       "      <td>FASTLY INC</td>\n",
       "      <td>4.353264</td>\n",
       "    </tr>\n",
       "    <tr>\n",
       "      <th>100474</th>\n",
       "      <td>SUNPOWER CORP</td>\n",
       "      <td>3.994020</td>\n",
       "    </tr>\n",
       "  </tbody>\n",
       "</table>\n",
       "</div>"
      ],
      "text/plain": [
       "                               comnam   cum_ret\n",
       "98917   UNIVERSAL SECURITY INSTRS INC  8.080646\n",
       "99803             DIGITAL TURBINE INC  7.932679\n",
       "99268              MICROVISION INC WA  7.472223\n",
       "98723                      KOPIN CORP  6.058340\n",
       "99689                     EMAGIN CORP  4.799302\n",
       "98910                    INNODATA INC  4.649123\n",
       "94718                      VUZIX CORP  4.517413\n",
       "100560  C B A K ENERGY TECHNOLOGY INC  4.400000\n",
       "96585                      FASTLY INC  4.353264\n",
       "100474                  SUNPOWER CORP  3.994020"
      ]
     },
     "execution_count": 29,
     "metadata": {},
     "output_type": "execute_result"
    }
   ],
   "source": [
    "tech.loc[tech['date'] == '2020-12-31', ['comnam', 'cum_ret']].sort_values(by='cum_ret', ascending=False).head(10)"
   ]
  },
  {
   "cell_type": "markdown",
   "metadata": {},
   "source": [
    "## Q3 -- OPBE Sorts"
   ]
  },
  {
   "cell_type": "markdown",
   "metadata": {},
   "source": [
    "### Download Compustat in 2020"
   ]
  },
  {
   "cell_type": "code",
   "execution_count": 30,
   "metadata": {},
   "outputs": [],
   "source": [
    "fund_table = 'funda'\n",
    "\n",
    "varlist = ['conm', 'tic', 'cusip','fyear', 'fyr', 'at','capx', 'ceq', 'cogs', 'csho', 'dlc', 'dlcch','dltt', 'dp', 'ib', 'itcb', \n",
    "           'lt', 'mib', 'naicsh', 'ni', 'prstkcc', 'pstk', 'pstkl', 'pstkrv', 're', 'revt', 'sale', \n",
    "           'seq', 'sich', 'txdb', 'txdi', 'txditc', 'wcapch', 'xint', 'xlr', 'xrd', 'xsga']\n",
    "\n",
    "\n",
    "query = \"\"\"SELECT gvkey, datadate, {}\n",
    "           FROM comp.{}\n",
    "           WHERE datafmt = 'STD'\n",
    "           AND popsrc = 'D'\n",
    "           AND indfmt = 'INDL'\n",
    "           AND consol = 'C'\n",
    "           AND fyear>=2018;\"\"\".format(\", \".join(varlist), fund_table)\n",
    "\n",
    "compa = db.raw_sql(query, date_cols=['datadate'])"
   ]
  },
  {
   "cell_type": "markdown",
   "metadata": {},
   "source": [
    "### Keep the latest (datadate) obervation if there are duplicates"
   ]
  },
  {
   "cell_type": "code",
   "execution_count": 31,
   "metadata": {},
   "outputs": [],
   "source": [
    "# How to deal with duplicates? Keep last available entry (datadate)\n",
    "compa.dropna(subset=['fyear'], inplace=True)\n",
    "compa.sort_values(['gvkey','fyear','at'], inplace=True)\n",
    "compa = compa[~compa.duplicated(['gvkey', 'fyear'], keep='first')]\n",
    "assert compa.duplicated(['gvkey', 'fyear']).sum() == 0"
   ]
  },
  {
   "cell_type": "markdown",
   "metadata": {},
   "source": [
    "### Calculate OPBE"
   ]
  },
  {
   "cell_type": "code",
   "execution_count": 32,
   "metadata": {},
   "outputs": [],
   "source": [
    "#%% Calculating BE\n",
    "\n",
    "# Shareholder Equity\n",
    "compa['se'] = compa['seq']\n",
    "\n",
    "# Uses Common Equity (ceq) + Preferred Stock (pstk) if SEQ is missing:\n",
    "compa['se'].fillna((compa['ceq'] + compa['pstk']), inplace=True)\n",
    "\n",
    "# Uses Total Assets (at) - Liabilities (lt) + Minority Interest (mib, if available), if others are missing\n",
    "compa['se'].fillna((compa['at'] - compa['lt'] + compa['mib'].fillna(0)), inplace=True)\n",
    "\n",
    "# Preferred Stock\n",
    "# Preferred Stock (Redemption Value)\n",
    "compa['ps'] = compa['pstkrv']\n",
    "# Uses Preferred Stock (Liquidating Value (pstkl)) if Preferred Stock (Redemption Value) is missing\n",
    "compa['ps'].fillna(compa['pstkl'], inplace=True)\n",
    "# Uses Preferred Stock (Carrying Value (pstk)) if others are missing\n",
    "compa['ps'].fillna(compa['pstk'], inplace=True)\n",
    "\n",
    "# Deferred Taxes\n",
    "# Uses Deferred Taxes and Investment Tax Credit (txditc)\n",
    "compa['dt'] = compa['txditc']\n",
    "\n",
    "# This was Novy-Marx old legacy code. We drop this part to be in accordance with Ken French.\n",
    "# Uses Deferred Taxes and Investment Tax Credit(txdb) + Investment Tax Credit (Balance Sheet) (itcb) if txditc is missing\n",
    "compa['dt'].fillna((compa['txdb'].fillna(0) + compa['itcb'].fillna(0)), inplace=True)\n",
    "# If all measures are missing, set n  to missing\n",
    "compa.loc[pd.isnull(compa['txditc']) & pd.isnull(compa['txdb']) & pd.isnull(compa['itcb']), 'dt'] = np.nan\n",
    "\n",
    "compa.loc[compa['fyear'] >= 1993, 'dt'] = 0\n",
    "\n",
    "# Book Equity\n",
    "# Book Equity (BE) = Share Equity (se) - Prefered Stocks (ps) + Deferred Taxes (dt)\n",
    "compa['be'] = (compa['se']  # shareholder equity must be available, otherwise BE is missing\n",
    "               - compa['ps']  # preferred stock must be available, otherwise BE is missing\n",
    "               + compa['dt'].fillna(0))  # add deferred taxes if available\n",
    "               #- compa['prba'].fillna(0))  # subtract postretirement benefit assets if available"
   ]
  },
  {
   "cell_type": "code",
   "execution_count": 33,
   "metadata": {},
   "outputs": [],
   "source": [
    "# COST = COGS + XSGA + XINT \n",
    "compa['cost'] = compa[['cogs', 'xsga', 'xint']].sum(axis=1, skipna=True)\n",
    "compa.loc[compa[['cogs', 'xsga', 'xint']].isnull().all(axis=1), 'cost'] = np.nan\n",
    "\n",
    "# OP = SALE -COST    \n",
    "compa['op'] = compa['sale']-compa['cost']\n",
    "\n",
    "# Calculate OPBE\n",
    "compa.loc[(compa.be > 0), 'opbe'] = compa['op']/compa['be']"
   ]
  },
  {
   "cell_type": "markdown",
   "metadata": {},
   "source": [
    "### Merge"
   ]
  },
  {
   "cell_type": "code",
   "execution_count": 34,
   "metadata": {},
   "outputs": [],
   "source": [
    "sql = '''SELECT gvkey, lpermno as permno, lpermco as permco, linktype, linkdt, linkenddt\n",
    "         FROM crsp.ccmxpf_lnkhist\n",
    "         WHERE linktype IN ('LC', 'LU', 'LS') \n",
    "      ''' \n",
    "\n",
    "link_table = db.raw_sql(sql, date_cols=['linkdt', 'linkenddt'])"
   ]
  },
  {
   "cell_type": "code",
   "execution_count": 35,
   "metadata": {},
   "outputs": [],
   "source": [
    "df = pd.merge(compa, link_table, on=['gvkey'], how='inner') \n",
    "df = df[(df.datadate >= df.linkdt) | (df.linkdt.isnull())]\n",
    "df = df[(df.datadate <= df.linkenddt) | (df.linkenddt.isnull())]"
   ]
  },
  {
   "cell_type": "code",
   "execution_count": 36,
   "metadata": {},
   "outputs": [],
   "source": [
    "# Reporting date\n",
    "df['date'] = df['datadate'] + timedelta(days=91)"
   ]
  },
  {
   "cell_type": "code",
   "execution_count": 37,
   "metadata": {},
   "outputs": [],
   "source": [
    "df['permno']=df['permno'].astype('int')\n",
    "df.sort_values(['date', 'permno'], inplace=True)\n",
    "\n",
    "crsp['permno']=crsp['permno'].astype('int')\n",
    "crsp.sort_values(['date', 'permno'], inplace=True)"
   ]
  },
  {
   "cell_type": "code",
   "execution_count": 38,
   "metadata": {},
   "outputs": [],
   "source": [
    "# Merge asof to match appropriate financials date\n",
    "crsp2 = pd.merge_asof(crsp, \n",
    "                     df[['permno','opbe','date']], \n",
    "                     on='date',\n",
    "                     by='permno', \n",
    "                     direction='backward')"
   ]
  },
  {
   "cell_type": "code",
   "execution_count": 39,
   "metadata": {},
   "outputs": [
    {
     "name": "stdout",
     "output_type": "stream",
     "text": [
      "-0.39928095590567825 of stocks matched to Compustat\n"
     ]
    }
   ],
   "source": [
    "print('{} of stocks matched to Compustat'.format(1 - (crsp2['opbe'].isna().sum() / len(tech))))"
   ]
  },
  {
   "cell_type": "markdown",
   "metadata": {},
   "source": [
    "### Top 10 most profitable stocks"
   ]
  },
  {
   "cell_type": "code",
   "execution_count": 40,
   "metadata": {
    "scrolled": true
   },
   "outputs": [
    {
     "data": {
      "text/html": [
       "<div>\n",
       "<style scoped>\n",
       "    .dataframe tbody tr th:only-of-type {\n",
       "        vertical-align: middle;\n",
       "    }\n",
       "\n",
       "    .dataframe tbody tr th {\n",
       "        vertical-align: top;\n",
       "    }\n",
       "\n",
       "    .dataframe thead th {\n",
       "        text-align: right;\n",
       "    }\n",
       "</style>\n",
       "<table border=\"1\" class=\"dataframe\">\n",
       "  <thead>\n",
       "    <tr style=\"text-align: right;\">\n",
       "      <th></th>\n",
       "      <th>comnam</th>\n",
       "      <th>opbe</th>\n",
       "    </tr>\n",
       "  </thead>\n",
       "  <tbody>\n",
       "    <tr>\n",
       "      <th>41854</th>\n",
       "      <td>NORTONLIFELOCK INC</td>\n",
       "      <td>67.600000</td>\n",
       "    </tr>\n",
       "    <tr>\n",
       "      <th>42360</th>\n",
       "      <td>INSPERITY INC</td>\n",
       "      <td>50.921549</td>\n",
       "    </tr>\n",
       "    <tr>\n",
       "      <th>40950</th>\n",
       "      <td>COLGATE PALMOLIVE CO</td>\n",
       "      <td>34.914530</td>\n",
       "    </tr>\n",
       "    <tr>\n",
       "      <th>42533</th>\n",
       "      <td>ATLANTICUS HOLDINGS CORP</td>\n",
       "      <td>29.549669</td>\n",
       "    </tr>\n",
       "    <tr>\n",
       "      <th>43043</th>\n",
       "      <td>SALLY BEAUTY HOLDINGS INC</td>\n",
       "      <td>19.530726</td>\n",
       "    </tr>\n",
       "    <tr>\n",
       "      <th>39828</th>\n",
       "      <td>R H</td>\n",
       "      <td>17.557075</td>\n",
       "    </tr>\n",
       "    <tr>\n",
       "      <th>39537</th>\n",
       "      <td>HANGER INC</td>\n",
       "      <td>7.217487</td>\n",
       "    </tr>\n",
       "    <tr>\n",
       "      <th>40694</th>\n",
       "      <td>S &amp; P GLOBAL INC</td>\n",
       "      <td>6.864301</td>\n",
       "    </tr>\n",
       "    <tr>\n",
       "      <th>42064</th>\n",
       "      <td>O REILLY AUTOMOTIVE INC NEW</td>\n",
       "      <td>5.130689</td>\n",
       "    </tr>\n",
       "    <tr>\n",
       "      <th>42247</th>\n",
       "      <td>NETAPP INC</td>\n",
       "      <td>4.417355</td>\n",
       "    </tr>\n",
       "  </tbody>\n",
       "</table>\n",
       "</div>"
      ],
      "text/plain": [
       "                            comnam       opbe\n",
       "41854           NORTONLIFELOCK INC  67.600000\n",
       "42360                INSPERITY INC  50.921549\n",
       "40950         COLGATE PALMOLIVE CO  34.914530\n",
       "42533     ATLANTICUS HOLDINGS CORP  29.549669\n",
       "43043    SALLY BEAUTY HOLDINGS INC  19.530726\n",
       "39828                          R H  17.557075\n",
       "39537                   HANGER INC   7.217487\n",
       "40694             S & P GLOBAL INC   6.864301\n",
       "42064  O REILLY AUTOMOTIVE INC NEW   5.130689\n",
       "42247                   NETAPP INC   4.417355"
      ]
     },
     "execution_count": 40,
     "metadata": {},
     "output_type": "execute_result"
    }
   ],
   "source": [
    "crsp2.loc[crsp2['date'] == '2020-12-31', ['comnam', 'opbe']].sort_values(by='opbe', ascending=False).head(10)"
   ]
  },
  {
   "cell_type": "markdown",
   "metadata": {},
   "source": [
    "These are not the same as the top 10s in Q2"
   ]
  },
  {
   "cell_type": "markdown",
   "metadata": {},
   "source": [
    "### Performance of top 10 most profitable stocks"
   ]
  },
  {
   "cell_type": "code",
   "execution_count": 41,
   "metadata": {},
   "outputs": [],
   "source": [
    "# Identify 10 most profitable stocks\n",
    "top10_opbe = crsp2.loc[crsp2['date'] == '2020-12-31', ['permno','opbe']].nlargest(10,'opbe')\n",
    "\n",
    "top10 = crsp2.merge(top10_opbe[['permno']], on='permno', how='inner')"
   ]
  },
  {
   "cell_type": "markdown",
   "metadata": {},
   "source": [
    "#### Market-cap weighted returns"
   ]
  },
  {
   "cell_type": "code",
   "execution_count": 42,
   "metadata": {
    "scrolled": true
   },
   "outputs": [],
   "source": [
    "top10_ret = top10.groupby('date').apply(lambda x:\n",
    "                                       np.average(x['retadj'], \n",
    "                                                  weights = x['melag']))\n",
    "top10_ret = pd.DataFrame(top10_ret, index=top10_ret.index, columns=['ret_w'])\n",
    "top10_ret['cum_w'] = (1 + top10_ret['ret_w']).cumprod()"
   ]
  },
  {
   "cell_type": "markdown",
   "metadata": {},
   "source": [
    "#### Equal weighted returns"
   ]
  },
  {
   "cell_type": "code",
   "execution_count": 43,
   "metadata": {},
   "outputs": [],
   "source": [
    "top10_ret['ret_e'] = top10.groupby('date')['retadj'].mean()\n",
    "top10_ret['cum_e'] = (1 + top10_ret['ret_e']).cumprod()"
   ]
  },
  {
   "cell_type": "markdown",
   "metadata": {},
   "source": [
    "#### Plot cumulative returns"
   ]
  },
  {
   "cell_type": "code",
   "execution_count": 44,
   "metadata": {},
   "outputs": [
    {
     "data": {
      "text/plain": [
       "<AxesSubplot:xlabel='date'>"
      ]
     },
     "execution_count": 44,
     "metadata": {},
     "output_type": "execute_result"
    },
    {
     "data": {
      "image/png": "[encoded data removed]",
      "text/plain": [
       "<Figure size 432x288 with 1 Axes>"
      ]
     },
     "metadata": {
      "needs_background": "light"
     },
     "output_type": "display_data"
    }
   ],
   "source": [
    "top10_ret[['cum_w','cum_e']].plot()"
   ]
  },
  {
   "cell_type": "markdown",
   "metadata": {},
   "source": [
    "#### Report returns"
   ]
  },
  {
   "cell_type": "code",
   "execution_count": 45,
   "metadata": {},
   "outputs": [
    {
     "data": {
      "text/html": [
       "<div>\n",
       "<style scoped>\n",
       "    .dataframe tbody tr th:only-of-type {\n",
       "        vertical-align: middle;\n",
       "    }\n",
       "\n",
       "    .dataframe tbody tr th {\n",
       "        vertical-align: top;\n",
       "    }\n",
       "\n",
       "    .dataframe thead th {\n",
       "        text-align: right;\n",
       "    }\n",
       "</style>\n",
       "<table border=\"1\" class=\"dataframe\">\n",
       "  <thead>\n",
       "    <tr style=\"text-align: right;\">\n",
       "      <th></th>\n",
       "      <th>cum_w</th>\n",
       "      <th>cum_e</th>\n",
       "    </tr>\n",
       "    <tr>\n",
       "      <th>date</th>\n",
       "      <th></th>\n",
       "      <th></th>\n",
       "    </tr>\n",
       "  </thead>\n",
       "  <tbody>\n",
       "    <tr>\n",
       "      <th>2020-01-31</th>\n",
       "      <td>1.040138</td>\n",
       "      <td>1.043610</td>\n",
       "    </tr>\n",
       "    <tr>\n",
       "      <th>2020-02-28</th>\n",
       "      <td>0.957175</td>\n",
       "      <td>0.942109</td>\n",
       "    </tr>\n",
       "    <tr>\n",
       "      <th>2020-03-31</th>\n",
       "      <td>0.872198</td>\n",
       "      <td>0.734644</td>\n",
       "    </tr>\n",
       "    <tr>\n",
       "      <th>2020-04-30</th>\n",
       "      <td>1.006999</td>\n",
       "      <td>0.915042</td>\n",
       "    </tr>\n",
       "    <tr>\n",
       "      <th>2020-05-29</th>\n",
       "      <td>1.086963</td>\n",
       "      <td>1.020136</td>\n",
       "    </tr>\n",
       "    <tr>\n",
       "      <th>2020-06-30</th>\n",
       "      <td>1.094664</td>\n",
       "      <td>1.008841</td>\n",
       "    </tr>\n",
       "    <tr>\n",
       "      <th>2020-07-31</th>\n",
       "      <td>1.173119</td>\n",
       "      <td>1.039575</td>\n",
       "    </tr>\n",
       "    <tr>\n",
       "      <th>2020-08-31</th>\n",
       "      <td>1.215117</td>\n",
       "      <td>1.092930</td>\n",
       "    </tr>\n",
       "    <tr>\n",
       "      <th>2020-09-30</th>\n",
       "      <td>1.186401</td>\n",
       "      <td>1.079127</td>\n",
       "    </tr>\n",
       "    <tr>\n",
       "      <th>2020-10-30</th>\n",
       "      <td>1.134959</td>\n",
       "      <td>1.073129</td>\n",
       "    </tr>\n",
       "    <tr>\n",
       "      <th>2020-11-30</th>\n",
       "      <td>1.228786</td>\n",
       "      <td>1.260823</td>\n",
       "    </tr>\n",
       "    <tr>\n",
       "      <th>2020-12-31</th>\n",
       "      <td>1.226115</td>\n",
       "      <td>1.390417</td>\n",
       "    </tr>\n",
       "    <tr>\n",
       "      <th>2021-01-29</th>\n",
       "      <td>1.172860</td>\n",
       "      <td>1.391339</td>\n",
       "    </tr>\n",
       "    <tr>\n",
       "      <th>2021-02-26</th>\n",
       "      <td>1.180998</td>\n",
       "      <td>1.426536</td>\n",
       "    </tr>\n",
       "    <tr>\n",
       "      <th>2021-03-31</th>\n",
       "      <td>1.283400</td>\n",
       "      <td>1.585170</td>\n",
       "    </tr>\n",
       "    <tr>\n",
       "      <th>2021-04-30</th>\n",
       "      <td>1.376716</td>\n",
       "      <td>1.679541</td>\n",
       "    </tr>\n",
       "    <tr>\n",
       "      <th>2021-05-28</th>\n",
       "      <td>1.390920</td>\n",
       "      <td>1.792179</td>\n",
       "    </tr>\n",
       "    <tr>\n",
       "      <th>2021-06-30</th>\n",
       "      <td>1.440948</td>\n",
       "      <td>1.826966</td>\n",
       "    </tr>\n",
       "    <tr>\n",
       "      <th>2021-07-30</th>\n",
       "      <td>1.461460</td>\n",
       "      <td>1.823629</td>\n",
       "    </tr>\n",
       "    <tr>\n",
       "      <th>2021-08-31</th>\n",
       "      <td>1.497212</td>\n",
       "      <td>1.968633</td>\n",
       "    </tr>\n",
       "    <tr>\n",
       "      <th>2021-09-30</th>\n",
       "      <td>1.458315</td>\n",
       "      <td>1.875992</td>\n",
       "    </tr>\n",
       "    <tr>\n",
       "      <th>2021-10-29</th>\n",
       "      <td>1.536069</td>\n",
       "      <td>1.967792</td>\n",
       "    </tr>\n",
       "    <tr>\n",
       "      <th>2021-11-30</th>\n",
       "      <td>1.500893</td>\n",
       "      <td>1.911375</td>\n",
       "    </tr>\n",
       "    <tr>\n",
       "      <th>2021-12-31</th>\n",
       "      <td>1.599731</td>\n",
       "      <td>2.014198</td>\n",
       "    </tr>\n",
       "  </tbody>\n",
       "</table>\n",
       "</div>"
      ],
      "text/plain": [
       "               cum_w     cum_e\n",
       "date                          \n",
       "2020-01-31  1.040138  1.043610\n",
       "2020-02-28  0.957175  0.942109\n",
       "2020-03-31  0.872198  0.734644\n",
       "2020-04-30  1.006999  0.915042\n",
       "2020-05-29  1.086963  1.020136\n",
       "2020-06-30  1.094664  1.008841\n",
       "2020-07-31  1.173119  1.039575\n",
       "2020-08-31  1.215117  1.092930\n",
       "2020-09-30  1.186401  1.079127\n",
       "2020-10-30  1.134959  1.073129\n",
       "2020-11-30  1.228786  1.260823\n",
       "2020-12-31  1.226115  1.390417\n",
       "2021-01-29  1.172860  1.391339\n",
       "2021-02-26  1.180998  1.426536\n",
       "2021-03-31  1.283400  1.585170\n",
       "2021-04-30  1.376716  1.679541\n",
       "2021-05-28  1.390920  1.792179\n",
       "2021-06-30  1.440948  1.826966\n",
       "2021-07-30  1.461460  1.823629\n",
       "2021-08-31  1.497212  1.968633\n",
       "2021-09-30  1.458315  1.875992\n",
       "2021-10-29  1.536069  1.967792\n",
       "2021-11-30  1.500893  1.911375\n",
       "2021-12-31  1.599731  2.014198"
      ]
     },
     "execution_count": 45,
     "metadata": {},
     "output_type": "execute_result"
    }
   ],
   "source": [
    "# Return from beginning of the year\n",
    "top10_ret[['cum_w','cum_e']]"
   ]
  },
  {
   "cell_type": "code",
   "execution_count": 47,
   "metadata": {},
   "outputs": [
    {
     "data": {
      "text/html": [
       "<div>\n",
       "<style scoped>\n",
       "    .dataframe tbody tr th:only-of-type {\n",
       "        vertical-align: middle;\n",
       "    }\n",
       "\n",
       "    .dataframe tbody tr th {\n",
       "        vertical-align: top;\n",
       "    }\n",
       "\n",
       "    .dataframe thead th {\n",
       "        text-align: right;\n",
       "    }\n",
       "</style>\n",
       "<table border=\"1\" class=\"dataframe\">\n",
       "  <thead>\n",
       "    <tr style=\"text-align: right;\">\n",
       "      <th></th>\n",
       "      <th>cum_w</th>\n",
       "      <th>cum_e</th>\n",
       "    </tr>\n",
       "    <tr>\n",
       "      <th>date</th>\n",
       "      <th></th>\n",
       "      <th></th>\n",
       "    </tr>\n",
       "  </thead>\n",
       "  <tbody>\n",
       "    <tr>\n",
       "      <th>2020-04-30</th>\n",
       "      <td>1.154553</td>\n",
       "      <td>1.245559</td>\n",
       "    </tr>\n",
       "    <tr>\n",
       "      <th>2020-05-29</th>\n",
       "      <td>1.246234</td>\n",
       "      <td>1.388614</td>\n",
       "    </tr>\n",
       "    <tr>\n",
       "      <th>2020-06-30</th>\n",
       "      <td>1.255063</td>\n",
       "      <td>1.373239</td>\n",
       "    </tr>\n",
       "    <tr>\n",
       "      <th>2020-07-31</th>\n",
       "      <td>1.345014</td>\n",
       "      <td>1.415074</td>\n",
       "    </tr>\n",
       "    <tr>\n",
       "      <th>2020-08-31</th>\n",
       "      <td>1.393166</td>\n",
       "      <td>1.487701</td>\n",
       "    </tr>\n",
       "    <tr>\n",
       "      <th>2020-09-30</th>\n",
       "      <td>1.360243</td>\n",
       "      <td>1.468912</td>\n",
       "    </tr>\n",
       "    <tr>\n",
       "      <th>2020-10-30</th>\n",
       "      <td>1.301263</td>\n",
       "      <td>1.460748</td>\n",
       "    </tr>\n",
       "    <tr>\n",
       "      <th>2020-11-30</th>\n",
       "      <td>1.408838</td>\n",
       "      <td>1.716238</td>\n",
       "    </tr>\n",
       "    <tr>\n",
       "      <th>2020-12-31</th>\n",
       "      <td>1.405776</td>\n",
       "      <td>1.892642</td>\n",
       "    </tr>\n",
       "    <tr>\n",
       "      <th>2021-01-29</th>\n",
       "      <td>1.344717</td>\n",
       "      <td>1.893896</td>\n",
       "    </tr>\n",
       "    <tr>\n",
       "      <th>2021-02-26</th>\n",
       "      <td>1.354048</td>\n",
       "      <td>1.941807</td>\n",
       "    </tr>\n",
       "    <tr>\n",
       "      <th>2021-03-31</th>\n",
       "      <td>1.471454</td>\n",
       "      <td>2.157740</td>\n",
       "    </tr>\n",
       "    <tr>\n",
       "      <th>2021-04-30</th>\n",
       "      <td>1.578444</td>\n",
       "      <td>2.286198</td>\n",
       "    </tr>\n",
       "    <tr>\n",
       "      <th>2021-05-28</th>\n",
       "      <td>1.594730</td>\n",
       "      <td>2.439522</td>\n",
       "    </tr>\n",
       "    <tr>\n",
       "      <th>2021-06-30</th>\n",
       "      <td>1.652088</td>\n",
       "      <td>2.486874</td>\n",
       "    </tr>\n",
       "    <tr>\n",
       "      <th>2021-07-30</th>\n",
       "      <td>1.675605</td>\n",
       "      <td>2.482332</td>\n",
       "    </tr>\n",
       "    <tr>\n",
       "      <th>2021-08-31</th>\n",
       "      <td>1.716595</td>\n",
       "      <td>2.679711</td>\n",
       "    </tr>\n",
       "    <tr>\n",
       "      <th>2021-09-30</th>\n",
       "      <td>1.672000</td>\n",
       "      <td>2.553609</td>\n",
       "    </tr>\n",
       "    <tr>\n",
       "      <th>2021-10-29</th>\n",
       "      <td>1.761147</td>\n",
       "      <td>2.678567</td>\n",
       "    </tr>\n",
       "    <tr>\n",
       "      <th>2021-11-30</th>\n",
       "      <td>1.720817</td>\n",
       "      <td>2.601772</td>\n",
       "    </tr>\n",
       "    <tr>\n",
       "      <th>2021-12-31</th>\n",
       "      <td>1.834137</td>\n",
       "      <td>2.741735</td>\n",
       "    </tr>\n",
       "  </tbody>\n",
       "</table>\n",
       "</div>"
      ],
      "text/plain": [
       "               cum_w     cum_e\n",
       "date                          \n",
       "2020-04-30  1.154553  1.245559\n",
       "2020-05-29  1.246234  1.388614\n",
       "2020-06-30  1.255063  1.373239\n",
       "2020-07-31  1.345014  1.415074\n",
       "2020-08-31  1.393166  1.487701\n",
       "2020-09-30  1.360243  1.468912\n",
       "2020-10-30  1.301263  1.460748\n",
       "2020-11-30  1.408838  1.716238\n",
       "2020-12-31  1.405776  1.892642\n",
       "2021-01-29  1.344717  1.893896\n",
       "2021-02-26  1.354048  1.941807\n",
       "2021-03-31  1.471454  2.157740\n",
       "2021-04-30  1.578444  2.286198\n",
       "2021-05-28  1.594730  2.439522\n",
       "2021-06-30  1.652088  2.486874\n",
       "2021-07-30  1.675605  2.482332\n",
       "2021-08-31  1.716595  2.679711\n",
       "2021-09-30  1.672000  2.553609\n",
       "2021-10-29  1.761147  2.678567\n",
       "2021-11-30  1.720817  2.601772\n",
       "2021-12-31  1.834137  2.741735"
      ]
     },
     "execution_count": 47,
     "metadata": {},
     "output_type": "execute_result"
    }
   ],
   "source": [
    "# Return from the end of March\n",
    "top10_ret[top10_ret.index >'2020-03-31'][['cum_w','cum_e']] / top10_ret.loc[top10_ret.index=='2020-03-31',['cum_w','cum_e']].values"
   ]
  },
  {
   "cell_type": "markdown",
   "metadata": {},
   "source": [
    "## Q4 -- Comparing Results"
   ]
  },
  {
   "cell_type": "markdown",
   "metadata": {},
   "source": [
    "\"Tech portfolio\" performed better than \"profitable portfolio\" in 2020. Strong performance of several biotech stocks likely contributed to the results."
   ]
  }
 ],
 "metadata": {
  "kernelspec": {
   "display_name": "Python 3 (ipykernel)",
   "language": "python",
   "name": "python3"
  },
  "language_info": {
   "codemirror_mode": {
    "name": "ipython",
    "version": 3
   },
   "file_extension": ".py",
   "mimetype": "text/x-python",
   "name": "python",
   "nbconvert_exporter": "python",
   "pygments_lexer": "ipython3",
   "version": "3.8.12"
  },
  "pycharm": {
   "stem_cell": {
    "cell_type": "raw",
    "metadata": {
     "collapsed": false
    },
    "source": []
   }
  },
  "toc": {
   "base_numbering": 1,
   "nav_menu": {},
   "number_sections": true,
   "sideBar": true,
   "skip_h1_title": true,
   "title_cell": "Table of Contents",
   "title_sidebar": "Contents",
   "toc_cell": true,
   "toc_position": {},
   "toc_section_display": true,
   "toc_window_display": true
  }
 },
 "nbformat": 4,
 "nbformat_minor": 2
}
