{
 "cells": [
  {
   "cell_type": "markdown",
   "metadata": {
    "slideshow": {
     "slide_type": "skip"
    },
    "toc": true
   },
   "source": [
    "<h1>Table of Contents<span class=\"tocSkip\"></span></h1>\n",
    "<div class=\"toc\"><ul class=\"toc-item\"><li><span><a href=\"#Introduction\" data-toc-modified-id=\"Introduction-1\"><span class=\"toc-item-num\">1&nbsp;&nbsp;</span>Introduction</a></span><ul class=\"toc-item\"><li><span><a href=\"#Goals\" data-toc-modified-id=\"Goals-1.1\"><span class=\"toc-item-num\">1.1&nbsp;&nbsp;</span>Goals</a></span></li><li><span><a href=\"#Schedule\" data-toc-modified-id=\"Schedule-1.2\"><span class=\"toc-item-num\">1.2&nbsp;&nbsp;</span>Schedule</a></span></li><li><span><a href=\"#Prerequisites\" data-toc-modified-id=\"Prerequisites-1.3\"><span class=\"toc-item-num\">1.3&nbsp;&nbsp;</span>Prerequisites</a></span></li><li><span><a href=\"#Homework\" data-toc-modified-id=\"Homework-1.4\"><span class=\"toc-item-num\">1.4&nbsp;&nbsp;</span>Homework</a></span></li></ul></li><li><span><a href=\"#What-is-Factor-Investing?\" data-toc-modified-id=\"What-is-Factor-Investing?-2\"><span class=\"toc-item-num\">2&nbsp;&nbsp;</span>What is Factor Investing?</a></span><ul class=\"toc-item\"><li><span><a href=\"#Multifactor-Asset-Pricing-Model\" data-toc-modified-id=\"Multifactor-Asset-Pricing-Model-2.1\"><span class=\"toc-item-num\">2.1&nbsp;&nbsp;</span>Multifactor Asset Pricing Model</a></span></li><li><span><a href=\"#Search-for-$\\mathbf{f^*}$-in-in-the-Space-of-Returns\" data-toc-modified-id=\"Search-for-$\\mathbf{f^*}$-in-in-the-Space-of-Returns-2.2\"><span class=\"toc-item-num\">2.2&nbsp;&nbsp;</span>Search for $\\mathbf{f^*}$ in in the Space of Returns</a></span></li><li><span><a href=\"#The-Standard-in-the-Literature\" data-toc-modified-id=\"The-Standard-in-the-Literature-2.3\"><span class=\"toc-item-num\">2.3&nbsp;&nbsp;</span>The Standard in the Literature</a></span></li><li><span><a href=\"#How-to-Construct-a-``Factor&quot;?\" data-toc-modified-id=\"How-to-Construct-a-``Factor&quot;?-2.4\"><span class=\"toc-item-num\">2.4&nbsp;&nbsp;</span>How to Construct a ``Factor\"?</a></span></li></ul></li><li><span><a href=\"#What-is-Compustat-and-CRSP?\" data-toc-modified-id=\"What-is-Compustat-and-CRSP?-3\"><span class=\"toc-item-num\">3&nbsp;&nbsp;</span>What is Compustat and CRSP?</a></span><ul class=\"toc-item\"><li><span><a href=\"#Compustat-Description\" data-toc-modified-id=\"Compustat-Description-3.1\"><span class=\"toc-item-num\">3.1&nbsp;&nbsp;</span>Compustat Description</a></span></li><li><span><a href=\"#CRSP-Description\" data-toc-modified-id=\"CRSP-Description-3.2\"><span class=\"toc-item-num\">3.2&nbsp;&nbsp;</span>CRSP Description</a></span></li><li><span><a href=\"#What-is-WRDS?\" data-toc-modified-id=\"What-is-WRDS?-3.3\"><span class=\"toc-item-num\">3.3&nbsp;&nbsp;</span>What is WRDS?</a></span></li></ul></li><li><span><a href=\"#Getting-Started\" data-toc-modified-id=\"Getting-Started-4\"><span class=\"toc-item-num\">4&nbsp;&nbsp;</span>Getting Started</a></span><ul class=\"toc-item\"><li><span><a href=\"#Compustat-(S)\" data-toc-modified-id=\"Compustat-(S)-4.1\"><span class=\"toc-item-num\">4.1&nbsp;&nbsp;</span>Compustat (S)</a></span></li><li><span><a href=\"#CRSP-(S)\" data-toc-modified-id=\"CRSP-(S)-4.2\"><span class=\"toc-item-num\">4.2&nbsp;&nbsp;</span>CRSP (S)</a></span></li><li><span><a href=\"#Download-the-data\" data-toc-modified-id=\"Download-the-data-4.3\"><span class=\"toc-item-num\">4.3&nbsp;&nbsp;</span>Download the data</a></span><ul class=\"toc-item\"><li><span><a href=\"#First-try\" data-toc-modified-id=\"First-try-4.3.1\"><span class=\"toc-item-num\">4.3.1&nbsp;&nbsp;</span>First try</a></span></li><li><span><a href=\"#Second-Try\" data-toc-modified-id=\"Second-Try-4.3.2\"><span class=\"toc-item-num\">4.3.2&nbsp;&nbsp;</span>Second Try</a></span></li></ul></li></ul></li><li><span><a href=\"#Good-Habit-in-Research\" data-toc-modified-id=\"Good-Habit-in-Research-5\"><span class=\"toc-item-num\">5&nbsp;&nbsp;</span>Good Habit in Research</a></span></li></ul></div>"
   ]
  },
  {
   "cell_type": "markdown",
   "metadata": {
    "slideshow": {
     "slide_type": "slide"
    }
   },
   "source": [
    "# Big Data in Finance: Part III <BR><BR> Lecture 1: Introduction \n",
    "    \n",
    "**Instructor** <BR>\n",
    "Ritt Keerati, ritt.keerati@gsb.columbia.edu\n",
    "    \n",
    "**TA's:** <BR>\n",
    "Meha Sadasivam, MSadasivam21@gsb.columbia.edu <BR>\n",
    "Daheng Yang, dyang22@gsb.columbia.edu <BR>\n",
    "\n",
    "\n",
    "<sub> Credit: lecture notes originally developed by Lira Mota"
   ]
  },
  {
   "cell_type": "markdown",
   "metadata": {
    "slideshow": {
     "slide_type": "slide"
    }
   },
   "source": [
    "## Introduction"
   ]
  },
  {
   "cell_type": "markdown",
   "metadata": {
    "slideshow": {
     "slide_type": "fragment"
    }
   },
   "source": [
    "### Goals\n",
    "\n",
    "1. Get familiar with Compustat and CRSP databases\n",
    "2. One application in finance: factor investing"
   ]
  },
  {
   "cell_type": "markdown",
   "metadata": {
    "slideshow": {
     "slide_type": "subslide"
    }
   },
   "source": [
    "### Schedule\n",
    "\n",
    "* Lecture 1: Introduction, CRSP and Compustat basics\n",
    "* Lecture 2: Application to asset pricing: Factor replication\n",
    "* Lecture 3: Quantitative investing"
   ]
  },
  {
   "cell_type": "markdown",
   "metadata": {
    "slideshow": {
     "slide_type": "subslide"
    }
   },
   "source": [
    "### Prerequisites\n",
    "* Install Anaconda\n",
    "    * It can be downloaded for free at [download Anaconda](https://www.anaconda.com/distribution/)\n",
    "    * I am going to be using Python 3.8.12\n",
    "* Working knowledge of Python\n",
    "    * I recommend using PyCharm as Python IDE for Python 3. It can be downloaded for free at [download PyCharm](https://www.jetbrains.com/pycharm/download/#section=windows).\n",
    "    * Student and faculty members license are free, you only need to apply at [PyCharm license](https://www.jetbrains.com/student/)"
   ]
  },
  {
   "cell_type": "markdown",
   "metadata": {
    "slideshow": {
     "slide_type": "subslide"
    }
   },
   "source": [
    "* Working knowledge of GIT\n",
    "    * All course material will be available in GitHub repository [here](https://github.com/rkeerati/big_data_2022)\n",
    "    * Make sure to setup a GitHub account\n",
    "    * GitHub tutorial is available [here](https://docs.github.com/en/get-started/quickstart/hello-world)\n",
    "* WRDS direct connection to Python\n",
    "    * WRDS has built a Python module that allows direct download of data sets from WRDS services into Python. This is very convenient and we are going to use this tool in class\n",
    "    * In order to use the direct download you need to setup your connection beforehand by following the instructions [here](https://wrds-www.wharton.upenn.edu/pages/support/programming-wrds/programming-python/python-from-your-computer/)"
   ]
  },
  {
   "cell_type": "markdown",
   "metadata": {
    "slideshow": {
     "slide_type": "subslide"
    }
   },
   "source": [
    "### Homework\n",
    "\n",
    "* There will be two homeworks.\n",
    "\t* Due Thursday 03/03: Playing with CRSP and Compustat\n",
    "\t* Due Wednesday 03/24: Replication exercise of Fama and French (2015) five factors (MktRF, SMB, HML, RMW, CMA) and Momentum\n",
    "* I will provide skeleton .py codes and you should develop your code filling the gaps of the code structure\n",
    "* How to deliver your homework? Upload on Canvas a .zip file with:\n",
    "    * your .py files,\n",
    "    * .html file produced using jupyter notebooks with your results,\n",
    "    \n",
    "[comment]: <> (* Due Monday 03/31: Creating and evaluating your own quant-investing strategy)    "
   ]
  },
  {
   "cell_type": "markdown",
   "metadata": {
    "slideshow": {
     "slide_type": "slide"
    }
   },
   "source": [
    "## What is Factor Investing?"
   ]
  },
  {
   "cell_type": "markdown",
   "metadata": {
    "slideshow": {
     "slide_type": "subslide"
    }
   },
   "source": [
    "### Multifactor Asset Pricing Model\n",
    "\n",
    "* Multifactor models of the sdf posit that:\n",
    "  $$ m^* = a + \\mathbf{b}'\\mathbf{f^*} \\quad \\text{with} \\quad E[m^*R_i] = 0$$\n",
    "  \n",
    "    for any excess return $R_i$ and a set of traded ``factors'' (long-short portfolio returns) $\\mathbf{f^*}$\n",
    "* This implies that \n",
    "  $$ E[R_i] = {\\bf \\beta}_i{\\bf \\lambda} $$\n",
    "  where ${\\bf \\lambda}$ is market price of risk ($=E[{\\bf f}^*]$), and ${\\bf \\beta}_i$ is (the vector of)\n",
    "  projection coefficients of $R_i$ onto $\\mathbf{f^*}$\n",
    "\n",
    "* Which is the motivation for time series regressions like:\n",
    "$$ (R_{i,t}\\! -\\!R_{f,t}) = \\alpha_i+ \\beta_{m} \\cdot (R_{m,t}\\!-\\!R_{f,t}) + \\beta_{SMB}\\cdot {\\rm SMB}_t + \\beta_{HML} \\cdot {\\rm HML}_t + \\epsilon_t $$"
   ]
  },
  {
   "cell_type": "markdown",
   "metadata": {
    "slideshow": {
     "slide_type": "subslide"
    }
   },
   "source": [
    "### Search for $\\mathbf{f^*}$ in in the Space of Returns\n",
    "* Timeline:\n",
    "    1. Chen, Roll and Ross (1986) economic factors:\n",
    "        * Evidence of that there were premia associated with innovations in macroeconomic variables, \n",
    "        but the Sharpe ratios associated with these portfolios were small\n",
    "    2. Connor and Korajczyk (1988) statistical factors using PCA:\n",
    "        * Effective in explaining the covariance structure. However, all but the first PC -- which looks like the market -- did not carry much of a premium\n",
    "    3. Fama and French (1993): characteristic sorted portfolios:\n",
    "        * ``The 3-factor model does a good job in explaining the cross-section of average returns\""
   ]
  },
  {
   "cell_type": "markdown",
   "metadata": {
    "slideshow": {
     "slide_type": "subslide"
    }
   },
   "source": [
    "### The Standard in the Literature\n",
    "* The Fama and French (1993) characteristic sort procedure has become standard for forming **factor-portfolios**\n",
    "  * That is, find a characteristic that is associated with expected returns, e.g. book-to-market, and create a corresponding factor portfolio by sorting on this characteristic\n",
    "  * The resulting factor portfolio goes long high- and short low-characteristic stocks\n",
    "* Examples: \n",
    "    * Fama and French (2015) - SMB, HML, RMW and CMA; \n",
    "    * Carhart (1997) - MOM; \n",
    "    * Daniel and Moskowitz (2016) - WML; \n",
    "    * Pastor and Stambaugh (2003) - LIQ; \n",
    "    * Asness, Frazzini and Pedersen (2013) - QMJ; \n",
    "    * Lustig, Roussanov and Verdelhan (2011) - Currency markets\n"
   ]
  },
  {
   "cell_type": "markdown",
   "metadata": {
    "slideshow": {
     "slide_type": "subslide"
    }
   },
   "source": [
    "### How to Construct a ``Factor\"?\n",
    "<img src=\"ff6.png\" width=\"800\" height=\"400\">\n"
   ]
  },
  {
   "cell_type": "markdown",
   "metadata": {
    "slideshow": {
     "slide_type": "subslide"
    }
   },
   "source": [
    "## What is Compustat and CRSP?\n",
    "\n",
    "\n",
    "### Compustat Description\n",
    "\n",
    "\n",
    "* Compustat is a database of financial, statistical and market information on active and inactive global companies throughout the world. The service began in 1962.\n",
    "* It is under the umbrella of Standard and Poor's many data sets: Compustat, Capital IQ, etc.\n",
    "* What is the main use of Compustat data set in finance? Firms' fundamentals\n",
    "    * In the US, all companies that have public traded securities must report accounting information in different formats, e.g., 10-K, 10-Q, S-1\n",
    "    * Compustat is a compilation of information reported by firms in a standardized way\n",
    "    \n",
    "  Source: [Compustat Website](https://wrds-www.wharton.upenn.edu/documents/841/Understanding_The_Data_57jARh2.pdf)"
   ]
  },
  {
   "cell_type": "markdown",
   "metadata": {
    "slideshow": {
     "slide_type": "subslide"
    }
   },
   "source": [
    "* **Compustat Xpressfeed** is a data delivery system for Standard & Poor’s Compustat data. \n",
    "\n",
    "    As of June 2007, for the **U.S.** and **Canada** publicly-traded companies, Xpressfeed offers:\n",
    "    * Coverage for over 14,650 active companies and over 16,950 inactive companies\n",
    "    * Coverage for over 15,700 active securities and over 20,850 inactive securities\n",
    "    * Company fundamental annual data beginning in 1950\n",
    "    * Company restated quarterly beginning in 1962\n",
    "    * Company annual summary data (rolling 10 years from current annual 10 K)\n",
    "    * Daily and monthly market data beginning in 1984\n",
    "    * Monthly market data beginning in 1962.\n",
    "    * Fiscal and calendar presentations of data\n",
    "    * Period data (3 months, 6 months, 9 months, 12 months)\n",
    "    * Period and 12 months moving data for North America quarterly data. \n",
    "    \n",
    "  Source: [Compustat Website](https://wrds-www.wharton.upenn.edu/documents/841/Understanding_The_Data_57jARh2.pdf)"
   ]
  },
  {
   "cell_type": "markdown",
   "metadata": {
    "slideshow": {
     "slide_type": "subslide"
    }
   },
   "source": [
    "* As of June 2007, Xpressfeed offers the following International (excluding U.S. and Canadian) data:\n",
    "\n",
    "    * Coverage for over 24,350 active companies and over 10,000 inactive companies\n",
    "    * Coverage for over 25,900 active securities and over 13,250 inactive securities\n",
    "    * Annual company fundamental data beginning in 1988\n",
    "    * Historical semiannual company data beginning in 1996\n",
    "    * Restated semi-annual company data beginning first quarter of 2005\n",
    "    * Historical quarterly data beginning fourth quarter of 2003\n",
    "    * Restated quarterly company data beginning first quarter of 2005\n",
    "    * Daily market data beginning in 1984 "
   ]
  },
  {
   "cell_type": "markdown",
   "metadata": {
    "slideshow": {
     "slide_type": "subslide"
    }
   },
   "source": [
    "### CRSP Description \n",
    "\n",
    "* The CRSP U.S. Stock database contains end-of-day and month-end prices on primary listings for the NYSE, NYSE MKT, NASDAQ, and Arca exchanges, along with basic market indices\n",
    "* CRSP databases are characterized by their comprehensive corporate action information and highly accurate total return calculations\n",
    "\n",
    "Source: [Compustat Website](https://wrds-www.wharton.upenn.edu/pages/support/manuals-and-overviews/crsp/stocks-and-indices/overview-crsp-us-stock-database/)"
   ]
  },
  {
   "cell_type": "markdown",
   "metadata": {
    "slideshow": {
     "slide_type": "subslide"
    }
   },
   "source": [
    "* What can we find in CRSP?\n",
    "    * Price and quote data (e.g. Open, close, bid/low, ask/high)\n",
    "    * Holding period returns with and without dividends\n",
    "    * Excess returns and other derived data items\n",
    "    * Market capitalization\n",
    "    * Shares outstanding\n",
    "    * Trading volume\n",
    "    * Security delisting information\n",
    "    * Corporate actions\n",
    "    * Identifiers, descriptors, and supplemental data items"
   ]
  },
  {
   "cell_type": "markdown",
   "metadata": {
    "slideshow": {
     "slide_type": "fragment"
    }
   },
   "source": [
    "* One very valuable information: PERMNO/PERMCO"
   ]
  },
  {
   "cell_type": "markdown",
   "metadata": {
    "slideshow": {
     "slide_type": "subslide"
    }
   },
   "source": [
    "* CRSP Coverage:\n",
    "    * Stocks (not bonds)\n",
    "    * NYSE: All data series begin on December 31, 1925\n",
    "    * NYSE MKT: All data series begin on July 2, 1962\n",
    "    * NASDAQ: All data series begin on December 14, 1972\n",
    "    * Arca: All data series begin March 8, 2006"
   ]
  },
  {
   "cell_type": "markdown",
   "metadata": {
    "slideshow": {
     "slide_type": "subslide"
    }
   },
   "source": [
    "### What is WRDS?\n",
    "\n",
    "* [Wharton Research Data Services](https://wrds-www.wharton.upenn.edu/)"
   ]
  },
  {
   "cell_type": "markdown",
   "metadata": {
    "slideshow": {
     "slide_type": "slide"
    }
   },
   "source": [
    "## Getting Started"
   ]
  },
  {
   "cell_type": "code",
   "execution_count": 1,
   "metadata": {
    "slideshow": {
     "slide_type": "fragment"
    }
   },
   "outputs": [],
   "source": [
    "%matplotlib inline\n",
    "\n",
    "# Packages \n",
    "import wrds\n",
    "import datetime\n",
    "import pandas as pd\n",
    "import numpy as np\n",
    "import matplotlib.pyplot as plt\n",
    "\n",
    "import time\n",
    "from time import strptime, strftime\n",
    "\n",
    "# Setups\n",
    "pd.set_option(\"display.max_rows\", 100) # max number or rows to be displayed \n",
    "plt.rcParams['figure.figsize'] = [10, 6]"
   ]
  },
  {
   "cell_type": "code",
   "execution_count": 2,
   "metadata": {
    "slideshow": {
     "slide_type": "subslide"
    }
   },
   "outputs": [
    {
     "name": "stdout",
     "output_type": "stream",
     "text": [
      "Loading library list...\n",
      "Done\n"
     ]
    }
   ],
   "source": [
    "# Set WRDS Connection\n",
    "db = wrds.Connection(wrds_username='rkeerati') # make sure to configure wrds connector before hand."
   ]
  },
  {
   "cell_type": "code",
   "execution_count": 3,
   "metadata": {
    "scrolled": true,
    "slideshow": {
     "slide_type": "subslide"
    }
   },
   "outputs": [
    {
     "data": {
      "text/html": [
       "<div>\n",
       "<style scoped>\n",
       "    .dataframe tbody tr th:only-of-type {\n",
       "        vertical-align: middle;\n",
       "    }\n",
       "\n",
       "    .dataframe tbody tr th {\n",
       "        vertical-align: top;\n",
       "    }\n",
       "\n",
       "    .dataframe thead th {\n",
       "        text-align: right;\n",
       "    }\n",
       "</style>\n",
       "<table border=\"1\" class=\"dataframe\">\n",
       "  <thead>\n",
       "    <tr style=\"text-align: right;\">\n",
       "      <th></th>\n",
       "      <th>libraries</th>\n",
       "    </tr>\n",
       "  </thead>\n",
       "  <tbody>\n",
       "    <tr>\n",
       "      <th>0</th>\n",
       "      <td>aha</td>\n",
       "    </tr>\n",
       "    <tr>\n",
       "      <th>1</th>\n",
       "      <td>aha_sample</td>\n",
       "    </tr>\n",
       "    <tr>\n",
       "      <th>2</th>\n",
       "      <td>ahasamp</td>\n",
       "    </tr>\n",
       "    <tr>\n",
       "      <th>3</th>\n",
       "      <td>audit</td>\n",
       "    </tr>\n",
       "    <tr>\n",
       "      <th>4</th>\n",
       "      <td>audit_acct_os</td>\n",
       "    </tr>\n",
       "    <tr>\n",
       "      <th>5</th>\n",
       "      <td>audit_audit_comp</td>\n",
       "    </tr>\n",
       "    <tr>\n",
       "      <th>6</th>\n",
       "      <td>audit_common</td>\n",
       "    </tr>\n",
       "    <tr>\n",
       "      <th>7</th>\n",
       "      <td>audit_corp_legal</td>\n",
       "    </tr>\n",
       "    <tr>\n",
       "      <th>8</th>\n",
       "      <td>auditsmp</td>\n",
       "    </tr>\n",
       "    <tr>\n",
       "      <th>9</th>\n",
       "      <td>auditsmp_all</td>\n",
       "    </tr>\n",
       "  </tbody>\n",
       "</table>\n",
       "</div>"
      ],
      "text/plain": [
       "          libraries\n",
       "0               aha\n",
       "1        aha_sample\n",
       "2           ahasamp\n",
       "3             audit\n",
       "4     audit_acct_os\n",
       "5  audit_audit_comp\n",
       "6      audit_common\n",
       "7  audit_corp_legal\n",
       "8          auditsmp\n",
       "9      auditsmp_all"
      ]
     },
     "execution_count": 3,
     "metadata": {},
     "output_type": "execute_result"
    }
   ],
   "source": [
    "# List all libraries in WRDS\n",
    "libs = db.list_libraries()\n",
    "libs.__class__ # Notice that libs is a list\n",
    "\n",
    "# Transform libs to a Pandas data frame to have a better display\n",
    "libs = pd.DataFrame({'libraries':libs}) \n",
    "libs.sort_values(['libraries']).head(10)"
   ]
  },
  {
   "cell_type": "markdown",
   "metadata": {
    "slideshow": {
     "slide_type": "subslide"
    }
   },
   "source": [
    "### Compustat (S)\n",
    "\n",
    "* comp\n",
    "* comp_*: see list [here](https://wrds-www.wharton.upenn.edu/pages/about/data-vendors/sp-global-market-intelligence/)\n",
    "* compa: annual updates\n",
    "* compm: monthly updates\n",
    "* compd: daily updates (recommended with caution!)\n",
    "\n"
   ]
  },
  {
   "cell_type": "markdown",
   "metadata": {
    "slideshow": {
     "slide_type": "subslide"
    }
   },
   "source": [
    "### CRSP (S)\n",
    "\n",
    "* crsp*: see list [here](https://wrds-www.wharton.upenn.edu/pages/about/data-vendors/center-for-research-in-security-prices-crsp/)\n",
    "* crspa: annual updates \n",
    "* crspd: daily updates\n",
    "* crspq: quartely updates (our subscription includes this one at CBS)\n",
    "\n"
   ]
  },
  {
   "cell_type": "markdown",
   "metadata": {
    "slideshow": {
     "slide_type": "subslide"
    }
   },
   "source": [
    "### Download the data"
   ]
  },
  {
   "cell_type": "markdown",
   "metadata": {
    "slideshow": {
     "slide_type": "fragment"
    }
   },
   "source": [
    "#### First try"
   ]
  },
  {
   "cell_type": "code",
   "execution_count": 4,
   "metadata": {
    "slideshow": {
     "slide_type": "fragment"
    }
   },
   "outputs": [
    {
     "name": "stdout",
     "output_type": "stream",
     "text": [
      "SELECT gvkey, datadate, cusip, conm, fyear, fyr, fdate, apdedate, cik, at\n",
      "                 FROM comp.funda\n",
      "                 WHERE GVKEY='001690'\n"
     ]
    }
   ],
   "source": [
    "fund_table = 'funda' # 'fundq' annual or quarterly \n",
    "varlist = ['cusip', 'conm', 'fyear', 'fyr', 'fdate', 'apdedate', 'cik', 'at']\n",
    "query_apple = \"\"\"SELECT gvkey, datadate, {}\n",
    "                 FROM comp.{}\n",
    "                 WHERE GVKEY='001690'\"\"\".format(\", \".join(varlist), fund_table)\n",
    "print(query_apple)\n",
    "del(fund_table, varlist)  "
   ]
  },
  {
   "cell_type": "code",
   "execution_count": 5,
   "metadata": {
    "scrolled": true,
    "slideshow": {
     "slide_type": "subslide"
    }
   },
   "outputs": [],
   "source": [
    "compa1 = db.raw_sql(query_apple, date_cols=['datadate', 'fdate', 'apdedate'])\n",
    "del(query_apple)"
   ]
  },
  {
   "cell_type": "code",
   "execution_count": 6,
   "metadata": {},
   "outputs": [
    {
     "data": {
      "text/html": [
       "<div>\n",
       "<style scoped>\n",
       "    .dataframe tbody tr th:only-of-type {\n",
       "        vertical-align: middle;\n",
       "    }\n",
       "\n",
       "    .dataframe tbody tr th {\n",
       "        vertical-align: top;\n",
       "    }\n",
       "\n",
       "    .dataframe thead th {\n",
       "        text-align: right;\n",
       "    }\n",
       "</style>\n",
       "<table border=\"1\" class=\"dataframe\">\n",
       "  <thead>\n",
       "    <tr style=\"text-align: right;\">\n",
       "      <th></th>\n",
       "      <th>gvkey</th>\n",
       "      <th>datadate</th>\n",
       "      <th>cusip</th>\n",
       "      <th>conm</th>\n",
       "      <th>fyear</th>\n",
       "      <th>fyr</th>\n",
       "      <th>fdate</th>\n",
       "      <th>apdedate</th>\n",
       "      <th>cik</th>\n",
       "      <th>at</th>\n",
       "    </tr>\n",
       "  </thead>\n",
       "  <tbody>\n",
       "    <tr>\n",
       "      <th>20</th>\n",
       "      <td>001690</td>\n",
       "      <td>2000-09-30</td>\n",
       "      <td>037833100</td>\n",
       "      <td>APPLE INC</td>\n",
       "      <td>2000.0</td>\n",
       "      <td>9.0</td>\n",
       "      <td>NaT</td>\n",
       "      <td>NaT</td>\n",
       "      <td>0000320193</td>\n",
       "      <td>6803.0</td>\n",
       "    </tr>\n",
       "    <tr>\n",
       "      <th>21</th>\n",
       "      <td>001690</td>\n",
       "      <td>2001-09-30</td>\n",
       "      <td>037833100</td>\n",
       "      <td>APPLE INC</td>\n",
       "      <td>2001.0</td>\n",
       "      <td>9.0</td>\n",
       "      <td>NaT</td>\n",
       "      <td>NaT</td>\n",
       "      <td>0000320193</td>\n",
       "      <td>6021.0</td>\n",
       "    </tr>\n",
       "    <tr>\n",
       "      <th>22</th>\n",
       "      <td>001690</td>\n",
       "      <td>2001-09-30</td>\n",
       "      <td>037833100</td>\n",
       "      <td>APPLE INC</td>\n",
       "      <td>2001.0</td>\n",
       "      <td>9.0</td>\n",
       "      <td>NaT</td>\n",
       "      <td>NaT</td>\n",
       "      <td>0000320193</td>\n",
       "      <td>NaN</td>\n",
       "    </tr>\n",
       "    <tr>\n",
       "      <th>23</th>\n",
       "      <td>001690</td>\n",
       "      <td>2002-09-30</td>\n",
       "      <td>037833100</td>\n",
       "      <td>APPLE INC</td>\n",
       "      <td>2002.0</td>\n",
       "      <td>9.0</td>\n",
       "      <td>NaT</td>\n",
       "      <td>NaT</td>\n",
       "      <td>0000320193</td>\n",
       "      <td>NaN</td>\n",
       "    </tr>\n",
       "    <tr>\n",
       "      <th>24</th>\n",
       "      <td>001690</td>\n",
       "      <td>2002-09-30</td>\n",
       "      <td>037833100</td>\n",
       "      <td>APPLE INC</td>\n",
       "      <td>2002.0</td>\n",
       "      <td>9.0</td>\n",
       "      <td>NaT</td>\n",
       "      <td>NaT</td>\n",
       "      <td>0000320193</td>\n",
       "      <td>6298.0</td>\n",
       "    </tr>\n",
       "    <tr>\n",
       "      <th>25</th>\n",
       "      <td>001690</td>\n",
       "      <td>2003-09-30</td>\n",
       "      <td>037833100</td>\n",
       "      <td>APPLE INC</td>\n",
       "      <td>2003.0</td>\n",
       "      <td>9.0</td>\n",
       "      <td>NaT</td>\n",
       "      <td>2003-09-27</td>\n",
       "      <td>0000320193</td>\n",
       "      <td>6815.0</td>\n",
       "    </tr>\n",
       "    <tr>\n",
       "      <th>26</th>\n",
       "      <td>001690</td>\n",
       "      <td>2003-09-30</td>\n",
       "      <td>037833100</td>\n",
       "      <td>APPLE INC</td>\n",
       "      <td>2003.0</td>\n",
       "      <td>9.0</td>\n",
       "      <td>NaT</td>\n",
       "      <td>NaT</td>\n",
       "      <td>0000320193</td>\n",
       "      <td>NaN</td>\n",
       "    </tr>\n",
       "    <tr>\n",
       "      <th>27</th>\n",
       "      <td>001690</td>\n",
       "      <td>2004-09-30</td>\n",
       "      <td>037833100</td>\n",
       "      <td>APPLE INC</td>\n",
       "      <td>2004.0</td>\n",
       "      <td>9.0</td>\n",
       "      <td>NaT</td>\n",
       "      <td>2004-09-25</td>\n",
       "      <td>0000320193</td>\n",
       "      <td>8050.0</td>\n",
       "    </tr>\n",
       "    <tr>\n",
       "      <th>28</th>\n",
       "      <td>001690</td>\n",
       "      <td>2004-09-30</td>\n",
       "      <td>037833100</td>\n",
       "      <td>APPLE INC</td>\n",
       "      <td>2004.0</td>\n",
       "      <td>9.0</td>\n",
       "      <td>NaT</td>\n",
       "      <td>NaT</td>\n",
       "      <td>0000320193</td>\n",
       "      <td>NaN</td>\n",
       "    </tr>\n",
       "    <tr>\n",
       "      <th>29</th>\n",
       "      <td>001690</td>\n",
       "      <td>2005-09-30</td>\n",
       "      <td>037833100</td>\n",
       "      <td>APPLE INC</td>\n",
       "      <td>2005.0</td>\n",
       "      <td>9.0</td>\n",
       "      <td>NaT</td>\n",
       "      <td>2005-09-24</td>\n",
       "      <td>0000320193</td>\n",
       "      <td>11551.0</td>\n",
       "    </tr>\n",
       "  </tbody>\n",
       "</table>\n",
       "</div>"
      ],
      "text/plain": [
       "     gvkey   datadate      cusip       conm   fyear  fyr fdate   apdedate  \\\n",
       "20  001690 2000-09-30  037833100  APPLE INC  2000.0  9.0   NaT        NaT   \n",
       "21  001690 2001-09-30  037833100  APPLE INC  2001.0  9.0   NaT        NaT   \n",
       "22  001690 2001-09-30  037833100  APPLE INC  2001.0  9.0   NaT        NaT   \n",
       "23  001690 2002-09-30  037833100  APPLE INC  2002.0  9.0   NaT        NaT   \n",
       "24  001690 2002-09-30  037833100  APPLE INC  2002.0  9.0   NaT        NaT   \n",
       "25  001690 2003-09-30  037833100  APPLE INC  2003.0  9.0   NaT 2003-09-27   \n",
       "26  001690 2003-09-30  037833100  APPLE INC  2003.0  9.0   NaT        NaT   \n",
       "27  001690 2004-09-30  037833100  APPLE INC  2004.0  9.0   NaT 2004-09-25   \n",
       "28  001690 2004-09-30  037833100  APPLE INC  2004.0  9.0   NaT        NaT   \n",
       "29  001690 2005-09-30  037833100  APPLE INC  2005.0  9.0   NaT 2005-09-24   \n",
       "\n",
       "           cik       at  \n",
       "20  0000320193   6803.0  \n",
       "21  0000320193   6021.0  \n",
       "22  0000320193      NaN  \n",
       "23  0000320193      NaN  \n",
       "24  0000320193   6298.0  \n",
       "25  0000320193   6815.0  \n",
       "26  0000320193      NaN  \n",
       "27  0000320193   8050.0  \n",
       "28  0000320193      NaN  \n",
       "29  0000320193  11551.0  "
      ]
     },
     "execution_count": 6,
     "metadata": {},
     "output_type": "execute_result"
    }
   ],
   "source": [
    "compa1[20:30]"
   ]
  },
  {
   "cell_type": "markdown",
   "metadata": {
    "slideshow": {
     "slide_type": "subslide"
    }
   },
   "source": [
    "#### Second Try"
   ]
  },
  {
   "cell_type": "markdown",
   "metadata": {
    "slideshow": {
     "slide_type": "fragment"
    }
   },
   "source": [
    "Compustat Identifiers 1/2:\n",
    "1. GVKEY: Global Company Key (Compustat company identifier)\n",
    "2. DATADATE: Reporting date for a data record in Xpressfeed; \n",
    "    * For example, for annual company data items this item equals the fiscal period end date. For security level data this item equals the trade date for high, low, close prices. This item is a key field used to retrieve specific data records from the database.\n",
    "3. DATAFMT: Data Format Code \n",
    "    * Refer to [Xpressfeed Data Guide](https://w3.loibl.com/uni/xf_understanding_the_data.pdf)\n",
    "    * It is very important for us that the data is Standardized in the same format."
   ]
  },
  {
   "cell_type": "markdown",
   "metadata": {
    "slideshow": {
     "slide_type": "subslide"
    }
   },
   "source": [
    "Compustat Identifiers 2/2:\n",
    "\n",
    "4. POPSRC: Used only for the North American population (POPSRC='D')\n",
    "5. INDFMT: Whether a company reports in a Financial Services or Industrial format.\n",
    "    * *\"This allows you to view a company (such as Aetna) as an industrial company or as a financial serves company with all the associated data items, thus making it easier to dissect a company.\"*\n",
    "6. CONSOL: Company's financial statements represent consolidated or nonconsolidated information.\n",
    "    * In general, we are interested in the consolidated information.\n",
    "    * consol='C'"
   ]
  },
  {
   "cell_type": "markdown",
   "metadata": {
    "slideshow": {
     "slide_type": "subslide"
    }
   },
   "source": [
    "* Look at the Apple example"
   ]
  },
  {
   "cell_type": "code",
   "execution_count": 7,
   "metadata": {
    "slideshow": {
     "slide_type": "fragment"
    }
   },
   "outputs": [],
   "source": [
    "fund_table = 'funda'\n",
    "varlist = ['cusip', 'conm', 'fyear', 'fyr', 'fdate', 'apdedate', 'cik', 'indfmt', 'datafmt', 'popsrc', 'consol','at']\n",
    "query_apple = \"\"\"SELECT gvkey, datadate, {}\n",
    "                 FROM comp.{}\n",
    "                 WHERE GVKEY='001690'\n",
    "                 \"\"\".format(\", \".join(varlist), fund_table)\n",
    "compa2 = db.raw_sql(query_apple, date_cols=['datadate', 'fdate', 'apdedate'])\n",
    "del(fund_table, query_apple)"
   ]
  },
  {
   "cell_type": "code",
   "execution_count": 8,
   "metadata": {},
   "outputs": [
    {
     "data": {
      "text/html": [
       "<div>\n",
       "<style scoped>\n",
       "    .dataframe tbody tr th:only-of-type {\n",
       "        vertical-align: middle;\n",
       "    }\n",
       "\n",
       "    .dataframe tbody tr th {\n",
       "        vertical-align: top;\n",
       "    }\n",
       "\n",
       "    .dataframe thead th {\n",
       "        text-align: right;\n",
       "    }\n",
       "</style>\n",
       "<table border=\"1\" class=\"dataframe\">\n",
       "  <thead>\n",
       "    <tr style=\"text-align: right;\">\n",
       "      <th></th>\n",
       "      <th>gvkey</th>\n",
       "      <th>datadate</th>\n",
       "      <th>cusip</th>\n",
       "      <th>conm</th>\n",
       "      <th>fyear</th>\n",
       "      <th>fyr</th>\n",
       "      <th>fdate</th>\n",
       "      <th>apdedate</th>\n",
       "      <th>cik</th>\n",
       "      <th>indfmt</th>\n",
       "      <th>datafmt</th>\n",
       "      <th>popsrc</th>\n",
       "      <th>consol</th>\n",
       "      <th>at</th>\n",
       "    </tr>\n",
       "  </thead>\n",
       "  <tbody>\n",
       "    <tr>\n",
       "      <th>20</th>\n",
       "      <td>001690</td>\n",
       "      <td>2000-09-30</td>\n",
       "      <td>037833100</td>\n",
       "      <td>APPLE INC</td>\n",
       "      <td>2000.0</td>\n",
       "      <td>9.0</td>\n",
       "      <td>NaT</td>\n",
       "      <td>NaT</td>\n",
       "      <td>0000320193</td>\n",
       "      <td>INDL</td>\n",
       "      <td>STD</td>\n",
       "      <td>D</td>\n",
       "      <td>C</td>\n",
       "      <td>6803.0</td>\n",
       "    </tr>\n",
       "    <tr>\n",
       "      <th>21</th>\n",
       "      <td>001690</td>\n",
       "      <td>2001-09-30</td>\n",
       "      <td>037833100</td>\n",
       "      <td>APPLE INC</td>\n",
       "      <td>2001.0</td>\n",
       "      <td>9.0</td>\n",
       "      <td>NaT</td>\n",
       "      <td>NaT</td>\n",
       "      <td>0000320193</td>\n",
       "      <td>INDL</td>\n",
       "      <td>STD</td>\n",
       "      <td>D</td>\n",
       "      <td>C</td>\n",
       "      <td>6021.0</td>\n",
       "    </tr>\n",
       "    <tr>\n",
       "      <th>22</th>\n",
       "      <td>001690</td>\n",
       "      <td>2001-09-30</td>\n",
       "      <td>037833100</td>\n",
       "      <td>APPLE INC</td>\n",
       "      <td>2001.0</td>\n",
       "      <td>9.0</td>\n",
       "      <td>NaT</td>\n",
       "      <td>NaT</td>\n",
       "      <td>0000320193</td>\n",
       "      <td>INDL</td>\n",
       "      <td>SUMM_STD</td>\n",
       "      <td>D</td>\n",
       "      <td>C</td>\n",
       "      <td>NaN</td>\n",
       "    </tr>\n",
       "    <tr>\n",
       "      <th>23</th>\n",
       "      <td>001690</td>\n",
       "      <td>2002-09-30</td>\n",
       "      <td>037833100</td>\n",
       "      <td>APPLE INC</td>\n",
       "      <td>2002.0</td>\n",
       "      <td>9.0</td>\n",
       "      <td>NaT</td>\n",
       "      <td>NaT</td>\n",
       "      <td>0000320193</td>\n",
       "      <td>INDL</td>\n",
       "      <td>SUMM_STD</td>\n",
       "      <td>D</td>\n",
       "      <td>C</td>\n",
       "      <td>NaN</td>\n",
       "    </tr>\n",
       "    <tr>\n",
       "      <th>24</th>\n",
       "      <td>001690</td>\n",
       "      <td>2002-09-30</td>\n",
       "      <td>037833100</td>\n",
       "      <td>APPLE INC</td>\n",
       "      <td>2002.0</td>\n",
       "      <td>9.0</td>\n",
       "      <td>NaT</td>\n",
       "      <td>NaT</td>\n",
       "      <td>0000320193</td>\n",
       "      <td>INDL</td>\n",
       "      <td>STD</td>\n",
       "      <td>D</td>\n",
       "      <td>C</td>\n",
       "      <td>6298.0</td>\n",
       "    </tr>\n",
       "    <tr>\n",
       "      <th>25</th>\n",
       "      <td>001690</td>\n",
       "      <td>2003-09-30</td>\n",
       "      <td>037833100</td>\n",
       "      <td>APPLE INC</td>\n",
       "      <td>2003.0</td>\n",
       "      <td>9.0</td>\n",
       "      <td>NaT</td>\n",
       "      <td>2003-09-27</td>\n",
       "      <td>0000320193</td>\n",
       "      <td>INDL</td>\n",
       "      <td>STD</td>\n",
       "      <td>D</td>\n",
       "      <td>C</td>\n",
       "      <td>6815.0</td>\n",
       "    </tr>\n",
       "    <tr>\n",
       "      <th>26</th>\n",
       "      <td>001690</td>\n",
       "      <td>2003-09-30</td>\n",
       "      <td>037833100</td>\n",
       "      <td>APPLE INC</td>\n",
       "      <td>2003.0</td>\n",
       "      <td>9.0</td>\n",
       "      <td>NaT</td>\n",
       "      <td>NaT</td>\n",
       "      <td>0000320193</td>\n",
       "      <td>INDL</td>\n",
       "      <td>SUMM_STD</td>\n",
       "      <td>D</td>\n",
       "      <td>C</td>\n",
       "      <td>NaN</td>\n",
       "    </tr>\n",
       "    <tr>\n",
       "      <th>27</th>\n",
       "      <td>001690</td>\n",
       "      <td>2004-09-30</td>\n",
       "      <td>037833100</td>\n",
       "      <td>APPLE INC</td>\n",
       "      <td>2004.0</td>\n",
       "      <td>9.0</td>\n",
       "      <td>NaT</td>\n",
       "      <td>2004-09-25</td>\n",
       "      <td>0000320193</td>\n",
       "      <td>INDL</td>\n",
       "      <td>STD</td>\n",
       "      <td>D</td>\n",
       "      <td>C</td>\n",
       "      <td>8050.0</td>\n",
       "    </tr>\n",
       "    <tr>\n",
       "      <th>28</th>\n",
       "      <td>001690</td>\n",
       "      <td>2004-09-30</td>\n",
       "      <td>037833100</td>\n",
       "      <td>APPLE INC</td>\n",
       "      <td>2004.0</td>\n",
       "      <td>9.0</td>\n",
       "      <td>NaT</td>\n",
       "      <td>NaT</td>\n",
       "      <td>0000320193</td>\n",
       "      <td>INDL</td>\n",
       "      <td>SUMM_STD</td>\n",
       "      <td>D</td>\n",
       "      <td>C</td>\n",
       "      <td>NaN</td>\n",
       "    </tr>\n",
       "    <tr>\n",
       "      <th>29</th>\n",
       "      <td>001690</td>\n",
       "      <td>2005-09-30</td>\n",
       "      <td>037833100</td>\n",
       "      <td>APPLE INC</td>\n",
       "      <td>2005.0</td>\n",
       "      <td>9.0</td>\n",
       "      <td>NaT</td>\n",
       "      <td>2005-09-24</td>\n",
       "      <td>0000320193</td>\n",
       "      <td>INDL</td>\n",
       "      <td>STD</td>\n",
       "      <td>D</td>\n",
       "      <td>C</td>\n",
       "      <td>11551.0</td>\n",
       "    </tr>\n",
       "  </tbody>\n",
       "</table>\n",
       "</div>"
      ],
      "text/plain": [
       "     gvkey   datadate      cusip       conm   fyear  fyr fdate   apdedate  \\\n",
       "20  001690 2000-09-30  037833100  APPLE INC  2000.0  9.0   NaT        NaT   \n",
       "21  001690 2001-09-30  037833100  APPLE INC  2001.0  9.0   NaT        NaT   \n",
       "22  001690 2001-09-30  037833100  APPLE INC  2001.0  9.0   NaT        NaT   \n",
       "23  001690 2002-09-30  037833100  APPLE INC  2002.0  9.0   NaT        NaT   \n",
       "24  001690 2002-09-30  037833100  APPLE INC  2002.0  9.0   NaT        NaT   \n",
       "25  001690 2003-09-30  037833100  APPLE INC  2003.0  9.0   NaT 2003-09-27   \n",
       "26  001690 2003-09-30  037833100  APPLE INC  2003.0  9.0   NaT        NaT   \n",
       "27  001690 2004-09-30  037833100  APPLE INC  2004.0  9.0   NaT 2004-09-25   \n",
       "28  001690 2004-09-30  037833100  APPLE INC  2004.0  9.0   NaT        NaT   \n",
       "29  001690 2005-09-30  037833100  APPLE INC  2005.0  9.0   NaT 2005-09-24   \n",
       "\n",
       "           cik indfmt   datafmt popsrc consol       at  \n",
       "20  0000320193   INDL       STD      D      C   6803.0  \n",
       "21  0000320193   INDL       STD      D      C   6021.0  \n",
       "22  0000320193   INDL  SUMM_STD      D      C      NaN  \n",
       "23  0000320193   INDL  SUMM_STD      D      C      NaN  \n",
       "24  0000320193   INDL       STD      D      C   6298.0  \n",
       "25  0000320193   INDL       STD      D      C   6815.0  \n",
       "26  0000320193   INDL  SUMM_STD      D      C      NaN  \n",
       "27  0000320193   INDL       STD      D      C   8050.0  \n",
       "28  0000320193   INDL  SUMM_STD      D      C      NaN  \n",
       "29  0000320193   INDL       STD      D      C  11551.0  "
      ]
     },
     "execution_count": 8,
     "metadata": {},
     "output_type": "execute_result"
    }
   ],
   "source": [
    "compa2[20:30]"
   ]
  },
  {
   "cell_type": "markdown",
   "metadata": {
    "slideshow": {
     "slide_type": "subslide"
    }
   },
   "source": [
    "* Download only what we need based on [keysets](https://www.crsp.org/products/documentation/keysets)"
   ]
  },
  {
   "cell_type": "code",
   "execution_count": 9,
   "metadata": {
    "slideshow": {
     "slide_type": "fragment"
    }
   },
   "outputs": [],
   "source": [
    "fund_table = 'funda'\n",
    "varlist = ['cusip', 'conm', 'fyear', 'fyr', 'fdate', 'apdedate', 'cik','at']\n",
    "query_apple = \"\"\"SELECT gvkey, datadate, {}\n",
    "                 FROM comp.{}\n",
    "                 WHERE datafmt = 'STD'\n",
    "                 AND popsrc = 'D'\n",
    "                 AND indfmt = 'INDL'\n",
    "                 AND consol = 'C'\n",
    "                 AND GVKEY='001690';\n",
    "                 \"\"\".format(\", \".join(varlist), fund_table)\n",
    "compa3 = db.raw_sql(query_apple, date_cols=['datadate', 'fdate', 'apdedate'])\n",
    "del(fund_table, query_apple)"
   ]
  },
  {
   "cell_type": "markdown",
   "metadata": {
    "slideshow": {
     "slide_type": "subslide"
    }
   },
   "source": [
    "* Always look at your data: plot, plot and plot"
   ]
  },
  {
   "cell_type": "code",
   "execution_count": 12,
   "metadata": {},
   "outputs": [
    {
     "data": {
      "text/html": [
       "<div>\n",
       "<style scoped>\n",
       "    .dataframe tbody tr th:only-of-type {\n",
       "        vertical-align: middle;\n",
       "    }\n",
       "\n",
       "    .dataframe tbody tr th {\n",
       "        vertical-align: top;\n",
       "    }\n",
       "\n",
       "    .dataframe thead th {\n",
       "        text-align: right;\n",
       "    }\n",
       "</style>\n",
       "<table border=\"1\" class=\"dataframe\">\n",
       "  <thead>\n",
       "    <tr style=\"text-align: right;\">\n",
       "      <th></th>\n",
       "      <th>gvkey</th>\n",
       "      <th>datadate</th>\n",
       "      <th>cusip</th>\n",
       "      <th>conm</th>\n",
       "      <th>fyear</th>\n",
       "      <th>fyr</th>\n",
       "      <th>fdate</th>\n",
       "      <th>apdedate</th>\n",
       "      <th>cik</th>\n",
       "      <th>at</th>\n",
       "    </tr>\n",
       "  </thead>\n",
       "  <tbody>\n",
       "    <tr>\n",
       "      <th>20</th>\n",
       "      <td>001690</td>\n",
       "      <td>2000-09-30</td>\n",
       "      <td>037833100</td>\n",
       "      <td>APPLE INC</td>\n",
       "      <td>2000.0</td>\n",
       "      <td>9.0</td>\n",
       "      <td>NaT</td>\n",
       "      <td>NaT</td>\n",
       "      <td>0000320193</td>\n",
       "      <td>6803.0</td>\n",
       "    </tr>\n",
       "    <tr>\n",
       "      <th>21</th>\n",
       "      <td>001690</td>\n",
       "      <td>2001-09-30</td>\n",
       "      <td>037833100</td>\n",
       "      <td>APPLE INC</td>\n",
       "      <td>2001.0</td>\n",
       "      <td>9.0</td>\n",
       "      <td>NaT</td>\n",
       "      <td>NaT</td>\n",
       "      <td>0000320193</td>\n",
       "      <td>6021.0</td>\n",
       "    </tr>\n",
       "    <tr>\n",
       "      <th>22</th>\n",
       "      <td>001690</td>\n",
       "      <td>2002-09-30</td>\n",
       "      <td>037833100</td>\n",
       "      <td>APPLE INC</td>\n",
       "      <td>2002.0</td>\n",
       "      <td>9.0</td>\n",
       "      <td>NaT</td>\n",
       "      <td>NaT</td>\n",
       "      <td>0000320193</td>\n",
       "      <td>6298.0</td>\n",
       "    </tr>\n",
       "    <tr>\n",
       "      <th>23</th>\n",
       "      <td>001690</td>\n",
       "      <td>2003-09-30</td>\n",
       "      <td>037833100</td>\n",
       "      <td>APPLE INC</td>\n",
       "      <td>2003.0</td>\n",
       "      <td>9.0</td>\n",
       "      <td>NaT</td>\n",
       "      <td>2003-09-27</td>\n",
       "      <td>0000320193</td>\n",
       "      <td>6815.0</td>\n",
       "    </tr>\n",
       "    <tr>\n",
       "      <th>24</th>\n",
       "      <td>001690</td>\n",
       "      <td>2004-09-30</td>\n",
       "      <td>037833100</td>\n",
       "      <td>APPLE INC</td>\n",
       "      <td>2004.0</td>\n",
       "      <td>9.0</td>\n",
       "      <td>NaT</td>\n",
       "      <td>2004-09-25</td>\n",
       "      <td>0000320193</td>\n",
       "      <td>8050.0</td>\n",
       "    </tr>\n",
       "    <tr>\n",
       "      <th>25</th>\n",
       "      <td>001690</td>\n",
       "      <td>2005-09-30</td>\n",
       "      <td>037833100</td>\n",
       "      <td>APPLE INC</td>\n",
       "      <td>2005.0</td>\n",
       "      <td>9.0</td>\n",
       "      <td>NaT</td>\n",
       "      <td>2005-09-24</td>\n",
       "      <td>0000320193</td>\n",
       "      <td>11551.0</td>\n",
       "    </tr>\n",
       "    <tr>\n",
       "      <th>26</th>\n",
       "      <td>001690</td>\n",
       "      <td>2006-09-30</td>\n",
       "      <td>037833100</td>\n",
       "      <td>APPLE INC</td>\n",
       "      <td>2006.0</td>\n",
       "      <td>9.0</td>\n",
       "      <td>2007-01-01</td>\n",
       "      <td>2006-09-30</td>\n",
       "      <td>0000320193</td>\n",
       "      <td>17205.0</td>\n",
       "    </tr>\n",
       "    <tr>\n",
       "      <th>27</th>\n",
       "      <td>001690</td>\n",
       "      <td>2007-09-30</td>\n",
       "      <td>037833100</td>\n",
       "      <td>APPLE INC</td>\n",
       "      <td>2007.0</td>\n",
       "      <td>9.0</td>\n",
       "      <td>2007-11-16</td>\n",
       "      <td>2007-09-29</td>\n",
       "      <td>0000320193</td>\n",
       "      <td>25347.0</td>\n",
       "    </tr>\n",
       "    <tr>\n",
       "      <th>28</th>\n",
       "      <td>001690</td>\n",
       "      <td>2008-09-30</td>\n",
       "      <td>037833100</td>\n",
       "      <td>APPLE INC</td>\n",
       "      <td>2008.0</td>\n",
       "      <td>9.0</td>\n",
       "      <td>2008-11-05</td>\n",
       "      <td>2008-09-27</td>\n",
       "      <td>0000320193</td>\n",
       "      <td>39572.0</td>\n",
       "    </tr>\n",
       "    <tr>\n",
       "      <th>29</th>\n",
       "      <td>001690</td>\n",
       "      <td>2009-09-30</td>\n",
       "      <td>037833100</td>\n",
       "      <td>APPLE INC</td>\n",
       "      <td>2009.0</td>\n",
       "      <td>9.0</td>\n",
       "      <td>2009-10-30</td>\n",
       "      <td>2009-09-26</td>\n",
       "      <td>0000320193</td>\n",
       "      <td>47501.0</td>\n",
       "    </tr>\n",
       "  </tbody>\n",
       "</table>\n",
       "</div>"
      ],
      "text/plain": [
       "     gvkey   datadate      cusip       conm   fyear  fyr      fdate  \\\n",
       "20  001690 2000-09-30  037833100  APPLE INC  2000.0  9.0        NaT   \n",
       "21  001690 2001-09-30  037833100  APPLE INC  2001.0  9.0        NaT   \n",
       "22  001690 2002-09-30  037833100  APPLE INC  2002.0  9.0        NaT   \n",
       "23  001690 2003-09-30  037833100  APPLE INC  2003.0  9.0        NaT   \n",
       "24  001690 2004-09-30  037833100  APPLE INC  2004.0  9.0        NaT   \n",
       "25  001690 2005-09-30  037833100  APPLE INC  2005.0  9.0        NaT   \n",
       "26  001690 2006-09-30  037833100  APPLE INC  2006.0  9.0 2007-01-01   \n",
       "27  001690 2007-09-30  037833100  APPLE INC  2007.0  9.0 2007-11-16   \n",
       "28  001690 2008-09-30  037833100  APPLE INC  2008.0  9.0 2008-11-05   \n",
       "29  001690 2009-09-30  037833100  APPLE INC  2009.0  9.0 2009-10-30   \n",
       "\n",
       "     apdedate         cik       at  \n",
       "20        NaT  0000320193   6803.0  \n",
       "21        NaT  0000320193   6021.0  \n",
       "22        NaT  0000320193   6298.0  \n",
       "23 2003-09-27  0000320193   6815.0  \n",
       "24 2004-09-25  0000320193   8050.0  \n",
       "25 2005-09-24  0000320193  11551.0  \n",
       "26 2006-09-30  0000320193  17205.0  \n",
       "27 2007-09-29  0000320193  25347.0  \n",
       "28 2008-09-27  0000320193  39572.0  \n",
       "29 2009-09-26  0000320193  47501.0  "
      ]
     },
     "execution_count": 12,
     "metadata": {},
     "output_type": "execute_result"
    }
   ],
   "source": [
    "compa3[20:30]"
   ]
  },
  {
   "cell_type": "code",
   "execution_count": 10,
   "metadata": {
    "scrolled": true,
    "slideshow": {
     "slide_type": "fragment"
    }
   },
   "outputs": [
    {
     "data": {
      "text/plain": [
       "<AxesSubplot:title={'center':'Apple Total Assets'}, xlabel='fyear'>"
      ]
     },
     "execution_count": 10,
     "metadata": {},
     "output_type": "execute_result"
    },
    {
     "data": {
      "image/png": "[encoded data removed]",
      "text/plain": [
       "<Figure size 432x288 with 1 Axes>"
      ]
     },
     "metadata": {
      "needs_background": "light"
     },
     "output_type": "display_data"
    }
   ],
   "source": [
    "%matplotlib inline\n",
    "compa3.set_index('fyear')['at'].plot(title='Apple Total Assets', grid=True)"
   ]
  },
  {
   "cell_type": "markdown",
   "metadata": {
    "slideshow": {
     "slide_type": "slide"
    }
   },
   "source": [
    "## Good Habit in Research\n",
    "\n",
    "* Make your paper replicable \n",
    "    * Always write a data appendix\n",
    "    \n",
    "* Make sure that you can replicate your own work\n",
    "    * Always write a data appendix\n",
    "    * Comment your code\n"
   ]
  }
 ],
 "metadata": {
  "celltoolbar": "Slideshow",
  "kernelspec": {
   "display_name": "Python 3 (ipykernel)",
   "language": "python",
   "name": "python3"
  },
  "language_info": {
   "codemirror_mode": {
    "name": "ipython",
    "version": 3
   },
   "file_extension": ".py",
   "mimetype": "text/x-python",
   "name": "python",
   "nbconvert_exporter": "python",
   "pygments_lexer": "ipython3",
   "version": "3.8.12"
  },
  "toc": {
   "base_numbering": 1,
   "nav_menu": {
    "height": "395.994px",
    "width": "289.981px"
   },
   "number_sections": true,
   "sideBar": true,
   "skip_h1_title": true,
   "title_cell": "Table of Contents",
   "title_sidebar": "Contents",
   "toc_cell": true,
   "toc_position": {
    "height": "1000px",
    "left": "2048px",
    "top": "133px",
    "width": "512px"
   },
   "toc_section_display": true,
   "toc_window_display": false
  }
 },
 "nbformat": 4,
 "nbformat_minor": 4
}
