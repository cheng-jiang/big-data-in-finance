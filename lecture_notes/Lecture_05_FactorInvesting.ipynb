{
 "cells": [
  {
   "cell_type": "markdown",
   "metadata": {
    "slideshow": {
     "slide_type": "skip"
    },
    "toc": true
   },
   "source": [
    "<h1>Table of Contents<span class=\"tocSkip\"></span></h1>\n",
    "<div class=\"toc\"><ul class=\"toc-item\"><li><span><a href=\"#...-and-the-Cross-Section-of-Expected-Returns\" data-toc-modified-id=\"...-and-the-Cross-Section-of-Expected-Returns-1\"><span class=\"toc-item-num\">1&nbsp;&nbsp;</span>... and the Cross-Section of Expected Returns</a></span></li><li><span><a href=\"#Plan-for-Today\" data-toc-modified-id=\"Plan-for-Today-2\"><span class=\"toc-item-num\">2&nbsp;&nbsp;</span>Plan for Today</a></span></li><li><span><a href=\"#Prepare-the-Data\" data-toc-modified-id=\"Prepare-the-Data-3\"><span class=\"toc-item-num\">3&nbsp;&nbsp;</span>Prepare the Data</a></span><ul class=\"toc-item\"><li><span><a href=\"#Share-type---select-only-common-stocks\" data-toc-modified-id=\"Share-type---select-only-common-stocks-3.1\"><span class=\"toc-item-num\">3.1&nbsp;&nbsp;</span>Share type - select only common stocks</a></span></li><li><span><a href=\"#Select-stocks-traded-on-the-major-stock-exchanges\" data-toc-modified-id=\"Select-stocks-traded-on-the-major-stock-exchanges-3.2\"><span class=\"toc-item-num\">3.2&nbsp;&nbsp;</span>Select stocks traded on the major stock exchanges</a></span></li><li><span><a href=\"#Delete-missing-returns\" data-toc-modified-id=\"Delete-missing-returns-3.3\"><span class=\"toc-item-num\">3.3&nbsp;&nbsp;</span>Delete missing returns</a></span></li><li><span><a href=\"#Merge-data\" data-toc-modified-id=\"Merge-data-3.4\"><span class=\"toc-item-num\">3.4&nbsp;&nbsp;</span>Merge data</a></span></li><li><span><a href=\"#Data-Summary\" data-toc-modified-id=\"Data-Summary-3.5\"><span class=\"toc-item-num\">3.5&nbsp;&nbsp;</span>Data Summary</a></span></li></ul></li><li><span><a href=\"#Forcasting-Future-Excess-Returns\" data-toc-modified-id=\"Forcasting-Future-Excess-Returns-4\"><span class=\"toc-item-num\">4&nbsp;&nbsp;</span>Forcasting Future Excess Returns</a></span><ul class=\"toc-item\"><li><span><a href=\"#Fama-MacBeth-Regression\" data-toc-modified-id=\"Fama-MacBeth-Regression-4.1\"><span class=\"toc-item-num\">4.1&nbsp;&nbsp;</span>Fama-MacBeth Regression</a></span></li><li><span><a href=\"#Does-BEME-forcast-future-returns?\" data-toc-modified-id=\"Does-BEME-forcast-future-returns?-4.2\"><span class=\"toc-item-num\">4.2&nbsp;&nbsp;</span>Does BEME forcast future returns?</a></span><ul class=\"toc-item\"><li><span><a href=\"#What-is-the-problem?\" data-toc-modified-id=\"What-is-the-problem?-4.2.1\"><span class=\"toc-item-num\">4.2.1&nbsp;&nbsp;</span>What is the problem?</a></span></li><li><span><a href=\"#Try-to-run-the-FM-regression-again!\" data-toc-modified-id=\"Try-to-run-the-FM-regression-again!-4.2.2\"><span class=\"toc-item-num\">4.2.2&nbsp;&nbsp;</span>Try to run the FM regression again!</a></span></li><li><span><a href=\"#Is-Value-dead?\" data-toc-modified-id=\"Is-Value-dead?-4.2.3\"><span class=\"toc-item-num\">4.2.3&nbsp;&nbsp;</span>Is Value dead?</a></span></li></ul></li><li><span><a href=\"#Does-size-forcast-future-returns?\" data-toc-modified-id=\"Does-size-forcast-future-returns?-4.3\"><span class=\"toc-item-num\">4.3&nbsp;&nbsp;</span>Does size forcast future returns?</a></span><ul class=\"toc-item\"><li><span><a href=\"#What-happened-to-Size-factor?\" data-toc-modified-id=\"What-happened-to-Size-factor?-4.3.1\"><span class=\"toc-item-num\">4.3.1&nbsp;&nbsp;</span>What happened to Size factor?</a></span></li></ul></li><li><span><a href=\"#What-about-Fama-and-French-2015?\" data-toc-modified-id=\"What-about-Fama-and-French-2015?-4.4\"><span class=\"toc-item-num\">4.4&nbsp;&nbsp;</span>What about Fama and French 2015?</a></span></li></ul></li><li><span><a href=\"#Long-short-portfolio\" data-toc-modified-id=\"Long-short-portfolio-5\"><span class=\"toc-item-num\">5&nbsp;&nbsp;</span>Long-short portfolio</a></span><ul class=\"toc-item\"><li><span><a href=\"#How-to-Construct-a-``Factor&quot;?\" data-toc-modified-id=\"How-to-Construct-a-``Factor&quot;?-5.1\"><span class=\"toc-item-num\">5.1&nbsp;&nbsp;</span>How to Construct a ``Factor\"?</a></span></li><li><span><a href=\"#Sort-Portfolio\" data-toc-modified-id=\"Sort-Portfolio-5.2\"><span class=\"toc-item-num\">5.2&nbsp;&nbsp;</span>Sort Portfolio</a></span></li><li><span><a href=\"#Merge-data\" data-toc-modified-id=\"Merge-data-5.3\"><span class=\"toc-item-num\">5.3&nbsp;&nbsp;</span>Merge data</a></span></li><li><span><a href=\"#Calculate-returns\" data-toc-modified-id=\"Calculate-returns-5.4\"><span class=\"toc-item-num\">5.4&nbsp;&nbsp;</span>Calculate returns</a></span></li><li><span><a href=\"#Average-Returns\" data-toc-modified-id=\"Average-Returns-5.5\"><span class=\"toc-item-num\">5.5&nbsp;&nbsp;</span>Average Returns</a></span></li><li><span><a href=\"#Compare-Sharpe-ratio\" data-toc-modified-id=\"Compare-Sharpe-ratio-5.6\"><span class=\"toc-item-num\">5.6&nbsp;&nbsp;</span>Compare Sharpe-ratio</a></span></li></ul></li></ul></div>"
   ]
  },
  {
   "cell_type": "markdown",
   "metadata": {
    "slideshow": {
     "slide_type": "slide"
    }
   },
   "source": [
    "# Big Data in Finance: Part II <BR><BR> Lecture 5: Factor Investing\n",
    "   \n",
    "**Instructor** <BR>\n",
    "Ritt Keerati, ritt.keerati@gsb.columbia.edu\n",
    "    \n",
    "**TA's:** <BR>\n",
    "Meha Sadasivam, MSadasivam21@gsb.columbia.edu <BR>\n",
    "Daheng Yang, dyang22@gsb.columbia.edu <BR>\n",
    "\n",
    "\n",
    "<sub> Credit: lecture notes originally developed by Lira Mota"
   ]
  },
  {
   "cell_type": "markdown",
   "metadata": {
    "slideshow": {
     "slide_type": "slide"
    }
   },
   "source": [
    "## ... and the Cross-Section of Expected Returns"
   ]
  },
  {
   "cell_type": "markdown",
   "metadata": {
    "slideshow": {
     "slide_type": "fragment"
    }
   },
   "source": [
    "1. [Harvey, Liu and Zhu (RFS, 2016)](https://academic.oup.com/rfs/article/29/1/5/1843824)\n",
    "    1. \"Hundreds of papers and factors attempt to explain the cross-section of expected returns.\"\n",
    "    2. They [list 313 papers](http://faculty.fuqua.duke.edu/~charvey/Factor-List.xlsx) published in a selection of journals that study cross-sectional return patterns"
   ]
  },
  {
   "cell_type": "markdown",
   "metadata": {
    "slideshow": {
     "slide_type": "fragment"
    }
   },
   "source": [
    "2. The majority of those papers goes: \n",
    "    1. We show that stocks with high value of $x$ on average outperform stocks with low value of $x$.\n",
    "    2. Is it robust? Run a Fama-MacBeth regression;\n",
    "    3. Is it explained by risk? Form a long-short portfolio based on the new characteristic sort. Test if this portfolio earns an \"alpha\" with respect the benchmark model."
   ]
  },
  {
   "cell_type": "markdown",
   "metadata": {
    "slideshow": {
     "slide_type": "slide"
    }
   },
   "source": [
    "## Plan for Today"
   ]
  },
  {
   "cell_type": "markdown",
   "metadata": {
    "slideshow": {
     "slide_type": "fragment"
    }
   },
   "source": [
    "1. Study the mom vs. short-term reversal strategies\n",
    "2. Fama-MacBeth regression\n",
    "3. Alpha evaluation"
   ]
  },
  {
   "cell_type": "markdown",
   "metadata": {
    "slideshow": {
     "slide_type": "subslide"
    }
   },
   "source": [
    "**Setup**"
   ]
  },
  {
   "cell_type": "code",
   "execution_count": 1,
   "metadata": {
    "slideshow": {
     "slide_type": "fragment"
    }
   },
   "outputs": [],
   "source": [
    "%matplotlib inline \n",
    "\n",
    "# Packages \n",
    "import sys\n",
    "import pandas as pd\n",
    "import numpy as np\n",
    "import datetime\n",
    "\n",
    "import statsmodels.api as sm\n",
    "import statsmodels.formula.api as smf\n",
    "\n",
    "import matplotlib.pyplot as plt\n",
    "\n",
    "import time\n",
    "from time import strptime, strftime\n",
    "\n",
    "# Setup\n",
    "pd.set_option(\"display.max_rows\", 100) # max number or rows to be displayed \n",
    "plt.rcParams['figure.figsize'] = [10, 6]\n",
    "idx = pd.IndexSlice # for multi-index slicing"
   ]
  },
  {
   "cell_type": "markdown",
   "metadata": {
    "slideshow": {
     "slide_type": "subslide"
    }
   },
   "source": [
    "**(FI)nance (RE)search Python Tools: fire_pytools**\n",
    "\n",
    "* To make our lives easier, we will use a fire_pytools package.\n",
    "\n",
    "* Written by our alumni, Lira Mota\n",
    "    - Download the package [here](https://bitbucket.org/liramota/fire_pytools/src)\n",
    "\n",
    "* This is a collection of useful functions in finance research.\n",
    "    - Direct download of CRSP and Compustat from WRDS server\n",
    "    - Direct download of Ken French data library\n",
    "    - Portfolio sorts tools\n",
    "    - Replicate Fama and French factors"
   ]
  },
  {
   "cell_type": "code",
   "execution_count": 2,
   "metadata": {
    "slideshow": {
     "slide_type": "subslide"
    }
   },
   "outputs": [],
   "source": [
    "# Packages from fire_pytools\n",
    "sys.path.append(\"/Users/rk2941/Dropbox/courses/big_data_2022/fire_pytools\")\n",
    "\n",
    "# Data Import\n",
    "from data_setup import stock_monthly\n",
    "from data_setup import stock_annual\n",
    "\n",
    "# Functions \n",
    "from utils.monthly_date import *\n",
    "from portools.find_breakpoints import find_breakpoints\n",
    "from portools.sort_portfolios import sort_portfolios\n",
    "from import_kf.kf_factors import *\n",
    "\n",
    "import warnings\n",
    "warnings.filterwarnings('ignore')"
   ]
  },
  {
   "cell_type": "markdown",
   "metadata": {
    "slideshow": {
     "slide_type": "subslide"
    }
   },
   "source": [
    "**Download Data**"
   ]
  },
  {
   "cell_type": "code",
   "execution_count": 3,
   "metadata": {
    "slideshow": {
     "slide_type": "fragment"
    }
   },
   "outputs": [],
   "source": [
    "#mdata = stock_monthly.main()\n",
    "#mdata.to_pickle('/Users/rk2941/Dropbox/courses/big_data_2022/data/stock_monthly.pkl')\n",
    "mdata = pd.read_pickle('/Users/rk2941/Dropbox/courses/big_data_2022/data/stock_monthly.pkl')"
   ]
  },
  {
   "cell_type": "code",
   "execution_count": 4,
   "metadata": {
    "slideshow": {
     "slide_type": "fragment"
    }
   },
   "outputs": [],
   "source": [
    "#adata = stock_annual.main()\n",
    "#adata.to_pickle('/Users/rk2941/Dropbox/courses/big_data_2022/data/stock_annual.pkl')\n",
    "adata = pd.read_pickle('/Users/rk2941/Dropbox/courses/big_data_2022/data/stock_annual.pkl')"
   ]
  },
  {
   "cell_type": "code",
   "execution_count": 5,
   "metadata": {
    "slideshow": {
     "slide_type": "fragment"
    }
   },
   "outputs": [],
   "source": [
    "# Create excess returns\n",
    "mdata['exret'] = mdata['retadj'] - mdata['rf']"
   ]
  },
  {
   "cell_type": "markdown",
   "metadata": {
    "slideshow": {
     "slide_type": "slide"
    }
   },
   "source": [
    "## Prepare the Data"
   ]
  },
  {
   "cell_type": "markdown",
   "metadata": {
    "slideshow": {
     "slide_type": "subslide"
    }
   },
   "source": [
    "### Share type - select only common stocks \n",
    "\n",
    "**First Digit - Security Type** <BR>\n",
    "1\tOrdinary Common Shares <BR>\n",
    "2\tCertificates <BR>\n",
    "3\tADRs (American Depository Receipts) <BR>\n",
    "4\tSBIs (Shares of Beneficial Interest) <BR>\n",
    "7\tUnits (Depository Units, Units of Benefic ial Interest, Units of Limited Partnership Interest, Depository Receipts, etc.) <BR>\n",
    "\n",
    "**Second Digit - Share Code - Security Type** <BR>\n",
    "0\tSecurities which have not been further defined. <BR>\n",
    "1\tSecurities which need not be further defined. <BR>\n",
    "2\tCompanies incorporated outside the US <BR>\n",
    "3\tAmericus Trust Components (Primes and Scores). <BR>\n",
    "4\tClosed-end funds. <BR>\n",
    "5\tClosed-end fund companies incorporated outside the US <BR>\n",
    "8\tREIT's (Real Estate Investment Trusts). <BR>"
   ]
  },
  {
   "cell_type": "code",
   "execution_count": 6,
   "metadata": {
    "slideshow": {
     "slide_type": "subslide"
    }
   },
   "outputs": [
    {
     "data": {
      "text/plain": [
       "0.7770168796435237"
      ]
     },
     "execution_count": 6,
     "metadata": {},
     "output_type": "execute_result"
    }
   ],
   "source": [
    "mdata.shrcd.isin([10, 11]).mean()"
   ]
  },
  {
   "cell_type": "code",
   "execution_count": 7,
   "metadata": {
    "slideshow": {
     "slide_type": "fragment"
    }
   },
   "outputs": [],
   "source": [
    "mdata = mdata[mdata.shrcd.isin([10, 11])]"
   ]
  },
  {
   "cell_type": "markdown",
   "metadata": {
    "slideshow": {
     "slide_type": "subslide"
    }
   },
   "source": [
    "### Select stocks traded on the major stock exchanges\n",
    "\n",
    "-2\tHalted by the NYSE or AMEX <BR>\n",
    "-1\tSuspended by the NYSE, AMEX, or NASDAQ <BR>\n",
    "0\tNot Trading on NYSE, AMEX, or NASDAQ <BR>\n",
    "1\tNew York Stock Exchange <BR>\n",
    "2\tAmerican Stock Exchange <BR>\n",
    "3\tThe Nasdaq Stock Market(SM) <BR>\n",
    "4\tThe Arca Stock Market(SM) <BR>\n",
    "5\tMutual Funds (As Quoted by NASDAQ) <BR>\n",
    "10\tBoston Stock Exchange <BR>\n",
    "13\tChicago Stock Exchange <BR>\n",
    "16\tPacific Stock Exchange <BR>\n",
    "17\tPhiladelphia Stock Exchange <BR>\n",
    "19\tToronto Stock Exchange <BR>\n",
    "20\tOver-The-Counter (Non-NASDAQ Dealer Quotations) <BR>\n",
    "31\tWhen-issued trading on the NYSE <BR>\n",
    "32\tWhen-issued trading on the AMEX <BR>\n",
    "33\tWhen-issued trading on The NASDAQ <BR>"
   ]
  },
  {
   "cell_type": "code",
   "execution_count": 8,
   "metadata": {
    "slideshow": {
     "slide_type": "subslide"
    }
   },
   "outputs": [
    {
     "data": {
      "text/plain": [
       "0.9840388710005863"
      ]
     },
     "execution_count": 8,
     "metadata": {},
     "output_type": "execute_result"
    }
   ],
   "source": [
    "mdata.exchcd.isin([1, 2, 3]).mean()"
   ]
  },
  {
   "cell_type": "code",
   "execution_count": 9,
   "metadata": {
    "slideshow": {
     "slide_type": "fragment"
    }
   },
   "outputs": [],
   "source": [
    "mdata = mdata[mdata.exchcd.isin([1, 2, 3])]"
   ]
  },
  {
   "cell_type": "markdown",
   "metadata": {
    "slideshow": {
     "slide_type": "subslide"
    }
   },
   "source": [
    "### Delete missing returns"
   ]
  },
  {
   "cell_type": "code",
   "execution_count": 10,
   "metadata": {
    "slideshow": {
     "slide_type": "fragment"
    }
   },
   "outputs": [],
   "source": [
    "mdata = mdata[mdata['exret'].notnull()]\n",
    "mdata = mdata[mdata['lag_me'].notnull()]"
   ]
  },
  {
   "cell_type": "markdown",
   "metadata": {
    "slideshow": {
     "slide_type": "subslide"
    }
   },
   "source": [
    "### Merge data"
   ]
  },
  {
   "cell_type": "code",
   "execution_count": 11,
   "metadata": {
    "slideshow": {
     "slide_type": "fragment"
    }
   },
   "outputs": [
    {
     "data": {
      "text/html": [
       "<div>\n",
       "<style scoped>\n",
       "    .dataframe tbody tr th:only-of-type {\n",
       "        vertical-align: middle;\n",
       "    }\n",
       "\n",
       "    .dataframe tbody tr th {\n",
       "        vertical-align: top;\n",
       "    }\n",
       "\n",
       "    .dataframe thead th {\n",
       "        text-align: right;\n",
       "    }\n",
       "</style>\n",
       "<table border=\"1\" class=\"dataframe\">\n",
       "  <thead>\n",
       "    <tr style=\"text-align: right;\">\n",
       "      <th></th>\n",
       "      <th>permno</th>\n",
       "      <th>gvkey</th>\n",
       "      <th>tic</th>\n",
       "      <th>fyear</th>\n",
       "      <th>datadate</th>\n",
       "      <th>rankyear</th>\n",
       "      <th>beme</th>\n",
       "    </tr>\n",
       "  </thead>\n",
       "  <tbody>\n",
       "    <tr>\n",
       "      <th>52889</th>\n",
       "      <td>14593</td>\n",
       "      <td>001690</td>\n",
       "      <td>AAPL</td>\n",
       "      <td>2012.0</td>\n",
       "      <td>2012-09-30</td>\n",
       "      <td>2013.0</td>\n",
       "      <td>0.000237</td>\n",
       "    </tr>\n",
       "    <tr>\n",
       "      <th>52890</th>\n",
       "      <td>14593</td>\n",
       "      <td>001690</td>\n",
       "      <td>AAPL</td>\n",
       "      <td>2013.0</td>\n",
       "      <td>2013-09-30</td>\n",
       "      <td>2014.0</td>\n",
       "      <td>0.000247</td>\n",
       "    </tr>\n",
       "    <tr>\n",
       "      <th>52891</th>\n",
       "      <td>14593</td>\n",
       "      <td>001690</td>\n",
       "      <td>AAPL</td>\n",
       "      <td>2014.0</td>\n",
       "      <td>2014-09-30</td>\n",
       "      <td>2015.0</td>\n",
       "      <td>0.000173</td>\n",
       "    </tr>\n",
       "    <tr>\n",
       "      <th>52892</th>\n",
       "      <td>14593</td>\n",
       "      <td>001690</td>\n",
       "      <td>AAPL</td>\n",
       "      <td>2015.0</td>\n",
       "      <td>2015-09-30</td>\n",
       "      <td>2016.0</td>\n",
       "      <td>0.000205</td>\n",
       "    </tr>\n",
       "    <tr>\n",
       "      <th>52893</th>\n",
       "      <td>14593</td>\n",
       "      <td>001690</td>\n",
       "      <td>AAPL</td>\n",
       "      <td>2016.0</td>\n",
       "      <td>2016-09-30</td>\n",
       "      <td>2017.0</td>\n",
       "      <td>0.000211</td>\n",
       "    </tr>\n",
       "    <tr>\n",
       "      <th>52894</th>\n",
       "      <td>14593</td>\n",
       "      <td>001690</td>\n",
       "      <td>AAPL</td>\n",
       "      <td>2017.0</td>\n",
       "      <td>2017-09-30</td>\n",
       "      <td>2018.0</td>\n",
       "      <td>0.000156</td>\n",
       "    </tr>\n",
       "    <tr>\n",
       "      <th>52895</th>\n",
       "      <td>14593</td>\n",
       "      <td>001690</td>\n",
       "      <td>AAPL</td>\n",
       "      <td>2018.0</td>\n",
       "      <td>2018-09-30</td>\n",
       "      <td>2019.0</td>\n",
       "      <td>0.000144</td>\n",
       "    </tr>\n",
       "    <tr>\n",
       "      <th>52896</th>\n",
       "      <td>14593</td>\n",
       "      <td>001690</td>\n",
       "      <td>AAPL</td>\n",
       "      <td>2019.0</td>\n",
       "      <td>2019-09-30</td>\n",
       "      <td>2020.0</td>\n",
       "      <td>0.000070</td>\n",
       "    </tr>\n",
       "    <tr>\n",
       "      <th>52897</th>\n",
       "      <td>14593</td>\n",
       "      <td>001690</td>\n",
       "      <td>AAPL</td>\n",
       "      <td>2020.0</td>\n",
       "      <td>2020-09-30</td>\n",
       "      <td>2021.0</td>\n",
       "      <td>0.000029</td>\n",
       "    </tr>\n",
       "    <tr>\n",
       "      <th>52898</th>\n",
       "      <td>14593</td>\n",
       "      <td>001690</td>\n",
       "      <td>AAPL</td>\n",
       "      <td>2021.0</td>\n",
       "      <td>2021-09-30</td>\n",
       "      <td>2022.0</td>\n",
       "      <td>0.000022</td>\n",
       "    </tr>\n",
       "  </tbody>\n",
       "</table>\n",
       "</div>"
      ],
      "text/plain": [
       "       permno   gvkey   tic   fyear   datadate  rankyear      beme\n",
       "52889   14593  001690  AAPL  2012.0 2012-09-30    2013.0  0.000237\n",
       "52890   14593  001690  AAPL  2013.0 2013-09-30    2014.0  0.000247\n",
       "52891   14593  001690  AAPL  2014.0 2014-09-30    2015.0  0.000173\n",
       "52892   14593  001690  AAPL  2015.0 2015-09-30    2016.0  0.000205\n",
       "52893   14593  001690  AAPL  2016.0 2016-09-30    2017.0  0.000211\n",
       "52894   14593  001690  AAPL  2017.0 2017-09-30    2018.0  0.000156\n",
       "52895   14593  001690  AAPL  2018.0 2018-09-30    2019.0  0.000144\n",
       "52896   14593  001690  AAPL  2019.0 2019-09-30    2020.0  0.000070\n",
       "52897   14593  001690  AAPL  2020.0 2020-09-30    2021.0  0.000029\n",
       "52898   14593  001690  AAPL  2021.0 2021-09-30    2022.0  0.000022"
      ]
     },
     "execution_count": 11,
     "metadata": {},
     "output_type": "execute_result"
    }
   ],
   "source": [
    "# Example: APPLE\n",
    "adata[['permno', 'gvkey', 'tic', 'fyear', 'datadate', 'rankyear', 'beme']][adata.permno==14593].tail(10)"
   ]
  },
  {
   "cell_type": "code",
   "execution_count": 12,
   "metadata": {
    "slideshow": {
     "slide_type": "skip"
    }
   },
   "outputs": [
    {
     "data": {
      "text/html": [
       "<div>\n",
       "<style scoped>\n",
       "    .dataframe tbody tr th:only-of-type {\n",
       "        vertical-align: middle;\n",
       "    }\n",
       "\n",
       "    .dataframe tbody tr th {\n",
       "        vertical-align: top;\n",
       "    }\n",
       "\n",
       "    .dataframe thead th {\n",
       "        text-align: right;\n",
       "    }\n",
       "</style>\n",
       "<table border=\"1\" class=\"dataframe\">\n",
       "  <thead>\n",
       "    <tr style=\"text-align: right;\">\n",
       "      <th></th>\n",
       "      <th>permno</th>\n",
       "      <th>date</th>\n",
       "      <th>exret</th>\n",
       "    </tr>\n",
       "  </thead>\n",
       "  <tbody>\n",
       "    <tr>\n",
       "      <th>616766</th>\n",
       "      <td>14593</td>\n",
       "      <td>1981-01-30</td>\n",
       "      <td>-0.179975</td>\n",
       "    </tr>\n",
       "    <tr>\n",
       "      <th>616767</th>\n",
       "      <td>14593</td>\n",
       "      <td>1981-02-27</td>\n",
       "      <td>-0.072359</td>\n",
       "    </tr>\n",
       "    <tr>\n",
       "      <th>616768</th>\n",
       "      <td>14593</td>\n",
       "      <td>1981-03-31</td>\n",
       "      <td>-0.088274</td>\n",
       "    </tr>\n",
       "    <tr>\n",
       "      <th>616769</th>\n",
       "      <td>14593</td>\n",
       "      <td>1981-04-30</td>\n",
       "      <td>0.146604</td>\n",
       "    </tr>\n",
       "    <tr>\n",
       "      <th>616770</th>\n",
       "      <td>14593</td>\n",
       "      <td>1981-05-29</td>\n",
       "      <td>0.153828</td>\n",
       "    </tr>\n",
       "    <tr>\n",
       "      <th>...</th>\n",
       "      <td>...</td>\n",
       "      <td>...</td>\n",
       "      <td>...</td>\n",
       "    </tr>\n",
       "    <tr>\n",
       "      <th>617253</th>\n",
       "      <td>14593</td>\n",
       "      <td>2021-08-31</td>\n",
       "      <td>0.042389</td>\n",
       "    </tr>\n",
       "    <tr>\n",
       "      <th>617254</th>\n",
       "      <td>14593</td>\n",
       "      <td>2021-09-30</td>\n",
       "      <td>-0.068070</td>\n",
       "    </tr>\n",
       "    <tr>\n",
       "      <th>617255</th>\n",
       "      <td>14593</td>\n",
       "      <td>2021-10-29</td>\n",
       "      <td>0.058620</td>\n",
       "    </tr>\n",
       "    <tr>\n",
       "      <th>617256</th>\n",
       "      <td>14593</td>\n",
       "      <td>2021-11-30</td>\n",
       "      <td>0.104896</td>\n",
       "    </tr>\n",
       "    <tr>\n",
       "      <th>617257</th>\n",
       "      <td>14593</td>\n",
       "      <td>2021-12-31</td>\n",
       "      <td>0.074162</td>\n",
       "    </tr>\n",
       "  </tbody>\n",
       "</table>\n",
       "<p>492 rows × 3 columns</p>\n",
       "</div>"
      ],
      "text/plain": [
       "        permno       date     exret\n",
       "616766   14593 1981-01-30 -0.179975\n",
       "616767   14593 1981-02-27 -0.072359\n",
       "616768   14593 1981-03-31 -0.088274\n",
       "616769   14593 1981-04-30  0.146604\n",
       "616770   14593 1981-05-29  0.153828\n",
       "...        ...        ...       ...\n",
       "617253   14593 2021-08-31  0.042389\n",
       "617254   14593 2021-09-30 -0.068070\n",
       "617255   14593 2021-10-29  0.058620\n",
       "617256   14593 2021-11-30  0.104896\n",
       "617257   14593 2021-12-31  0.074162\n",
       "\n",
       "[492 rows x 3 columns]"
      ]
     },
     "execution_count": 12,
     "metadata": {},
     "output_type": "execute_result"
    }
   ],
   "source": [
    "mdata[mdata.permno==14593][['permno', 'date', 'exret']]"
   ]
  },
  {
   "cell_type": "markdown",
   "metadata": {
    "slideshow": {
     "slide_type": "subslide"
    }
   },
   "source": [
    "Our objective: find stock characteristics that forecast **FUTURE** returns. <BR><BR>\n",
    "$$r_{i,t+1} = \\alpha + \\beta c_{i,t} + \\varepsilon_{i,t+1} $$\n"
   ]
  },
  {
   "cell_type": "code",
   "execution_count": 13,
   "metadata": {
    "slideshow": {
     "slide_type": "subslide"
    }
   },
   "outputs": [],
   "source": [
    "# Portfolios are rebalanced in the end of june\n",
    "mdata['rankyear'] = mdata.date.dt.year\n",
    "mdata.loc[mdata.date.dt.month <= 6, 'rankyear'] = mdata.loc[mdata.date.dt.month <= 6, 'rankyear'] - 1"
   ]
  },
  {
   "cell_type": "code",
   "execution_count": 14,
   "metadata": {
    "slideshow": {
     "slide_type": "fragment"
    }
   },
   "outputs": [
    {
     "data": {
      "text/html": [
       "<div>\n",
       "<style scoped>\n",
       "    .dataframe tbody tr th:only-of-type {\n",
       "        vertical-align: middle;\n",
       "    }\n",
       "\n",
       "    .dataframe tbody tr th {\n",
       "        vertical-align: top;\n",
       "    }\n",
       "\n",
       "    .dataframe thead th {\n",
       "        text-align: right;\n",
       "    }\n",
       "</style>\n",
       "<table border=\"1\" class=\"dataframe\">\n",
       "  <thead>\n",
       "    <tr style=\"text-align: right;\">\n",
       "      <th></th>\n",
       "      <th>permno</th>\n",
       "      <th>date</th>\n",
       "      <th>rankyear</th>\n",
       "      <th>exchcd</th>\n",
       "      <th>exret</th>\n",
       "      <th>lag_me</th>\n",
       "    </tr>\n",
       "  </thead>\n",
       "  <tbody>\n",
       "    <tr>\n",
       "      <th>616766</th>\n",
       "      <td>14593</td>\n",
       "      <td>1981-01-30</td>\n",
       "      <td>1980</td>\n",
       "      <td>3.0</td>\n",
       "      <td>-0.179975</td>\n",
       "      <td>1.884962e+03</td>\n",
       "    </tr>\n",
       "    <tr>\n",
       "      <th>616767</th>\n",
       "      <td>14593</td>\n",
       "      <td>1981-02-27</td>\n",
       "      <td>1980</td>\n",
       "      <td>3.0</td>\n",
       "      <td>-0.072359</td>\n",
       "      <td>1.564484e+03</td>\n",
       "    </tr>\n",
       "    <tr>\n",
       "      <th>616768</th>\n",
       "      <td>14593</td>\n",
       "      <td>1981-03-31</td>\n",
       "      <td>1980</td>\n",
       "      <td>3.0</td>\n",
       "      <td>-0.088274</td>\n",
       "      <td>1.467996e+03</td>\n",
       "    </tr>\n",
       "    <tr>\n",
       "      <th>616769</th>\n",
       "      <td>14593</td>\n",
       "      <td>1981-04-30</td>\n",
       "      <td>1980</td>\n",
       "      <td>3.0</td>\n",
       "      <td>0.146604</td>\n",
       "      <td>1.357724e+03</td>\n",
       "    </tr>\n",
       "    <tr>\n",
       "      <th>616770</th>\n",
       "      <td>14593</td>\n",
       "      <td>1981-05-29</td>\n",
       "      <td>1980</td>\n",
       "      <td>3.0</td>\n",
       "      <td>0.153828</td>\n",
       "      <td>1.571376e+03</td>\n",
       "    </tr>\n",
       "    <tr>\n",
       "      <th>...</th>\n",
       "      <td>...</td>\n",
       "      <td>...</td>\n",
       "      <td>...</td>\n",
       "      <td>...</td>\n",
       "      <td>...</td>\n",
       "      <td>...</td>\n",
       "    </tr>\n",
       "    <tr>\n",
       "      <th>617253</th>\n",
       "      <td>14593</td>\n",
       "      <td>2021-08-31</td>\n",
       "      <td>2021</td>\n",
       "      <td>3.0</td>\n",
       "      <td>0.042389</td>\n",
       "      <td>2.411090e+06</td>\n",
       "    </tr>\n",
       "    <tr>\n",
       "      <th>617254</th>\n",
       "      <td>14593</td>\n",
       "      <td>2021-09-30</td>\n",
       "      <td>2021</td>\n",
       "      <td>3.0</td>\n",
       "      <td>-0.068070</td>\n",
       "      <td>2.509775e+06</td>\n",
       "    </tr>\n",
       "    <tr>\n",
       "      <th>617255</th>\n",
       "      <td>14593</td>\n",
       "      <td>2021-10-29</td>\n",
       "      <td>2021</td>\n",
       "      <td>3.0</td>\n",
       "      <td>0.058620</td>\n",
       "      <td>2.324390e+06</td>\n",
       "    </tr>\n",
       "    <tr>\n",
       "      <th>617256</th>\n",
       "      <td>14593</td>\n",
       "      <td>2021-11-30</td>\n",
       "      <td>2021</td>\n",
       "      <td>3.0</td>\n",
       "      <td>0.104896</td>\n",
       "      <td>2.457678e+06</td>\n",
       "    </tr>\n",
       "    <tr>\n",
       "      <th>617257</th>\n",
       "      <td>14593</td>\n",
       "      <td>2021-12-31</td>\n",
       "      <td>2021</td>\n",
       "      <td>3.0</td>\n",
       "      <td>0.074162</td>\n",
       "      <td>2.711977e+06</td>\n",
       "    </tr>\n",
       "  </tbody>\n",
       "</table>\n",
       "<p>492 rows × 6 columns</p>\n",
       "</div>"
      ],
      "text/plain": [
       "        permno       date  rankyear  exchcd     exret        lag_me\n",
       "616766   14593 1981-01-30      1980     3.0 -0.179975  1.884962e+03\n",
       "616767   14593 1981-02-27      1980     3.0 -0.072359  1.564484e+03\n",
       "616768   14593 1981-03-31      1980     3.0 -0.088274  1.467996e+03\n",
       "616769   14593 1981-04-30      1980     3.0  0.146604  1.357724e+03\n",
       "616770   14593 1981-05-29      1980     3.0  0.153828  1.571376e+03\n",
       "...        ...        ...       ...     ...       ...           ...\n",
       "617253   14593 2021-08-31      2021     3.0  0.042389  2.411090e+06\n",
       "617254   14593 2021-09-30      2021     3.0 -0.068070  2.509775e+06\n",
       "617255   14593 2021-10-29      2021     3.0  0.058620  2.324390e+06\n",
       "617256   14593 2021-11-30      2021     3.0  0.104896  2.457678e+06\n",
       "617257   14593 2021-12-31      2021     3.0  0.074162  2.711977e+06\n",
       "\n",
       "[492 rows x 6 columns]"
      ]
     },
     "execution_count": 14,
     "metadata": {},
     "output_type": "execute_result"
    }
   ],
   "source": [
    "mdata[['permno', 'date', 'rankyear', 'exchcd', 'exret', 'lag_me']][mdata.permno==14593]"
   ]
  },
  {
   "cell_type": "code",
   "execution_count": 15,
   "metadata": {
    "slideshow": {
     "slide_type": "subslide"
    }
   },
   "outputs": [],
   "source": [
    "fdata = pd.merge(mdata[['permno', 'date', 'ticker', 'rankyear', 'exchcd', 'exret', 'retadj', 'lag_me', 'rf']],\n",
    "                 adata[['permno', 'gvkey', 'conm', 'fyear', 'datadate', 'rankyear', 'mesum_dec', 'beme', 'opbe', 'inv_gvkey']],\n",
    "                 on = ['permno','rankyear' ])"
   ]
  },
  {
   "cell_type": "code",
   "execution_count": 16,
   "metadata": {
    "slideshow": {
     "slide_type": "fragment"
    }
   },
   "outputs": [],
   "source": [
    "fdata.rename(columns = {'inv_gvkey': 'inv'}, inplace = True)\n",
    "fdata.rename(columns = {'mesum_dec': 'mesum'}, inplace = True)"
   ]
  },
  {
   "cell_type": "markdown",
   "metadata": {
    "slideshow": {
     "slide_type": "subslide"
    }
   },
   "source": [
    "### Data Summary"
   ]
  },
  {
   "cell_type": "code",
   "execution_count": 17,
   "metadata": {
    "slideshow": {
     "slide_type": "fragment"
    }
   },
   "outputs": [
    {
     "data": {
      "text/html": [
       "<div>\n",
       "<style scoped>\n",
       "    .dataframe tbody tr th:only-of-type {\n",
       "        vertical-align: middle;\n",
       "    }\n",
       "\n",
       "    .dataframe tbody tr th {\n",
       "        vertical-align: top;\n",
       "    }\n",
       "\n",
       "    .dataframe thead th {\n",
       "        text-align: right;\n",
       "    }\n",
       "</style>\n",
       "<table border=\"1\" class=\"dataframe\">\n",
       "  <thead>\n",
       "    <tr style=\"text-align: right;\">\n",
       "      <th></th>\n",
       "      <th>permno</th>\n",
       "      <th>rankyear</th>\n",
       "      <th>exchcd</th>\n",
       "      <th>exret</th>\n",
       "      <th>retadj</th>\n",
       "      <th>lag_me</th>\n",
       "      <th>rf</th>\n",
       "      <th>fyear</th>\n",
       "      <th>mesum</th>\n",
       "      <th>beme</th>\n",
       "      <th>opbe</th>\n",
       "      <th>inv</th>\n",
       "    </tr>\n",
       "  </thead>\n",
       "  <tbody>\n",
       "    <tr>\n",
       "      <th>count</th>\n",
       "      <td>3.512215e+06</td>\n",
       "      <td>3.512215e+06</td>\n",
       "      <td>3.512215e+06</td>\n",
       "      <td>3.512215e+06</td>\n",
       "      <td>3.512215e+06</td>\n",
       "      <td>3.512215e+06</td>\n",
       "      <td>3.512215e+06</td>\n",
       "      <td>3.155524e+06</td>\n",
       "      <td>3.133661e+06</td>\n",
       "      <td>3.006484e+06</td>\n",
       "      <td>2.717137e+06</td>\n",
       "      <td>2.757696e+06</td>\n",
       "    </tr>\n",
       "    <tr>\n",
       "      <th>mean</th>\n",
       "      <td>4.980225e+04</td>\n",
       "      <td>1.988114e+03</td>\n",
       "      <td>2.110829e+00</td>\n",
       "      <td>8.397910e-03</td>\n",
       "      <td>1.196156e-02</td>\n",
       "      <td>1.749644e+03</td>\n",
       "      <td>3.563651e-03</td>\n",
       "      <td>1.987922e+03</td>\n",
       "      <td>1.841578e+06</td>\n",
       "      <td>1.032118e-03</td>\n",
       "      <td>1.050800e-02</td>\n",
       "      <td>1.829383e+00</td>\n",
       "    </tr>\n",
       "    <tr>\n",
       "      <th>std</th>\n",
       "      <td>2.824912e+04</td>\n",
       "      <td>2.034868e+01</td>\n",
       "      <td>9.306278e-01</td>\n",
       "      <td>1.802057e-01</td>\n",
       "      <td>1.801294e-01</td>\n",
       "      <td>1.512012e+04</td>\n",
       "      <td>2.689967e-03</td>\n",
       "      <td>2.049312e+01</td>\n",
       "      <td>1.476406e+07</td>\n",
       "      <td>4.189923e-03</td>\n",
       "      <td>4.866274e+01</td>\n",
       "      <td>2.944420e+02</td>\n",
       "    </tr>\n",
       "    <tr>\n",
       "      <th>min</th>\n",
       "      <td>1.000000e+04</td>\n",
       "      <td>1.926000e+03</td>\n",
       "      <td>1.000000e+00</td>\n",
       "      <td>-1.014149e+00</td>\n",
       "      <td>-1.000000e+00</td>\n",
       "      <td>0.000000e+00</td>\n",
       "      <td>-2.650000e-04</td>\n",
       "      <td>1.925000e+03</td>\n",
       "      <td>2.475000e+01</td>\n",
       "      <td>1.227392e-08</td>\n",
       "      <td>-2.261400e+04</td>\n",
       "      <td>-9.998177e-01</td>\n",
       "    </tr>\n",
       "    <tr>\n",
       "      <th>25%</th>\n",
       "      <td>2.131100e+04</td>\n",
       "      <td>1.977000e+03</td>\n",
       "      <td>1.000000e+00</td>\n",
       "      <td>-6.704942e-02</td>\n",
       "      <td>-6.329114e-02</td>\n",
       "      <td>1.695200e+01</td>\n",
       "      <td>1.282000e-03</td>\n",
       "      <td>1.977000e+03</td>\n",
       "      <td>1.912500e+04</td>\n",
       "      <td>3.754730e-04</td>\n",
       "      <td>8.123554e-02</td>\n",
       "      <td>-8.266455e-03</td>\n",
       "    </tr>\n",
       "    <tr>\n",
       "      <th>50%</th>\n",
       "      <td>4.850600e+04</td>\n",
       "      <td>1.991000e+03</td>\n",
       "      <td>2.000000e+00</td>\n",
       "      <td>-3.099045e-03</td>\n",
       "      <td>0.000000e+00</td>\n",
       "      <td>7.290850e+01</td>\n",
       "      <td>3.716000e-03</td>\n",
       "      <td>1.991000e+03</td>\n",
       "      <td>8.395725e+04</td>\n",
       "      <td>6.773462e-04</td>\n",
       "      <td>2.122635e-01</td>\n",
       "      <td>8.051129e-02</td>\n",
       "    </tr>\n",
       "    <tr>\n",
       "      <th>75%</th>\n",
       "      <td>7.821100e+04</td>\n",
       "      <td>2.003000e+03</td>\n",
       "      <td>3.000000e+00</td>\n",
       "      <td>6.686457e-02</td>\n",
       "      <td>7.017544e-02</td>\n",
       "      <td>4.017340e+02</td>\n",
       "      <td>4.966000e-03</td>\n",
       "      <td>2.003000e+03</td>\n",
       "      <td>4.567980e+05</td>\n",
       "      <td>1.145967e-03</td>\n",
       "      <td>3.219710e-01</td>\n",
       "      <td>2.198022e-01</td>\n",
       "    </tr>\n",
       "    <tr>\n",
       "      <th>max</th>\n",
       "      <td>9.343600e+04</td>\n",
       "      <td>2.021000e+03</td>\n",
       "      <td>3.000000e+00</td>\n",
       "      <td>2.399694e+01</td>\n",
       "      <td>2.400000e+01</td>\n",
       "      <td>2.711977e+06</td>\n",
       "      <td>1.515800e-02</td>\n",
       "      <td>2.020000e+03</td>\n",
       "      <td>2.232279e+09</td>\n",
       "      <td>1.250093e+00</td>\n",
       "      <td>3.141250e+03</td>\n",
       "      <td>1.502620e+05</td>\n",
       "    </tr>\n",
       "  </tbody>\n",
       "</table>\n",
       "</div>"
      ],
      "text/plain": [
       "             permno      rankyear        exchcd         exret        retadj  \\\n",
       "count  3.512215e+06  3.512215e+06  3.512215e+06  3.512215e+06  3.512215e+06   \n",
       "mean   4.980225e+04  1.988114e+03  2.110829e+00  8.397910e-03  1.196156e-02   \n",
       "std    2.824912e+04  2.034868e+01  9.306278e-01  1.802057e-01  1.801294e-01   \n",
       "min    1.000000e+04  1.926000e+03  1.000000e+00 -1.014149e+00 -1.000000e+00   \n",
       "25%    2.131100e+04  1.977000e+03  1.000000e+00 -6.704942e-02 -6.329114e-02   \n",
       "50%    4.850600e+04  1.991000e+03  2.000000e+00 -3.099045e-03  0.000000e+00   \n",
       "75%    7.821100e+04  2.003000e+03  3.000000e+00  6.686457e-02  7.017544e-02   \n",
       "max    9.343600e+04  2.021000e+03  3.000000e+00  2.399694e+01  2.400000e+01   \n",
       "\n",
       "             lag_me            rf         fyear         mesum          beme  \\\n",
       "count  3.512215e+06  3.512215e+06  3.155524e+06  3.133661e+06  3.006484e+06   \n",
       "mean   1.749644e+03  3.563651e-03  1.987922e+03  1.841578e+06  1.032118e-03   \n",
       "std    1.512012e+04  2.689967e-03  2.049312e+01  1.476406e+07  4.189923e-03   \n",
       "min    0.000000e+00 -2.650000e-04  1.925000e+03  2.475000e+01  1.227392e-08   \n",
       "25%    1.695200e+01  1.282000e-03  1.977000e+03  1.912500e+04  3.754730e-04   \n",
       "50%    7.290850e+01  3.716000e-03  1.991000e+03  8.395725e+04  6.773462e-04   \n",
       "75%    4.017340e+02  4.966000e-03  2.003000e+03  4.567980e+05  1.145967e-03   \n",
       "max    2.711977e+06  1.515800e-02  2.020000e+03  2.232279e+09  1.250093e+00   \n",
       "\n",
       "               opbe           inv  \n",
       "count  2.717137e+06  2.757696e+06  \n",
       "mean   1.050800e-02  1.829383e+00  \n",
       "std    4.866274e+01  2.944420e+02  \n",
       "min   -2.261400e+04 -9.998177e-01  \n",
       "25%    8.123554e-02 -8.266455e-03  \n",
       "50%    2.122635e-01  8.051129e-02  \n",
       "75%    3.219710e-01  2.198022e-01  \n",
       "max    3.141250e+03  1.502620e+05  "
      ]
     },
     "execution_count": 17,
     "metadata": {},
     "output_type": "execute_result"
    }
   ],
   "source": [
    "fdata.describe()"
   ]
  },
  {
   "cell_type": "markdown",
   "metadata": {
    "slideshow": {
     "slide_type": "slide"
    }
   },
   "source": [
    "## Forcasting Future Excess Returns"
   ]
  },
  {
   "cell_type": "markdown",
   "metadata": {
    "slideshow": {
     "slide_type": "subslide"
    }
   },
   "source": [
    "### Fama-MacBeth Regression"
   ]
  },
  {
   "cell_type": "code",
   "execution_count": 18,
   "metadata": {
    "slideshow": {
     "slide_type": "fragment"
    }
   },
   "outputs": [],
   "source": [
    "# Fama-MacBeth regression\n",
    "def ols_coef(x,formula):\n",
    "    return smf.ols(formula,data=x).fit().params\n",
    "\n",
    "def fm_summary(p):\n",
    "    s = p.describe().T\n",
    "    s['std_error'] = s['std']/np.sqrt(s['count'])\n",
    "    s['tstat'] = s['mean']/s['std_error']\n",
    "    return s[['mean','std_error','tstat']]"
   ]
  },
  {
   "cell_type": "markdown",
   "metadata": {
    "slideshow": {
     "slide_type": "subslide"
    }
   },
   "source": [
    "### Does BEME forcast future returns?"
   ]
  },
  {
   "cell_type": "code",
   "execution_count": 19,
   "metadata": {
    "slideshow": {
     "slide_type": "fragment"
    }
   },
   "outputs": [
    {
     "data": {
      "text/html": [
       "<div>\n",
       "<style scoped>\n",
       "    .dataframe tbody tr th:only-of-type {\n",
       "        vertical-align: middle;\n",
       "    }\n",
       "\n",
       "    .dataframe tbody tr th {\n",
       "        vertical-align: top;\n",
       "    }\n",
       "\n",
       "    .dataframe thead th {\n",
       "        text-align: right;\n",
       "    }\n",
       "</style>\n",
       "<table border=\"1\" class=\"dataframe\">\n",
       "  <thead>\n",
       "    <tr style=\"text-align: right;\">\n",
       "      <th></th>\n",
       "      <th>Intercept</th>\n",
       "      <th>beme</th>\n",
       "    </tr>\n",
       "    <tr>\n",
       "      <th>date</th>\n",
       "      <th></th>\n",
       "      <th></th>\n",
       "    </tr>\n",
       "  </thead>\n",
       "  <tbody>\n",
       "    <tr>\n",
       "      <th>1926-07-31</th>\n",
       "      <td>0.012579</td>\n",
       "      <td>5.882302</td>\n",
       "    </tr>\n",
       "    <tr>\n",
       "      <th>1926-08-31</th>\n",
       "      <td>0.009899</td>\n",
       "      <td>2.373429</td>\n",
       "    </tr>\n",
       "    <tr>\n",
       "      <th>1926-09-30</th>\n",
       "      <td>-0.013706</td>\n",
       "      <td>6.392941</td>\n",
       "    </tr>\n",
       "    <tr>\n",
       "      <th>1926-10-30</th>\n",
       "      <td>-0.037200</td>\n",
       "      <td>-0.149101</td>\n",
       "    </tr>\n",
       "    <tr>\n",
       "      <th>1926-11-30</th>\n",
       "      <td>0.017929</td>\n",
       "      <td>8.330296</td>\n",
       "    </tr>\n",
       "  </tbody>\n",
       "</table>\n",
       "</div>"
      ],
      "text/plain": [
       "            Intercept      beme\n",
       "date                           \n",
       "1926-07-31   0.012579  5.882302\n",
       "1926-08-31   0.009899  2.373429\n",
       "1926-09-30  -0.013706  6.392941\n",
       "1926-10-30  -0.037200 -0.149101\n",
       "1926-11-30   0.017929  8.330296"
      ]
     },
     "execution_count": 19,
     "metadata": {},
     "output_type": "execute_result"
    }
   ],
   "source": [
    "gamma_beme = (fdata.groupby('date')\n",
    "                .apply(ols_coef,'exret ~ 1 + beme'))\n",
    "gamma_beme.head()"
   ]
  },
  {
   "cell_type": "markdown",
   "metadata": {
    "slideshow": {
     "slide_type": "subslide"
    }
   },
   "source": [
    "#### What is the problem? "
   ]
  },
  {
   "cell_type": "code",
   "execution_count": 20,
   "metadata": {
    "slideshow": {
     "slide_type": "fragment"
    }
   },
   "outputs": [
    {
     "data": {
      "text/plain": [
       "<AxesSubplot:xlabel='date'>"
      ]
     },
     "execution_count": 20,
     "metadata": {},
     "output_type": "execute_result"
    },
    {
     "data": {
      "image/png": "[encoded data removed]",
      "text/plain": [
       "<Figure size 720x432 with 1 Axes>"
      ]
     },
     "metadata": {
      "needs_background": "light"
     },
     "output_type": "display_data"
    }
   ],
   "source": [
    "gamma_beme.beme.plot()"
   ]
  },
  {
   "cell_type": "code",
   "execution_count": 21,
   "metadata": {
    "slideshow": {
     "slide_type": "subslide"
    }
   },
   "outputs": [
    {
     "data": {
      "text/plain": [
       "<AxesSubplot:xlabel='date'>"
      ]
     },
     "execution_count": 21,
     "metadata": {},
     "output_type": "execute_result"
    },
    {
     "data": {
      "image/png": "[encoded data removed]",
      "text/plain": [
       "<Figure size 720x432 with 1 Axes>"
      ]
     },
     "metadata": {
      "needs_background": "light"
     },
     "output_type": "display_data"
    }
   ],
   "source": [
    "fdata.groupby('date').count().rankyear.plot()"
   ]
  },
  {
   "cell_type": "code",
   "execution_count": 22,
   "metadata": {
    "slideshow": {
     "slide_type": "fragment"
    }
   },
   "outputs": [],
   "source": [
    "fdata = fdata[fdata.rankyear>=1963]"
   ]
  },
  {
   "cell_type": "code",
   "execution_count": 23,
   "metadata": {
    "slideshow": {
     "slide_type": "fragment"
    }
   },
   "outputs": [],
   "source": [
    "fdata.dropna(subset=['mesum', 'beme', 'opbe', 'inv'], inplace = True)"
   ]
  },
  {
   "cell_type": "markdown",
   "metadata": {
    "slideshow": {
     "slide_type": "subslide"
    }
   },
   "source": [
    "#### Try to run the FM regression again!"
   ]
  },
  {
   "cell_type": "code",
   "execution_count": 24,
   "metadata": {
    "slideshow": {
     "slide_type": "fragment"
    }
   },
   "outputs": [
    {
     "data": {
      "text/html": [
       "<div>\n",
       "<style scoped>\n",
       "    .dataframe tbody tr th:only-of-type {\n",
       "        vertical-align: middle;\n",
       "    }\n",
       "\n",
       "    .dataframe tbody tr th {\n",
       "        vertical-align: top;\n",
       "    }\n",
       "\n",
       "    .dataframe thead th {\n",
       "        text-align: right;\n",
       "    }\n",
       "</style>\n",
       "<table border=\"1\" class=\"dataframe\">\n",
       "  <thead>\n",
       "    <tr style=\"text-align: right;\">\n",
       "      <th></th>\n",
       "      <th>Intercept</th>\n",
       "      <th>beme</th>\n",
       "    </tr>\n",
       "    <tr>\n",
       "      <th>date</th>\n",
       "      <th></th>\n",
       "      <th></th>\n",
       "    </tr>\n",
       "  </thead>\n",
       "  <tbody>\n",
       "    <tr>\n",
       "      <th>1963-07-31</th>\n",
       "      <td>-0.006559</td>\n",
       "      <td>-4.590090</td>\n",
       "    </tr>\n",
       "    <tr>\n",
       "      <th>1963-08-30</th>\n",
       "      <td>0.050975</td>\n",
       "      <td>-5.009943</td>\n",
       "    </tr>\n",
       "    <tr>\n",
       "      <th>1963-09-30</th>\n",
       "      <td>-0.029356</td>\n",
       "      <td>9.147310</td>\n",
       "    </tr>\n",
       "    <tr>\n",
       "      <th>1963-10-31</th>\n",
       "      <td>0.009544</td>\n",
       "      <td>5.235066</td>\n",
       "    </tr>\n",
       "    <tr>\n",
       "      <th>1963-11-29</th>\n",
       "      <td>-0.011189</td>\n",
       "      <td>-0.489022</td>\n",
       "    </tr>\n",
       "  </tbody>\n",
       "</table>\n",
       "</div>"
      ],
      "text/plain": [
       "            Intercept      beme\n",
       "date                           \n",
       "1963-07-31  -0.006559 -4.590090\n",
       "1963-08-30   0.050975 -5.009943\n",
       "1963-09-30  -0.029356  9.147310\n",
       "1963-10-31   0.009544  5.235066\n",
       "1963-11-29  -0.011189 -0.489022"
      ]
     },
     "execution_count": 24,
     "metadata": {},
     "output_type": "execute_result"
    }
   ],
   "source": [
    "gamma_beme = (fdata.groupby('date')\n",
    "                .apply(ols_coef,'exret ~ 1 + beme'))\n",
    "gamma_beme.head()"
   ]
  },
  {
   "cell_type": "code",
   "execution_count": 25,
   "metadata": {
    "slideshow": {
     "slide_type": "subslide"
    }
   },
   "outputs": [
    {
     "data": {
      "text/plain": [
       "<AxesSubplot:xlabel='date'>"
      ]
     },
     "execution_count": 25,
     "metadata": {},
     "output_type": "execute_result"
    },
    {
     "data": {
      "image/png": "[encoded data removed]",
      "text/plain": [
       "<Figure size 720x432 with 1 Axes>"
      ]
     },
     "metadata": {
      "needs_background": "light"
     },
     "output_type": "display_data"
    }
   ],
   "source": [
    "gamma_beme.beme.plot()"
   ]
  },
  {
   "cell_type": "code",
   "execution_count": 26,
   "metadata": {
    "slideshow": {
     "slide_type": "fragment"
    }
   },
   "outputs": [
    {
     "data": {
      "text/html": [
       "<div>\n",
       "<style scoped>\n",
       "    .dataframe tbody tr th:only-of-type {\n",
       "        vertical-align: middle;\n",
       "    }\n",
       "\n",
       "    .dataframe tbody tr th {\n",
       "        vertical-align: top;\n",
       "    }\n",
       "\n",
       "    .dataframe thead th {\n",
       "        text-align: right;\n",
       "    }\n",
       "</style>\n",
       "<table border=\"1\" class=\"dataframe\">\n",
       "  <thead>\n",
       "    <tr style=\"text-align: right;\">\n",
       "      <th></th>\n",
       "      <th>mean</th>\n",
       "      <th>std_error</th>\n",
       "      <th>tstat</th>\n",
       "    </tr>\n",
       "  </thead>\n",
       "  <tbody>\n",
       "    <tr>\n",
       "      <th>Intercept</th>\n",
       "      <td>0.005919</td>\n",
       "      <td>0.002273</td>\n",
       "      <td>2.603870</td>\n",
       "    </tr>\n",
       "    <tr>\n",
       "      <th>beme</th>\n",
       "      <td>3.168066</td>\n",
       "      <td>0.567708</td>\n",
       "      <td>5.580454</td>\n",
       "    </tr>\n",
       "  </tbody>\n",
       "</table>\n",
       "</div>"
      ],
      "text/plain": [
       "               mean  std_error     tstat\n",
       "Intercept  0.005919   0.002273  2.603870\n",
       "beme       3.168066   0.567708  5.580454"
      ]
     },
     "execution_count": 26,
     "metadata": {},
     "output_type": "execute_result"
    }
   ],
   "source": [
    "# Fama-Macbeth regressions results\n",
    "fm_summary(gamma_beme)"
   ]
  },
  {
   "cell_type": "markdown",
   "metadata": {
    "slideshow": {
     "slide_type": "subslide"
    }
   },
   "source": [
    "**What's the problem (again)?**"
   ]
  },
  {
   "cell_type": "code",
   "execution_count": 27,
   "metadata": {
    "slideshow": {
     "slide_type": "fragment"
    }
   },
   "outputs": [
    {
     "data": {
      "text/plain": [
       "<AxesSubplot:>"
      ]
     },
     "execution_count": 27,
     "metadata": {},
     "output_type": "execute_result"
    },
    {
     "data": {
      "image/png": "[encoded data removed]",
      "text/plain": [
       "<Figure size 720x432 with 1 Axes>"
      ]
     },
     "metadata": {
      "needs_background": "light"
     },
     "output_type": "display_data"
    }
   ],
   "source": [
    "fdata.beme.hist()"
   ]
  },
  {
   "cell_type": "code",
   "execution_count": 28,
   "metadata": {
    "code_folding": [],
    "slideshow": {
     "slide_type": "subslide"
    }
   },
   "outputs": [
    {
     "data": {
      "text/plain": [
       "<AxesSubplot:xlabel='date'>"
      ]
     },
     "execution_count": 28,
     "metadata": {},
     "output_type": "execute_result"
    },
    {
     "data": {
      "image/png": "[encoded data removed]",
      "text/plain": [
       "<Figure size 720x432 with 1 Axes>"
      ]
     },
     "metadata": {
      "needs_background": "light"
     },
     "output_type": "display_data"
    }
   ],
   "source": [
    "# Try log \n",
    "gamma_beme = (fdata.groupby('date')\n",
    "                .apply(ols_coef,'exret ~ 1 + np.log(beme)'))\n",
    "gamma_beme['np.log(beme)'].plot()"
   ]
  },
  {
   "cell_type": "code",
   "execution_count": 29,
   "metadata": {
    "slideshow": {
     "slide_type": "fragment"
    }
   },
   "outputs": [
    {
     "data": {
      "text/html": [
       "<div>\n",
       "<style scoped>\n",
       "    .dataframe tbody tr th:only-of-type {\n",
       "        vertical-align: middle;\n",
       "    }\n",
       "\n",
       "    .dataframe tbody tr th {\n",
       "        vertical-align: top;\n",
       "    }\n",
       "\n",
       "    .dataframe thead th {\n",
       "        text-align: right;\n",
       "    }\n",
       "</style>\n",
       "<table border=\"1\" class=\"dataframe\">\n",
       "  <thead>\n",
       "    <tr style=\"text-align: right;\">\n",
       "      <th></th>\n",
       "      <th>mean</th>\n",
       "      <th>std_error</th>\n",
       "      <th>tstat</th>\n",
       "    </tr>\n",
       "  </thead>\n",
       "  <tbody>\n",
       "    <tr>\n",
       "      <th>Intercept</th>\n",
       "      <td>0.036050</td>\n",
       "      <td>0.004154</td>\n",
       "      <td>8.678241</td>\n",
       "    </tr>\n",
       "    <tr>\n",
       "      <th>np.log(beme)</th>\n",
       "      <td>0.003734</td>\n",
       "      <td>0.000551</td>\n",
       "      <td>6.775823</td>\n",
       "    </tr>\n",
       "  </tbody>\n",
       "</table>\n",
       "</div>"
      ],
      "text/plain": [
       "                  mean  std_error     tstat\n",
       "Intercept     0.036050   0.004154  8.678241\n",
       "np.log(beme)  0.003734   0.000551  6.775823"
      ]
     },
     "execution_count": 29,
     "metadata": {},
     "output_type": "execute_result"
    }
   ],
   "source": [
    "# Fama-Macbeth regressions results\n",
    "fm_summary(gamma_beme)"
   ]
  },
  {
   "cell_type": "markdown",
   "metadata": {
    "slideshow": {
     "slide_type": "subslide"
    }
   },
   "source": [
    "#### Is Value dead?"
   ]
  },
  {
   "cell_type": "code",
   "execution_count": 30,
   "metadata": {
    "slideshow": {
     "slide_type": "fragment"
    }
   },
   "outputs": [
    {
     "data": {
      "text/html": [
       "<div>\n",
       "<style scoped>\n",
       "    .dataframe tbody tr th:only-of-type {\n",
       "        vertical-align: middle;\n",
       "    }\n",
       "\n",
       "    .dataframe tbody tr th {\n",
       "        vertical-align: top;\n",
       "    }\n",
       "\n",
       "    .dataframe thead th {\n",
       "        text-align: right;\n",
       "    }\n",
       "</style>\n",
       "<table border=\"1\" class=\"dataframe\">\n",
       "  <thead>\n",
       "    <tr style=\"text-align: right;\">\n",
       "      <th></th>\n",
       "      <th>mean</th>\n",
       "      <th>std_error</th>\n",
       "      <th>tstat</th>\n",
       "    </tr>\n",
       "  </thead>\n",
       "  <tbody>\n",
       "    <tr>\n",
       "      <th>Intercept</th>\n",
       "      <td>0.017770</td>\n",
       "      <td>0.009319</td>\n",
       "      <td>1.906914</td>\n",
       "    </tr>\n",
       "    <tr>\n",
       "      <th>np.log(beme)</th>\n",
       "      <td>0.000755</td>\n",
       "      <td>0.000968</td>\n",
       "      <td>0.779923</td>\n",
       "    </tr>\n",
       "  </tbody>\n",
       "</table>\n",
       "</div>"
      ],
      "text/plain": [
       "                  mean  std_error     tstat\n",
       "Intercept     0.017770   0.009319  1.906914\n",
       "np.log(beme)  0.000755   0.000968  0.779923"
      ]
     },
     "execution_count": 30,
     "metadata": {},
     "output_type": "execute_result"
    }
   ],
   "source": [
    "fm_summary(gamma_beme.loc['2010-01-01':])"
   ]
  },
  {
   "cell_type": "code",
   "execution_count": 31,
   "metadata": {
    "slideshow": {
     "slide_type": "fragment"
    }
   },
   "outputs": [
    {
     "data": {
      "text/html": [
       "<div>\n",
       "<style scoped>\n",
       "    .dataframe tbody tr th:only-of-type {\n",
       "        vertical-align: middle;\n",
       "    }\n",
       "\n",
       "    .dataframe tbody tr th {\n",
       "        vertical-align: top;\n",
       "    }\n",
       "\n",
       "    .dataframe thead th {\n",
       "        text-align: right;\n",
       "    }\n",
       "</style>\n",
       "<table border=\"1\" class=\"dataframe\">\n",
       "  <thead>\n",
       "    <tr style=\"text-align: right;\">\n",
       "      <th></th>\n",
       "      <th>mean</th>\n",
       "      <th>std_error</th>\n",
       "      <th>tstat</th>\n",
       "    </tr>\n",
       "  </thead>\n",
       "  <tbody>\n",
       "    <tr>\n",
       "      <th>Intercept</th>\n",
       "      <td>0.044557</td>\n",
       "      <td>0.004632</td>\n",
       "      <td>9.619967</td>\n",
       "    </tr>\n",
       "    <tr>\n",
       "      <th>np.log(beme)</th>\n",
       "      <td>0.004904</td>\n",
       "      <td>0.000667</td>\n",
       "      <td>7.351236</td>\n",
       "    </tr>\n",
       "  </tbody>\n",
       "</table>\n",
       "</div>"
      ],
      "text/plain": [
       "                  mean  std_error     tstat\n",
       "Intercept     0.044557   0.004632  9.619967\n",
       "np.log(beme)  0.004904   0.000667  7.351236"
      ]
     },
     "execution_count": 31,
     "metadata": {},
     "output_type": "execute_result"
    }
   ],
   "source": [
    "fm_summary(gamma_beme.loc[:'2006-12-31'])"
   ]
  },
  {
   "cell_type": "markdown",
   "metadata": {
    "slideshow": {
     "slide_type": "subslide"
    }
   },
   "source": [
    "### Does size forcast future returns?"
   ]
  },
  {
   "cell_type": "code",
   "execution_count": 32,
   "metadata": {
    "slideshow": {
     "slide_type": "fragment"
    }
   },
   "outputs": [
    {
     "data": {
      "text/plain": [
       "<AxesSubplot:xlabel='date'>"
      ]
     },
     "execution_count": 32,
     "metadata": {},
     "output_type": "execute_result"
    },
    {
     "data": {
      "image/png": "[encoded data removed]",
      "text/plain": [
       "<Figure size 720x432 with 1 Axes>"
      ]
     },
     "metadata": {
      "needs_background": "light"
     },
     "output_type": "display_data"
    }
   ],
   "source": [
    "gamma_me = (fdata.groupby('date')\n",
    "                .apply(ols_coef,'exret ~ 1 + np.log(mesum)'))\n",
    "gamma_me['np.log(mesum)'].plot()"
   ]
  },
  {
   "cell_type": "code",
   "execution_count": 33,
   "metadata": {
    "slideshow": {
     "slide_type": "fragment"
    }
   },
   "outputs": [
    {
     "data": {
      "text/html": [
       "<div>\n",
       "<style scoped>\n",
       "    .dataframe tbody tr th:only-of-type {\n",
       "        vertical-align: middle;\n",
       "    }\n",
       "\n",
       "    .dataframe tbody tr th {\n",
       "        vertical-align: top;\n",
       "    }\n",
       "\n",
       "    .dataframe thead th {\n",
       "        text-align: right;\n",
       "    }\n",
       "</style>\n",
       "<table border=\"1\" class=\"dataframe\">\n",
       "  <thead>\n",
       "    <tr style=\"text-align: right;\">\n",
       "      <th></th>\n",
       "      <th>mean</th>\n",
       "      <th>std_error</th>\n",
       "      <th>tstat</th>\n",
       "    </tr>\n",
       "  </thead>\n",
       "  <tbody>\n",
       "    <tr>\n",
       "      <th>Intercept</th>\n",
       "      <td>0.021252</td>\n",
       "      <td>0.005296</td>\n",
       "      <td>4.012848</td>\n",
       "    </tr>\n",
       "    <tr>\n",
       "      <th>np.log(mesum)</th>\n",
       "      <td>-0.001145</td>\n",
       "      <td>0.000350</td>\n",
       "      <td>-3.268141</td>\n",
       "    </tr>\n",
       "  </tbody>\n",
       "</table>\n",
       "</div>"
      ],
      "text/plain": [
       "                   mean  std_error     tstat\n",
       "Intercept      0.021252   0.005296  4.012848\n",
       "np.log(mesum) -0.001145   0.000350 -3.268141"
      ]
     },
     "execution_count": 33,
     "metadata": {},
     "output_type": "execute_result"
    }
   ],
   "source": [
    "# Fama-Macbeth regressions results\n",
    "fm_summary(gamma_me) "
   ]
  },
  {
   "cell_type": "markdown",
   "metadata": {
    "slideshow": {
     "slide_type": "subslide"
    }
   },
   "source": [
    "#### What happened to Size factor?"
   ]
  },
  {
   "cell_type": "code",
   "execution_count": 34,
   "metadata": {
    "slideshow": {
     "slide_type": "fragment"
    }
   },
   "outputs": [
    {
     "data": {
      "text/html": [
       "<div>\n",
       "<style scoped>\n",
       "    .dataframe tbody tr th:only-of-type {\n",
       "        vertical-align: middle;\n",
       "    }\n",
       "\n",
       "    .dataframe tbody tr th {\n",
       "        vertical-align: top;\n",
       "    }\n",
       "\n",
       "    .dataframe thead th {\n",
       "        text-align: right;\n",
       "    }\n",
       "</style>\n",
       "<table border=\"1\" class=\"dataframe\">\n",
       "  <thead>\n",
       "    <tr style=\"text-align: right;\">\n",
       "      <th></th>\n",
       "      <th>mean</th>\n",
       "      <th>std_error</th>\n",
       "      <th>tstat</th>\n",
       "    </tr>\n",
       "  </thead>\n",
       "  <tbody>\n",
       "    <tr>\n",
       "      <th>Intercept</th>\n",
       "      <td>0.012689</td>\n",
       "      <td>0.010754</td>\n",
       "      <td>1.179985</td>\n",
       "    </tr>\n",
       "    <tr>\n",
       "      <th>np.log(mesum)</th>\n",
       "      <td>-0.000055</td>\n",
       "      <td>0.000621</td>\n",
       "      <td>-0.089058</td>\n",
       "    </tr>\n",
       "  </tbody>\n",
       "</table>\n",
       "</div>"
      ],
      "text/plain": [
       "                   mean  std_error     tstat\n",
       "Intercept      0.012689   0.010754  1.179985\n",
       "np.log(mesum) -0.000055   0.000621 -0.089058"
      ]
     },
     "execution_count": 34,
     "metadata": {},
     "output_type": "execute_result"
    }
   ],
   "source": [
    "fm_summary(gamma_me['2010-01-01':]) "
   ]
  },
  {
   "cell_type": "code",
   "execution_count": 35,
   "metadata": {
    "slideshow": {
     "slide_type": "fragment"
    }
   },
   "outputs": [
    {
     "data": {
      "text/html": [
       "<div>\n",
       "<style scoped>\n",
       "    .dataframe tbody tr th:only-of-type {\n",
       "        vertical-align: middle;\n",
       "    }\n",
       "\n",
       "    .dataframe tbody tr th {\n",
       "        vertical-align: top;\n",
       "    }\n",
       "\n",
       "    .dataframe thead th {\n",
       "        text-align: right;\n",
       "    }\n",
       "</style>\n",
       "<table border=\"1\" class=\"dataframe\">\n",
       "  <thead>\n",
       "    <tr style=\"text-align: right;\">\n",
       "      <th></th>\n",
       "      <th>mean</th>\n",
       "      <th>std_error</th>\n",
       "      <th>tstat</th>\n",
       "    </tr>\n",
       "  </thead>\n",
       "  <tbody>\n",
       "    <tr>\n",
       "      <th>Intercept</th>\n",
       "      <td>0.025867</td>\n",
       "      <td>0.006292</td>\n",
       "      <td>4.111096</td>\n",
       "    </tr>\n",
       "    <tr>\n",
       "      <th>np.log(mesum)</th>\n",
       "      <td>-0.001569</td>\n",
       "      <td>0.000428</td>\n",
       "      <td>-3.662702</td>\n",
       "    </tr>\n",
       "  </tbody>\n",
       "</table>\n",
       "</div>"
      ],
      "text/plain": [
       "                   mean  std_error     tstat\n",
       "Intercept      0.025867   0.006292  4.111096\n",
       "np.log(mesum) -0.001569   0.000428 -3.662702"
      ]
     },
     "execution_count": 35,
     "metadata": {},
     "output_type": "execute_result"
    }
   ],
   "source": [
    "fm_summary(gamma_me[:'2006-12-31'])"
   ]
  },
  {
   "cell_type": "markdown",
   "metadata": {
    "slideshow": {
     "slide_type": "subslide"
    }
   },
   "source": [
    "### What about Fama and French 2015?"
   ]
  },
  {
   "cell_type": "code",
   "execution_count": 36,
   "metadata": {
    "slideshow": {
     "slide_type": "fragment"
    }
   },
   "outputs": [
    {
     "data": {
      "text/html": [
       "<div>\n",
       "<style scoped>\n",
       "    .dataframe tbody tr th:only-of-type {\n",
       "        vertical-align: middle;\n",
       "    }\n",
       "\n",
       "    .dataframe tbody tr th {\n",
       "        vertical-align: top;\n",
       "    }\n",
       "\n",
       "    .dataframe thead th {\n",
       "        text-align: right;\n",
       "    }\n",
       "</style>\n",
       "<table border=\"1\" class=\"dataframe\">\n",
       "  <thead>\n",
       "    <tr style=\"text-align: right;\">\n",
       "      <th></th>\n",
       "      <th>Intercept</th>\n",
       "      <th>np.log(mesum)</th>\n",
       "      <th>np.log(beme)</th>\n",
       "      <th>opbe</th>\n",
       "      <th>inv</th>\n",
       "    </tr>\n",
       "    <tr>\n",
       "      <th>date</th>\n",
       "      <th></th>\n",
       "      <th></th>\n",
       "      <th></th>\n",
       "      <th></th>\n",
       "      <th></th>\n",
       "    </tr>\n",
       "  </thead>\n",
       "  <tbody>\n",
       "    <tr>\n",
       "      <th>1963-07-31</th>\n",
       "      <td>-0.066451</td>\n",
       "      <td>0.000114</td>\n",
       "      <td>-0.007562</td>\n",
       "      <td>0.000666</td>\n",
       "      <td>-0.003754</td>\n",
       "    </tr>\n",
       "    <tr>\n",
       "      <th>1963-08-30</th>\n",
       "      <td>-0.007954</td>\n",
       "      <td>0.004742</td>\n",
       "      <td>-0.000159</td>\n",
       "      <td>0.002730</td>\n",
       "      <td>-0.004594</td>\n",
       "    </tr>\n",
       "    <tr>\n",
       "      <th>1963-09-30</th>\n",
       "      <td>0.046139</td>\n",
       "      <td>0.001683</td>\n",
       "      <td>0.011904</td>\n",
       "      <td>0.003427</td>\n",
       "      <td>-0.010557</td>\n",
       "    </tr>\n",
       "    <tr>\n",
       "      <th>1963-10-31</th>\n",
       "      <td>0.046258</td>\n",
       "      <td>0.001757</td>\n",
       "      <td>0.007862</td>\n",
       "      <td>0.018836</td>\n",
       "      <td>0.001823</td>\n",
       "    </tr>\n",
       "    <tr>\n",
       "      <th>1963-11-29</th>\n",
       "      <td>-0.005676</td>\n",
       "      <td>0.002485</td>\n",
       "      <td>0.004464</td>\n",
       "      <td>0.002897</td>\n",
       "      <td>-0.027017</td>\n",
       "    </tr>\n",
       "  </tbody>\n",
       "</table>\n",
       "</div>"
      ],
      "text/plain": [
       "            Intercept  np.log(mesum)  np.log(beme)      opbe       inv\n",
       "date                                                                  \n",
       "1963-07-31  -0.066451       0.000114     -0.007562  0.000666 -0.003754\n",
       "1963-08-30  -0.007954       0.004742     -0.000159  0.002730 -0.004594\n",
       "1963-09-30   0.046139       0.001683      0.011904  0.003427 -0.010557\n",
       "1963-10-31   0.046258       0.001757      0.007862  0.018836  0.001823\n",
       "1963-11-29  -0.005676       0.002485      0.004464  0.002897 -0.027017"
      ]
     },
     "execution_count": 36,
     "metadata": {},
     "output_type": "execute_result"
    }
   ],
   "source": [
    "gamma_f5 = (fdata.groupby('date')\n",
    "                .apply(ols_coef,'exret ~ 1 + np.log(mesum)+ np.log(beme) + opbe + inv'))\n",
    "gamma_f5.head()"
   ]
  },
  {
   "cell_type": "code",
   "execution_count": 37,
   "metadata": {
    "slideshow": {
     "slide_type": "subslide"
    }
   },
   "outputs": [
    {
     "data": {
      "text/plain": [
       "<AxesSubplot:xlabel='date'>"
      ]
     },
     "execution_count": 37,
     "metadata": {},
     "output_type": "execute_result"
    },
    {
     "data": {
      "image/png": "[encoded data removed]",
      "text/plain": [
       "<Figure size 720x432 with 1 Axes>"
      ]
     },
     "metadata": {
      "needs_background": "light"
     },
     "output_type": "display_data"
    }
   ],
   "source": [
    "gamma_f5.plot()"
   ]
  },
  {
   "cell_type": "code",
   "execution_count": 38,
   "metadata": {
    "slideshow": {
     "slide_type": "fragment"
    }
   },
   "outputs": [
    {
     "data": {
      "text/html": [
       "<div>\n",
       "<style scoped>\n",
       "    .dataframe tbody tr th:only-of-type {\n",
       "        vertical-align: middle;\n",
       "    }\n",
       "\n",
       "    .dataframe tbody tr th {\n",
       "        vertical-align: top;\n",
       "    }\n",
       "\n",
       "    .dataframe thead th {\n",
       "        text-align: right;\n",
       "    }\n",
       "</style>\n",
       "<table border=\"1\" class=\"dataframe\">\n",
       "  <thead>\n",
       "    <tr style=\"text-align: right;\">\n",
       "      <th></th>\n",
       "      <th>mean</th>\n",
       "      <th>std_error</th>\n",
       "      <th>tstat</th>\n",
       "    </tr>\n",
       "  </thead>\n",
       "  <tbody>\n",
       "    <tr>\n",
       "      <th>Intercept</th>\n",
       "      <td>0.037980</td>\n",
       "      <td>0.005122</td>\n",
       "      <td>7.414855</td>\n",
       "    </tr>\n",
       "    <tr>\n",
       "      <th>np.log(mesum)</th>\n",
       "      <td>-0.000843</td>\n",
       "      <td>0.000378</td>\n",
       "      <td>-2.233637</td>\n",
       "    </tr>\n",
       "    <tr>\n",
       "      <th>np.log(beme)</th>\n",
       "      <td>0.002708</td>\n",
       "      <td>0.000608</td>\n",
       "      <td>4.456786</td>\n",
       "    </tr>\n",
       "    <tr>\n",
       "      <th>opbe</th>\n",
       "      <td>0.000496</td>\n",
       "      <td>0.000286</td>\n",
       "      <td>1.736085</td>\n",
       "    </tr>\n",
       "    <tr>\n",
       "      <th>inv</th>\n",
       "      <td>-0.001872</td>\n",
       "      <td>0.000327</td>\n",
       "      <td>-5.718909</td>\n",
       "    </tr>\n",
       "  </tbody>\n",
       "</table>\n",
       "</div>"
      ],
      "text/plain": [
       "                   mean  std_error     tstat\n",
       "Intercept      0.037980   0.005122  7.414855\n",
       "np.log(mesum) -0.000843   0.000378 -2.233637\n",
       "np.log(beme)   0.002708   0.000608  4.456786\n",
       "opbe           0.000496   0.000286  1.736085\n",
       "inv           -0.001872   0.000327 -5.718909"
      ]
     },
     "execution_count": 38,
     "metadata": {},
     "output_type": "execute_result"
    }
   ],
   "source": [
    "fm_summary(gamma_f5) "
   ]
  },
  {
   "cell_type": "markdown",
   "metadata": {
    "slideshow": {
     "slide_type": "slide"
    }
   },
   "source": [
    "## Long-short portfolio"
   ]
  },
  {
   "cell_type": "markdown",
   "metadata": {
    "slideshow": {
     "slide_type": "subslide"
    }
   },
   "source": [
    "### How to Construct a ``Factor\"?\n",
    "<img src=\"ff6.png\" width=\"800\" height=\"400\">"
   ]
  },
  {
   "cell_type": "markdown",
   "metadata": {
    "slideshow": {
     "slide_type": "subslide"
    }
   },
   "source": [
    "### Sort Portfolio"
   ]
  },
  {
   "cell_type": "code",
   "execution_count": 39,
   "metadata": {
    "slideshow": {
     "slide_type": "fragment"
    }
   },
   "outputs": [
    {
     "name": "stdout",
     "output_type": "stream",
     "text": [
      "NYSE breakpoints were calculated for mesum.\n",
      "Stocks were sorted according to breakpoints, starting in 1963\n",
      "NYSE breakpoints were calculated for beme.\n",
      "Stocks were sorted according to breakpoints, starting in 1963\n",
      "NYSE breakpoints were calculated for opbe.\n",
      "Stocks were sorted according to breakpoints, starting in 1963\n",
      "NYSE breakpoints were calculated for inv.\n",
      "Stocks were sorted according to breakpoints, starting in 1963\n"
     ]
    }
   ],
   "source": [
    "port = sort_portfolios(data = fdata,\n",
    "                       quantiles={'mesum': [0.5],\n",
    "                                  'beme': [0.3, 0.7],\n",
    "                                  'opbe': [0.3, 0.7],\n",
    "                                  'inv': [0.3, 0.7]},\n",
    "                       id_variables=['rankyear', 'permno', 'exchcd'],\n",
    "                       exch_cd=[1])  "
   ]
  },
  {
   "cell_type": "markdown",
   "metadata": {
    "slideshow": {
     "slide_type": "subslide"
    }
   },
   "source": [
    "**Look at the data**"
   ]
  },
  {
   "cell_type": "code",
   "execution_count": 40,
   "metadata": {
    "slideshow": {
     "slide_type": "fragment"
    }
   },
   "outputs": [
    {
     "data": {
      "text/html": [
       "<div>\n",
       "<style scoped>\n",
       "    .dataframe tbody tr th:only-of-type {\n",
       "        vertical-align: middle;\n",
       "    }\n",
       "\n",
       "    .dataframe tbody tr th {\n",
       "        vertical-align: top;\n",
       "    }\n",
       "\n",
       "    .dataframe thead th {\n",
       "        text-align: right;\n",
       "    }\n",
       "</style>\n",
       "<table border=\"1\" class=\"dataframe\">\n",
       "  <thead>\n",
       "    <tr style=\"text-align: right;\">\n",
       "      <th></th>\n",
       "      <th>rankyear</th>\n",
       "      <th>permno</th>\n",
       "      <th>invportfolio</th>\n",
       "      <th>opbeportfolio</th>\n",
       "      <th>bemeportfolio</th>\n",
       "      <th>mesumportfolio</th>\n",
       "    </tr>\n",
       "  </thead>\n",
       "  <tbody>\n",
       "    <tr>\n",
       "      <th>0</th>\n",
       "      <td>1963</td>\n",
       "      <td>10006.0</td>\n",
       "      <td>inv1</td>\n",
       "      <td>opbe1</td>\n",
       "      <td>beme3</td>\n",
       "      <td>mesum2</td>\n",
       "    </tr>\n",
       "    <tr>\n",
       "      <th>1</th>\n",
       "      <td>1963</td>\n",
       "      <td>10014.0</td>\n",
       "      <td>inv2</td>\n",
       "      <td>opbe1</td>\n",
       "      <td>beme3</td>\n",
       "      <td>mesum1</td>\n",
       "    </tr>\n",
       "    <tr>\n",
       "      <th>2</th>\n",
       "      <td>1963</td>\n",
       "      <td>10102.0</td>\n",
       "      <td>inv3</td>\n",
       "      <td>opbe2</td>\n",
       "      <td>beme2</td>\n",
       "      <td>mesum2</td>\n",
       "    </tr>\n",
       "    <tr>\n",
       "      <th>3</th>\n",
       "      <td>1963</td>\n",
       "      <td>10137.0</td>\n",
       "      <td>inv2</td>\n",
       "      <td>opbe3</td>\n",
       "      <td>beme1</td>\n",
       "      <td>mesum2</td>\n",
       "    </tr>\n",
       "    <tr>\n",
       "      <th>4</th>\n",
       "      <td>1963</td>\n",
       "      <td>10145.0</td>\n",
       "      <td>inv3</td>\n",
       "      <td>opbe2</td>\n",
       "      <td>beme2</td>\n",
       "      <td>mesum2</td>\n",
       "    </tr>\n",
       "  </tbody>\n",
       "</table>\n",
       "</div>"
      ],
      "text/plain": [
       "   rankyear   permno invportfolio opbeportfolio bemeportfolio mesumportfolio\n",
       "0      1963  10006.0         inv1         opbe1         beme3         mesum2\n",
       "1      1963  10014.0         inv2         opbe1         beme3         mesum1\n",
       "2      1963  10102.0         inv3         opbe2         beme2         mesum2\n",
       "3      1963  10137.0         inv2         opbe3         beme1         mesum2\n",
       "4      1963  10145.0         inv3         opbe2         beme2         mesum2"
      ]
     },
     "execution_count": 40,
     "metadata": {},
     "output_type": "execute_result"
    }
   ],
   "source": [
    "port.head()"
   ]
  },
  {
   "cell_type": "code",
   "execution_count": 41,
   "metadata": {
    "slideshow": {
     "slide_type": "subslide"
    }
   },
   "outputs": [
    {
     "data": {
      "text/plain": [
       "rankyear  mesumportfolio\n",
       "1963      mesum1             524\n",
       "          mesum2             382\n",
       "1964      mesum1             595\n",
       "          mesum2             391\n",
       "1965      mesum1             669\n",
       "                            ... \n",
       "2019      mesum2             881\n",
       "2020      mesum1            2360\n",
       "          mesum2             879\n",
       "2021      mesum1            2378\n",
       "          mesum2             933\n",
       "Name: mesumportfolio, Length: 118, dtype: int64"
      ]
     },
     "execution_count": 41,
     "metadata": {},
     "output_type": "execute_result"
    }
   ],
   "source": [
    "port.groupby(['rankyear','mesumportfolio']).mesumportfolio.count()"
   ]
  },
  {
   "cell_type": "markdown",
   "metadata": {
    "slideshow": {
     "slide_type": "subslide"
    }
   },
   "source": [
    "### Merge data"
   ]
  },
  {
   "cell_type": "code",
   "execution_count": 42,
   "metadata": {
    "slideshow": {
     "slide_type": "fragment"
    }
   },
   "outputs": [],
   "source": [
    "port_ret = pd.merge(fdata[['permno', 'date', 'rankyear', 'exret', 'retadj', 'lag_me', 'ticker', 'conm', 'rf']], \n",
    "                port,\n",
    "                on = ['permno', 'rankyear']) "
   ]
  },
  {
   "cell_type": "markdown",
   "metadata": {
    "slideshow": {
     "slide_type": "fragment"
    }
   },
   "source": [
    "Which portfolio did Apple belong to in 2020?"
   ]
  },
  {
   "cell_type": "code",
   "execution_count": 43,
   "metadata": {
    "slideshow": {
     "slide_type": "fragment"
    }
   },
   "outputs": [
    {
     "data": {
      "text/html": [
       "<div>\n",
       "<style scoped>\n",
       "    .dataframe tbody tr th:only-of-type {\n",
       "        vertical-align: middle;\n",
       "    }\n",
       "\n",
       "    .dataframe tbody tr th {\n",
       "        vertical-align: top;\n",
       "    }\n",
       "\n",
       "    .dataframe thead th {\n",
       "        text-align: right;\n",
       "    }\n",
       "</style>\n",
       "<table border=\"1\" class=\"dataframe\">\n",
       "  <thead>\n",
       "    <tr style=\"text-align: right;\">\n",
       "      <th></th>\n",
       "      <th>permno</th>\n",
       "      <th>date</th>\n",
       "      <th>rankyear</th>\n",
       "      <th>exret</th>\n",
       "      <th>retadj</th>\n",
       "      <th>lag_me</th>\n",
       "      <th>ticker</th>\n",
       "      <th>conm</th>\n",
       "      <th>rf</th>\n",
       "      <th>invportfolio</th>\n",
       "      <th>opbeportfolio</th>\n",
       "      <th>bemeportfolio</th>\n",
       "      <th>mesumportfolio</th>\n",
       "    </tr>\n",
       "  </thead>\n",
       "  <tbody>\n",
       "    <tr>\n",
       "      <th>278085</th>\n",
       "      <td>14593</td>\n",
       "      <td>2020-12-31</td>\n",
       "      <td>2020</td>\n",
       "      <td>0.114514</td>\n",
       "      <td>0.114574</td>\n",
       "      <td>2.024065e+06</td>\n",
       "      <td>AAPL</td>\n",
       "      <td>APPLE INC</td>\n",
       "      <td>0.00006</td>\n",
       "      <td>inv1</td>\n",
       "      <td>opbe3</td>\n",
       "      <td>beme1</td>\n",
       "      <td>mesum2</td>\n",
       "    </tr>\n",
       "  </tbody>\n",
       "</table>\n",
       "</div>"
      ],
      "text/plain": [
       "        permno       date  rankyear     exret    retadj        lag_me ticker  \\\n",
       "278085   14593 2020-12-31      2020  0.114514  0.114574  2.024065e+06   AAPL   \n",
       "\n",
       "             conm       rf invportfolio opbeportfolio bemeportfolio  \\\n",
       "278085  APPLE INC  0.00006         inv1         opbe3         beme1   \n",
       "\n",
       "       mesumportfolio  \n",
       "278085         mesum2  "
      ]
     },
     "execution_count": 43,
     "metadata": {},
     "output_type": "execute_result"
    }
   ],
   "source": [
    "port_ret[(port_ret.ticker=='AAPL') & (port_ret.date=='2020-12-31')]"
   ]
  },
  {
   "cell_type": "markdown",
   "metadata": {
    "slideshow": {
     "slide_type": "subslide"
    }
   },
   "source": [
    "### Calculate returns"
   ]
  },
  {
   "cell_type": "code",
   "execution_count": 44,
   "metadata": {
    "slideshow": {
     "slide_type": "fragment"
    }
   },
   "outputs": [],
   "source": [
    "beme_ret = port_ret.groupby(['date', 'mesumportfolio', 'bemeportfolio']).apply(\n",
    "    lambda x: np.average(x.retadj, weights=x.lag_me))"
   ]
  },
  {
   "cell_type": "code",
   "execution_count": 45,
   "metadata": {
    "slideshow": {
     "slide_type": "fragment"
    }
   },
   "outputs": [
    {
     "data": {
      "text/plain": [
       "date        mesumportfolio  bemeportfolio\n",
       "1963-07-31  mesum1          beme1           -0.008538\n",
       "                            beme2           -0.009547\n",
       "                            beme3           -0.016721\n",
       "            mesum2          beme1            0.001260\n",
       "                            beme2            0.004718\n",
       "                                               ...   \n",
       "2021-12-31  mesum1          beme2            0.026871\n",
       "                            beme3            0.038261\n",
       "            mesum2          beme1            0.026453\n",
       "                            beme2            0.062094\n",
       "                            beme3            0.048273\n",
       "Length: 4212, dtype: float64"
      ]
     },
     "execution_count": 45,
     "metadata": {},
     "output_type": "execute_result"
    }
   ],
   "source": [
    "beme_ret"
   ]
  },
  {
   "cell_type": "code",
   "execution_count": 46,
   "metadata": {
    "slideshow": {
     "slide_type": "subslide"
    }
   },
   "outputs": [],
   "source": [
    "beme_ret = beme_ret.unstack(level=[1, 2])"
   ]
  },
  {
   "cell_type": "code",
   "execution_count": 47,
   "metadata": {
    "slideshow": {
     "slide_type": "fragment"
    }
   },
   "outputs": [
    {
     "data": {
      "text/html": [
       "<div>\n",
       "<style scoped>\n",
       "    .dataframe tbody tr th:only-of-type {\n",
       "        vertical-align: middle;\n",
       "    }\n",
       "\n",
       "    .dataframe tbody tr th {\n",
       "        vertical-align: top;\n",
       "    }\n",
       "\n",
       "    .dataframe thead tr th {\n",
       "        text-align: left;\n",
       "    }\n",
       "\n",
       "    .dataframe thead tr:last-of-type th {\n",
       "        text-align: right;\n",
       "    }\n",
       "</style>\n",
       "<table border=\"1\" class=\"dataframe\">\n",
       "  <thead>\n",
       "    <tr>\n",
       "      <th>mesumportfolio</th>\n",
       "      <th colspan=\"3\" halign=\"left\">mesum1</th>\n",
       "      <th colspan=\"3\" halign=\"left\">mesum2</th>\n",
       "    </tr>\n",
       "    <tr>\n",
       "      <th>bemeportfolio</th>\n",
       "      <th>beme1</th>\n",
       "      <th>beme2</th>\n",
       "      <th>beme3</th>\n",
       "      <th>beme1</th>\n",
       "      <th>beme2</th>\n",
       "      <th>beme3</th>\n",
       "    </tr>\n",
       "    <tr>\n",
       "      <th>date</th>\n",
       "      <th></th>\n",
       "      <th></th>\n",
       "      <th></th>\n",
       "      <th></th>\n",
       "      <th></th>\n",
       "      <th></th>\n",
       "    </tr>\n",
       "  </thead>\n",
       "  <tbody>\n",
       "    <tr>\n",
       "      <th>1963-07-31</th>\n",
       "      <td>-0.008538</td>\n",
       "      <td>-0.009547</td>\n",
       "      <td>-0.016721</td>\n",
       "      <td>0.001260</td>\n",
       "      <td>0.004718</td>\n",
       "      <td>-0.012421</td>\n",
       "    </tr>\n",
       "    <tr>\n",
       "      <th>1963-08-30</th>\n",
       "      <td>0.058752</td>\n",
       "      <td>0.049112</td>\n",
       "      <td>0.054417</td>\n",
       "      <td>0.054961</td>\n",
       "      <td>0.046401</td>\n",
       "      <td>0.076299</td>\n",
       "    </tr>\n",
       "    <tr>\n",
       "      <th>1963-09-30</th>\n",
       "      <td>-0.037228</td>\n",
       "      <td>-0.012831</td>\n",
       "      <td>-0.017964</td>\n",
       "      <td>-0.015183</td>\n",
       "      <td>-0.006918</td>\n",
       "      <td>-0.004640</td>\n",
       "    </tr>\n",
       "    <tr>\n",
       "      <th>1963-10-31</th>\n",
       "      <td>0.009548</td>\n",
       "      <td>0.015880</td>\n",
       "      <td>0.034698</td>\n",
       "      <td>0.045328</td>\n",
       "      <td>0.016143</td>\n",
       "      <td>0.028258</td>\n",
       "    </tr>\n",
       "    <tr>\n",
       "      <th>1963-11-29</th>\n",
       "      <td>-0.023892</td>\n",
       "      <td>-0.014601</td>\n",
       "      <td>-0.002550</td>\n",
       "      <td>-0.011891</td>\n",
       "      <td>0.004552</td>\n",
       "      <td>-0.011355</td>\n",
       "    </tr>\n",
       "    <tr>\n",
       "      <th>...</th>\n",
       "      <td>...</td>\n",
       "      <td>...</td>\n",
       "      <td>...</td>\n",
       "      <td>...</td>\n",
       "      <td>...</td>\n",
       "      <td>...</td>\n",
       "    </tr>\n",
       "    <tr>\n",
       "      <th>2021-08-31</th>\n",
       "      <td>0.041540</td>\n",
       "      <td>0.021272</td>\n",
       "      <td>0.031115</td>\n",
       "      <td>0.034972</td>\n",
       "      <td>0.011829</td>\n",
       "      <td>0.030604</td>\n",
       "    </tr>\n",
       "    <tr>\n",
       "      <th>2021-09-30</th>\n",
       "      <td>-0.042615</td>\n",
       "      <td>-0.039380</td>\n",
       "      <td>0.013930</td>\n",
       "      <td>-0.054015</td>\n",
       "      <td>-0.034283</td>\n",
       "      <td>-0.007704</td>\n",
       "    </tr>\n",
       "    <tr>\n",
       "      <th>2021-10-29</th>\n",
       "      <td>0.025945</td>\n",
       "      <td>0.032419</td>\n",
       "      <td>0.038711</td>\n",
       "      <td>0.080933</td>\n",
       "      <td>0.036116</td>\n",
       "      <td>0.062000</td>\n",
       "    </tr>\n",
       "    <tr>\n",
       "      <th>2021-11-30</th>\n",
       "      <td>-0.078766</td>\n",
       "      <td>-0.013028</td>\n",
       "      <td>-0.038800</td>\n",
       "      <td>-0.002522</td>\n",
       "      <td>-0.034498</td>\n",
       "      <td>-0.044493</td>\n",
       "    </tr>\n",
       "    <tr>\n",
       "      <th>2021-12-31</th>\n",
       "      <td>-0.020885</td>\n",
       "      <td>0.026871</td>\n",
       "      <td>0.038261</td>\n",
       "      <td>0.026453</td>\n",
       "      <td>0.062094</td>\n",
       "      <td>0.048273</td>\n",
       "    </tr>\n",
       "  </tbody>\n",
       "</table>\n",
       "<p>702 rows × 6 columns</p>\n",
       "</div>"
      ],
      "text/plain": [
       "mesumportfolio    mesum1                        mesum2                    \n",
       "bemeportfolio      beme1     beme2     beme3     beme1     beme2     beme3\n",
       "date                                                                      \n",
       "1963-07-31     -0.008538 -0.009547 -0.016721  0.001260  0.004718 -0.012421\n",
       "1963-08-30      0.058752  0.049112  0.054417  0.054961  0.046401  0.076299\n",
       "1963-09-30     -0.037228 -0.012831 -0.017964 -0.015183 -0.006918 -0.004640\n",
       "1963-10-31      0.009548  0.015880  0.034698  0.045328  0.016143  0.028258\n",
       "1963-11-29     -0.023892 -0.014601 -0.002550 -0.011891  0.004552 -0.011355\n",
       "...                  ...       ...       ...       ...       ...       ...\n",
       "2021-08-31      0.041540  0.021272  0.031115  0.034972  0.011829  0.030604\n",
       "2021-09-30     -0.042615 -0.039380  0.013930 -0.054015 -0.034283 -0.007704\n",
       "2021-10-29      0.025945  0.032419  0.038711  0.080933  0.036116  0.062000\n",
       "2021-11-30     -0.078766 -0.013028 -0.038800 -0.002522 -0.034498 -0.044493\n",
       "2021-12-31     -0.020885  0.026871  0.038261  0.026453  0.062094  0.048273\n",
       "\n",
       "[702 rows x 6 columns]"
      ]
     },
     "execution_count": 47,
     "metadata": {},
     "output_type": "execute_result"
    }
   ],
   "source": [
    "beme_ret"
   ]
  },
  {
   "cell_type": "code",
   "execution_count": 48,
   "metadata": {
    "slideshow": {
     "slide_type": "subslide"
    }
   },
   "outputs": [
    {
     "data": {
      "text/plain": [
       "<AxesSubplot:xlabel='date'>"
      ]
     },
     "execution_count": 48,
     "metadata": {},
     "output_type": "execute_result"
    },
    {
     "data": {
      "image/png": "[encoded data removed]",
      "text/plain": [
       "<Figure size 720x432 with 1 Axes>"
      ]
     },
     "metadata": {
      "needs_background": "light"
     },
     "output_type": "display_data"
    }
   ],
   "source": [
    "(1+beme_ret).cumprod().plot(grid=True, logy=True)"
   ]
  },
  {
   "cell_type": "code",
   "execution_count": 49,
   "metadata": {
    "slideshow": {
     "slide_type": "subslide"
    }
   },
   "outputs": [],
   "source": [
    "# HML returns\n",
    "beme_ret['hml'] = beme_ret.loc[:, idx[:, 'beme3']].mean(axis=1) - beme_ret.loc[:, idx[:, 'beme1']].mean(axis=1)"
   ]
  },
  {
   "cell_type": "code",
   "execution_count": 50,
   "metadata": {
    "slideshow": {
     "slide_type": "fragment"
    }
   },
   "outputs": [],
   "source": [
    "rf_data = mdata.loc[(mdata.date >= '1963-07-01') , ['date','rf']].drop_duplicates()\n",
    "rf_data.set_index('date', inplace = True)"
   ]
  },
  {
   "cell_type": "code",
   "execution_count": 51,
   "metadata": {
    "slideshow": {
     "slide_type": "fragment"
    }
   },
   "outputs": [
    {
     "data": {
      "text/plain": [
       "<AxesSubplot:xlabel='date'>"
      ]
     },
     "execution_count": 51,
     "metadata": {},
     "output_type": "execute_result"
    },
    {
     "data": {
      "image/png": "[encoded data removed]",
      "text/plain": [
       "<Figure size 720x432 with 1 Axes>"
      ]
     },
     "metadata": {
      "needs_background": "light"
     },
     "output_type": "display_data"
    }
   ],
   "source": [
    "(1+beme_ret['hml'].add(rf_data['rf'], axis = 'index')).cumprod().plot(grid=True, logy = True)"
   ]
  },
  {
   "cell_type": "code",
   "execution_count": 52,
   "metadata": {
    "slideshow": {
     "slide_type": "subslide"
    }
   },
   "outputs": [],
   "source": [
    "# Characteristic: beme\n",
    "# --------------------\n",
    "charvars = ['mesum', 'beme']\n",
    "beme_ret = port_ret.groupby(['date']+[charvar+\"portfolio\" for charvar in charvars]).apply(\n",
    "    lambda x: np.average(x.retadj, weights=x.lag_me))\n",
    "beme_ret = beme_ret.unstack(level=[1, 2])\n",
    "beme_ret['hml'] = beme_ret.loc[:, idx[:, 'beme3']].mean(axis=1) - beme_ret.loc[:, idx[:, 'beme1']].mean(axis=1)"
   ]
  },
  {
   "cell_type": "code",
   "execution_count": 53,
   "metadata": {
    "slideshow": {
     "slide_type": "fragment"
    }
   },
   "outputs": [],
   "source": [
    "# Characteristic: op\n",
    "# -------------------\n",
    "charvars = ['mesum', 'opbe']\n",
    "op_ret = port_ret.groupby(['date']+[charvar+\"portfolio\" for charvar in charvars]).apply(\n",
    "    lambda x: np.average(x.retadj, weights=x.lag_me))\n",
    "op_ret = op_ret.unstack(level=[1, 2])\n",
    "op_ret['rmw'] = op_ret.loc[:, idx[:, 'opbe3']].mean(axis=1) - op_ret.loc[:, idx[:, 'opbe1']].mean(axis=1)\n",
    "del charvars"
   ]
  },
  {
   "cell_type": "code",
   "execution_count": 54,
   "metadata": {
    "slideshow": {
     "slide_type": "fragment"
    }
   },
   "outputs": [],
   "source": [
    "# Characteristic: inv\n",
    "# -------------------\n",
    "charvars = ['mesum', 'inv']\n",
    "inv_ret = port_ret.groupby(['date']+[charvar+\"portfolio\" for charvar in charvars]).apply(\n",
    "    lambda x: np.average(x.retadj, weights=x.lag_me))\n",
    "inv_ret = inv_ret.unstack(level=[1, 2])\n",
    "inv_ret['cma'] = inv_ret.loc[:, idx[:, 'inv1']].mean(axis=1) - inv_ret.loc[:, idx[:, 'inv3']].mean(axis=1)\n",
    "del charvars"
   ]
  },
  {
   "cell_type": "code",
   "execution_count": 55,
   "metadata": {},
   "outputs": [
    {
     "data": {
      "text/html": [
       "<div>\n",
       "<style scoped>\n",
       "    .dataframe tbody tr th:only-of-type {\n",
       "        vertical-align: middle;\n",
       "    }\n",
       "\n",
       "    .dataframe tbody tr th {\n",
       "        vertical-align: top;\n",
       "    }\n",
       "\n",
       "    .dataframe thead tr th {\n",
       "        text-align: left;\n",
       "    }\n",
       "\n",
       "    .dataframe thead tr:last-of-type th {\n",
       "        text-align: right;\n",
       "    }\n",
       "</style>\n",
       "<table border=\"1\" class=\"dataframe\">\n",
       "  <thead>\n",
       "    <tr>\n",
       "      <th>mesumportfolio</th>\n",
       "      <th colspan=\"3\" halign=\"left\">mesum1</th>\n",
       "      <th colspan=\"3\" halign=\"left\">mesum2</th>\n",
       "      <th>cma</th>\n",
       "    </tr>\n",
       "    <tr>\n",
       "      <th>invportfolio</th>\n",
       "      <th>inv1</th>\n",
       "      <th>inv2</th>\n",
       "      <th>inv3</th>\n",
       "      <th>inv1</th>\n",
       "      <th>inv2</th>\n",
       "      <th>inv3</th>\n",
       "      <th></th>\n",
       "    </tr>\n",
       "    <tr>\n",
       "      <th>date</th>\n",
       "      <th></th>\n",
       "      <th></th>\n",
       "      <th></th>\n",
       "      <th></th>\n",
       "      <th></th>\n",
       "      <th></th>\n",
       "      <th></th>\n",
       "    </tr>\n",
       "  </thead>\n",
       "  <tbody>\n",
       "    <tr>\n",
       "      <th>1963-07-31</th>\n",
       "      <td>-0.018541</td>\n",
       "      <td>-0.013862</td>\n",
       "      <td>-0.003078</td>\n",
       "      <td>-0.012528</td>\n",
       "      <td>0.004541</td>\n",
       "      <td>0.004152</td>\n",
       "      <td>-0.016071</td>\n",
       "    </tr>\n",
       "    <tr>\n",
       "      <th>1963-08-30</th>\n",
       "      <td>0.048955</td>\n",
       "      <td>0.046819</td>\n",
       "      <td>0.063307</td>\n",
       "      <td>0.061669</td>\n",
       "      <td>0.049925</td>\n",
       "      <td>0.053848</td>\n",
       "      <td>-0.003265</td>\n",
       "    </tr>\n",
       "    <tr>\n",
       "      <th>1963-09-30</th>\n",
       "      <td>-0.011989</td>\n",
       "      <td>-0.020595</td>\n",
       "      <td>-0.027963</td>\n",
       "      <td>-0.016715</td>\n",
       "      <td>-0.009981</td>\n",
       "      <td>-0.010115</td>\n",
       "      <td>0.004687</td>\n",
       "    </tr>\n",
       "    <tr>\n",
       "      <th>1963-10-31</th>\n",
       "      <td>0.017921</td>\n",
       "      <td>0.017541</td>\n",
       "      <td>0.028830</td>\n",
       "      <td>0.023777</td>\n",
       "      <td>0.015821</td>\n",
       "      <td>0.063848</td>\n",
       "      <td>-0.025490</td>\n",
       "    </tr>\n",
       "    <tr>\n",
       "      <th>1963-11-29</th>\n",
       "      <td>-0.007312</td>\n",
       "      <td>-0.012075</td>\n",
       "      <td>-0.017028</td>\n",
       "      <td>0.003895</td>\n",
       "      <td>0.001684</td>\n",
       "      <td>-0.020873</td>\n",
       "      <td>0.017243</td>\n",
       "    </tr>\n",
       "    <tr>\n",
       "      <th>...</th>\n",
       "      <td>...</td>\n",
       "      <td>...</td>\n",
       "      <td>...</td>\n",
       "      <td>...</td>\n",
       "      <td>...</td>\n",
       "      <td>...</td>\n",
       "      <td>...</td>\n",
       "    </tr>\n",
       "    <tr>\n",
       "      <th>2021-08-31</th>\n",
       "      <td>0.017983</td>\n",
       "      <td>0.023349</td>\n",
       "      <td>0.042849</td>\n",
       "      <td>0.021395</td>\n",
       "      <td>0.021313</td>\n",
       "      <td>0.039694</td>\n",
       "      <td>-0.021582</td>\n",
       "    </tr>\n",
       "    <tr>\n",
       "      <th>2021-09-30</th>\n",
       "      <td>-0.004713</td>\n",
       "      <td>-0.035874</td>\n",
       "      <td>-0.031975</td>\n",
       "      <td>-0.039493</td>\n",
       "      <td>-0.045581</td>\n",
       "      <td>-0.047196</td>\n",
       "      <td>0.017483</td>\n",
       "    </tr>\n",
       "    <tr>\n",
       "      <th>2021-10-29</th>\n",
       "      <td>0.033901</td>\n",
       "      <td>0.040487</td>\n",
       "      <td>0.025273</td>\n",
       "      <td>0.044138</td>\n",
       "      <td>0.063708</td>\n",
       "      <td>0.083765</td>\n",
       "      <td>-0.015499</td>\n",
       "    </tr>\n",
       "    <tr>\n",
       "      <th>2021-11-30</th>\n",
       "      <td>-0.044496</td>\n",
       "      <td>-0.020060</td>\n",
       "      <td>-0.054345</td>\n",
       "      <td>0.020135</td>\n",
       "      <td>-0.026249</td>\n",
       "      <td>-0.013218</td>\n",
       "      <td>0.021601</td>\n",
       "    </tr>\n",
       "    <tr>\n",
       "      <th>2021-12-31</th>\n",
       "      <td>0.013961</td>\n",
       "      <td>0.045804</td>\n",
       "      <td>-0.005345</td>\n",
       "      <td>0.072130</td>\n",
       "      <td>0.060514</td>\n",
       "      <td>0.004864</td>\n",
       "      <td>0.043286</td>\n",
       "    </tr>\n",
       "  </tbody>\n",
       "</table>\n",
       "<p>702 rows × 7 columns</p>\n",
       "</div>"
      ],
      "text/plain": [
       "mesumportfolio    mesum1                        mesum2                      \\\n",
       "invportfolio        inv1      inv2      inv3      inv1      inv2      inv3   \n",
       "date                                                                         \n",
       "1963-07-31     -0.018541 -0.013862 -0.003078 -0.012528  0.004541  0.004152   \n",
       "1963-08-30      0.048955  0.046819  0.063307  0.061669  0.049925  0.053848   \n",
       "1963-09-30     -0.011989 -0.020595 -0.027963 -0.016715 -0.009981 -0.010115   \n",
       "1963-10-31      0.017921  0.017541  0.028830  0.023777  0.015821  0.063848   \n",
       "1963-11-29     -0.007312 -0.012075 -0.017028  0.003895  0.001684 -0.020873   \n",
       "...                  ...       ...       ...       ...       ...       ...   \n",
       "2021-08-31      0.017983  0.023349  0.042849  0.021395  0.021313  0.039694   \n",
       "2021-09-30     -0.004713 -0.035874 -0.031975 -0.039493 -0.045581 -0.047196   \n",
       "2021-10-29      0.033901  0.040487  0.025273  0.044138  0.063708  0.083765   \n",
       "2021-11-30     -0.044496 -0.020060 -0.054345  0.020135 -0.026249 -0.013218   \n",
       "2021-12-31      0.013961  0.045804 -0.005345  0.072130  0.060514  0.004864   \n",
       "\n",
       "mesumportfolio       cma  \n",
       "invportfolio              \n",
       "date                      \n",
       "1963-07-31     -0.016071  \n",
       "1963-08-30     -0.003265  \n",
       "1963-09-30      0.004687  \n",
       "1963-10-31     -0.025490  \n",
       "1963-11-29      0.017243  \n",
       "...                  ...  \n",
       "2021-08-31     -0.021582  \n",
       "2021-09-30      0.017483  \n",
       "2021-10-29     -0.015499  \n",
       "2021-11-30      0.021601  \n",
       "2021-12-31      0.043286  \n",
       "\n",
       "[702 rows x 7 columns]"
      ]
     },
     "execution_count": 55,
     "metadata": {},
     "output_type": "execute_result"
    }
   ],
   "source": [
    "inv_ret"
   ]
  },
  {
   "cell_type": "code",
   "execution_count": 56,
   "metadata": {
    "slideshow": {
     "slide_type": "subslide"
    }
   },
   "outputs": [],
   "source": [
    "# Characteristic: size\n",
    "# --------------------\n",
    "fret = pd.DataFrame()\n",
    "fret['smb'] = (beme_ret.loc[:, 'mesum1'].mean(axis=1) - beme_ret.loc[:,'mesum2'].mean(axis=1) +\n",
    "               op_ret.loc[:, 'mesum1'].mean(axis=1) - op_ret.loc[:,'mesum2'].mean(axis=1) +\n",
    "               inv_ret.loc[:, 'mesum1'].mean(axis=1) - inv_ret.loc[:,'mesum2'].mean(axis=1))*(1/3)"
   ]
  },
  {
   "cell_type": "code",
   "execution_count": 57,
   "metadata": {
    "slideshow": {
     "slide_type": "subslide"
    }
   },
   "outputs": [],
   "source": [
    "# Aggregate all\n",
    "beme_ret.columns = [''.join(col).strip() for col in beme_ret.columns.values]\n",
    "op_ret.columns = [''.join(col).strip() for col in op_ret.columns.values]\n",
    "inv_ret.columns = [''.join(col).strip() for col in inv_ret.columns.values]"
   ]
  },
  {
   "cell_type": "code",
   "execution_count": 58,
   "metadata": {
    "slideshow": {
     "slide_type": "fragment"
    }
   },
   "outputs": [],
   "source": [
    "fret = fret.join(beme_ret[['hml']]).join(op_ret[['rmw']]).join(inv_ret[['cma']])"
   ]
  },
  {
   "cell_type": "code",
   "execution_count": 59,
   "metadata": {
    "slideshow": {
     "slide_type": "fragment"
    }
   },
   "outputs": [
    {
     "data": {
      "text/html": [
       "<div>\n",
       "<style scoped>\n",
       "    .dataframe tbody tr th:only-of-type {\n",
       "        vertical-align: middle;\n",
       "    }\n",
       "\n",
       "    .dataframe tbody tr th {\n",
       "        vertical-align: top;\n",
       "    }\n",
       "\n",
       "    .dataframe thead th {\n",
       "        text-align: right;\n",
       "    }\n",
       "</style>\n",
       "<table border=\"1\" class=\"dataframe\">\n",
       "  <thead>\n",
       "    <tr style=\"text-align: right;\">\n",
       "      <th></th>\n",
       "      <th>smb</th>\n",
       "      <th>hml</th>\n",
       "      <th>rmw</th>\n",
       "      <th>cma</th>\n",
       "    </tr>\n",
       "    <tr>\n",
       "      <th>date</th>\n",
       "      <th></th>\n",
       "      <th></th>\n",
       "      <th></th>\n",
       "      <th></th>\n",
       "    </tr>\n",
       "  </thead>\n",
       "  <tbody>\n",
       "    <tr>\n",
       "      <th>1963-07-31</th>\n",
       "      <td>-0.010490</td>\n",
       "      <td>-0.010932</td>\n",
       "      <td>0.007197</td>\n",
       "      <td>-0.016071</td>\n",
       "    </tr>\n",
       "    <tr>\n",
       "      <th>1963-08-30</th>\n",
       "      <td>-0.002377</td>\n",
       "      <td>0.008502</td>\n",
       "      <td>0.003703</td>\n",
       "      <td>-0.003265</td>\n",
       "    </tr>\n",
       "    <tr>\n",
       "      <th>1963-09-30</th>\n",
       "      <td>-0.010100</td>\n",
       "      <td>0.014904</td>\n",
       "      <td>-0.007293</td>\n",
       "      <td>0.004687</td>\n",
       "    </tr>\n",
       "    <tr>\n",
       "      <th>1963-10-31</th>\n",
       "      <td>-0.009475</td>\n",
       "      <td>0.004040</td>\n",
       "      <td>0.029230</td>\n",
       "      <td>-0.025490</td>\n",
       "    </tr>\n",
       "    <tr>\n",
       "      <th>1963-11-29</th>\n",
       "      <td>-0.006030</td>\n",
       "      <td>0.010939</td>\n",
       "      <td>0.000516</td>\n",
       "      <td>0.017243</td>\n",
       "    </tr>\n",
       "    <tr>\n",
       "      <th>...</th>\n",
       "      <td>...</td>\n",
       "      <td>...</td>\n",
       "      <td>...</td>\n",
       "      <td>...</td>\n",
       "    </tr>\n",
       "    <tr>\n",
       "      <th>2021-08-31</th>\n",
       "      <td>0.002012</td>\n",
       "      <td>-0.007396</td>\n",
       "      <td>-0.008449</td>\n",
       "      <td>-0.021582</td>\n",
       "    </tr>\n",
       "    <tr>\n",
       "      <th>2021-09-30</th>\n",
       "      <td>0.013482</td>\n",
       "      <td>0.051428</td>\n",
       "      <td>-0.018247</td>\n",
       "      <td>0.017483</td>\n",
       "    </tr>\n",
       "    <tr>\n",
       "      <th>2021-10-29</th>\n",
       "      <td>-0.029780</td>\n",
       "      <td>-0.003084</td>\n",
       "      <td>0.020618</td>\n",
       "      <td>-0.015499</td>\n",
       "    </tr>\n",
       "    <tr>\n",
       "      <th>2021-11-30</th>\n",
       "      <td>-0.017533</td>\n",
       "      <td>-0.001002</td>\n",
       "      <td>0.080312</td>\n",
       "      <td>0.021601</td>\n",
       "    </tr>\n",
       "    <tr>\n",
       "      <th>2021-12-31</th>\n",
       "      <td>-0.020277</td>\n",
       "      <td>0.040483</td>\n",
       "      <td>0.060160</td>\n",
       "      <td>0.043286</td>\n",
       "    </tr>\n",
       "  </tbody>\n",
       "</table>\n",
       "<p>702 rows × 4 columns</p>\n",
       "</div>"
      ],
      "text/plain": [
       "                 smb       hml       rmw       cma\n",
       "date                                              \n",
       "1963-07-31 -0.010490 -0.010932  0.007197 -0.016071\n",
       "1963-08-30 -0.002377  0.008502  0.003703 -0.003265\n",
       "1963-09-30 -0.010100  0.014904 -0.007293  0.004687\n",
       "1963-10-31 -0.009475  0.004040  0.029230 -0.025490\n",
       "1963-11-29 -0.006030  0.010939  0.000516  0.017243\n",
       "...              ...       ...       ...       ...\n",
       "2021-08-31  0.002012 -0.007396 -0.008449 -0.021582\n",
       "2021-09-30  0.013482  0.051428 -0.018247  0.017483\n",
       "2021-10-29 -0.029780 -0.003084  0.020618 -0.015499\n",
       "2021-11-30 -0.017533 -0.001002  0.080312  0.021601\n",
       "2021-12-31 -0.020277  0.040483  0.060160  0.043286\n",
       "\n",
       "[702 rows x 4 columns]"
      ]
     },
     "execution_count": 59,
     "metadata": {},
     "output_type": "execute_result"
    }
   ],
   "source": [
    "fret  "
   ]
  },
  {
   "cell_type": "code",
   "execution_count": 60,
   "metadata": {
    "slideshow": {
     "slide_type": "subslide"
    }
   },
   "outputs": [
    {
     "data": {
      "text/plain": [
       "<AxesSubplot:xlabel='date'>"
      ]
     },
     "execution_count": 60,
     "metadata": {},
     "output_type": "execute_result"
    },
    {
     "data": {
      "image/png": "[encoded data removed]",
      "text/plain": [
       "<Figure size 720x432 with 1 Axes>"
      ]
     },
     "metadata": {
      "needs_background": "light"
     },
     "output_type": "display_data"
    }
   ],
   "source": [
    "(1+fret.add(rf_data['rf'], axis = 'index')).cumprod().plot(grid=True, logy = True)"
   ]
  },
  {
   "cell_type": "markdown",
   "metadata": {
    "slideshow": {
     "slide_type": "subslide"
    }
   },
   "source": [
    "### Average Returns"
   ]
  },
  {
   "cell_type": "code",
   "execution_count": 61,
   "metadata": {
    "slideshow": {
     "slide_type": "fragment"
    }
   },
   "outputs": [
    {
     "data": {
      "text/plain": [
       "smb    0.028809\n",
       "hml    0.026093\n",
       "rmw    0.032543\n",
       "cma    0.021221\n",
       "dtype: float64"
      ]
     },
     "execution_count": 61,
     "metadata": {},
     "output_type": "execute_result"
    }
   ],
   "source": [
    "fret.mean()*12"
   ]
  },
  {
   "cell_type": "markdown",
   "metadata": {
    "slideshow": {
     "slide_type": "subslide"
    }
   },
   "source": [
    "### Compare Sharpe-ratio"
   ]
  },
  {
   "cell_type": "code",
   "execution_count": 62,
   "metadata": {
    "slideshow": {
     "slide_type": "fragment"
    }
   },
   "outputs": [
    {
     "data": {
      "text/plain": [
       "smb    0.279393\n",
       "hml    0.250164\n",
       "rmw    0.413301\n",
       "cma    0.289840\n",
       "dtype: float64"
      ]
     },
     "execution_count": 62,
     "metadata": {},
     "output_type": "execute_result"
    }
   ],
   "source": [
    "(fret.mean()/fret.std())*np.sqrt(12)"
   ]
  }
 ],
 "metadata": {
  "celltoolbar": "Slideshow",
  "kernelspec": {
   "display_name": "Python 3 (ipykernel)",
   "language": "python",
   "name": "python3"
  },
  "language_info": {
   "codemirror_mode": {
    "name": "ipython",
    "version": 3
   },
   "file_extension": ".py",
   "mimetype": "text/x-python",
   "name": "python",
   "nbconvert_exporter": "python",
   "pygments_lexer": "ipython3",
   "version": "3.8.12"
  },
  "toc": {
   "base_numbering": 1,
   "nav_menu": {},
   "number_sections": true,
   "sideBar": true,
   "skip_h1_title": true,
   "title_cell": "Table of Contents",
   "title_sidebar": "Contents",
   "toc_cell": true,
   "toc_position": {
    "height": "calc(100% - 180px)",
    "left": "10px",
    "top": "150px",
    "width": "236px"
   },
   "toc_section_display": true,
   "toc_window_display": true
  }
 },
 "nbformat": 4,
 "nbformat_minor": 4
}
