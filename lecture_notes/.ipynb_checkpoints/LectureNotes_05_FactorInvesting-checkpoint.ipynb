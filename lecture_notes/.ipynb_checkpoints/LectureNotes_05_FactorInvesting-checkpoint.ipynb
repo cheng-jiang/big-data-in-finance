{
 "cells": [
  {
   "cell_type": "markdown",
   "metadata": {
    "slideshow": {
     "slide_type": "skip"
    },
    "toc": true
   },
   "source": [
    "<h1>Table of Contents<span class=\"tocSkip\"></span></h1>\n",
    "<div class=\"toc\"><ul class=\"toc-item\"><li><span><a href=\"#...-and-the-Cross-Section-of-Expected-Returns\" data-toc-modified-id=\"...-and-the-Cross-Section-of-Expected-Returns-1\"><span class=\"toc-item-num\">1&nbsp;&nbsp;</span>... and the Cross-Section of Expected Returns</a></span></li><li><span><a href=\"#Plan-for-Today\" data-toc-modified-id=\"Plan-for-Today-2\"><span class=\"toc-item-num\">2&nbsp;&nbsp;</span>Plan for Today</a></span></li><li><span><a href=\"#Set-Up\" data-toc-modified-id=\"Set-Up-3\"><span class=\"toc-item-num\">3&nbsp;&nbsp;</span>Set Up</a></span></li><li><span><a href=\"#Download-Data\" data-toc-modified-id=\"Download-Data-4\"><span class=\"toc-item-num\">4&nbsp;&nbsp;</span>Download Data</a></span></li><li><span><a href=\"#Clean-Data\" data-toc-modified-id=\"Clean-Data-5\"><span class=\"toc-item-num\">5&nbsp;&nbsp;</span>Clean Data</a></span><ul class=\"toc-item\"><li><span><a href=\"#Share-type---select-only-common-stocks\" data-toc-modified-id=\"Share-type---select-only-common-stocks-5.1\"><span class=\"toc-item-num\">5.1&nbsp;&nbsp;</span>Share type - select only common stocks</a></span></li><li><span><a href=\"#Select-stocks-traded-on-the-major-stock-exchanges\" data-toc-modified-id=\"Select-stocks-traded-on-the-major-stock-exchanges-5.2\"><span class=\"toc-item-num\">5.2&nbsp;&nbsp;</span>Select stocks traded on the major stock exchanges</a></span></li><li><span><a href=\"#Delete-missing-returns\" data-toc-modified-id=\"Delete-missing-returns-5.3\"><span class=\"toc-item-num\">5.3&nbsp;&nbsp;</span>Delete missing returns</a></span></li><li><span><a href=\"#Merge-data\" data-toc-modified-id=\"Merge-data-5.4\"><span class=\"toc-item-num\">5.4&nbsp;&nbsp;</span>Merge data</a></span></li></ul></li><li><span><a href=\"#Data-Summary\" data-toc-modified-id=\"Data-Summary-6\"><span class=\"toc-item-num\">6&nbsp;&nbsp;</span>Data Summary</a></span></li><li><span><a href=\"#Forcasting-Future-Excess-Returns\" data-toc-modified-id=\"Forcasting-Future-Excess-Returns-7\"><span class=\"toc-item-num\">7&nbsp;&nbsp;</span>Forcasting Future Excess Returns</a></span><ul class=\"toc-item\"><li><span><a href=\"#Does-BEME-forcast-future-returns?\" data-toc-modified-id=\"Does-BEME-forcast-future-returns?-7.1\"><span class=\"toc-item-num\">7.1&nbsp;&nbsp;</span>Does BEME forcast future returns?</a></span><ul class=\"toc-item\"><li><span><a href=\"#What-is-the-problem?\" data-toc-modified-id=\"What-is-the-problem?-7.1.1\"><span class=\"toc-item-num\">7.1.1&nbsp;&nbsp;</span>What is the problem?</a></span></li><li><span><a href=\"#Try-to-run-the-FM-regression-again!\" data-toc-modified-id=\"Try-to-run-the-FM-regression-again!-7.1.2\"><span class=\"toc-item-num\">7.1.2&nbsp;&nbsp;</span>Try to run the FM regression again!</a></span></li></ul></li><li><span><a href=\"#Does-size-forcast-future-returns?\" data-toc-modified-id=\"Does-size-forcast-future-returns?-7.2\"><span class=\"toc-item-num\">7.2&nbsp;&nbsp;</span>Does size forcast future returns?</a></span></li><li><span><a href=\"#What-about-Fama-and-French-2015?\" data-toc-modified-id=\"What-about-Fama-and-French-2015?-7.3\"><span class=\"toc-item-num\">7.3&nbsp;&nbsp;</span>What about Fama and French 2015?</a></span></li></ul></li><li><span><a href=\"#Long-short-portfolio\" data-toc-modified-id=\"Long-short-portfolio-8\"><span class=\"toc-item-num\">8&nbsp;&nbsp;</span>Long-short portfolio</a></span><ul class=\"toc-item\"><li><span><a href=\"#Sort-Portfolio\" data-toc-modified-id=\"Sort-Portfolio-8.1\"><span class=\"toc-item-num\">8.1&nbsp;&nbsp;</span>Sort Portfolio</a></span></li><li><span><a href=\"#Portfolio-returns\" data-toc-modified-id=\"Portfolio-returns-8.2\"><span class=\"toc-item-num\">8.2&nbsp;&nbsp;</span>Portfolio returns</a></span><ul class=\"toc-item\"><li><span><a href=\"#Merge-data\" data-toc-modified-id=\"Merge-data-8.2.1\"><span class=\"toc-item-num\">8.2.1&nbsp;&nbsp;</span>Merge data</a></span></li><li><span><a href=\"#Calculate-returns\" data-toc-modified-id=\"Calculate-returns-8.2.2\"><span class=\"toc-item-num\">8.2.2&nbsp;&nbsp;</span>Calculate returns</a></span></li></ul></li><li><span><a href=\"#Average-Returns\" data-toc-modified-id=\"Average-Returns-8.3\"><span class=\"toc-item-num\">8.3&nbsp;&nbsp;</span>Average Returns</a></span></li><li><span><a href=\"#Compare-Sharpe-ratio\" data-toc-modified-id=\"Compare-Sharpe-ratio-8.4\"><span class=\"toc-item-num\">8.4&nbsp;&nbsp;</span>Compare Sharpe-ratio</a></span></li></ul></li></ul></div>"
   ]
  },
  {
   "cell_type": "markdown",
   "metadata": {
    "slideshow": {
     "slide_type": "slide"
    }
   },
   "source": [
    "# Lecture Notes 5: Factor Investing "
   ]
  },
  {
   "cell_type": "markdown",
   "metadata": {
    "slideshow": {
     "slide_type": "slide"
    }
   },
   "source": [
    "## ... and the Cross-Section of Expected Returns\n",
    "\n",
    "1. [Harvey, Liu and Zhu (RFS, 2016)](https://academic.oup.com/rfs/article/29/1/5/1843824)\n",
    "    1. \"Hundreds of papers and factors attempt to explain the cross-section of expected returns.\"\n",
    "    2. They [list 313 papers](http://faculty.fuqua.duke.edu/~charvey/Factor-List.xlsx) published in a selection of journals that study cross-sectional return patterns. "
   ]
  },
  {
   "cell_type": "markdown",
   "metadata": {
    "slideshow": {
     "slide_type": "subslide"
    }
   },
   "source": [
    "2. The majority of those papers goes: \n",
    "    1. We show that stocks with high value of x on average outperform stocks with low value of x.\n",
    "    2. Is it robust? Run a Fama-MacBeth regression;\n",
    "    3. Is it explained by risk? Form a long-short portfolio based on the new characteristic sort. Test if this portfolio earns an \"alpha\" with respect the benchmark model."
   ]
  },
  {
   "cell_type": "markdown",
   "metadata": {
    "slideshow": {
     "slide_type": "slide"
    }
   },
   "source": [
    "## Plan for Today\n",
    "\n",
    "1. Study the mom vs. short-term reversal strategies;\n",
    "2. Fama-MacBeth regression;\n",
    "3. Alpha evaluation"
   ]
  },
  {
   "cell_type": "markdown",
   "metadata": {
    "slideshow": {
     "slide_type": "slide"
    }
   },
   "source": [
    "## Set Up"
   ]
  },
  {
   "cell_type": "code",
   "execution_count": 1,
   "metadata": {
    "slideshow": {
     "slide_type": "fragment"
    }
   },
   "outputs": [],
   "source": [
    "#%% Packages \n",
    "import sys\n",
    "import pandas as pd\n",
    "import numpy as np\n",
    "import datetime\n",
    "\n",
    "import statsmodels.api as sm\n",
    "import statsmodels.formula.api as smf\n",
    "\n",
    "import matplotlib.pyplot as plt\n",
    "\n",
    "import time\n",
    "from time import strptime, strftime\n",
    "\n",
    "# Setups\n",
    "pd.set_option(\"display.max_rows\", 100) # max number or rows to be displayed \n",
    "%matplotlib inline \n",
    "plt.rcParams['figure.figsize'] = [10, 6]\n",
    "idx = pd.IndexSlice"
   ]
  },
  {
   "cell_type": "code",
   "execution_count": 4,
   "metadata": {
    "slideshow": {
     "slide_type": "subslide"
    }
   },
   "outputs": [],
   "source": [
    "# Packages from fire_pytools\n",
    "sys.path.append(\"/Users/rk2941/Dropbox/RA/Big Data - Spring 2022/fire_pytools\")\n",
    "\n",
    "# Data Import\n",
    "from data_setup import stock_monthly\n",
    "from data_setup import stock_annual\n",
    "\n",
    "# Functions \n",
    "from utils.monthly_date import *\n",
    "from portools.find_breakpoints import find_breakpoints\n",
    "from portools.sort_portfolios import sort_portfolios\n",
    "from import_kf.kf_factors import *"
   ]
  },
  {
   "cell_type": "markdown",
   "metadata": {
    "slideshow": {
     "slide_type": "slide"
    }
   },
   "source": [
    "## Download Data"
   ]
  },
  {
   "cell_type": "code",
   "execution_count": 6,
   "metadata": {
    "slideshow": {
     "slide_type": "fragment"
    }
   },
   "outputs": [
    {
     "name": "stdout",
     "output_type": "stream",
     "text": [
      "Stock monthly calculation started.\n",
      "Enter your WRDS username [lmota]:rkeerati\n",
      "Enter your password:········\n",
      "WRDS recommends setting up a .pgpass file.\n",
      "Create .pgpass file now [y/n]?: y\n",
      "Created .pgpass file successfully.\n",
      "Loading library list...\n",
      "Done\n",
      "CRSP data was successfully downloaded in 90.08759689331055 seconds.\n",
      "Finish resampling. Time to resample data: 2.8601919134457905 minutes\n",
      "Time to create CRSP monthly: 280.89558696746826 seconds\n",
      "Time to create CRSP monthly: 5.06 minutes\n"
     ]
    }
   ],
   "source": [
    "#mdata = stock_monthly.main()\n",
    "#mdata.to_pickle('/Users/rk2941/Dropbox/RA/Big Data - Spring 2022/data/stock_monthly.pkl')\n",
    "mdata = pd.read_pickle('/Users/rk2941/Dropbox/RA/Big Data - Spring 2022/data/stock_monthly.pkl')"
   ]
  },
  {
   "cell_type": "code",
   "execution_count": null,
   "metadata": {
    "slideshow": {
     "slide_type": "fragment"
    }
   },
   "outputs": [
    {
     "name": "stdout",
     "output_type": "stream",
     "text": [
      "Stock annual calculation started.\n"
     ]
    }
   ],
   "source": [
    "#adata = stock_annual.main()\n",
    "#adata.to_pickle('/Users/rk2941/Dropbox/RA/Big Data - Spring 2022/data/stock_annual.pkl')\n",
    "adata = pd.read_pickle('/Users/rk2941/Dropbox/RA/Big Data - Spring 2022/data/stock_annual.pkl')"
   ]
  },
  {
   "cell_type": "code",
   "execution_count": 5,
   "metadata": {
    "slideshow": {
     "slide_type": "subslide"
    }
   },
   "outputs": [],
   "source": [
    "# Create excess returns\n",
    "mdata['exret'] = mdata['retadj'] - mdata['rf']"
   ]
  },
  {
   "cell_type": "markdown",
   "metadata": {
    "slideshow": {
     "slide_type": "slide"
    }
   },
   "source": [
    "## Clean Data"
   ]
  },
  {
   "cell_type": "markdown",
   "metadata": {
    "slideshow": {
     "slide_type": "subslide"
    }
   },
   "source": [
    "### Share type - select only common stocks \n",
    "\n",
    "**First Digit - Security Type** <BR>\n",
    "1\tOrdinary Common Shares <BR>\n",
    "2\tCertificates <BR>\n",
    "3\tADRs (American Depository Receipts) <BR>\n",
    "4\tSBIs (Shares of Beneficial Interest) <BR>\n",
    "7\tUnits (Depository Units, Units of Benefic ial Interest, Units of Limited Partnership Interest, Depository Receipts, etc.) <BR> <BR>\n",
    "\n",
    "**Second Digit - Share Code - Security Type** <BR>\n",
    "0\tSecurities which have not been further defined. <BR>\n",
    "1\tSecurities which need not be further defined. <BR>\n",
    "2\tCompanies incorporated outside the US <BR>\n",
    "3\tAmericus Trust Components (Primes and Scores). <BR>\n",
    "4\tClosed-end funds. <BR>\n",
    "5\tClosed-end fund companies incorporated outside the US <BR>\n",
    "8\tREIT's (Real Estate Investment Trusts). <BR>"
   ]
  },
  {
   "cell_type": "code",
   "execution_count": 6,
   "metadata": {
    "slideshow": {
     "slide_type": "subslide"
    }
   },
   "outputs": [
    {
     "data": {
      "text/plain": [
       "78.40566805133187"
      ]
     },
     "execution_count": 6,
     "metadata": {},
     "output_type": "execute_result"
    }
   ],
   "source": [
    "mdata.shrcd.isin([10, 11]).mean() * 100 "
   ]
  },
  {
   "cell_type": "code",
   "execution_count": 7,
   "metadata": {
    "slideshow": {
     "slide_type": "fragment"
    }
   },
   "outputs": [],
   "source": [
    "mdata = mdata[mdata.shrcd.isin([10, 11])]"
   ]
  },
  {
   "cell_type": "markdown",
   "metadata": {
    "slideshow": {
     "slide_type": "subslide"
    }
   },
   "source": [
    "### Select stocks traded on the major stock exchanges\n",
    "\n",
    "-2\tHalted by the NYSE or AMEX <BR>\n",
    "-1\tSuspended by the NYSE, AMEX, or NASDAQ <BR>\n",
    "0\tNot Trading on NYSE, AMEX, or NASDAQ <BR>\n",
    "1\tNew York Stock Exchange <BR>\n",
    "2\tAmerican Stock Exchange <BR>\n",
    "3\tThe Nasdaq Stock Market(SM) <BR>\n",
    "4\tThe Arca Stock Market(SM) <BR>\n",
    "5\tMutual Funds (As Quoted by NASDAQ) <BR>\n",
    "10\tBoston Stock Exchange <BR>\n",
    "13\tChicago Stock Exchange <BR>\n",
    "16\tPacific Stock Exchange <BR>\n",
    "17\tPhiladelphia Stock Exchange <BR>\n",
    "19\tToronto Stock Exchange <BR>\n",
    "20\tOver-The-Counter (Non-NASDAQ Dealer Quotations) <BR>\n",
    "31\tWhen-issued trading on the NYSE <BR>\n",
    "32\tWhen-issued trading on the AMEX <BR>\n",
    "33\tWhen-issued trading on The NASDAQ <BR>"
   ]
  },
  {
   "cell_type": "code",
   "execution_count": 8,
   "metadata": {
    "slideshow": {
     "slide_type": "subslide"
    }
   },
   "outputs": [
    {
     "data": {
      "text/plain": [
       "0.9843038116175234"
      ]
     },
     "execution_count": 8,
     "metadata": {},
     "output_type": "execute_result"
    }
   ],
   "source": [
    "mdata.exchcd.isin([1, 2, 3]).mean()"
   ]
  },
  {
   "cell_type": "code",
   "execution_count": 9,
   "metadata": {
    "slideshow": {
     "slide_type": "fragment"
    }
   },
   "outputs": [],
   "source": [
    "mdata = mdata[mdata.exchcd.isin([1, 2, 3])]"
   ]
  },
  {
   "cell_type": "markdown",
   "metadata": {
    "slideshow": {
     "slide_type": "subslide"
    }
   },
   "source": [
    "### Delete missing returns"
   ]
  },
  {
   "cell_type": "code",
   "execution_count": 10,
   "metadata": {
    "slideshow": {
     "slide_type": "fragment"
    }
   },
   "outputs": [],
   "source": [
    "mdata = mdata[mdata['exret'].notnull()]\n",
    "mdata = mdata[mdata['lag_me'].notnull()]"
   ]
  },
  {
   "cell_type": "markdown",
   "metadata": {
    "slideshow": {
     "slide_type": "slide"
    }
   },
   "source": [
    "### Merge data"
   ]
  },
  {
   "cell_type": "markdown",
   "metadata": {
    "slideshow": {
     "slide_type": "slide"
    }
   },
   "source": [
    "Our objective: find stock characteristics that forecast **FUTURE** returns. <BR><BR>\n",
    "$$r_{i,t+1} = \\alpha + \\beta c_{i,t} + \\varepsilon_{i,t+1} $$\n"
   ]
  },
  {
   "cell_type": "code",
   "execution_count": 11,
   "metadata": {
    "slideshow": {
     "slide_type": "subslide"
    }
   },
   "outputs": [
    {
     "data": {
      "text/html": [
       "<div>\n",
       "<style scoped>\n",
       "    .dataframe tbody tr th:only-of-type {\n",
       "        vertical-align: middle;\n",
       "    }\n",
       "\n",
       "    .dataframe tbody tr th {\n",
       "        vertical-align: top;\n",
       "    }\n",
       "\n",
       "    .dataframe thead th {\n",
       "        text-align: right;\n",
       "    }\n",
       "</style>\n",
       "<table border=\"1\" class=\"dataframe\">\n",
       "  <thead>\n",
       "    <tr style=\"text-align: right;\">\n",
       "      <th></th>\n",
       "      <th>permno</th>\n",
       "      <th>gvkey</th>\n",
       "      <th>tic</th>\n",
       "      <th>fyear</th>\n",
       "      <th>datadate</th>\n",
       "      <th>rankyear</th>\n",
       "      <th>beme</th>\n",
       "    </tr>\n",
       "  </thead>\n",
       "  <tbody>\n",
       "    <tr>\n",
       "      <th>52066</th>\n",
       "      <td>14593</td>\n",
       "      <td>NaN</td>\n",
       "      <td>NaN</td>\n",
       "      <td>NaN</td>\n",
       "      <td>NaT</td>\n",
       "      <td>1981.0</td>\n",
       "      <td>NaN</td>\n",
       "    </tr>\n",
       "    <tr>\n",
       "      <th>52067</th>\n",
       "      <td>14593</td>\n",
       "      <td>001690</td>\n",
       "      <td>AAPL</td>\n",
       "      <td>1981.0</td>\n",
       "      <td>1981-09-30</td>\n",
       "      <td>1982.0</td>\n",
       "      <td>0.000149</td>\n",
       "    </tr>\n",
       "    <tr>\n",
       "      <th>52068</th>\n",
       "      <td>14593</td>\n",
       "      <td>001690</td>\n",
       "      <td>AAPL</td>\n",
       "      <td>1982.0</td>\n",
       "      <td>1982-09-30</td>\n",
       "      <td>1983.0</td>\n",
       "      <td>0.000157</td>\n",
       "    </tr>\n",
       "    <tr>\n",
       "      <th>52069</th>\n",
       "      <td>14593</td>\n",
       "      <td>001690</td>\n",
       "      <td>AAPL</td>\n",
       "      <td>1983.0</td>\n",
       "      <td>1983-09-30</td>\n",
       "      <td>1984.0</td>\n",
       "      <td>0.000295</td>\n",
       "    </tr>\n",
       "    <tr>\n",
       "      <th>52070</th>\n",
       "      <td>14593</td>\n",
       "      <td>001690</td>\n",
       "      <td>AAPL</td>\n",
       "      <td>1984.0</td>\n",
       "      <td>1984-09-30</td>\n",
       "      <td>1985.0</td>\n",
       "      <td>0.000302</td>\n",
       "    </tr>\n",
       "    <tr>\n",
       "      <th>52071</th>\n",
       "      <td>14593</td>\n",
       "      <td>001690</td>\n",
       "      <td>AAPL</td>\n",
       "      <td>1985.0</td>\n",
       "      <td>1985-09-30</td>\n",
       "      <td>1986.0</td>\n",
       "      <td>0.000468</td>\n",
       "    </tr>\n",
       "    <tr>\n",
       "      <th>52072</th>\n",
       "      <td>14593</td>\n",
       "      <td>001690</td>\n",
       "      <td>AAPL</td>\n",
       "      <td>1986.0</td>\n",
       "      <td>1986-09-30</td>\n",
       "      <td>1987.0</td>\n",
       "      <td>0.000327</td>\n",
       "    </tr>\n",
       "    <tr>\n",
       "      <th>52073</th>\n",
       "      <td>14593</td>\n",
       "      <td>001690</td>\n",
       "      <td>AAPL</td>\n",
       "      <td>1987.0</td>\n",
       "      <td>1987-09-30</td>\n",
       "      <td>1988.0</td>\n",
       "      <td>0.000192</td>\n",
       "    </tr>\n",
       "    <tr>\n",
       "      <th>52074</th>\n",
       "      <td>14593</td>\n",
       "      <td>001690</td>\n",
       "      <td>AAPL</td>\n",
       "      <td>1988.0</td>\n",
       "      <td>1988-09-30</td>\n",
       "      <td>1989.0</td>\n",
       "      <td>0.000253</td>\n",
       "    </tr>\n",
       "    <tr>\n",
       "      <th>52075</th>\n",
       "      <td>14593</td>\n",
       "      <td>001690</td>\n",
       "      <td>AAPL</td>\n",
       "      <td>1989.0</td>\n",
       "      <td>1989-09-30</td>\n",
       "      <td>1990.0</td>\n",
       "      <td>0.000419</td>\n",
       "    </tr>\n",
       "    <tr>\n",
       "      <th>52076</th>\n",
       "      <td>14593</td>\n",
       "      <td>001690</td>\n",
       "      <td>AAPL</td>\n",
       "      <td>1990.0</td>\n",
       "      <td>1990-09-30</td>\n",
       "      <td>1991.0</td>\n",
       "      <td>0.000396</td>\n",
       "    </tr>\n",
       "    <tr>\n",
       "      <th>52077</th>\n",
       "      <td>14593</td>\n",
       "      <td>001690</td>\n",
       "      <td>AAPL</td>\n",
       "      <td>1991.0</td>\n",
       "      <td>1991-09-30</td>\n",
       "      <td>1992.0</td>\n",
       "      <td>0.000341</td>\n",
       "    </tr>\n",
       "    <tr>\n",
       "      <th>52078</th>\n",
       "      <td>14593</td>\n",
       "      <td>001690</td>\n",
       "      <td>AAPL</td>\n",
       "      <td>1992.0</td>\n",
       "      <td>1992-09-30</td>\n",
       "      <td>1993.0</td>\n",
       "      <td>0.000397</td>\n",
       "    </tr>\n",
       "    <tr>\n",
       "      <th>52079</th>\n",
       "      <td>14593</td>\n",
       "      <td>001690</td>\n",
       "      <td>AAPL</td>\n",
       "      <td>1993.0</td>\n",
       "      <td>1993-09-30</td>\n",
       "      <td>1994.0</td>\n",
       "      <td>0.000595</td>\n",
       "    </tr>\n",
       "    <tr>\n",
       "      <th>52080</th>\n",
       "      <td>14593</td>\n",
       "      <td>001690</td>\n",
       "      <td>AAPL</td>\n",
       "      <td>1994.0</td>\n",
       "      <td>1994-09-30</td>\n",
       "      <td>1995.0</td>\n",
       "      <td>0.000510</td>\n",
       "    </tr>\n",
       "    <tr>\n",
       "      <th>52081</th>\n",
       "      <td>14593</td>\n",
       "      <td>001690</td>\n",
       "      <td>AAPL</td>\n",
       "      <td>1995.0</td>\n",
       "      <td>1995-09-30</td>\n",
       "      <td>1996.0</td>\n",
       "      <td>0.000739</td>\n",
       "    </tr>\n",
       "    <tr>\n",
       "      <th>52082</th>\n",
       "      <td>14593</td>\n",
       "      <td>001690</td>\n",
       "      <td>AAPL</td>\n",
       "      <td>1996.0</td>\n",
       "      <td>1996-09-30</td>\n",
       "      <td>1997.0</td>\n",
       "      <td>0.000791</td>\n",
       "    </tr>\n",
       "    <tr>\n",
       "      <th>52083</th>\n",
       "      <td>14593</td>\n",
       "      <td>001690</td>\n",
       "      <td>AAPL</td>\n",
       "      <td>1997.0</td>\n",
       "      <td>1997-09-30</td>\n",
       "      <td>1998.0</td>\n",
       "      <td>0.000625</td>\n",
       "    </tr>\n",
       "    <tr>\n",
       "      <th>52084</th>\n",
       "      <td>14593</td>\n",
       "      <td>001690</td>\n",
       "      <td>AAPL</td>\n",
       "      <td>1998.0</td>\n",
       "      <td>1998-09-30</td>\n",
       "      <td>1999.0</td>\n",
       "      <td>0.000267</td>\n",
       "    </tr>\n",
       "    <tr>\n",
       "      <th>52085</th>\n",
       "      <td>14593</td>\n",
       "      <td>001690</td>\n",
       "      <td>AAPL</td>\n",
       "      <td>1999.0</td>\n",
       "      <td>1999-09-30</td>\n",
       "      <td>2000.0</td>\n",
       "      <td>0.000178</td>\n",
       "    </tr>\n",
       "    <tr>\n",
       "      <th>52086</th>\n",
       "      <td>14593</td>\n",
       "      <td>001690</td>\n",
       "      <td>AAPL</td>\n",
       "      <td>2000.0</td>\n",
       "      <td>2000-09-30</td>\n",
       "      <td>2001.0</td>\n",
       "      <td>0.000785</td>\n",
       "    </tr>\n",
       "    <tr>\n",
       "      <th>52087</th>\n",
       "      <td>14593</td>\n",
       "      <td>001690</td>\n",
       "      <td>AAPL</td>\n",
       "      <td>2001.0</td>\n",
       "      <td>2001-09-30</td>\n",
       "      <td>2002.0</td>\n",
       "      <td>0.000508</td>\n",
       "    </tr>\n",
       "    <tr>\n",
       "      <th>52088</th>\n",
       "      <td>14593</td>\n",
       "      <td>001690</td>\n",
       "      <td>AAPL</td>\n",
       "      <td>2002.0</td>\n",
       "      <td>2002-09-30</td>\n",
       "      <td>2003.0</td>\n",
       "      <td>0.000793</td>\n",
       "    </tr>\n",
       "    <tr>\n",
       "      <th>52089</th>\n",
       "      <td>14593</td>\n",
       "      <td>001690</td>\n",
       "      <td>AAPL</td>\n",
       "      <td>2003.0</td>\n",
       "      <td>2003-09-30</td>\n",
       "      <td>2004.0</td>\n",
       "      <td>0.000536</td>\n",
       "    </tr>\n",
       "    <tr>\n",
       "      <th>52090</th>\n",
       "      <td>14593</td>\n",
       "      <td>001690</td>\n",
       "      <td>AAPL</td>\n",
       "      <td>2004.0</td>\n",
       "      <td>2004-09-30</td>\n",
       "      <td>2005.0</td>\n",
       "      <td>0.000195</td>\n",
       "    </tr>\n",
       "    <tr>\n",
       "      <th>52091</th>\n",
       "      <td>14593</td>\n",
       "      <td>001690</td>\n",
       "      <td>AAPL</td>\n",
       "      <td>2005.0</td>\n",
       "      <td>2005-09-30</td>\n",
       "      <td>2006.0</td>\n",
       "      <td>0.000123</td>\n",
       "    </tr>\n",
       "    <tr>\n",
       "      <th>52092</th>\n",
       "      <td>14593</td>\n",
       "      <td>001690</td>\n",
       "      <td>AAPL</td>\n",
       "      <td>2006.0</td>\n",
       "      <td>2006-09-30</td>\n",
       "      <td>2007.0</td>\n",
       "      <td>0.000137</td>\n",
       "    </tr>\n",
       "    <tr>\n",
       "      <th>52093</th>\n",
       "      <td>14593</td>\n",
       "      <td>001690</td>\n",
       "      <td>AAPL</td>\n",
       "      <td>2007.0</td>\n",
       "      <td>2007-09-30</td>\n",
       "      <td>2008.0</td>\n",
       "      <td>0.000083</td>\n",
       "    </tr>\n",
       "    <tr>\n",
       "      <th>52094</th>\n",
       "      <td>14593</td>\n",
       "      <td>001690</td>\n",
       "      <td>AAPL</td>\n",
       "      <td>2008.0</td>\n",
       "      <td>2008-09-30</td>\n",
       "      <td>2009.0</td>\n",
       "      <td>0.000277</td>\n",
       "    </tr>\n",
       "    <tr>\n",
       "      <th>52095</th>\n",
       "      <td>14593</td>\n",
       "      <td>001690</td>\n",
       "      <td>AAPL</td>\n",
       "      <td>2009.0</td>\n",
       "      <td>2009-09-30</td>\n",
       "      <td>2010.0</td>\n",
       "      <td>0.000166</td>\n",
       "    </tr>\n",
       "    <tr>\n",
       "      <th>52096</th>\n",
       "      <td>14593</td>\n",
       "      <td>001690</td>\n",
       "      <td>AAPL</td>\n",
       "      <td>2010.0</td>\n",
       "      <td>2010-09-30</td>\n",
       "      <td>2011.0</td>\n",
       "      <td>0.000161</td>\n",
       "    </tr>\n",
       "    <tr>\n",
       "      <th>52097</th>\n",
       "      <td>14593</td>\n",
       "      <td>001690</td>\n",
       "      <td>AAPL</td>\n",
       "      <td>2011.0</td>\n",
       "      <td>2011-09-30</td>\n",
       "      <td>2012.0</td>\n",
       "      <td>0.000203</td>\n",
       "    </tr>\n",
       "    <tr>\n",
       "      <th>52098</th>\n",
       "      <td>14593</td>\n",
       "      <td>001690</td>\n",
       "      <td>AAPL</td>\n",
       "      <td>2012.0</td>\n",
       "      <td>2012-09-30</td>\n",
       "      <td>2013.0</td>\n",
       "      <td>0.000237</td>\n",
       "    </tr>\n",
       "    <tr>\n",
       "      <th>52099</th>\n",
       "      <td>14593</td>\n",
       "      <td>001690</td>\n",
       "      <td>AAPL</td>\n",
       "      <td>2013.0</td>\n",
       "      <td>2013-09-30</td>\n",
       "      <td>2014.0</td>\n",
       "      <td>0.000247</td>\n",
       "    </tr>\n",
       "    <tr>\n",
       "      <th>52100</th>\n",
       "      <td>14593</td>\n",
       "      <td>001690</td>\n",
       "      <td>AAPL</td>\n",
       "      <td>2014.0</td>\n",
       "      <td>2014-09-30</td>\n",
       "      <td>2015.0</td>\n",
       "      <td>0.000173</td>\n",
       "    </tr>\n",
       "    <tr>\n",
       "      <th>52101</th>\n",
       "      <td>14593</td>\n",
       "      <td>001690</td>\n",
       "      <td>AAPL</td>\n",
       "      <td>2015.0</td>\n",
       "      <td>2015-09-30</td>\n",
       "      <td>2016.0</td>\n",
       "      <td>0.000205</td>\n",
       "    </tr>\n",
       "    <tr>\n",
       "      <th>52102</th>\n",
       "      <td>14593</td>\n",
       "      <td>001690</td>\n",
       "      <td>AAPL</td>\n",
       "      <td>2016.0</td>\n",
       "      <td>2016-09-30</td>\n",
       "      <td>2017.0</td>\n",
       "      <td>0.000211</td>\n",
       "    </tr>\n",
       "    <tr>\n",
       "      <th>52103</th>\n",
       "      <td>14593</td>\n",
       "      <td>001690</td>\n",
       "      <td>AAPL</td>\n",
       "      <td>2017.0</td>\n",
       "      <td>2017-09-30</td>\n",
       "      <td>2018.0</td>\n",
       "      <td>0.000156</td>\n",
       "    </tr>\n",
       "    <tr>\n",
       "      <th>52104</th>\n",
       "      <td>14593</td>\n",
       "      <td>001690</td>\n",
       "      <td>AAPL</td>\n",
       "      <td>2018.0</td>\n",
       "      <td>2018-09-30</td>\n",
       "      <td>2019.0</td>\n",
       "      <td>0.000144</td>\n",
       "    </tr>\n",
       "    <tr>\n",
       "      <th>52105</th>\n",
       "      <td>14593</td>\n",
       "      <td>001690</td>\n",
       "      <td>AAPL</td>\n",
       "      <td>2019.0</td>\n",
       "      <td>2019-09-30</td>\n",
       "      <td>2020.0</td>\n",
       "      <td>0.000070</td>\n",
       "    </tr>\n",
       "    <tr>\n",
       "      <th>52106</th>\n",
       "      <td>14593</td>\n",
       "      <td>001690</td>\n",
       "      <td>AAPL</td>\n",
       "      <td>2020.0</td>\n",
       "      <td>2020-09-30</td>\n",
       "      <td>2021.0</td>\n",
       "      <td>0.000029</td>\n",
       "    </tr>\n",
       "  </tbody>\n",
       "</table>\n",
       "</div>"
      ],
      "text/plain": [
       "       permno   gvkey   tic   fyear   datadate  rankyear      beme\n",
       "52066   14593     NaN   NaN     NaN        NaT    1981.0       NaN\n",
       "52067   14593  001690  AAPL  1981.0 1981-09-30    1982.0  0.000149\n",
       "52068   14593  001690  AAPL  1982.0 1982-09-30    1983.0  0.000157\n",
       "52069   14593  001690  AAPL  1983.0 1983-09-30    1984.0  0.000295\n",
       "52070   14593  001690  AAPL  1984.0 1984-09-30    1985.0  0.000302\n",
       "52071   14593  001690  AAPL  1985.0 1985-09-30    1986.0  0.000468\n",
       "52072   14593  001690  AAPL  1986.0 1986-09-30    1987.0  0.000327\n",
       "52073   14593  001690  AAPL  1987.0 1987-09-30    1988.0  0.000192\n",
       "52074   14593  001690  AAPL  1988.0 1988-09-30    1989.0  0.000253\n",
       "52075   14593  001690  AAPL  1989.0 1989-09-30    1990.0  0.000419\n",
       "52076   14593  001690  AAPL  1990.0 1990-09-30    1991.0  0.000396\n",
       "52077   14593  001690  AAPL  1991.0 1991-09-30    1992.0  0.000341\n",
       "52078   14593  001690  AAPL  1992.0 1992-09-30    1993.0  0.000397\n",
       "52079   14593  001690  AAPL  1993.0 1993-09-30    1994.0  0.000595\n",
       "52080   14593  001690  AAPL  1994.0 1994-09-30    1995.0  0.000510\n",
       "52081   14593  001690  AAPL  1995.0 1995-09-30    1996.0  0.000739\n",
       "52082   14593  001690  AAPL  1996.0 1996-09-30    1997.0  0.000791\n",
       "52083   14593  001690  AAPL  1997.0 1997-09-30    1998.0  0.000625\n",
       "52084   14593  001690  AAPL  1998.0 1998-09-30    1999.0  0.000267\n",
       "52085   14593  001690  AAPL  1999.0 1999-09-30    2000.0  0.000178\n",
       "52086   14593  001690  AAPL  2000.0 2000-09-30    2001.0  0.000785\n",
       "52087   14593  001690  AAPL  2001.0 2001-09-30    2002.0  0.000508\n",
       "52088   14593  001690  AAPL  2002.0 2002-09-30    2003.0  0.000793\n",
       "52089   14593  001690  AAPL  2003.0 2003-09-30    2004.0  0.000536\n",
       "52090   14593  001690  AAPL  2004.0 2004-09-30    2005.0  0.000195\n",
       "52091   14593  001690  AAPL  2005.0 2005-09-30    2006.0  0.000123\n",
       "52092   14593  001690  AAPL  2006.0 2006-09-30    2007.0  0.000137\n",
       "52093   14593  001690  AAPL  2007.0 2007-09-30    2008.0  0.000083\n",
       "52094   14593  001690  AAPL  2008.0 2008-09-30    2009.0  0.000277\n",
       "52095   14593  001690  AAPL  2009.0 2009-09-30    2010.0  0.000166\n",
       "52096   14593  001690  AAPL  2010.0 2010-09-30    2011.0  0.000161\n",
       "52097   14593  001690  AAPL  2011.0 2011-09-30    2012.0  0.000203\n",
       "52098   14593  001690  AAPL  2012.0 2012-09-30    2013.0  0.000237\n",
       "52099   14593  001690  AAPL  2013.0 2013-09-30    2014.0  0.000247\n",
       "52100   14593  001690  AAPL  2014.0 2014-09-30    2015.0  0.000173\n",
       "52101   14593  001690  AAPL  2015.0 2015-09-30    2016.0  0.000205\n",
       "52102   14593  001690  AAPL  2016.0 2016-09-30    2017.0  0.000211\n",
       "52103   14593  001690  AAPL  2017.0 2017-09-30    2018.0  0.000156\n",
       "52104   14593  001690  AAPL  2018.0 2018-09-30    2019.0  0.000144\n",
       "52105   14593  001690  AAPL  2019.0 2019-09-30    2020.0  0.000070\n",
       "52106   14593  001690  AAPL  2020.0 2020-09-30    2021.0  0.000029"
      ]
     },
     "execution_count": 11,
     "metadata": {},
     "output_type": "execute_result"
    }
   ],
   "source": [
    "# Example: APPLE\n",
    "adata[['permno', 'gvkey', 'tic', 'fyear', 'datadate', 'rankyear', 'beme']][adata.permno==14593]"
   ]
  },
  {
   "cell_type": "code",
   "execution_count": 13,
   "metadata": {},
   "outputs": [
    {
     "data": {
      "text/html": [
       "<div>\n",
       "<style scoped>\n",
       "    .dataframe tbody tr th:only-of-type {\n",
       "        vertical-align: middle;\n",
       "    }\n",
       "\n",
       "    .dataframe tbody tr th {\n",
       "        vertical-align: top;\n",
       "    }\n",
       "\n",
       "    .dataframe thead th {\n",
       "        text-align: right;\n",
       "    }\n",
       "</style>\n",
       "<table border=\"1\" class=\"dataframe\">\n",
       "  <thead>\n",
       "    <tr style=\"text-align: right;\">\n",
       "      <th></th>\n",
       "      <th>permno</th>\n",
       "      <th>date</th>\n",
       "      <th>exret</th>\n",
       "    </tr>\n",
       "  </thead>\n",
       "  <tbody>\n",
       "    <tr>\n",
       "      <th>603106</th>\n",
       "      <td>14593</td>\n",
       "      <td>1981-01-30</td>\n",
       "      <td>-0.179975</td>\n",
       "    </tr>\n",
       "    <tr>\n",
       "      <th>603107</th>\n",
       "      <td>14593</td>\n",
       "      <td>1981-02-27</td>\n",
       "      <td>-0.072359</td>\n",
       "    </tr>\n",
       "    <tr>\n",
       "      <th>603108</th>\n",
       "      <td>14593</td>\n",
       "      <td>1981-03-31</td>\n",
       "      <td>-0.088274</td>\n",
       "    </tr>\n",
       "    <tr>\n",
       "      <th>603109</th>\n",
       "      <td>14593</td>\n",
       "      <td>1981-04-30</td>\n",
       "      <td>0.146604</td>\n",
       "    </tr>\n",
       "    <tr>\n",
       "      <th>603110</th>\n",
       "      <td>14593</td>\n",
       "      <td>1981-05-29</td>\n",
       "      <td>0.153828</td>\n",
       "    </tr>\n",
       "    <tr>\n",
       "      <th>...</th>\n",
       "      <td>...</td>\n",
       "      <td>...</td>\n",
       "      <td>...</td>\n",
       "    </tr>\n",
       "    <tr>\n",
       "      <th>603581</th>\n",
       "      <td>14593</td>\n",
       "      <td>2020-08-31</td>\n",
       "      <td>0.216230</td>\n",
       "    </tr>\n",
       "    <tr>\n",
       "      <th>603582</th>\n",
       "      <td>14593</td>\n",
       "      <td>2020-09-30</td>\n",
       "      <td>-0.102602</td>\n",
       "    </tr>\n",
       "    <tr>\n",
       "      <th>603583</th>\n",
       "      <td>14593</td>\n",
       "      <td>2020-10-30</td>\n",
       "      <td>-0.060085</td>\n",
       "    </tr>\n",
       "    <tr>\n",
       "      <th>603584</th>\n",
       "      <td>14593</td>\n",
       "      <td>2020-11-30</td>\n",
       "      <td>0.095424</td>\n",
       "    </tr>\n",
       "    <tr>\n",
       "      <th>603585</th>\n",
       "      <td>14593</td>\n",
       "      <td>2020-12-31</td>\n",
       "      <td>0.114514</td>\n",
       "    </tr>\n",
       "  </tbody>\n",
       "</table>\n",
       "<p>480 rows × 3 columns</p>\n",
       "</div>"
      ],
      "text/plain": [
       "        permno       date     exret\n",
       "603106   14593 1981-01-30 -0.179975\n",
       "603107   14593 1981-02-27 -0.072359\n",
       "603108   14593 1981-03-31 -0.088274\n",
       "603109   14593 1981-04-30  0.146604\n",
       "603110   14593 1981-05-29  0.153828\n",
       "...        ...        ...       ...\n",
       "603581   14593 2020-08-31  0.216230\n",
       "603582   14593 2020-09-30 -0.102602\n",
       "603583   14593 2020-10-30 -0.060085\n",
       "603584   14593 2020-11-30  0.095424\n",
       "603585   14593 2020-12-31  0.114514\n",
       "\n",
       "[480 rows x 3 columns]"
      ]
     },
     "execution_count": 13,
     "metadata": {},
     "output_type": "execute_result"
    }
   ],
   "source": [
    "mdata[mdata.permno==14593][['permno', 'date', 'exret']]"
   ]
  },
  {
   "cell_type": "code",
   "execution_count": 14,
   "metadata": {
    "slideshow": {
     "slide_type": "subslide"
    }
   },
   "outputs": [],
   "source": [
    "# Portfolios are rebalanced in the end of june\n",
    "mdata['rankyear'] = mdata.date.dt.year\n",
    "mdata.loc[mdata.date.dt.month <= 6, 'rankyear'] = mdata.loc[mdata.date.dt.month <= 6, 'rankyear'] - 1"
   ]
  },
  {
   "cell_type": "code",
   "execution_count": 16,
   "metadata": {
    "slideshow": {
     "slide_type": "subslide"
    }
   },
   "outputs": [
    {
     "data": {
      "text/html": [
       "<div>\n",
       "<style scoped>\n",
       "    .dataframe tbody tr th:only-of-type {\n",
       "        vertical-align: middle;\n",
       "    }\n",
       "\n",
       "    .dataframe tbody tr th {\n",
       "        vertical-align: top;\n",
       "    }\n",
       "\n",
       "    .dataframe thead th {\n",
       "        text-align: right;\n",
       "    }\n",
       "</style>\n",
       "<table border=\"1\" class=\"dataframe\">\n",
       "  <thead>\n",
       "    <tr style=\"text-align: right;\">\n",
       "      <th></th>\n",
       "      <th>permno</th>\n",
       "      <th>date</th>\n",
       "      <th>rankyear</th>\n",
       "      <th>exchcd</th>\n",
       "      <th>exret</th>\n",
       "      <th>lag_me</th>\n",
       "    </tr>\n",
       "  </thead>\n",
       "  <tbody>\n",
       "    <tr>\n",
       "      <th>603106</th>\n",
       "      <td>14593</td>\n",
       "      <td>1981-01-30</td>\n",
       "      <td>1980</td>\n",
       "      <td>3.0</td>\n",
       "      <td>-0.179975</td>\n",
       "      <td>1.884962e+03</td>\n",
       "    </tr>\n",
       "    <tr>\n",
       "      <th>603107</th>\n",
       "      <td>14593</td>\n",
       "      <td>1981-02-27</td>\n",
       "      <td>1980</td>\n",
       "      <td>3.0</td>\n",
       "      <td>-0.072359</td>\n",
       "      <td>1.564484e+03</td>\n",
       "    </tr>\n",
       "    <tr>\n",
       "      <th>603108</th>\n",
       "      <td>14593</td>\n",
       "      <td>1981-03-31</td>\n",
       "      <td>1980</td>\n",
       "      <td>3.0</td>\n",
       "      <td>-0.088274</td>\n",
       "      <td>1.467996e+03</td>\n",
       "    </tr>\n",
       "    <tr>\n",
       "      <th>603109</th>\n",
       "      <td>14593</td>\n",
       "      <td>1981-04-30</td>\n",
       "      <td>1980</td>\n",
       "      <td>3.0</td>\n",
       "      <td>0.146604</td>\n",
       "      <td>1.357724e+03</td>\n",
       "    </tr>\n",
       "    <tr>\n",
       "      <th>603110</th>\n",
       "      <td>14593</td>\n",
       "      <td>1981-05-29</td>\n",
       "      <td>1980</td>\n",
       "      <td>3.0</td>\n",
       "      <td>0.153828</td>\n",
       "      <td>1.571376e+03</td>\n",
       "    </tr>\n",
       "    <tr>\n",
       "      <th>...</th>\n",
       "      <td>...</td>\n",
       "      <td>...</td>\n",
       "      <td>...</td>\n",
       "      <td>...</td>\n",
       "      <td>...</td>\n",
       "      <td>...</td>\n",
       "    </tr>\n",
       "    <tr>\n",
       "      <th>603581</th>\n",
       "      <td>14593</td>\n",
       "      <td>2020-08-31</td>\n",
       "      <td>2020</td>\n",
       "      <td>3.0</td>\n",
       "      <td>0.216230</td>\n",
       "      <td>1.817316e+06</td>\n",
       "    </tr>\n",
       "    <tr>\n",
       "      <th>603582</th>\n",
       "      <td>14593</td>\n",
       "      <td>2020-09-30</td>\n",
       "      <td>2020</td>\n",
       "      <td>3.0</td>\n",
       "      <td>-0.102602</td>\n",
       "      <td>2.206911e+06</td>\n",
       "    </tr>\n",
       "    <tr>\n",
       "      <th>603583</th>\n",
       "      <td>14593</td>\n",
       "      <td>2020-10-30</td>\n",
       "      <td>2020</td>\n",
       "      <td>3.0</td>\n",
       "      <td>-0.060085</td>\n",
       "      <td>1.966079e+06</td>\n",
       "    </tr>\n",
       "    <tr>\n",
       "      <th>603584</th>\n",
       "      <td>14593</td>\n",
       "      <td>2020-11-30</td>\n",
       "      <td>2020</td>\n",
       "      <td>3.0</td>\n",
       "      <td>0.095424</td>\n",
       "      <td>1.850816e+06</td>\n",
       "    </tr>\n",
       "    <tr>\n",
       "      <th>603585</th>\n",
       "      <td>14593</td>\n",
       "      <td>2020-12-31</td>\n",
       "      <td>2020</td>\n",
       "      <td>3.0</td>\n",
       "      <td>0.114514</td>\n",
       "      <td>2.024065e+06</td>\n",
       "    </tr>\n",
       "  </tbody>\n",
       "</table>\n",
       "<p>480 rows × 6 columns</p>\n",
       "</div>"
      ],
      "text/plain": [
       "        permno       date  rankyear  exchcd     exret        lag_me\n",
       "603106   14593 1981-01-30      1980     3.0 -0.179975  1.884962e+03\n",
       "603107   14593 1981-02-27      1980     3.0 -0.072359  1.564484e+03\n",
       "603108   14593 1981-03-31      1980     3.0 -0.088274  1.467996e+03\n",
       "603109   14593 1981-04-30      1980     3.0  0.146604  1.357724e+03\n",
       "603110   14593 1981-05-29      1980     3.0  0.153828  1.571376e+03\n",
       "...        ...        ...       ...     ...       ...           ...\n",
       "603581   14593 2020-08-31      2020     3.0  0.216230  1.817316e+06\n",
       "603582   14593 2020-09-30      2020     3.0 -0.102602  2.206911e+06\n",
       "603583   14593 2020-10-30      2020     3.0 -0.060085  1.966079e+06\n",
       "603584   14593 2020-11-30      2020     3.0  0.095424  1.850816e+06\n",
       "603585   14593 2020-12-31      2020     3.0  0.114514  2.024065e+06\n",
       "\n",
       "[480 rows x 6 columns]"
      ]
     },
     "execution_count": 16,
     "metadata": {},
     "output_type": "execute_result"
    }
   ],
   "source": [
    "mdata[['permno', 'date', 'rankyear', 'exchcd', 'exret', 'lag_me']][mdata.permno==14593]"
   ]
  },
  {
   "cell_type": "code",
   "execution_count": 17,
   "metadata": {
    "slideshow": {
     "slide_type": "subslide"
    }
   },
   "outputs": [],
   "source": [
    "fdata = pd.merge(mdata[['permno', 'date', 'ticker', 'rankyear', 'exchcd', 'exret', 'retadj', 'lag_me', 'rf']],\n",
    "                 adata[['permno', 'gvkey', 'conm', 'fyear', 'datadate', 'rankyear', 'mesum_dec', 'beme', 'opbe', 'inv_gvkey']],\n",
    "                 on = ['permno','rankyear' ])"
   ]
  },
  {
   "cell_type": "code",
   "execution_count": 18,
   "metadata": {
    "slideshow": {
     "slide_type": "fragment"
    }
   },
   "outputs": [],
   "source": [
    "fdata.rename(columns = {'inv_gvkey': 'inv'}, inplace = True)\n",
    "fdata.rename(columns = {'mesum_dec': 'mesum'}, inplace = True)"
   ]
  },
  {
   "cell_type": "markdown",
   "metadata": {
    "slideshow": {
     "slide_type": "slide"
    }
   },
   "source": [
    "## Data Summary"
   ]
  },
  {
   "cell_type": "code",
   "execution_count": 19,
   "metadata": {
    "slideshow": {
     "slide_type": "subslide"
    }
   },
   "outputs": [
    {
     "data": {
      "text/html": [
       "<div>\n",
       "<style scoped>\n",
       "    .dataframe tbody tr th:only-of-type {\n",
       "        vertical-align: middle;\n",
       "    }\n",
       "\n",
       "    .dataframe tbody tr th {\n",
       "        vertical-align: top;\n",
       "    }\n",
       "\n",
       "    .dataframe thead th {\n",
       "        text-align: right;\n",
       "    }\n",
       "</style>\n",
       "<table border=\"1\" class=\"dataframe\">\n",
       "  <thead>\n",
       "    <tr style=\"text-align: right;\">\n",
       "      <th></th>\n",
       "      <th>permno</th>\n",
       "      <th>rankyear</th>\n",
       "      <th>exchcd</th>\n",
       "      <th>exret</th>\n",
       "      <th>retadj</th>\n",
       "      <th>lag_me</th>\n",
       "      <th>rf</th>\n",
       "      <th>fyear</th>\n",
       "      <th>mesum</th>\n",
       "      <th>beme</th>\n",
       "      <th>opbe</th>\n",
       "      <th>inv</th>\n",
       "    </tr>\n",
       "  </thead>\n",
       "  <tbody>\n",
       "    <tr>\n",
       "      <th>count</th>\n",
       "      <td>3.466394e+06</td>\n",
       "      <td>3.466394e+06</td>\n",
       "      <td>3.466394e+06</td>\n",
       "      <td>3.466394e+06</td>\n",
       "      <td>3.466394e+06</td>\n",
       "      <td>3.466394e+06</td>\n",
       "      <td>3.466394e+06</td>\n",
       "      <td>3.107792e+06</td>\n",
       "      <td>3.086159e+06</td>\n",
       "      <td>2.961937e+06</td>\n",
       "      <td>2.670738e+06</td>\n",
       "      <td>2.709967e+06</td>\n",
       "    </tr>\n",
       "    <tr>\n",
       "      <th>mean</th>\n",
       "      <td>4.986116e+04</td>\n",
       "      <td>1.987685e+03</td>\n",
       "      <td>2.108364e+00</td>\n",
       "      <td>8.325099e-03</td>\n",
       "      <td>1.193549e-02</td>\n",
       "      <td>1.621800e+03</td>\n",
       "      <td>3.610395e-03</td>\n",
       "      <td>1.987537e+03</td>\n",
       "      <td>1.725624e+06</td>\n",
       "      <td>1.037157e-03</td>\n",
       "      <td>1.121922e-02</td>\n",
       "      <td>1.348173e+00</td>\n",
       "    </tr>\n",
       "    <tr>\n",
       "      <th>std</th>\n",
       "      <td>2.818388e+04</td>\n",
       "      <td>2.013566e+01</td>\n",
       "      <td>9.303086e-01</td>\n",
       "      <td>1.793996e-01</td>\n",
       "      <td>1.793229e-01</td>\n",
       "      <td>1.290709e+04</td>\n",
       "      <td>2.676661e-03</td>\n",
       "      <td>2.029691e+01</td>\n",
       "      <td>1.302105e+07</td>\n",
       "      <td>4.219183e-03</td>\n",
       "      <td>4.908140e+01</td>\n",
       "      <td>1.916025e+02</td>\n",
       "    </tr>\n",
       "    <tr>\n",
       "      <th>min</th>\n",
       "      <td>1.000000e+04</td>\n",
       "      <td>1.926000e+03</td>\n",
       "      <td>1.000000e+00</td>\n",
       "      <td>-1.014149e+00</td>\n",
       "      <td>-1.000000e+00</td>\n",
       "      <td>0.000000e+00</td>\n",
       "      <td>-2.650000e-04</td>\n",
       "      <td>1.925000e+03</td>\n",
       "      <td>2.475000e+01</td>\n",
       "      <td>1.227392e-08</td>\n",
       "      <td>-2.261400e+04</td>\n",
       "      <td>-9.998177e-01</td>\n",
       "    </tr>\n",
       "    <tr>\n",
       "      <th>25%</th>\n",
       "      <td>2.156500e+04</td>\n",
       "      <td>1.977000e+03</td>\n",
       "      <td>1.000000e+00</td>\n",
       "      <td>-6.707600e-02</td>\n",
       "      <td>-6.329114e-02</td>\n",
       "      <td>1.661527e+01</td>\n",
       "      <td>1.390000e-03</td>\n",
       "      <td>1.977000e+03</td>\n",
       "      <td>1.883166e+04</td>\n",
       "      <td>3.781366e-04</td>\n",
       "      <td>8.269284e-02</td>\n",
       "      <td>-8.267286e-03</td>\n",
       "    </tr>\n",
       "    <tr>\n",
       "      <th>50%</th>\n",
       "      <td>4.857300e+04</td>\n",
       "      <td>1.990000e+03</td>\n",
       "      <td>2.000000e+00</td>\n",
       "      <td>-3.150000e-03</td>\n",
       "      <td>0.000000e+00</td>\n",
       "      <td>7.067122e+01</td>\n",
       "      <td>3.760000e-03</td>\n",
       "      <td>1.991000e+03</td>\n",
       "      <td>8.182200e+04</td>\n",
       "      <td>6.800593e-04</td>\n",
       "      <td>2.131624e-01</td>\n",
       "      <td>8.054719e-02</td>\n",
       "    </tr>\n",
       "    <tr>\n",
       "      <th>75%</th>\n",
       "      <td>7.817900e+04</td>\n",
       "      <td>2.002000e+03</td>\n",
       "      <td>3.000000e+00</td>\n",
       "      <td>6.684116e-02</td>\n",
       "      <td>7.018867e-02</td>\n",
       "      <td>3.848890e+02</td>\n",
       "      <td>5.002000e-03</td>\n",
       "      <td>2.002000e+03</td>\n",
       "      <td>4.393851e+05</td>\n",
       "      <td>1.150185e-03</td>\n",
       "      <td>3.224172e-01</td>\n",
       "      <td>2.195771e-01</td>\n",
       "    </tr>\n",
       "    <tr>\n",
       "      <th>max</th>\n",
       "      <td>9.343600e+04</td>\n",
       "      <td>2.020000e+03</td>\n",
       "      <td>3.000000e+00</td>\n",
       "      <td>2.399694e+01</td>\n",
       "      <td>2.400000e+01</td>\n",
       "      <td>2.206911e+06</td>\n",
       "      <td>1.515800e-02</td>\n",
       "      <td>2.019000e+03</td>\n",
       "      <td>1.287643e+09</td>\n",
       "      <td>1.250093e+00</td>\n",
       "      <td>3.141250e+03</td>\n",
       "      <td>9.758400e+04</td>\n",
       "    </tr>\n",
       "  </tbody>\n",
       "</table>\n",
       "</div>"
      ],
      "text/plain": [
       "             permno      rankyear        exchcd         exret        retadj  \\\n",
       "count  3.466394e+06  3.466394e+06  3.466394e+06  3.466394e+06  3.466394e+06   \n",
       "mean   4.986116e+04  1.987685e+03  2.108364e+00  8.325099e-03  1.193549e-02   \n",
       "std    2.818388e+04  2.013566e+01  9.303086e-01  1.793996e-01  1.793229e-01   \n",
       "min    1.000000e+04  1.926000e+03  1.000000e+00 -1.014149e+00 -1.000000e+00   \n",
       "25%    2.156500e+04  1.977000e+03  1.000000e+00 -6.707600e-02 -6.329114e-02   \n",
       "50%    4.857300e+04  1.990000e+03  2.000000e+00 -3.150000e-03  0.000000e+00   \n",
       "75%    7.817900e+04  2.002000e+03  3.000000e+00  6.684116e-02  7.018867e-02   \n",
       "max    9.343600e+04  2.020000e+03  3.000000e+00  2.399694e+01  2.400000e+01   \n",
       "\n",
       "             lag_me            rf         fyear         mesum          beme  \\\n",
       "count  3.466394e+06  3.466394e+06  3.107792e+06  3.086159e+06  2.961937e+06   \n",
       "mean   1.621800e+03  3.610395e-03  1.987537e+03  1.725624e+06  1.037157e-03   \n",
       "std    1.290709e+04  2.676661e-03  2.029691e+01  1.302105e+07  4.219183e-03   \n",
       "min    0.000000e+00 -2.650000e-04  1.925000e+03  2.475000e+01  1.227392e-08   \n",
       "25%    1.661527e+01  1.390000e-03  1.977000e+03  1.883166e+04  3.781366e-04   \n",
       "50%    7.067122e+01  3.760000e-03  1.991000e+03  8.182200e+04  6.800593e-04   \n",
       "75%    3.848890e+02  5.002000e-03  2.002000e+03  4.393851e+05  1.150185e-03   \n",
       "max    2.206911e+06  1.515800e-02  2.019000e+03  1.287643e+09  1.250093e+00   \n",
       "\n",
       "               opbe           inv  \n",
       "count  2.670738e+06  2.709967e+06  \n",
       "mean   1.121922e-02  1.348173e+00  \n",
       "std    4.908140e+01  1.916025e+02  \n",
       "min   -2.261400e+04 -9.998177e-01  \n",
       "25%    8.269284e-02 -8.267286e-03  \n",
       "50%    2.131624e-01  8.054719e-02  \n",
       "75%    3.224172e-01  2.195771e-01  \n",
       "max    3.141250e+03  9.758400e+04  "
      ]
     },
     "execution_count": 19,
     "metadata": {},
     "output_type": "execute_result"
    }
   ],
   "source": [
    "fdata.describe()"
   ]
  },
  {
   "cell_type": "markdown",
   "metadata": {
    "slideshow": {
     "slide_type": "slide"
    }
   },
   "source": [
    "## Forcasting Future Excess Returns"
   ]
  },
  {
   "cell_type": "code",
   "execution_count": 20,
   "metadata": {
    "slideshow": {
     "slide_type": "subslide"
    }
   },
   "outputs": [],
   "source": [
    "# FamaMacBeth regression\n",
    "def ols_coef(x,formula):\n",
    "    return smf.ols(formula,data=x).fit().params\n",
    "\n",
    "def fm_summary(p):\n",
    "    s = p.describe().T\n",
    "    s['std_error'] = s['std']/np.sqrt(s['count'])\n",
    "    s['tstat'] = s['mean']/s['std_error']\n",
    "    return s[['mean','std_error','tstat']]"
   ]
  },
  {
   "cell_type": "markdown",
   "metadata": {
    "slideshow": {
     "slide_type": "subslide"
    }
   },
   "source": [
    "### Does BEME forcast future returns?"
   ]
  },
  {
   "cell_type": "code",
   "execution_count": 21,
   "metadata": {
    "slideshow": {
     "slide_type": "fragment"
    }
   },
   "outputs": [
    {
     "data": {
      "text/html": [
       "<div>\n",
       "<style scoped>\n",
       "    .dataframe tbody tr th:only-of-type {\n",
       "        vertical-align: middle;\n",
       "    }\n",
       "\n",
       "    .dataframe tbody tr th {\n",
       "        vertical-align: top;\n",
       "    }\n",
       "\n",
       "    .dataframe thead th {\n",
       "        text-align: right;\n",
       "    }\n",
       "</style>\n",
       "<table border=\"1\" class=\"dataframe\">\n",
       "  <thead>\n",
       "    <tr style=\"text-align: right;\">\n",
       "      <th></th>\n",
       "      <th>Intercept</th>\n",
       "      <th>beme</th>\n",
       "    </tr>\n",
       "    <tr>\n",
       "      <th>date</th>\n",
       "      <th></th>\n",
       "      <th></th>\n",
       "    </tr>\n",
       "  </thead>\n",
       "  <tbody>\n",
       "    <tr>\n",
       "      <th>1926-07-31</th>\n",
       "      <td>0.012579</td>\n",
       "      <td>5.882302</td>\n",
       "    </tr>\n",
       "    <tr>\n",
       "      <th>1926-08-31</th>\n",
       "      <td>0.009899</td>\n",
       "      <td>2.373429</td>\n",
       "    </tr>\n",
       "    <tr>\n",
       "      <th>1926-09-30</th>\n",
       "      <td>-0.013706</td>\n",
       "      <td>6.392941</td>\n",
       "    </tr>\n",
       "    <tr>\n",
       "      <th>1926-10-30</th>\n",
       "      <td>-0.037200</td>\n",
       "      <td>-0.149101</td>\n",
       "    </tr>\n",
       "    <tr>\n",
       "      <th>1926-11-30</th>\n",
       "      <td>0.017929</td>\n",
       "      <td>8.330296</td>\n",
       "    </tr>\n",
       "  </tbody>\n",
       "</table>\n",
       "</div>"
      ],
      "text/plain": [
       "            Intercept      beme\n",
       "date                           \n",
       "1926-07-31   0.012579  5.882302\n",
       "1926-08-31   0.009899  2.373429\n",
       "1926-09-30  -0.013706  6.392941\n",
       "1926-10-30  -0.037200 -0.149101\n",
       "1926-11-30   0.017929  8.330296"
      ]
     },
     "execution_count": 21,
     "metadata": {},
     "output_type": "execute_result"
    }
   ],
   "source": [
    "gamma_beme = (fdata.groupby('date')\n",
    "                .apply(ols_coef,'exret ~ 1 + beme'))\n",
    "gamma_beme.head()"
   ]
  },
  {
   "cell_type": "markdown",
   "metadata": {
    "slideshow": {
     "slide_type": "subslide"
    }
   },
   "source": [
    "#### What is the problem? "
   ]
  },
  {
   "cell_type": "code",
   "execution_count": 23,
   "metadata": {
    "slideshow": {
     "slide_type": "fragment"
    }
   },
   "outputs": [],
   "source": [
    "fdata.dropna(subset=['mesum', 'beme', 'opbe', 'inv'], inplace = True)"
   ]
  },
  {
   "cell_type": "code",
   "execution_count": 24,
   "metadata": {
    "slideshow": {
     "slide_type": "subslide"
    }
   },
   "outputs": [
    {
     "data": {
      "text/plain": [
       "<AxesSubplot:xlabel='date'>"
      ]
     },
     "execution_count": 24,
     "metadata": {},
     "output_type": "execute_result"
    },
    {
     "data": {
      "image/png": "[encoded data removed]",
      "text/plain": [
       "<Figure size 720x432 with 1 Axes>"
      ]
     },
     "metadata": {
      "needs_background": "light"
     },
     "output_type": "display_data"
    }
   ],
   "source": [
    "fdata.groupby('date').count().rankyear.plot()"
   ]
  },
  {
   "cell_type": "code",
   "execution_count": 25,
   "metadata": {
    "slideshow": {
     "slide_type": "fragment"
    }
   },
   "outputs": [],
   "source": [
    "fdata = fdata[fdata.rankyear>=1963]"
   ]
  },
  {
   "cell_type": "markdown",
   "metadata": {
    "slideshow": {
     "slide_type": "subslide"
    }
   },
   "source": [
    "#### Try to run the FM regression again!"
   ]
  },
  {
   "cell_type": "code",
   "execution_count": 26,
   "metadata": {
    "slideshow": {
     "slide_type": "subslide"
    }
   },
   "outputs": [
    {
     "data": {
      "text/html": [
       "<div>\n",
       "<style scoped>\n",
       "    .dataframe tbody tr th:only-of-type {\n",
       "        vertical-align: middle;\n",
       "    }\n",
       "\n",
       "    .dataframe tbody tr th {\n",
       "        vertical-align: top;\n",
       "    }\n",
       "\n",
       "    .dataframe thead th {\n",
       "        text-align: right;\n",
       "    }\n",
       "</style>\n",
       "<table border=\"1\" class=\"dataframe\">\n",
       "  <thead>\n",
       "    <tr style=\"text-align: right;\">\n",
       "      <th></th>\n",
       "      <th>Intercept</th>\n",
       "      <th>beme</th>\n",
       "    </tr>\n",
       "    <tr>\n",
       "      <th>date</th>\n",
       "      <th></th>\n",
       "      <th></th>\n",
       "    </tr>\n",
       "  </thead>\n",
       "  <tbody>\n",
       "    <tr>\n",
       "      <th>1963-07-31</th>\n",
       "      <td>-0.007044</td>\n",
       "      <td>-4.219598</td>\n",
       "    </tr>\n",
       "    <tr>\n",
       "      <th>1963-08-30</th>\n",
       "      <td>0.050866</td>\n",
       "      <td>-5.123094</td>\n",
       "    </tr>\n",
       "    <tr>\n",
       "      <th>1963-09-30</th>\n",
       "      <td>-0.029226</td>\n",
       "      <td>9.070742</td>\n",
       "    </tr>\n",
       "    <tr>\n",
       "      <th>1963-10-31</th>\n",
       "      <td>0.009961</td>\n",
       "      <td>4.870460</td>\n",
       "    </tr>\n",
       "    <tr>\n",
       "      <th>1963-11-29</th>\n",
       "      <td>-0.010876</td>\n",
       "      <td>-0.785809</td>\n",
       "    </tr>\n",
       "    <tr>\n",
       "      <th>1963-12-31</th>\n",
       "      <td>0.009753</td>\n",
       "      <td>-6.285783</td>\n",
       "    </tr>\n",
       "    <tr>\n",
       "      <th>1964-01-31</th>\n",
       "      <td>0.010818</td>\n",
       "      <td>11.053165</td>\n",
       "    </tr>\n",
       "    <tr>\n",
       "      <th>1964-02-28</th>\n",
       "      <td>0.013527</td>\n",
       "      <td>5.801361</td>\n",
       "    </tr>\n",
       "    <tr>\n",
       "      <th>1964-03-31</th>\n",
       "      <td>0.011862</td>\n",
       "      <td>19.477470</td>\n",
       "    </tr>\n",
       "    <tr>\n",
       "      <th>1964-04-30</th>\n",
       "      <td>-0.008082</td>\n",
       "      <td>1.643818</td>\n",
       "    </tr>\n",
       "    <tr>\n",
       "      <th>1964-05-28</th>\n",
       "      <td>0.004774</td>\n",
       "      <td>2.346277</td>\n",
       "    </tr>\n",
       "    <tr>\n",
       "      <th>1964-06-30</th>\n",
       "      <td>0.016483</td>\n",
       "      <td>-1.072926</td>\n",
       "    </tr>\n",
       "    <tr>\n",
       "      <th>1964-07-31</th>\n",
       "      <td>0.020992</td>\n",
       "      <td>7.346564</td>\n",
       "    </tr>\n",
       "    <tr>\n",
       "      <th>1964-08-31</th>\n",
       "      <td>-0.004802</td>\n",
       "      <td>-0.625724</td>\n",
       "    </tr>\n",
       "    <tr>\n",
       "      <th>1964-09-30</th>\n",
       "      <td>0.035341</td>\n",
       "      <td>-3.023412</td>\n",
       "    </tr>\n",
       "    <tr>\n",
       "      <th>1964-10-30</th>\n",
       "      <td>0.008063</td>\n",
       "      <td>10.329385</td>\n",
       "    </tr>\n",
       "    <tr>\n",
       "      <th>1964-11-30</th>\n",
       "      <td>0.003439</td>\n",
       "      <td>-4.538505</td>\n",
       "    </tr>\n",
       "    <tr>\n",
       "      <th>1964-12-31</th>\n",
       "      <td>0.001824</td>\n",
       "      <td>-11.184644</td>\n",
       "    </tr>\n",
       "    <tr>\n",
       "      <th>1965-01-29</th>\n",
       "      <td>0.049390</td>\n",
       "      <td>9.425900</td>\n",
       "    </tr>\n",
       "    <tr>\n",
       "      <th>1965-02-26</th>\n",
       "      <td>0.022049</td>\n",
       "      <td>6.149200</td>\n",
       "    </tr>\n",
       "    <tr>\n",
       "      <th>1965-03-31</th>\n",
       "      <td>-0.015546</td>\n",
       "      <td>19.886630</td>\n",
       "    </tr>\n",
       "    <tr>\n",
       "      <th>1965-04-30</th>\n",
       "      <td>0.031695</td>\n",
       "      <td>4.888303</td>\n",
       "    </tr>\n",
       "    <tr>\n",
       "      <th>1965-05-28</th>\n",
       "      <td>-0.006103</td>\n",
       "      <td>4.457840</td>\n",
       "    </tr>\n",
       "    <tr>\n",
       "      <th>1965-06-30</th>\n",
       "      <td>-0.068196</td>\n",
       "      <td>-13.141407</td>\n",
       "    </tr>\n",
       "    <tr>\n",
       "      <th>1965-07-30</th>\n",
       "      <td>0.013935</td>\n",
       "      <td>11.686814</td>\n",
       "    </tr>\n",
       "    <tr>\n",
       "      <th>1965-08-31</th>\n",
       "      <td>0.045824</td>\n",
       "      <td>-8.157816</td>\n",
       "    </tr>\n",
       "    <tr>\n",
       "      <th>1965-09-30</th>\n",
       "      <td>0.024402</td>\n",
       "      <td>5.395268</td>\n",
       "    </tr>\n",
       "    <tr>\n",
       "      <th>1965-10-29</th>\n",
       "      <td>0.030363</td>\n",
       "      <td>19.530028</td>\n",
       "    </tr>\n",
       "    <tr>\n",
       "      <th>1965-11-30</th>\n",
       "      <td>0.019556</td>\n",
       "      <td>19.206821</td>\n",
       "    </tr>\n",
       "    <tr>\n",
       "      <th>1965-12-31</th>\n",
       "      <td>0.017219</td>\n",
       "      <td>19.503237</td>\n",
       "    </tr>\n",
       "    <tr>\n",
       "      <th>1966-01-31</th>\n",
       "      <td>0.024792</td>\n",
       "      <td>23.555374</td>\n",
       "    </tr>\n",
       "    <tr>\n",
       "      <th>1966-02-28</th>\n",
       "      <td>-0.004298</td>\n",
       "      <td>22.497706</td>\n",
       "    </tr>\n",
       "    <tr>\n",
       "      <th>1966-03-31</th>\n",
       "      <td>-0.012568</td>\n",
       "      <td>-8.660918</td>\n",
       "    </tr>\n",
       "    <tr>\n",
       "      <th>1966-04-29</th>\n",
       "      <td>0.031068</td>\n",
       "      <td>7.441593</td>\n",
       "    </tr>\n",
       "    <tr>\n",
       "      <th>1966-05-31</th>\n",
       "      <td>-0.061470</td>\n",
       "      <td>-20.683717</td>\n",
       "    </tr>\n",
       "    <tr>\n",
       "      <th>1966-06-30</th>\n",
       "      <td>-0.010498</td>\n",
       "      <td>4.206926</td>\n",
       "    </tr>\n",
       "    <tr>\n",
       "      <th>1966-07-29</th>\n",
       "      <td>-0.018650</td>\n",
       "      <td>5.384477</td>\n",
       "    </tr>\n",
       "    <tr>\n",
       "      <th>1966-08-31</th>\n",
       "      <td>-0.097915</td>\n",
       "      <td>-1.407150</td>\n",
       "    </tr>\n",
       "    <tr>\n",
       "      <th>1966-09-30</th>\n",
       "      <td>-0.018667</td>\n",
       "      <td>1.199561</td>\n",
       "    </tr>\n",
       "    <tr>\n",
       "      <th>1966-10-31</th>\n",
       "      <td>-0.000305</td>\n",
       "      <td>-2.026996</td>\n",
       "    </tr>\n",
       "    <tr>\n",
       "      <th>1966-11-30</th>\n",
       "      <td>0.053453</td>\n",
       "      <td>-30.519984</td>\n",
       "    </tr>\n",
       "    <tr>\n",
       "      <th>1966-12-30</th>\n",
       "      <td>0.023674</td>\n",
       "      <td>-13.708206</td>\n",
       "    </tr>\n",
       "    <tr>\n",
       "      <th>1967-01-31</th>\n",
       "      <td>0.129699</td>\n",
       "      <td>26.613122</td>\n",
       "    </tr>\n",
       "    <tr>\n",
       "      <th>1967-02-28</th>\n",
       "      <td>0.020192</td>\n",
       "      <td>12.513558</td>\n",
       "    </tr>\n",
       "    <tr>\n",
       "      <th>1967-03-31</th>\n",
       "      <td>0.054776</td>\n",
       "      <td>-3.051519</td>\n",
       "    </tr>\n",
       "    <tr>\n",
       "      <th>1967-04-28</th>\n",
       "      <td>0.040288</td>\n",
       "      <td>-1.444077</td>\n",
       "    </tr>\n",
       "    <tr>\n",
       "      <th>1967-05-31</th>\n",
       "      <td>-0.025151</td>\n",
       "      <td>14.253507</td>\n",
       "    </tr>\n",
       "    <tr>\n",
       "      <th>1967-06-30</th>\n",
       "      <td>0.049174</td>\n",
       "      <td>21.813294</td>\n",
       "    </tr>\n",
       "    <tr>\n",
       "      <th>1967-07-31</th>\n",
       "      <td>0.057234</td>\n",
       "      <td>23.045623</td>\n",
       "    </tr>\n",
       "    <tr>\n",
       "      <th>1967-08-31</th>\n",
       "      <td>-0.012495</td>\n",
       "      <td>13.848747</td>\n",
       "    </tr>\n",
       "    <tr>\n",
       "      <th>1967-09-29</th>\n",
       "      <td>0.051545</td>\n",
       "      <td>7.050916</td>\n",
       "    </tr>\n",
       "    <tr>\n",
       "      <th>1967-10-31</th>\n",
       "      <td>-0.027120</td>\n",
       "      <td>2.313729</td>\n",
       "    </tr>\n",
       "    <tr>\n",
       "      <th>1967-11-30</th>\n",
       "      <td>0.004118</td>\n",
       "      <td>-6.976542</td>\n",
       "    </tr>\n",
       "    <tr>\n",
       "      <th>1967-12-29</th>\n",
       "      <td>0.061501</td>\n",
       "      <td>11.919610</td>\n",
       "    </tr>\n",
       "    <tr>\n",
       "      <th>1968-01-31</th>\n",
       "      <td>-0.027223</td>\n",
       "      <td>43.548589</td>\n",
       "    </tr>\n",
       "    <tr>\n",
       "      <th>1968-02-29</th>\n",
       "      <td>-0.059906</td>\n",
       "      <td>3.662301</td>\n",
       "    </tr>\n",
       "    <tr>\n",
       "      <th>1968-03-29</th>\n",
       "      <td>-0.013026</td>\n",
       "      <td>-0.049011</td>\n",
       "    </tr>\n",
       "    <tr>\n",
       "      <th>1968-04-30</th>\n",
       "      <td>0.119085</td>\n",
       "      <td>17.262736</td>\n",
       "    </tr>\n",
       "    <tr>\n",
       "      <th>1968-05-31</th>\n",
       "      <td>0.064976</td>\n",
       "      <td>16.257933</td>\n",
       "    </tr>\n",
       "    <tr>\n",
       "      <th>1968-06-28</th>\n",
       "      <td>0.004146</td>\n",
       "      <td>8.469804</td>\n",
       "    </tr>\n",
       "    <tr>\n",
       "      <th>1968-07-30</th>\n",
       "      <td>-0.061079</td>\n",
       "      <td>45.162486</td>\n",
       "    </tr>\n",
       "    <tr>\n",
       "      <th>1968-08-30</th>\n",
       "      <td>0.020900</td>\n",
       "      <td>16.403245</td>\n",
       "    </tr>\n",
       "    <tr>\n",
       "      <th>1968-09-30</th>\n",
       "      <td>0.052990</td>\n",
       "      <td>19.455264</td>\n",
       "    </tr>\n",
       "    <tr>\n",
       "      <th>1968-10-31</th>\n",
       "      <td>-0.005960</td>\n",
       "      <td>16.403706</td>\n",
       "    </tr>\n",
       "    <tr>\n",
       "      <th>1968-11-29</th>\n",
       "      <td>0.074846</td>\n",
       "      <td>-10.853955</td>\n",
       "    </tr>\n",
       "    <tr>\n",
       "      <th>1968-12-31</th>\n",
       "      <td>-0.007239</td>\n",
       "      <td>6.755730</td>\n",
       "    </tr>\n",
       "    <tr>\n",
       "      <th>1969-01-31</th>\n",
       "      <td>-0.016128</td>\n",
       "      <td>9.057235</td>\n",
       "    </tr>\n",
       "    <tr>\n",
       "      <th>1969-02-28</th>\n",
       "      <td>-0.095486</td>\n",
       "      <td>12.799359</td>\n",
       "    </tr>\n",
       "    <tr>\n",
       "      <th>1969-03-28</th>\n",
       "      <td>0.015196</td>\n",
       "      <td>0.440609</td>\n",
       "    </tr>\n",
       "    <tr>\n",
       "      <th>1969-04-30</th>\n",
       "      <td>0.003686</td>\n",
       "      <td>-5.987505</td>\n",
       "    </tr>\n",
       "    <tr>\n",
       "      <th>1969-05-29</th>\n",
       "      <td>-0.001260</td>\n",
       "      <td>2.287849</td>\n",
       "    </tr>\n",
       "    <tr>\n",
       "      <th>1969-06-30</th>\n",
       "      <td>-0.116496</td>\n",
       "      <td>3.610519</td>\n",
       "    </tr>\n",
       "    <tr>\n",
       "      <th>1969-07-31</th>\n",
       "      <td>-0.111845</td>\n",
       "      <td>26.642968</td>\n",
       "    </tr>\n",
       "    <tr>\n",
       "      <th>1969-08-29</th>\n",
       "      <td>0.065811</td>\n",
       "      <td>-46.620672</td>\n",
       "    </tr>\n",
       "    <tr>\n",
       "      <th>1969-09-30</th>\n",
       "      <td>-0.028403</td>\n",
       "      <td>-6.031030</td>\n",
       "    </tr>\n",
       "    <tr>\n",
       "      <th>1969-10-31</th>\n",
       "      <td>0.108556</td>\n",
       "      <td>-46.549683</td>\n",
       "    </tr>\n",
       "    <tr>\n",
       "      <th>1969-11-28</th>\n",
       "      <td>-0.061040</td>\n",
       "      <td>-1.404939</td>\n",
       "    </tr>\n",
       "    <tr>\n",
       "      <th>1969-12-31</th>\n",
       "      <td>-0.065077</td>\n",
       "      <td>-9.282180</td>\n",
       "    </tr>\n",
       "    <tr>\n",
       "      <th>1970-01-30</th>\n",
       "      <td>-0.067019</td>\n",
       "      <td>43.290923</td>\n",
       "    </tr>\n",
       "    <tr>\n",
       "      <th>1970-02-27</th>\n",
       "      <td>0.025018</td>\n",
       "      <td>24.407973</td>\n",
       "    </tr>\n",
       "    <tr>\n",
       "      <th>1970-03-31</th>\n",
       "      <td>-0.056705</td>\n",
       "      <td>64.975068</td>\n",
       "    </tr>\n",
       "    <tr>\n",
       "      <th>1970-04-30</th>\n",
       "      <td>-0.212228</td>\n",
       "      <td>109.993997</td>\n",
       "    </tr>\n",
       "    <tr>\n",
       "      <th>1970-05-29</th>\n",
       "      <td>-0.099763</td>\n",
       "      <td>12.528107</td>\n",
       "    </tr>\n",
       "    <tr>\n",
       "      <th>1970-06-30</th>\n",
       "      <td>-0.099732</td>\n",
       "      <td>38.411691</td>\n",
       "    </tr>\n",
       "    <tr>\n",
       "      <th>1970-07-31</th>\n",
       "      <td>0.058721</td>\n",
       "      <td>-3.928422</td>\n",
       "    </tr>\n",
       "    <tr>\n",
       "      <th>1970-08-31</th>\n",
       "      <td>0.062488</td>\n",
       "      <td>-6.389958</td>\n",
       "    </tr>\n",
       "    <tr>\n",
       "      <th>1970-09-30</th>\n",
       "      <td>0.141535</td>\n",
       "      <td>-27.787160</td>\n",
       "    </tr>\n",
       "    <tr>\n",
       "      <th>1970-10-30</th>\n",
       "      <td>-0.071933</td>\n",
       "      <td>8.204302</td>\n",
       "    </tr>\n",
       "    <tr>\n",
       "      <th>1970-11-30</th>\n",
       "      <td>0.004821</td>\n",
       "      <td>-2.070695</td>\n",
       "    </tr>\n",
       "    <tr>\n",
       "      <th>1970-12-31</th>\n",
       "      <td>0.065558</td>\n",
       "      <td>19.071194</td>\n",
       "    </tr>\n",
       "    <tr>\n",
       "      <th>1971-01-29</th>\n",
       "      <td>0.105138</td>\n",
       "      <td>31.433558</td>\n",
       "    </tr>\n",
       "    <tr>\n",
       "      <th>1971-02-26</th>\n",
       "      <td>0.046028</td>\n",
       "      <td>-6.416626</td>\n",
       "    </tr>\n",
       "    <tr>\n",
       "      <th>1971-03-31</th>\n",
       "      <td>0.057765</td>\n",
       "      <td>-3.899215</td>\n",
       "    </tr>\n",
       "    <tr>\n",
       "      <th>1971-04-30</th>\n",
       "      <td>0.021666</td>\n",
       "      <td>4.765577</td>\n",
       "    </tr>\n",
       "    <tr>\n",
       "      <th>1971-05-28</th>\n",
       "      <td>-0.046952</td>\n",
       "      <td>-9.917499</td>\n",
       "    </tr>\n",
       "    <tr>\n",
       "      <th>1971-06-30</th>\n",
       "      <td>-0.010480</td>\n",
       "      <td>-12.675601</td>\n",
       "    </tr>\n",
       "    <tr>\n",
       "      <th>1971-07-30</th>\n",
       "      <td>-0.060745</td>\n",
       "      <td>0.635531</td>\n",
       "    </tr>\n",
       "    <tr>\n",
       "      <th>1971-08-31</th>\n",
       "      <td>0.028281</td>\n",
       "      <td>11.744197</td>\n",
       "    </tr>\n",
       "    <tr>\n",
       "      <th>1971-09-30</th>\n",
       "      <td>-0.000058</td>\n",
       "      <td>-11.214315</td>\n",
       "    </tr>\n",
       "    <tr>\n",
       "      <th>1971-10-29</th>\n",
       "      <td>-0.058058</td>\n",
       "      <td>-4.368482</td>\n",
       "    </tr>\n",
       "  </tbody>\n",
       "</table>\n",
       "</div>"
      ],
      "text/plain": [
       "            Intercept        beme\n",
       "date                             \n",
       "1963-07-31  -0.007044   -4.219598\n",
       "1963-08-30   0.050866   -5.123094\n",
       "1963-09-30  -0.029226    9.070742\n",
       "1963-10-31   0.009961    4.870460\n",
       "1963-11-29  -0.010876   -0.785809\n",
       "1963-12-31   0.009753   -6.285783\n",
       "1964-01-31   0.010818   11.053165\n",
       "1964-02-28   0.013527    5.801361\n",
       "1964-03-31   0.011862   19.477470\n",
       "1964-04-30  -0.008082    1.643818\n",
       "1964-05-28   0.004774    2.346277\n",
       "1964-06-30   0.016483   -1.072926\n",
       "1964-07-31   0.020992    7.346564\n",
       "1964-08-31  -0.004802   -0.625724\n",
       "1964-09-30   0.035341   -3.023412\n",
       "1964-10-30   0.008063   10.329385\n",
       "1964-11-30   0.003439   -4.538505\n",
       "1964-12-31   0.001824  -11.184644\n",
       "1965-01-29   0.049390    9.425900\n",
       "1965-02-26   0.022049    6.149200\n",
       "1965-03-31  -0.015546   19.886630\n",
       "1965-04-30   0.031695    4.888303\n",
       "1965-05-28  -0.006103    4.457840\n",
       "1965-06-30  -0.068196  -13.141407\n",
       "1965-07-30   0.013935   11.686814\n",
       "1965-08-31   0.045824   -8.157816\n",
       "1965-09-30   0.024402    5.395268\n",
       "1965-10-29   0.030363   19.530028\n",
       "1965-11-30   0.019556   19.206821\n",
       "1965-12-31   0.017219   19.503237\n",
       "1966-01-31   0.024792   23.555374\n",
       "1966-02-28  -0.004298   22.497706\n",
       "1966-03-31  -0.012568   -8.660918\n",
       "1966-04-29   0.031068    7.441593\n",
       "1966-05-31  -0.061470  -20.683717\n",
       "1966-06-30  -0.010498    4.206926\n",
       "1966-07-29  -0.018650    5.384477\n",
       "1966-08-31  -0.097915   -1.407150\n",
       "1966-09-30  -0.018667    1.199561\n",
       "1966-10-31  -0.000305   -2.026996\n",
       "1966-11-30   0.053453  -30.519984\n",
       "1966-12-30   0.023674  -13.708206\n",
       "1967-01-31   0.129699   26.613122\n",
       "1967-02-28   0.020192   12.513558\n",
       "1967-03-31   0.054776   -3.051519\n",
       "1967-04-28   0.040288   -1.444077\n",
       "1967-05-31  -0.025151   14.253507\n",
       "1967-06-30   0.049174   21.813294\n",
       "1967-07-31   0.057234   23.045623\n",
       "1967-08-31  -0.012495   13.848747\n",
       "1967-09-29   0.051545    7.050916\n",
       "1967-10-31  -0.027120    2.313729\n",
       "1967-11-30   0.004118   -6.976542\n",
       "1967-12-29   0.061501   11.919610\n",
       "1968-01-31  -0.027223   43.548589\n",
       "1968-02-29  -0.059906    3.662301\n",
       "1968-03-29  -0.013026   -0.049011\n",
       "1968-04-30   0.119085   17.262736\n",
       "1968-05-31   0.064976   16.257933\n",
       "1968-06-28   0.004146    8.469804\n",
       "1968-07-30  -0.061079   45.162486\n",
       "1968-08-30   0.020900   16.403245\n",
       "1968-09-30   0.052990   19.455264\n",
       "1968-10-31  -0.005960   16.403706\n",
       "1968-11-29   0.074846  -10.853955\n",
       "1968-12-31  -0.007239    6.755730\n",
       "1969-01-31  -0.016128    9.057235\n",
       "1969-02-28  -0.095486   12.799359\n",
       "1969-03-28   0.015196    0.440609\n",
       "1969-04-30   0.003686   -5.987505\n",
       "1969-05-29  -0.001260    2.287849\n",
       "1969-06-30  -0.116496    3.610519\n",
       "1969-07-31  -0.111845   26.642968\n",
       "1969-08-29   0.065811  -46.620672\n",
       "1969-09-30  -0.028403   -6.031030\n",
       "1969-10-31   0.108556  -46.549683\n",
       "1969-11-28  -0.061040   -1.404939\n",
       "1969-12-31  -0.065077   -9.282180\n",
       "1970-01-30  -0.067019   43.290923\n",
       "1970-02-27   0.025018   24.407973\n",
       "1970-03-31  -0.056705   64.975068\n",
       "1970-04-30  -0.212228  109.993997\n",
       "1970-05-29  -0.099763   12.528107\n",
       "1970-06-30  -0.099732   38.411691\n",
       "1970-07-31   0.058721   -3.928422\n",
       "1970-08-31   0.062488   -6.389958\n",
       "1970-09-30   0.141535  -27.787160\n",
       "1970-10-30  -0.071933    8.204302\n",
       "1970-11-30   0.004821   -2.070695\n",
       "1970-12-31   0.065558   19.071194\n",
       "1971-01-29   0.105138   31.433558\n",
       "1971-02-26   0.046028   -6.416626\n",
       "1971-03-31   0.057765   -3.899215\n",
       "1971-04-30   0.021666    4.765577\n",
       "1971-05-28  -0.046952   -9.917499\n",
       "1971-06-30  -0.010480  -12.675601\n",
       "1971-07-30  -0.060745    0.635531\n",
       "1971-08-31   0.028281   11.744197\n",
       "1971-09-30  -0.000058  -11.214315\n",
       "1971-10-29  -0.058058   -4.368482"
      ]
     },
     "execution_count": 26,
     "metadata": {},
     "output_type": "execute_result"
    }
   ],
   "source": [
    "gamma_beme = (fdata.groupby('date')\n",
    "                .apply(ols_coef,'exret ~ 1 + beme'))\n",
    "gamma_beme.head(100)"
   ]
  },
  {
   "cell_type": "code",
   "execution_count": 27,
   "metadata": {
    "slideshow": {
     "slide_type": "subslide"
    }
   },
   "outputs": [
    {
     "data": {
      "text/plain": [
       "<AxesSubplot:xlabel='date'>"
      ]
     },
     "execution_count": 27,
     "metadata": {},
     "output_type": "execute_result"
    },
    {
     "data": {
      "image/png": "[encoded data removed]",
      "text/plain": [
       "<Figure size 720x432 with 1 Axes>"
      ]
     },
     "metadata": {
      "needs_background": "light"
     },
     "output_type": "display_data"
    }
   ],
   "source": [
    "gamma_beme.plot()"
   ]
  },
  {
   "cell_type": "code",
   "execution_count": 28,
   "metadata": {},
   "outputs": [
    {
     "data": {
      "text/plain": [
       "<AxesSubplot:>"
      ]
     },
     "execution_count": 28,
     "metadata": {},
     "output_type": "execute_result"
    },
    {
     "data": {
      "image/png": "[encoded data removed]",
      "text/plain": [
       "<Figure size 720x432 with 1 Axes>"
      ]
     },
     "metadata": {
      "needs_background": "light"
     },
     "output_type": "display_data"
    }
   ],
   "source": [
    "fdata.beme.hist()"
   ]
  },
  {
   "cell_type": "code",
   "execution_count": 29,
   "metadata": {
    "slideshow": {
     "slide_type": "subslide"
    }
   },
   "outputs": [
    {
     "data": {
      "text/html": [
       "<div>\n",
       "<style scoped>\n",
       "    .dataframe tbody tr th:only-of-type {\n",
       "        vertical-align: middle;\n",
       "    }\n",
       "\n",
       "    .dataframe tbody tr th {\n",
       "        vertical-align: top;\n",
       "    }\n",
       "\n",
       "    .dataframe thead th {\n",
       "        text-align: right;\n",
       "    }\n",
       "</style>\n",
       "<table border=\"1\" class=\"dataframe\">\n",
       "  <thead>\n",
       "    <tr style=\"text-align: right;\">\n",
       "      <th></th>\n",
       "      <th>mean</th>\n",
       "      <th>std_error</th>\n",
       "      <th>tstat</th>\n",
       "    </tr>\n",
       "  </thead>\n",
       "  <tbody>\n",
       "    <tr>\n",
       "      <th>Intercept</th>\n",
       "      <td>0.005811</td>\n",
       "      <td>0.002305</td>\n",
       "      <td>2.521435</td>\n",
       "    </tr>\n",
       "    <tr>\n",
       "      <th>beme</th>\n",
       "      <td>3.034375</td>\n",
       "      <td>0.571778</td>\n",
       "      <td>5.306914</td>\n",
       "    </tr>\n",
       "  </tbody>\n",
       "</table>\n",
       "</div>"
      ],
      "text/plain": [
       "               mean  std_error     tstat\n",
       "Intercept  0.005811   0.002305  2.521435\n",
       "beme       3.034375   0.571778  5.306914"
      ]
     },
     "execution_count": 29,
     "metadata": {},
     "output_type": "execute_result"
    }
   ],
   "source": [
    "# Fama-Macbeth regressions results\n",
    "fm_summary(gamma_beme)"
   ]
  },
  {
   "cell_type": "code",
   "execution_count": 30,
   "metadata": {
    "code_folding": [],
    "slideshow": {
     "slide_type": "subslide"
    }
   },
   "outputs": [
    {
     "data": {
      "text/plain": [
       "<AxesSubplot:xlabel='date'>"
      ]
     },
     "execution_count": 30,
     "metadata": {},
     "output_type": "execute_result"
    },
    {
     "data": {
      "image/png": "[encoded data removed]",
      "text/plain": [
       "<Figure size 720x432 with 1 Axes>"
      ]
     },
     "metadata": {
      "needs_background": "light"
     },
     "output_type": "display_data"
    }
   ],
   "source": [
    "# Try log \n",
    "gamma_beme = (fdata.groupby('date')\n",
    "                .apply(ols_coef,'exret ~ 1 + np.log(beme)'))\n",
    "gamma_beme.plot()"
   ]
  },
  {
   "cell_type": "code",
   "execution_count": 31,
   "metadata": {
    "slideshow": {
     "slide_type": "subslide"
    }
   },
   "outputs": [
    {
     "data": {
      "text/html": [
       "<div>\n",
       "<style scoped>\n",
       "    .dataframe tbody tr th:only-of-type {\n",
       "        vertical-align: middle;\n",
       "    }\n",
       "\n",
       "    .dataframe tbody tr th {\n",
       "        vertical-align: top;\n",
       "    }\n",
       "\n",
       "    .dataframe thead th {\n",
       "        text-align: right;\n",
       "    }\n",
       "</style>\n",
       "<table border=\"1\" class=\"dataframe\">\n",
       "  <thead>\n",
       "    <tr style=\"text-align: right;\">\n",
       "      <th></th>\n",
       "      <th>mean</th>\n",
       "      <th>std_error</th>\n",
       "      <th>tstat</th>\n",
       "    </tr>\n",
       "  </thead>\n",
       "  <tbody>\n",
       "    <tr>\n",
       "      <th>Intercept</th>\n",
       "      <td>0.034826</td>\n",
       "      <td>0.004158</td>\n",
       "      <td>8.375046</td>\n",
       "    </tr>\n",
       "    <tr>\n",
       "      <th>np.log(beme)</th>\n",
       "      <td>0.003605</td>\n",
       "      <td>0.000555</td>\n",
       "      <td>6.492134</td>\n",
       "    </tr>\n",
       "  </tbody>\n",
       "</table>\n",
       "</div>"
      ],
      "text/plain": [
       "                  mean  std_error     tstat\n",
       "Intercept     0.034826   0.004158  8.375046\n",
       "np.log(beme)  0.003605   0.000555  6.492134"
      ]
     },
     "execution_count": 31,
     "metadata": {},
     "output_type": "execute_result"
    }
   ],
   "source": [
    "# Fama-Macbeth regressions results\n",
    "fm_summary(gamma_beme)"
   ]
  },
  {
   "cell_type": "code",
   "execution_count": 32,
   "metadata": {
    "slideshow": {
     "slide_type": "subslide"
    }
   },
   "outputs": [
    {
     "data": {
      "text/html": [
       "<div>\n",
       "<style scoped>\n",
       "    .dataframe tbody tr th:only-of-type {\n",
       "        vertical-align: middle;\n",
       "    }\n",
       "\n",
       "    .dataframe tbody tr th {\n",
       "        vertical-align: top;\n",
       "    }\n",
       "\n",
       "    .dataframe thead th {\n",
       "        text-align: right;\n",
       "    }\n",
       "</style>\n",
       "<table border=\"1\" class=\"dataframe\">\n",
       "  <thead>\n",
       "    <tr style=\"text-align: right;\">\n",
       "      <th></th>\n",
       "      <th>mean</th>\n",
       "      <th>std_error</th>\n",
       "      <th>tstat</th>\n",
       "    </tr>\n",
       "  </thead>\n",
       "  <tbody>\n",
       "    <tr>\n",
       "      <th>Intercept</th>\n",
       "      <td>0.009210</td>\n",
       "      <td>0.009242</td>\n",
       "      <td>0.996581</td>\n",
       "    </tr>\n",
       "    <tr>\n",
       "      <th>np.log(beme)</th>\n",
       "      <td>-0.000259</td>\n",
       "      <td>0.000953</td>\n",
       "      <td>-0.271714</td>\n",
       "    </tr>\n",
       "  </tbody>\n",
       "</table>\n",
       "</div>"
      ],
      "text/plain": [
       "                  mean  std_error     tstat\n",
       "Intercept     0.009210   0.009242  0.996581\n",
       "np.log(beme) -0.000259   0.000953 -0.271714"
      ]
     },
     "execution_count": 32,
     "metadata": {},
     "output_type": "execute_result"
    }
   ],
   "source": [
    "fm_summary(gamma_beme.loc['2010-01-01':])"
   ]
  },
  {
   "cell_type": "code",
   "execution_count": 33,
   "metadata": {
    "slideshow": {
     "slide_type": "subslide"
    }
   },
   "outputs": [
    {
     "data": {
      "text/html": [
       "<div>\n",
       "<style scoped>\n",
       "    .dataframe tbody tr th:only-of-type {\n",
       "        vertical-align: middle;\n",
       "    }\n",
       "\n",
       "    .dataframe tbody tr th {\n",
       "        vertical-align: top;\n",
       "    }\n",
       "\n",
       "    .dataframe thead th {\n",
       "        text-align: right;\n",
       "    }\n",
       "</style>\n",
       "<table border=\"1\" class=\"dataframe\">\n",
       "  <thead>\n",
       "    <tr style=\"text-align: right;\">\n",
       "      <th></th>\n",
       "      <th>mean</th>\n",
       "      <th>std_error</th>\n",
       "      <th>tstat</th>\n",
       "    </tr>\n",
       "  </thead>\n",
       "  <tbody>\n",
       "    <tr>\n",
       "      <th>Intercept</th>\n",
       "      <td>0.044681</td>\n",
       "      <td>0.004629</td>\n",
       "      <td>9.651537</td>\n",
       "    </tr>\n",
       "    <tr>\n",
       "      <th>np.log(beme)</th>\n",
       "      <td>0.004920</td>\n",
       "      <td>0.000667</td>\n",
       "      <td>7.379641</td>\n",
       "    </tr>\n",
       "  </tbody>\n",
       "</table>\n",
       "</div>"
      ],
      "text/plain": [
       "                  mean  std_error     tstat\n",
       "Intercept     0.044681   0.004629  9.651537\n",
       "np.log(beme)  0.004920   0.000667  7.379641"
      ]
     },
     "execution_count": 33,
     "metadata": {},
     "output_type": "execute_result"
    }
   ],
   "source": [
    "fm_summary(gamma_beme.loc[:'2006-12-31'])"
   ]
  },
  {
   "cell_type": "markdown",
   "metadata": {
    "slideshow": {
     "slide_type": "subslide"
    }
   },
   "source": [
    "### Does size forcast future returns?"
   ]
  },
  {
   "cell_type": "code",
   "execution_count": 34,
   "metadata": {
    "slideshow": {
     "slide_type": "subslide"
    }
   },
   "outputs": [
    {
     "data": {
      "text/plain": [
       "<AxesSubplot:xlabel='date'>"
      ]
     },
     "execution_count": 34,
     "metadata": {},
     "output_type": "execute_result"
    },
    {
     "data": {
      "image/png": "[encoded data removed]",
      "text/plain": [
       "<Figure size 720x432 with 1 Axes>"
      ]
     },
     "metadata": {
      "needs_background": "light"
     },
     "output_type": "display_data"
    }
   ],
   "source": [
    "gamma_me = (fdata.groupby('date')\n",
    "                .apply(ols_coef,'exret ~ 1 + np.log(mesum)'))\n",
    "gamma_me.plot()"
   ]
  },
  {
   "cell_type": "code",
   "execution_count": 35,
   "metadata": {
    "slideshow": {
     "slide_type": "subslide"
    }
   },
   "outputs": [
    {
     "data": {
      "text/html": [
       "<div>\n",
       "<style scoped>\n",
       "    .dataframe tbody tr th:only-of-type {\n",
       "        vertical-align: middle;\n",
       "    }\n",
       "\n",
       "    .dataframe tbody tr th {\n",
       "        vertical-align: top;\n",
       "    }\n",
       "\n",
       "    .dataframe thead th {\n",
       "        text-align: right;\n",
       "    }\n",
       "</style>\n",
       "<table border=\"1\" class=\"dataframe\">\n",
       "  <thead>\n",
       "    <tr style=\"text-align: right;\">\n",
       "      <th></th>\n",
       "      <th>mean</th>\n",
       "      <th>std_error</th>\n",
       "      <th>tstat</th>\n",
       "    </tr>\n",
       "  </thead>\n",
       "  <tbody>\n",
       "    <tr>\n",
       "      <th>Intercept</th>\n",
       "      <td>0.021083</td>\n",
       "      <td>0.005236</td>\n",
       "      <td>4.026646</td>\n",
       "    </tr>\n",
       "    <tr>\n",
       "      <th>np.log(mesum)</th>\n",
       "      <td>-0.001149</td>\n",
       "      <td>0.000347</td>\n",
       "      <td>-3.308653</td>\n",
       "    </tr>\n",
       "  </tbody>\n",
       "</table>\n",
       "</div>"
      ],
      "text/plain": [
       "                   mean  std_error     tstat\n",
       "Intercept      0.021083   0.005236  4.026646\n",
       "np.log(mesum) -0.001149   0.000347 -3.308653"
      ]
     },
     "execution_count": 35,
     "metadata": {},
     "output_type": "execute_result"
    }
   ],
   "source": [
    "# Fama-Macbeth regressions results\n",
    "fm_summary(gamma_me) "
   ]
  },
  {
   "cell_type": "code",
   "execution_count": 36,
   "metadata": {
    "slideshow": {
     "slide_type": "subslide"
    }
   },
   "outputs": [
    {
     "data": {
      "text/html": [
       "<div>\n",
       "<style scoped>\n",
       "    .dataframe tbody tr th:only-of-type {\n",
       "        vertical-align: middle;\n",
       "    }\n",
       "\n",
       "    .dataframe tbody tr th {\n",
       "        vertical-align: top;\n",
       "    }\n",
       "\n",
       "    .dataframe thead th {\n",
       "        text-align: right;\n",
       "    }\n",
       "</style>\n",
       "<table border=\"1\" class=\"dataframe\">\n",
       "  <thead>\n",
       "    <tr style=\"text-align: right;\">\n",
       "      <th></th>\n",
       "      <th>mean</th>\n",
       "      <th>std_error</th>\n",
       "      <th>tstat</th>\n",
       "    </tr>\n",
       "  </thead>\n",
       "  <tbody>\n",
       "    <tr>\n",
       "      <th>Intercept</th>\n",
       "      <td>0.010729</td>\n",
       "      <td>0.009586</td>\n",
       "      <td>1.119312</td>\n",
       "    </tr>\n",
       "    <tr>\n",
       "      <th>np.log(mesum)</th>\n",
       "      <td>0.000050</td>\n",
       "      <td>0.000524</td>\n",
       "      <td>0.094931</td>\n",
       "    </tr>\n",
       "  </tbody>\n",
       "</table>\n",
       "</div>"
      ],
      "text/plain": [
       "                   mean  std_error     tstat\n",
       "Intercept      0.010729   0.009586  1.119312\n",
       "np.log(mesum)  0.000050   0.000524  0.094931"
      ]
     },
     "execution_count": 36,
     "metadata": {},
     "output_type": "execute_result"
    }
   ],
   "source": [
    "fm_summary(gamma_me['2010-01-01':]) "
   ]
  },
  {
   "cell_type": "markdown",
   "metadata": {
    "slideshow": {
     "slide_type": "slide"
    }
   },
   "source": [
    "### What about Fama and French 2015?"
   ]
  },
  {
   "cell_type": "code",
   "execution_count": 37,
   "metadata": {
    "slideshow": {
     "slide_type": "fragment"
    }
   },
   "outputs": [
    {
     "data": {
      "text/html": [
       "<div>\n",
       "<style scoped>\n",
       "    .dataframe tbody tr th:only-of-type {\n",
       "        vertical-align: middle;\n",
       "    }\n",
       "\n",
       "    .dataframe tbody tr th {\n",
       "        vertical-align: top;\n",
       "    }\n",
       "\n",
       "    .dataframe thead th {\n",
       "        text-align: right;\n",
       "    }\n",
       "</style>\n",
       "<table border=\"1\" class=\"dataframe\">\n",
       "  <thead>\n",
       "    <tr style=\"text-align: right;\">\n",
       "      <th></th>\n",
       "      <th>Intercept</th>\n",
       "      <th>np.log(mesum)</th>\n",
       "      <th>np.log(beme)</th>\n",
       "      <th>opbe</th>\n",
       "      <th>inv</th>\n",
       "    </tr>\n",
       "    <tr>\n",
       "      <th>date</th>\n",
       "      <th></th>\n",
       "      <th></th>\n",
       "      <th></th>\n",
       "      <th></th>\n",
       "      <th></th>\n",
       "    </tr>\n",
       "  </thead>\n",
       "  <tbody>\n",
       "    <tr>\n",
       "      <th>1963-07-31</th>\n",
       "      <td>-0.063456</td>\n",
       "      <td>0.000131</td>\n",
       "      <td>-0.007151</td>\n",
       "      <td>0.000625</td>\n",
       "      <td>-0.008180</td>\n",
       "    </tr>\n",
       "    <tr>\n",
       "      <th>1963-08-30</th>\n",
       "      <td>-0.009694</td>\n",
       "      <td>0.004706</td>\n",
       "      <td>-0.000478</td>\n",
       "      <td>0.001943</td>\n",
       "      <td>-0.006899</td>\n",
       "    </tr>\n",
       "    <tr>\n",
       "      <th>1963-09-30</th>\n",
       "      <td>0.045898</td>\n",
       "      <td>0.001518</td>\n",
       "      <td>0.011616</td>\n",
       "      <td>0.003391</td>\n",
       "      <td>-0.009727</td>\n",
       "    </tr>\n",
       "    <tr>\n",
       "      <th>1963-10-31</th>\n",
       "      <td>0.042084</td>\n",
       "      <td>0.001511</td>\n",
       "      <td>0.006839</td>\n",
       "      <td>0.016980</td>\n",
       "      <td>0.003090</td>\n",
       "    </tr>\n",
       "    <tr>\n",
       "      <th>1963-11-29</th>\n",
       "      <td>-0.008209</td>\n",
       "      <td>0.002361</td>\n",
       "      <td>0.003914</td>\n",
       "      <td>0.002199</td>\n",
       "      <td>-0.025033</td>\n",
       "    </tr>\n",
       "  </tbody>\n",
       "</table>\n",
       "</div>"
      ],
      "text/plain": [
       "            Intercept  np.log(mesum)  np.log(beme)      opbe       inv\n",
       "date                                                                  \n",
       "1963-07-31  -0.063456       0.000131     -0.007151  0.000625 -0.008180\n",
       "1963-08-30  -0.009694       0.004706     -0.000478  0.001943 -0.006899\n",
       "1963-09-30   0.045898       0.001518      0.011616  0.003391 -0.009727\n",
       "1963-10-31   0.042084       0.001511      0.006839  0.016980  0.003090\n",
       "1963-11-29  -0.008209       0.002361      0.003914  0.002199 -0.025033"
      ]
     },
     "execution_count": 37,
     "metadata": {},
     "output_type": "execute_result"
    }
   ],
   "source": [
    "gamma_f5 = (fdata.groupby('date')\n",
    "                .apply(ols_coef,'exret ~ 1 + np.log(mesum)+ np.log(beme) + opbe + inv'))\n",
    "gamma_f5.head()"
   ]
  },
  {
   "cell_type": "code",
   "execution_count": 38,
   "metadata": {
    "slideshow": {
     "slide_type": "subslide"
    }
   },
   "outputs": [
    {
     "data": {
      "text/plain": [
       "<AxesSubplot:xlabel='date'>"
      ]
     },
     "execution_count": 38,
     "metadata": {},
     "output_type": "execute_result"
    },
    {
     "data": {
      "image/png": "[encoded data removed]",
      "text/plain": [
       "<Figure size 720x432 with 1 Axes>"
      ]
     },
     "metadata": {
      "needs_background": "light"
     },
     "output_type": "display_data"
    }
   ],
   "source": [
    "gamma_f5.plot()"
   ]
  },
  {
   "cell_type": "code",
   "execution_count": 39,
   "metadata": {
    "slideshow": {
     "slide_type": "subslide"
    }
   },
   "outputs": [
    {
     "data": {
      "text/html": [
       "<div>\n",
       "<style scoped>\n",
       "    .dataframe tbody tr th:only-of-type {\n",
       "        vertical-align: middle;\n",
       "    }\n",
       "\n",
       "    .dataframe tbody tr th {\n",
       "        vertical-align: top;\n",
       "    }\n",
       "\n",
       "    .dataframe thead th {\n",
       "        text-align: right;\n",
       "    }\n",
       "</style>\n",
       "<table border=\"1\" class=\"dataframe\">\n",
       "  <thead>\n",
       "    <tr style=\"text-align: right;\">\n",
       "      <th></th>\n",
       "      <th>mean</th>\n",
       "      <th>std_error</th>\n",
       "      <th>tstat</th>\n",
       "    </tr>\n",
       "  </thead>\n",
       "  <tbody>\n",
       "    <tr>\n",
       "      <th>Intercept</th>\n",
       "      <td>0.036883</td>\n",
       "      <td>0.005062</td>\n",
       "      <td>7.286641</td>\n",
       "    </tr>\n",
       "    <tr>\n",
       "      <th>np.log(mesum)</th>\n",
       "      <td>-0.000875</td>\n",
       "      <td>0.000374</td>\n",
       "      <td>-2.337800</td>\n",
       "    </tr>\n",
       "    <tr>\n",
       "      <th>np.log(beme)</th>\n",
       "      <td>0.002542</td>\n",
       "      <td>0.000612</td>\n",
       "      <td>4.153599</td>\n",
       "    </tr>\n",
       "    <tr>\n",
       "      <th>opbe</th>\n",
       "      <td>0.000484</td>\n",
       "      <td>0.000290</td>\n",
       "      <td>1.669994</td>\n",
       "    </tr>\n",
       "    <tr>\n",
       "      <th>inv</th>\n",
       "      <td>-0.001918</td>\n",
       "      <td>0.000330</td>\n",
       "      <td>-5.810855</td>\n",
       "    </tr>\n",
       "  </tbody>\n",
       "</table>\n",
       "</div>"
      ],
      "text/plain": [
       "                   mean  std_error     tstat\n",
       "Intercept      0.036883   0.005062  7.286641\n",
       "np.log(mesum) -0.000875   0.000374 -2.337800\n",
       "np.log(beme)   0.002542   0.000612  4.153599\n",
       "opbe           0.000484   0.000290  1.669994\n",
       "inv           -0.001918   0.000330 -5.810855"
      ]
     },
     "execution_count": 39,
     "metadata": {},
     "output_type": "execute_result"
    }
   ],
   "source": [
    "fm_summary(gamma_f5) "
   ]
  },
  {
   "cell_type": "markdown",
   "metadata": {
    "slideshow": {
     "slide_type": "slide"
    }
   },
   "source": [
    "## Long-short portfolio"
   ]
  },
  {
   "cell_type": "markdown",
   "metadata": {
    "slideshow": {
     "slide_type": "subslide"
    }
   },
   "source": [
    "### Sort Portfolio"
   ]
  },
  {
   "cell_type": "code",
   "execution_count": 40,
   "metadata": {
    "slideshow": {
     "slide_type": "fragment"
    }
   },
   "outputs": [
    {
     "name": "stdout",
     "output_type": "stream",
     "text": [
      "NYSE breakpoints were calculated for mesum.\n",
      "Stocks were sorted according to breakpoints, starting in 1963\n",
      "NYSE breakpoints were calculated for beme.\n",
      "Stocks were sorted according to breakpoints, starting in 1963\n",
      "NYSE breakpoints were calculated for opbe.\n",
      "Stocks were sorted according to breakpoints, starting in 1963\n",
      "NYSE breakpoints were calculated for inv.\n",
      "Stocks were sorted according to breakpoints, starting in 1963\n"
     ]
    }
   ],
   "source": [
    "port = sort_portfolios(data = fdata,\n",
    "                       quantiles={'mesum': [0.5],\n",
    "                                  'beme': [0.3, 0.7],\n",
    "                                  'opbe': [0.3, 0.7],\n",
    "                                  'inv': [0.3, 0.7]},\n",
    "                       id_variables=['rankyear', 'permno', 'exchcd'],\n",
    "                       exch_cd=[1])  "
   ]
  },
  {
   "cell_type": "markdown",
   "metadata": {
    "slideshow": {
     "slide_type": "subslide"
    }
   },
   "source": [
    "Look at the data."
   ]
  },
  {
   "cell_type": "code",
   "execution_count": 41,
   "metadata": {
    "slideshow": {
     "slide_type": "fragment"
    }
   },
   "outputs": [
    {
     "data": {
      "text/html": [
       "<div>\n",
       "<style scoped>\n",
       "    .dataframe tbody tr th:only-of-type {\n",
       "        vertical-align: middle;\n",
       "    }\n",
       "\n",
       "    .dataframe tbody tr th {\n",
       "        vertical-align: top;\n",
       "    }\n",
       "\n",
       "    .dataframe thead th {\n",
       "        text-align: right;\n",
       "    }\n",
       "</style>\n",
       "<table border=\"1\" class=\"dataframe\">\n",
       "  <thead>\n",
       "    <tr style=\"text-align: right;\">\n",
       "      <th></th>\n",
       "      <th>rankyear</th>\n",
       "      <th>permno</th>\n",
       "      <th>invportfolio</th>\n",
       "      <th>opbeportfolio</th>\n",
       "      <th>bemeportfolio</th>\n",
       "      <th>mesumportfolio</th>\n",
       "    </tr>\n",
       "  </thead>\n",
       "  <tbody>\n",
       "    <tr>\n",
       "      <th>0</th>\n",
       "      <td>1963</td>\n",
       "      <td>10006.0</td>\n",
       "      <td>inv1</td>\n",
       "      <td>opbe1</td>\n",
       "      <td>beme3</td>\n",
       "      <td>mesum2</td>\n",
       "    </tr>\n",
       "    <tr>\n",
       "      <th>1</th>\n",
       "      <td>1963</td>\n",
       "      <td>10014.0</td>\n",
       "      <td>inv2</td>\n",
       "      <td>opbe1</td>\n",
       "      <td>beme3</td>\n",
       "      <td>mesum1</td>\n",
       "    </tr>\n",
       "    <tr>\n",
       "      <th>2</th>\n",
       "      <td>1963</td>\n",
       "      <td>10102.0</td>\n",
       "      <td>inv3</td>\n",
       "      <td>opbe2</td>\n",
       "      <td>beme2</td>\n",
       "      <td>mesum2</td>\n",
       "    </tr>\n",
       "    <tr>\n",
       "      <th>3</th>\n",
       "      <td>1963</td>\n",
       "      <td>10137.0</td>\n",
       "      <td>inv2</td>\n",
       "      <td>opbe3</td>\n",
       "      <td>beme1</td>\n",
       "      <td>mesum2</td>\n",
       "    </tr>\n",
       "    <tr>\n",
       "      <th>4</th>\n",
       "      <td>1963</td>\n",
       "      <td>10145.0</td>\n",
       "      <td>inv3</td>\n",
       "      <td>opbe2</td>\n",
       "      <td>beme2</td>\n",
       "      <td>mesum2</td>\n",
       "    </tr>\n",
       "  </tbody>\n",
       "</table>\n",
       "</div>"
      ],
      "text/plain": [
       "   rankyear   permno invportfolio opbeportfolio bemeportfolio mesumportfolio\n",
       "0      1963  10006.0         inv1         opbe1         beme3         mesum2\n",
       "1      1963  10014.0         inv2         opbe1         beme3         mesum1\n",
       "2      1963  10102.0         inv3         opbe2         beme2         mesum2\n",
       "3      1963  10137.0         inv2         opbe3         beme1         mesum2\n",
       "4      1963  10145.0         inv3         opbe2         beme2         mesum2"
      ]
     },
     "execution_count": 41,
     "metadata": {},
     "output_type": "execute_result"
    }
   ],
   "source": [
    "port.head()"
   ]
  },
  {
   "cell_type": "code",
   "execution_count": 47,
   "metadata": {},
   "outputs": [
    {
     "ename": "AttributeError",
     "evalue": "'DataFrame' object has no attribute 'exch_cd'",
     "output_type": "error",
     "traceback": [
      "\u001b[0;31m---------------------------------------------------------------------------\u001b[0m",
      "\u001b[0;31mAttributeError\u001b[0m                            Traceback (most recent call last)",
      "\u001b[0;32m<ipython-input-47-a7927008be3a>\u001b[0m in \u001b[0;36m<module>\u001b[0;34m\u001b[0m\n\u001b[0;32m----> 1\u001b[0;31m \u001b[0mport\u001b[0m\u001b[0;34m[\u001b[0m\u001b[0mport\u001b[0m\u001b[0;34m.\u001b[0m\u001b[0mexch_cd\u001b[0m\u001b[0;34m==\u001b[0m\u001b[0;36m1\u001b[0m\u001b[0;34m]\u001b[0m\u001b[0;34m.\u001b[0m\u001b[0mgroupby\u001b[0m\u001b[0;34m(\u001b[0m\u001b[0;34m[\u001b[0m\u001b[0;34m'rankyear'\u001b[0m\u001b[0;34m,\u001b[0m\u001b[0;34m'mesumportfolio'\u001b[0m\u001b[0;34m]\u001b[0m\u001b[0;34m)\u001b[0m\u001b[0;34m.\u001b[0m\u001b[0mmesumportfolio\u001b[0m\u001b[0;34m.\u001b[0m\u001b[0mcount\u001b[0m\u001b[0;34m(\u001b[0m\u001b[0;34m)\u001b[0m\u001b[0;34m\u001b[0m\u001b[0;34m\u001b[0m\u001b[0m\n\u001b[0m",
      "\u001b[0;32m~/opt/anaconda3/envs/big_data/lib/python3.9/site-packages/pandas/core/generic.py\u001b[0m in \u001b[0;36m__getattr__\u001b[0;34m(self, name)\u001b[0m\n\u001b[1;32m   5463\u001b[0m             \u001b[0;32mif\u001b[0m \u001b[0mself\u001b[0m\u001b[0;34m.\u001b[0m\u001b[0m_info_axis\u001b[0m\u001b[0;34m.\u001b[0m\u001b[0m_can_hold_identifiers_and_holds_name\u001b[0m\u001b[0;34m(\u001b[0m\u001b[0mname\u001b[0m\u001b[0;34m)\u001b[0m\u001b[0;34m:\u001b[0m\u001b[0;34m\u001b[0m\u001b[0;34m\u001b[0m\u001b[0m\n\u001b[1;32m   5464\u001b[0m                 \u001b[0;32mreturn\u001b[0m \u001b[0mself\u001b[0m\u001b[0;34m[\u001b[0m\u001b[0mname\u001b[0m\u001b[0;34m]\u001b[0m\u001b[0;34m\u001b[0m\u001b[0;34m\u001b[0m\u001b[0m\n\u001b[0;32m-> 5465\u001b[0;31m             \u001b[0;32mreturn\u001b[0m \u001b[0mobject\u001b[0m\u001b[0;34m.\u001b[0m\u001b[0m__getattribute__\u001b[0m\u001b[0;34m(\u001b[0m\u001b[0mself\u001b[0m\u001b[0;34m,\u001b[0m \u001b[0mname\u001b[0m\u001b[0;34m)\u001b[0m\u001b[0;34m\u001b[0m\u001b[0;34m\u001b[0m\u001b[0m\n\u001b[0m\u001b[1;32m   5466\u001b[0m \u001b[0;34m\u001b[0m\u001b[0m\n\u001b[1;32m   5467\u001b[0m     \u001b[0;32mdef\u001b[0m \u001b[0m__setattr__\u001b[0m\u001b[0;34m(\u001b[0m\u001b[0mself\u001b[0m\u001b[0;34m,\u001b[0m \u001b[0mname\u001b[0m\u001b[0;34m:\u001b[0m \u001b[0mstr\u001b[0m\u001b[0;34m,\u001b[0m \u001b[0mvalue\u001b[0m\u001b[0;34m)\u001b[0m \u001b[0;34m->\u001b[0m \u001b[0;32mNone\u001b[0m\u001b[0;34m:\u001b[0m\u001b[0;34m\u001b[0m\u001b[0;34m\u001b[0m\u001b[0m\n",
      "\u001b[0;31mAttributeError\u001b[0m: 'DataFrame' object has no attribute 'exch_cd'"
     ]
    }
   ],
   "source": [
    "port[port.exch_cd==1].groupby(['rankyear','mesumportfolio']).mesumportfolio.count()"
   ]
  },
  {
   "cell_type": "markdown",
   "metadata": {
    "slideshow": {
     "slide_type": "slide"
    }
   },
   "source": [
    "### Portfolio returns"
   ]
  },
  {
   "cell_type": "markdown",
   "metadata": {
    "slideshow": {
     "slide_type": "subslide"
    }
   },
   "source": [
    "#### Merge data"
   ]
  },
  {
   "cell_type": "code",
   "execution_count": 48,
   "metadata": {
    "slideshow": {
     "slide_type": "fragment"
    }
   },
   "outputs": [],
   "source": [
    "port_ret = pd.merge(fdata[['permno', 'date', 'rankyear', 'exret', 'retadj', 'lag_me', 'ticker', 'conm', 'rf']], \n",
    "                port,\n",
    "                on = ['permno', 'rankyear']) "
   ]
  },
  {
   "cell_type": "markdown",
   "metadata": {
    "slideshow": {
     "slide_type": "subslide"
    }
   },
   "source": [
    "Have a look at Apple in 2019. Which portfolio did Apple belong to?"
   ]
  },
  {
   "cell_type": "code",
   "execution_count": 49,
   "metadata": {
    "slideshow": {
     "slide_type": "fragment"
    }
   },
   "outputs": [
    {
     "data": {
      "text/html": [
       "<div>\n",
       "<style scoped>\n",
       "    .dataframe tbody tr th:only-of-type {\n",
       "        vertical-align: middle;\n",
       "    }\n",
       "\n",
       "    .dataframe tbody tr th {\n",
       "        vertical-align: top;\n",
       "    }\n",
       "\n",
       "    .dataframe thead th {\n",
       "        text-align: right;\n",
       "    }\n",
       "</style>\n",
       "<table border=\"1\" class=\"dataframe\">\n",
       "  <thead>\n",
       "    <tr style=\"text-align: right;\">\n",
       "      <th></th>\n",
       "      <th>permno</th>\n",
       "      <th>date</th>\n",
       "      <th>rankyear</th>\n",
       "      <th>exret</th>\n",
       "      <th>retadj</th>\n",
       "      <th>lag_me</th>\n",
       "      <th>ticker</th>\n",
       "      <th>conm</th>\n",
       "      <th>rf</th>\n",
       "      <th>invportfolio</th>\n",
       "      <th>opbeportfolio</th>\n",
       "      <th>bemeportfolio</th>\n",
       "      <th>mesumportfolio</th>\n",
       "    </tr>\n",
       "  </thead>\n",
       "  <tbody>\n",
       "    <tr>\n",
       "      <th>272292</th>\n",
       "      <td>14593</td>\n",
       "      <td>2020-12-31</td>\n",
       "      <td>2020</td>\n",
       "      <td>0.114514</td>\n",
       "      <td>0.114574</td>\n",
       "      <td>2.024065e+06</td>\n",
       "      <td>AAPL</td>\n",
       "      <td>APPLE INC</td>\n",
       "      <td>0.00006</td>\n",
       "      <td>inv1</td>\n",
       "      <td>opbe3</td>\n",
       "      <td>beme1</td>\n",
       "      <td>mesum2</td>\n",
       "    </tr>\n",
       "  </tbody>\n",
       "</table>\n",
       "</div>"
      ],
      "text/plain": [
       "        permno       date  rankyear     exret    retadj        lag_me ticker  \\\n",
       "272292   14593 2020-12-31      2020  0.114514  0.114574  2.024065e+06   AAPL   \n",
       "\n",
       "             conm       rf invportfolio opbeportfolio bemeportfolio  \\\n",
       "272292  APPLE INC  0.00006         inv1         opbe3         beme1   \n",
       "\n",
       "       mesumportfolio  \n",
       "272292         mesum2  "
      ]
     },
     "execution_count": 49,
     "metadata": {},
     "output_type": "execute_result"
    }
   ],
   "source": [
    "port_ret[(port_ret.ticker=='AAPL') & (port_ret.date=='2020-12-31')]"
   ]
  },
  {
   "cell_type": "markdown",
   "metadata": {
    "slideshow": {
     "slide_type": "slide"
    }
   },
   "source": [
    "#### Calculate returns"
   ]
  },
  {
   "cell_type": "code",
   "execution_count": 50,
   "metadata": {
    "slideshow": {
     "slide_type": "subslide"
    }
   },
   "outputs": [],
   "source": [
    "beme_ret = port_ret.groupby(['date', 'mesumportfolio', 'bemeportfolio']).apply(\n",
    "    lambda x: np.average(x.retadj, weights=x.lag_me))"
   ]
  },
  {
   "cell_type": "code",
   "execution_count": 51,
   "metadata": {
    "slideshow": {
     "slide_type": "subslide"
    }
   },
   "outputs": [
    {
     "data": {
      "text/plain": [
       "date        mesumportfolio  bemeportfolio\n",
       "1963-07-31  mesum1          beme1           -0.009966\n",
       "                            beme2           -0.010398\n",
       "                            beme3           -0.017684\n",
       "            mesum2          beme1            0.001266\n",
       "                            beme2            0.004736\n",
       "                                               ...   \n",
       "2020-12-31  mesum1          beme2            0.089458\n",
       "                            beme3            0.070634\n",
       "            mesum2          beme1            0.043112\n",
       "                            beme2            0.040759\n",
       "                            beme3            0.057439\n",
       "Length: 4140, dtype: float64"
      ]
     },
     "execution_count": 51,
     "metadata": {},
     "output_type": "execute_result"
    }
   ],
   "source": [
    "beme_ret"
   ]
  },
  {
   "cell_type": "code",
   "execution_count": 52,
   "metadata": {
    "slideshow": {
     "slide_type": "fragment"
    }
   },
   "outputs": [
    {
     "data": {
      "text/html": [
       "<div>\n",
       "<style scoped>\n",
       "    .dataframe tbody tr th:only-of-type {\n",
       "        vertical-align: middle;\n",
       "    }\n",
       "\n",
       "    .dataframe tbody tr th {\n",
       "        vertical-align: top;\n",
       "    }\n",
       "\n",
       "    .dataframe thead tr th {\n",
       "        text-align: left;\n",
       "    }\n",
       "\n",
       "    .dataframe thead tr:last-of-type th {\n",
       "        text-align: right;\n",
       "    }\n",
       "</style>\n",
       "<table border=\"1\" class=\"dataframe\">\n",
       "  <thead>\n",
       "    <tr>\n",
       "      <th>mesumportfolio</th>\n",
       "      <th colspan=\"3\" halign=\"left\">mesum1</th>\n",
       "      <th colspan=\"3\" halign=\"left\">mesum2</th>\n",
       "    </tr>\n",
       "    <tr>\n",
       "      <th>bemeportfolio</th>\n",
       "      <th>beme1</th>\n",
       "      <th>beme2</th>\n",
       "      <th>beme3</th>\n",
       "      <th>beme1</th>\n",
       "      <th>beme2</th>\n",
       "      <th>beme3</th>\n",
       "    </tr>\n",
       "    <tr>\n",
       "      <th>date</th>\n",
       "      <th></th>\n",
       "      <th></th>\n",
       "      <th></th>\n",
       "      <th></th>\n",
       "      <th></th>\n",
       "      <th></th>\n",
       "    </tr>\n",
       "  </thead>\n",
       "  <tbody>\n",
       "    <tr>\n",
       "      <th>1963-07-31</th>\n",
       "      <td>-0.009966</td>\n",
       "      <td>-0.010398</td>\n",
       "      <td>-0.017684</td>\n",
       "      <td>0.001266</td>\n",
       "      <td>0.004736</td>\n",
       "      <td>-0.012069</td>\n",
       "    </tr>\n",
       "    <tr>\n",
       "      <th>1963-08-30</th>\n",
       "      <td>0.058207</td>\n",
       "      <td>0.048853</td>\n",
       "      <td>0.052077</td>\n",
       "      <td>0.054856</td>\n",
       "      <td>0.046487</td>\n",
       "      <td>0.076686</td>\n",
       "    </tr>\n",
       "    <tr>\n",
       "      <th>1963-09-30</th>\n",
       "      <td>-0.036712</td>\n",
       "      <td>-0.012891</td>\n",
       "      <td>-0.016879</td>\n",
       "      <td>-0.015210</td>\n",
       "      <td>-0.006838</td>\n",
       "      <td>-0.005388</td>\n",
       "    </tr>\n",
       "    <tr>\n",
       "      <th>1963-10-31</th>\n",
       "      <td>0.010595</td>\n",
       "      <td>0.016415</td>\n",
       "      <td>0.030219</td>\n",
       "      <td>0.045226</td>\n",
       "      <td>0.016464</td>\n",
       "      <td>0.028405</td>\n",
       "    </tr>\n",
       "    <tr>\n",
       "      <th>1963-11-29</th>\n",
       "      <td>-0.023275</td>\n",
       "      <td>-0.014515</td>\n",
       "      <td>-0.004822</td>\n",
       "      <td>-0.011832</td>\n",
       "      <td>0.004539</td>\n",
       "      <td>-0.011713</td>\n",
       "    </tr>\n",
       "    <tr>\n",
       "      <th>...</th>\n",
       "      <td>...</td>\n",
       "      <td>...</td>\n",
       "      <td>...</td>\n",
       "      <td>...</td>\n",
       "      <td>...</td>\n",
       "      <td>...</td>\n",
       "    </tr>\n",
       "    <tr>\n",
       "      <th>2020-08-31</th>\n",
       "      <td>0.068058</td>\n",
       "      <td>0.041595</td>\n",
       "      <td>0.064137</td>\n",
       "      <td>0.095550</td>\n",
       "      <td>0.032525</td>\n",
       "      <td>0.053133</td>\n",
       "    </tr>\n",
       "    <tr>\n",
       "      <th>2020-09-30</th>\n",
       "      <td>0.000787</td>\n",
       "      <td>-0.030060</td>\n",
       "      <td>-0.058343</td>\n",
       "      <td>-0.041426</td>\n",
       "      <td>-0.024182</td>\n",
       "      <td>-0.044251</td>\n",
       "    </tr>\n",
       "    <tr>\n",
       "      <th>2020-10-30</th>\n",
       "      <td>0.013374</td>\n",
       "      <td>0.003912</td>\n",
       "      <td>0.033315</td>\n",
       "      <td>-0.029358</td>\n",
       "      <td>-0.007560</td>\n",
       "      <td>0.002166</td>\n",
       "    </tr>\n",
       "    <tr>\n",
       "      <th>2020-11-30</th>\n",
       "      <td>0.206779</td>\n",
       "      <td>0.171371</td>\n",
       "      <td>0.179628</td>\n",
       "      <td>0.105130</td>\n",
       "      <td>0.141396</td>\n",
       "      <td>0.187518</td>\n",
       "    </tr>\n",
       "    <tr>\n",
       "      <th>2020-12-31</th>\n",
       "      <td>0.117731</td>\n",
       "      <td>0.089458</td>\n",
       "      <td>0.070634</td>\n",
       "      <td>0.043112</td>\n",
       "      <td>0.040759</td>\n",
       "      <td>0.057439</td>\n",
       "    </tr>\n",
       "  </tbody>\n",
       "</table>\n",
       "<p>690 rows × 6 columns</p>\n",
       "</div>"
      ],
      "text/plain": [
       "mesumportfolio    mesum1                        mesum2                    \n",
       "bemeportfolio      beme1     beme2     beme3     beme1     beme2     beme3\n",
       "date                                                                      \n",
       "1963-07-31     -0.009966 -0.010398 -0.017684  0.001266  0.004736 -0.012069\n",
       "1963-08-30      0.058207  0.048853  0.052077  0.054856  0.046487  0.076686\n",
       "1963-09-30     -0.036712 -0.012891 -0.016879 -0.015210 -0.006838 -0.005388\n",
       "1963-10-31      0.010595  0.016415  0.030219  0.045226  0.016464  0.028405\n",
       "1963-11-29     -0.023275 -0.014515 -0.004822 -0.011832  0.004539 -0.011713\n",
       "...                  ...       ...       ...       ...       ...       ...\n",
       "2020-08-31      0.068058  0.041595  0.064137  0.095550  0.032525  0.053133\n",
       "2020-09-30      0.000787 -0.030060 -0.058343 -0.041426 -0.024182 -0.044251\n",
       "2020-10-30      0.013374  0.003912  0.033315 -0.029358 -0.007560  0.002166\n",
       "2020-11-30      0.206779  0.171371  0.179628  0.105130  0.141396  0.187518\n",
       "2020-12-31      0.117731  0.089458  0.070634  0.043112  0.040759  0.057439\n",
       "\n",
       "[690 rows x 6 columns]"
      ]
     },
     "execution_count": 52,
     "metadata": {},
     "output_type": "execute_result"
    }
   ],
   "source": [
    "beme_ret = beme_ret.unstack(level=[1, 2])\n",
    "beme_ret"
   ]
  },
  {
   "cell_type": "code",
   "execution_count": 53,
   "metadata": {
    "slideshow": {
     "slide_type": "subslide"
    }
   },
   "outputs": [
    {
     "data": {
      "text/plain": [
       "<AxesSubplot:xlabel='date'>"
      ]
     },
     "execution_count": 53,
     "metadata": {},
     "output_type": "execute_result"
    },
    {
     "data": {
      "image/png": "[encoded data removed]",
      "text/plain": [
       "<Figure size 720x432 with 1 Axes>"
      ]
     },
     "metadata": {
      "needs_background": "light"
     },
     "output_type": "display_data"
    }
   ],
   "source": [
    "(1+beme_ret).cumprod().plot(grid=True, logy=True)"
   ]
  },
  {
   "cell_type": "code",
   "execution_count": 54,
   "metadata": {
    "slideshow": {
     "slide_type": "subslide"
    }
   },
   "outputs": [],
   "source": [
    "# HML returns\n",
    "beme_ret['hml'] = beme_ret.loc[:, idx[:, 'beme3']].mean(axis=1) - beme_ret.loc[:, idx[:, 'beme1']].mean(axis=1)"
   ]
  },
  {
   "cell_type": "code",
   "execution_count": 55,
   "metadata": {
    "slideshow": {
     "slide_type": "subslide"
    }
   },
   "outputs": [],
   "source": [
    "rf_data = mdata.loc[(mdata.date >= '1963-07-01') , ['date','rf']].drop_duplicates()\n",
    "rf_data.set_index('date', inplace = True)"
   ]
  },
  {
   "cell_type": "code",
   "execution_count": 56,
   "metadata": {
    "slideshow": {
     "slide_type": "subslide"
    }
   },
   "outputs": [
    {
     "data": {
      "text/plain": [
       "<AxesSubplot:xlabel='date'>"
      ]
     },
     "execution_count": 56,
     "metadata": {},
     "output_type": "execute_result"
    },
    {
     "data": {
      "image/png": "[encoded data removed]",
      "text/plain": [
       "<Figure size 720x432 with 1 Axes>"
      ]
     },
     "metadata": {
      "needs_background": "light"
     },
     "output_type": "display_data"
    }
   ],
   "source": [
    "(1+beme_ret['hml'].add(rf_data['rf'], axis = 'index')).cumprod().plot(grid=True, logy = True)"
   ]
  },
  {
   "cell_type": "code",
   "execution_count": 57,
   "metadata": {
    "slideshow": {
     "slide_type": "subslide"
    }
   },
   "outputs": [],
   "source": [
    "# Characteristic: beme\n",
    "# --------------------\n",
    "charvars = ['mesum', 'beme']\n",
    "beme_ret = port_ret.groupby(['date']+[charvar+\"portfolio\" for charvar in charvars]).apply(\n",
    "    lambda x: np.average(x.retadj, weights=x.lag_me))\n",
    "beme_ret = beme_ret.unstack(level=[1, 2])\n",
    "beme_ret['hml'] = beme_ret.loc[:, idx[:, 'beme3']].mean(axis=1) - beme_ret.loc[:, idx[:, 'beme1']].mean(axis=1)"
   ]
  },
  {
   "cell_type": "code",
   "execution_count": 58,
   "metadata": {
    "slideshow": {
     "slide_type": "subslide"
    }
   },
   "outputs": [],
   "source": [
    "# Characteristic: op\n",
    "# -------------------\n",
    "charvars = ['mesum', 'opbe']\n",
    "op_ret = port_ret.groupby(['date']+[charvar+\"portfolio\" for charvar in charvars]).apply(\n",
    "    lambda x: np.average(x.retadj, weights=x.lag_me))\n",
    "op_ret = op_ret.unstack(level=[1, 2])\n",
    "op_ret['rmw'] = op_ret.loc[:, idx[:, 'opbe3']].mean(axis=1) - op_ret.loc[:, idx[:, 'opbe1']].mean(axis=1)\n",
    "del charvars"
   ]
  },
  {
   "cell_type": "code",
   "execution_count": 59,
   "metadata": {
    "slideshow": {
     "slide_type": "subslide"
    }
   },
   "outputs": [],
   "source": [
    "# Characteristic: inv\n",
    "# -------------------\n",
    "charvars = ['mesum', 'inv']\n",
    "inv_ret = port_ret.groupby(['date']+[charvar+\"portfolio\" for charvar in charvars]).apply(\n",
    "    lambda x: np.average(x.retadj, weights=x.lag_me))\n",
    "inv_ret = inv_ret.unstack(level=[1, 2])\n",
    "inv_ret['cma'] = inv_ret.loc[:, idx[:, 'inv1']].mean(axis=1) - inv_ret.loc[:, idx[:, 'inv3']].mean(axis=1)\n",
    "del charvars"
   ]
  },
  {
   "cell_type": "code",
   "execution_count": 60,
   "metadata": {
    "slideshow": {
     "slide_type": "subslide"
    }
   },
   "outputs": [],
   "source": [
    "# Characteristic: size\n",
    "# --------------------\n",
    "fret = pd.DataFrame()\n",
    "fret['smb'] = (beme_ret.loc[:, 'mesum1'].mean(axis=1) - beme_ret.loc[:,'mesum2'].mean(axis=1) +\n",
    "               op_ret.loc[:, 'mesum1'].mean(axis=1) - op_ret.loc[:,'mesum2'].mean(axis=1) +\n",
    "               inv_ret.loc[:, 'mesum1'].mean(axis=1) - inv_ret.loc[:,'mesum2'].mean(axis=1))*(1/3)"
   ]
  },
  {
   "cell_type": "code",
   "execution_count": 61,
   "metadata": {
    "slideshow": {
     "slide_type": "subslide"
    }
   },
   "outputs": [],
   "source": [
    "# %% Aggregate all\n",
    "beme_ret.columns = [''.join(col).strip() for col in beme_ret.columns.values]\n",
    "op_ret.columns = [''.join(col).strip() for col in op_ret.columns.values]\n",
    "inv_ret.columns = [''.join(col).strip() for col in inv_ret.columns.values]"
   ]
  },
  {
   "cell_type": "code",
   "execution_count": 62,
   "metadata": {
    "slideshow": {
     "slide_type": "fragment"
    }
   },
   "outputs": [],
   "source": [
    "fret = fret.join(beme_ret[['hml']]).join(op_ret[['rmw']]).join(inv_ret[['cma']])"
   ]
  },
  {
   "cell_type": "code",
   "execution_count": 63,
   "metadata": {
    "slideshow": {
     "slide_type": "fragment"
    }
   },
   "outputs": [
    {
     "data": {
      "text/html": [
       "<div>\n",
       "<style scoped>\n",
       "    .dataframe tbody tr th:only-of-type {\n",
       "        vertical-align: middle;\n",
       "    }\n",
       "\n",
       "    .dataframe tbody tr th {\n",
       "        vertical-align: top;\n",
       "    }\n",
       "\n",
       "    .dataframe thead th {\n",
       "        text-align: right;\n",
       "    }\n",
       "</style>\n",
       "<table border=\"1\" class=\"dataframe\">\n",
       "  <thead>\n",
       "    <tr style=\"text-align: right;\">\n",
       "      <th></th>\n",
       "      <th>smb</th>\n",
       "      <th>hml</th>\n",
       "      <th>rmw</th>\n",
       "      <th>cma</th>\n",
       "    </tr>\n",
       "    <tr>\n",
       "      <th>date</th>\n",
       "      <th></th>\n",
       "      <th></th>\n",
       "      <th></th>\n",
       "      <th></th>\n",
       "    </tr>\n",
       "  </thead>\n",
       "  <tbody>\n",
       "    <tr>\n",
       "      <th>1963-07-31</th>\n",
       "      <td>-0.011667</td>\n",
       "      <td>-0.010527</td>\n",
       "      <td>0.006593</td>\n",
       "      <td>-0.014627</td>\n",
       "    </tr>\n",
       "    <tr>\n",
       "      <th>1963-08-30</th>\n",
       "      <td>-0.003393</td>\n",
       "      <td>0.007850</td>\n",
       "      <td>0.001588</td>\n",
       "      <td>-0.001887</td>\n",
       "    </tr>\n",
       "    <tr>\n",
       "      <th>1963-09-30</th>\n",
       "      <td>-0.009623</td>\n",
       "      <td>0.014828</td>\n",
       "      <td>-0.006653</td>\n",
       "      <td>0.004186</td>\n",
       "    </tr>\n",
       "    <tr>\n",
       "      <th>1963-10-31</th>\n",
       "      <td>-0.010657</td>\n",
       "      <td>0.001401</td>\n",
       "      <td>0.025885</td>\n",
       "      <td>-0.024073</td>\n",
       "    </tr>\n",
       "    <tr>\n",
       "      <th>1963-11-29</th>\n",
       "      <td>-0.006882</td>\n",
       "      <td>0.009286</td>\n",
       "      <td>-0.001701</td>\n",
       "      <td>0.019459</td>\n",
       "    </tr>\n",
       "    <tr>\n",
       "      <th>...</th>\n",
       "      <td>...</td>\n",
       "      <td>...</td>\n",
       "      <td>...</td>\n",
       "      <td>...</td>\n",
       "    </tr>\n",
       "    <tr>\n",
       "      <th>2020-08-31</th>\n",
       "      <td>-0.011832</td>\n",
       "      <td>-0.023169</td>\n",
       "      <td>0.041838</td>\n",
       "      <td>-0.023090</td>\n",
       "    </tr>\n",
       "    <tr>\n",
       "      <th>2020-09-30</th>\n",
       "      <td>0.007223</td>\n",
       "      <td>-0.030977</td>\n",
       "      <td>-0.011171</td>\n",
       "      <td>-0.036372</td>\n",
       "    </tr>\n",
       "    <tr>\n",
       "      <th>2020-10-30</th>\n",
       "      <td>0.034714</td>\n",
       "      <td>0.025732</td>\n",
       "      <td>-0.000432</td>\n",
       "      <td>0.000048</td>\n",
       "    </tr>\n",
       "    <tr>\n",
       "      <th>2020-11-30</th>\n",
       "      <td>0.052047</td>\n",
       "      <td>0.027619</td>\n",
       "      <td>-0.029277</td>\n",
       "      <td>0.004933</td>\n",
       "    </tr>\n",
       "    <tr>\n",
       "      <th>2020-12-31</th>\n",
       "      <td>0.047774</td>\n",
       "      <td>-0.016385</td>\n",
       "      <td>0.000953</td>\n",
       "      <td>-0.006064</td>\n",
       "    </tr>\n",
       "  </tbody>\n",
       "</table>\n",
       "<p>690 rows × 4 columns</p>\n",
       "</div>"
      ],
      "text/plain": [
       "                 smb       hml       rmw       cma\n",
       "date                                              \n",
       "1963-07-31 -0.011667 -0.010527  0.006593 -0.014627\n",
       "1963-08-30 -0.003393  0.007850  0.001588 -0.001887\n",
       "1963-09-30 -0.009623  0.014828 -0.006653  0.004186\n",
       "1963-10-31 -0.010657  0.001401  0.025885 -0.024073\n",
       "1963-11-29 -0.006882  0.009286 -0.001701  0.019459\n",
       "...              ...       ...       ...       ...\n",
       "2020-08-31 -0.011832 -0.023169  0.041838 -0.023090\n",
       "2020-09-30  0.007223 -0.030977 -0.011171 -0.036372\n",
       "2020-10-30  0.034714  0.025732 -0.000432  0.000048\n",
       "2020-11-30  0.052047  0.027619 -0.029277  0.004933\n",
       "2020-12-31  0.047774 -0.016385  0.000953 -0.006064\n",
       "\n",
       "[690 rows x 4 columns]"
      ]
     },
     "execution_count": 63,
     "metadata": {},
     "output_type": "execute_result"
    }
   ],
   "source": [
    "fret  "
   ]
  },
  {
   "cell_type": "code",
   "execution_count": 64,
   "metadata": {
    "slideshow": {
     "slide_type": "subslide"
    }
   },
   "outputs": [
    {
     "data": {
      "text/plain": [
       "<AxesSubplot:xlabel='date'>"
      ]
     },
     "execution_count": 64,
     "metadata": {},
     "output_type": "execute_result"
    },
    {
     "data": {
      "image/png": "[encoded data removed]",
      "text/plain": [
       "<Figure size 720x432 with 1 Axes>"
      ]
     },
     "metadata": {
      "needs_background": "light"
     },
     "output_type": "display_data"
    }
   ],
   "source": [
    "(1+fret.add(rf_data['rf'], axis = 'index')).cumprod().plot(grid=True, logy = True)"
   ]
  },
  {
   "cell_type": "markdown",
   "metadata": {
    "slideshow": {
     "slide_type": "slide"
    }
   },
   "source": [
    "### Average Returns"
   ]
  },
  {
   "cell_type": "code",
   "execution_count": 65,
   "metadata": {
    "slideshow": {
     "slide_type": "fragment"
    }
   },
   "outputs": [
    {
     "data": {
      "text/plain": [
       "smb    3.018054\n",
       "hml    2.222143\n",
       "rmw    2.838576\n",
       "cma    2.061873\n",
       "dtype: float64"
      ]
     },
     "execution_count": 65,
     "metadata": {},
     "output_type": "execute_result"
    }
   ],
   "source": [
    "fret.mean()*100*12"
   ]
  },
  {
   "cell_type": "markdown",
   "metadata": {
    "slideshow": {
     "slide_type": "slide"
    }
   },
   "source": [
    "### Compare Sharpe-ratio"
   ]
  },
  {
   "cell_type": "code",
   "execution_count": 66,
   "metadata": {
    "slideshow": {
     "slide_type": "fragment"
    }
   },
   "outputs": [
    {
     "data": {
      "text/plain": [
       "smb    0.293418\n",
       "hml    0.215957\n",
       "rmw    0.368843\n",
       "cma    0.283391\n",
       "dtype: float64"
      ]
     },
     "execution_count": 66,
     "metadata": {},
     "output_type": "execute_result"
    }
   ],
   "source": [
    "(fret.mean()/fret.std())*np.sqrt(12)"
   ]
  }
 ],
 "metadata": {
  "celltoolbar": "Slideshow",
  "kernelspec": {
   "display_name": "Python 3 (ipykernel)",
   "language": "python",
   "name": "python3"
  },
  "language_info": {
   "codemirror_mode": {
    "name": "ipython",
    "version": 3
   },
   "file_extension": ".py",
   "mimetype": "text/x-python",
   "name": "python",
   "nbconvert_exporter": "python",
   "pygments_lexer": "ipython3",
   "version": "3.8.12"
  },
  "toc": {
   "base_numbering": 1,
   "nav_menu": {},
   "number_sections": true,
   "sideBar": true,
   "skip_h1_title": true,
   "title_cell": "Table of Contents",
   "title_sidebar": "Contents",
   "toc_cell": true,
   "toc_position": {},
   "toc_section_display": true,
   "toc_window_display": false
  }
 },
 "nbformat": 4,
 "nbformat_minor": 4
}
