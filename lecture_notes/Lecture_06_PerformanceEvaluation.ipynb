{
 "cells": [
  {
   "cell_type": "markdown",
   "metadata": {
    "slideshow": {
     "slide_type": "skip"
    },
    "toc": true
   },
   "source": [
    "<h1>Table of Contents<span class=\"tocSkip\"></span></h1>\n",
    "<div class=\"toc\"><ul class=\"toc-item\"><li><span><a href=\"#Plan-for-Today\" data-toc-modified-id=\"Plan-for-Today-1\"><span class=\"toc-item-num\">1&nbsp;&nbsp;</span>Plan for Today</a></span></li><li><span><a href=\"#Prepare-the-Data\" data-toc-modified-id=\"Prepare-the-Data-2\"><span class=\"toc-item-num\">2&nbsp;&nbsp;</span>Prepare the Data</a></span><ul class=\"toc-item\"><li><span><a href=\"#Calculating-lagged-returns\" data-toc-modified-id=\"Calculating-lagged-returns-2.1\"><span class=\"toc-item-num\">2.1&nbsp;&nbsp;</span>Calculating lagged returns</a></span></li><li><span><a href=\"#Calculating-cumulative-returns\" data-toc-modified-id=\"Calculating-cumulative-returns-2.2\"><span class=\"toc-item-num\">2.2&nbsp;&nbsp;</span>Calculating cumulative returns</a></span></li><li><span><a href=\"#Delete-missing-returns\" data-toc-modified-id=\"Delete-missing-returns-2.3\"><span class=\"toc-item-num\">2.3&nbsp;&nbsp;</span>Delete missing returns</a></span></li><li><span><a href=\"#Delete-missing-characteristics\" data-toc-modified-id=\"Delete-missing-characteristics-2.4\"><span class=\"toc-item-num\">2.4&nbsp;&nbsp;</span>Delete missing characteristics</a></span></li><li><span><a href=\"#Data-Summary\" data-toc-modified-id=\"Data-Summary-2.5\"><span class=\"toc-item-num\">2.5&nbsp;&nbsp;</span>Data Summary</a></span></li></ul></li><li><span><a href=\"#Forcasting-Future-Excess-Returns\" data-toc-modified-id=\"Forcasting-Future-Excess-Returns-3\"><span class=\"toc-item-num\">3&nbsp;&nbsp;</span>Forcasting Future Excess Returns</a></span><ul class=\"toc-item\"><li><span><a href=\"#Does-ret_11_1-forcast-future-returns?\" data-toc-modified-id=\"Does-ret_11_1-forcast-future-returns?-3.1\"><span class=\"toc-item-num\">3.1&nbsp;&nbsp;</span>Does ret_11_1 forcast future returns?</a></span></li><li><span><a href=\"#Does-ret1-forcast-future-returns?\" data-toc-modified-id=\"Does-ret1-forcast-future-returns?-3.2\"><span class=\"toc-item-num\">3.2&nbsp;&nbsp;</span>Does ret1 forcast future returns?</a></span></li><li><span><a href=\"#Does-ret11_2-forcast-future-returns?\" data-toc-modified-id=\"Does-ret11_2-forcast-future-returns?-3.3\"><span class=\"toc-item-num\">3.3&nbsp;&nbsp;</span>Does ret11_2 forcast future returns?</a></span></li><li><span><a href=\"#Do-ret11_2-and-ret1-together-forcast-future-returns?\" data-toc-modified-id=\"Do-ret11_2-and-ret1-together-forcast-future-returns?-3.4\"><span class=\"toc-item-num\">3.4&nbsp;&nbsp;</span>Do ret11_2 and ret1 together forcast future returns?</a></span></li><li><span><a href=\"#Conceptualize-the-results\" data-toc-modified-id=\"Conceptualize-the-results-3.5\"><span class=\"toc-item-num\">3.5&nbsp;&nbsp;</span>Conceptualize the results</a></span></li></ul></li><li><span><a href=\"#Long-short-portfolio\" data-toc-modified-id=\"Long-short-portfolio-4\"><span class=\"toc-item-num\">4&nbsp;&nbsp;</span>Long-short portfolio</a></span><ul class=\"toc-item\"><li><span><a href=\"#Sort-Portfolio\" data-toc-modified-id=\"Sort-Portfolio-4.1\"><span class=\"toc-item-num\">4.1&nbsp;&nbsp;</span>Sort Portfolio</a></span></li><li><span><a href=\"#Portfolio-returns\" data-toc-modified-id=\"Portfolio-returns-4.2\"><span class=\"toc-item-num\">4.2&nbsp;&nbsp;</span>Portfolio returns</a></span></li><li><span><a href=\"#Compare-Sharpe-ratio\" data-toc-modified-id=\"Compare-Sharpe-ratio-4.3\"><span class=\"toc-item-num\">4.3&nbsp;&nbsp;</span>Compare Sharpe-ratio</a></span></li></ul></li><li><span><a href=\"#Are-there-alphas?\" data-toc-modified-id=\"Are-there-alphas?-5\"><span class=\"toc-item-num\">5&nbsp;&nbsp;</span>Are there alphas?</a></span></li><li><span><a href=\"#Should-we-add-Reversal-to-our-portfolio?\" data-toc-modified-id=\"Should-we-add-Reversal-to-our-portfolio?-6\"><span class=\"toc-item-num\">6&nbsp;&nbsp;</span>Should we add Reversal to our portfolio?</a></span></li><li><span><a href=\"#Optimal-Portfolio\" data-toc-modified-id=\"Optimal-Portfolio-7\"><span class=\"toc-item-num\">7&nbsp;&nbsp;</span>Optimal Portfolio</a></span></li><li><span><a href=\"#Other-Datasets-to-Explore\" data-toc-modified-id=\"Other-Datasets-to-Explore-8\"><span class=\"toc-item-num\">8&nbsp;&nbsp;</span>Other Datasets to Explore</a></span></li></ul></div>"
   ]
  },
  {
   "cell_type": "markdown",
   "metadata": {
    "slideshow": {
     "slide_type": "slide"
    }
   },
   "source": [
    "# Big Data in Finance: Part II <BR><BR> Lecture 6: Performance Evaluation\n",
    "   \n",
    "**Instructor** <BR>\n",
    "Ritt Keerati, ritt.keerati@gsb.columbia.edu\n",
    "    \n",
    "**TA's:** <BR>\n",
    "Meha Sadasivam, MSadasivam21@gsb.columbia.edu <BR>\n",
    "Daheng Yang, dyang22@gsb.columbia.edu <BR>\n",
    "\n",
    "\n",
    "<sub> Credit: lecture notes originally developed by Lira Mota"
   ]
  },
  {
   "cell_type": "markdown",
   "metadata": {
    "slideshow": {
     "slide_type": "slide"
    }
   },
   "source": [
    "## Plan for Today"
   ]
  },
  {
   "cell_type": "markdown",
   "metadata": {
    "slideshow": {
     "slide_type": "fragment"
    }
   },
   "source": [
    "**What we have covered so far**\n",
    "1. Overview of CRSP\n",
    "2. Overview of Compustat\n",
    "3. Merge CRSP and Compustat\n",
    "4. The building block of factor investment: application FF5 Factors\n",
    "5. Homework: Momentum"
   ]
  },
  {
   "cell_type": "markdown",
   "metadata": {
    "slideshow": {
     "slide_type": "subslide"
    }
   },
   "source": [
    "**Plan for Today**\n",
    "1. Study the mom vs. short-term reversal strategies\n",
    "2. Fama-MacBeth regression\n",
    "3. Alpha evaluation"
   ]
  },
  {
   "cell_type": "markdown",
   "metadata": {
    "slideshow": {
     "slide_type": "slide"
    }
   },
   "source": [
    "## Prepare the Data"
   ]
  },
  {
   "cell_type": "markdown",
   "metadata": {
    "slideshow": {
     "slide_type": "fragment"
    }
   },
   "source": [
    "**Setup**"
   ]
  },
  {
   "cell_type": "code",
   "execution_count": 1,
   "metadata": {
    "slideshow": {
     "slide_type": "-"
    }
   },
   "outputs": [],
   "source": [
    "%matplotlib inline \n",
    "\n",
    "#%% Packages\n",
    "import sys\n",
    "import pandas as pd\n",
    "from pandas.tseries.offsets import MonthEnd\n",
    "\n",
    "import numpy as np\n",
    "import datetime\n",
    "\n",
    "import statsmodels.api as sm\n",
    "import statsmodels.formula.api as smf\n",
    "\n",
    "import matplotlib.pyplot as plt\n",
    "\n",
    "import time\n",
    "from time import strptime, strftime\n",
    "\n",
    "# Setups\n",
    "pd.set_option(\"display.max_rows\", 100) # max number or rows to be displayed \n",
    "plt.rcParams['figure.figsize'] = [10, 6]\n",
    "idx = pd.IndexSlice # for multi-index slicing"
   ]
  },
  {
   "cell_type": "code",
   "execution_count": 2,
   "metadata": {
    "slideshow": {
     "slide_type": "subslide"
    }
   },
   "outputs": [],
   "source": [
    "# Packages from fire_pytools\n",
    "sys.path.append(\"/Users/rk2941/Dropbox/courses/big_data_2022/fire_pytools\") \n",
    "\n",
    "from utils.monthly_date import *\n",
    "from portools.find_breakpoints import find_breakpoints\n",
    "from portools.sort_portfolios import sort_portfolios\n",
    "from import_kf.kf_factors import *\n",
    "from utils.post_event_nan import *\n",
    "\n",
    "import warnings\n",
    "warnings.filterwarnings('ignore')"
   ]
  },
  {
   "cell_type": "markdown",
   "metadata": {
    "slideshow": {
     "slide_type": "subslide"
    }
   },
   "source": [
    "**Prepare Data**"
   ]
  },
  {
   "cell_type": "code",
   "execution_count": 3,
   "metadata": {
    "slideshow": {
     "slide_type": "fragment"
    }
   },
   "outputs": [],
   "source": [
    "mdata = pd.read_pickle('/Users/rk2941/Dropbox/courses/big_data_2022/data/stock_monthly.pkl')"
   ]
  },
  {
   "cell_type": "code",
   "execution_count": 4,
   "metadata": {
    "slideshow": {
     "slide_type": "fragment"
    }
   },
   "outputs": [],
   "source": [
    "# Clean Data\n",
    "mdata = mdata[mdata.date>='1970-01-01']      # Data start in 2010\n",
    "mdata = mdata[mdata.shrcd.isin([10, 11])]    # Share type - select only common stocks \n",
    "mdata = mdata[mdata.exchcd.isin([1, 2, 3])]  # Select stocks traded on the major stock exchanges\n",
    "mdata = mdata.sort_values(['permno','date']) # Sort data"
   ]
  },
  {
   "cell_type": "code",
   "execution_count": 5,
   "metadata": {
    "slideshow": {
     "slide_type": "fragment"
    }
   },
   "outputs": [],
   "source": [
    "# Work with excess returns\n",
    "mdata['exret'] = mdata['retadj'] - mdata['rf']"
   ]
  },
  {
   "cell_type": "code",
   "execution_count": 6,
   "metadata": {
    "slideshow": {
     "slide_type": "fragment"
    }
   },
   "outputs": [
    {
     "data": {
      "text/plain": [
       "Index(['permno', 'date', 'dlret', 'dlretx', 'exchcd', 'naics', 'permco', 'prc',\n",
       "       'ret', 'shrcd', 'shrout', 'siccd', 'ticker', 'rankyear', 'retadj', 'me',\n",
       "       'lag_me', 'lag_dlret', 'melag_weights', 'mdate', 'rf', 'exret'],\n",
       "      dtype='object')"
      ]
     },
     "execution_count": 6,
     "metadata": {},
     "output_type": "execute_result"
    }
   ],
   "source": [
    "mdata.columns"
   ]
  },
  {
   "cell_type": "code",
   "execution_count": 7,
   "metadata": {
    "slideshow": {
     "slide_type": "subslide"
    }
   },
   "outputs": [],
   "source": [
    "mdata = mdata[['permno', 'date', 'exret', 'permco','me', 'melag_weights', 'siccd', 'exchcd']].copy()"
   ]
  },
  {
   "cell_type": "code",
   "execution_count": 8,
   "metadata": {
    "slideshow": {
     "slide_type": "fragment"
    }
   },
   "outputs": [
    {
     "data": {
      "text/html": [
       "<div>\n",
       "<style scoped>\n",
       "    .dataframe tbody tr th:only-of-type {\n",
       "        vertical-align: middle;\n",
       "    }\n",
       "\n",
       "    .dataframe tbody tr th {\n",
       "        vertical-align: top;\n",
       "    }\n",
       "\n",
       "    .dataframe thead th {\n",
       "        text-align: right;\n",
       "    }\n",
       "</style>\n",
       "<table border=\"1\" class=\"dataframe\">\n",
       "  <thead>\n",
       "    <tr style=\"text-align: right;\">\n",
       "      <th></th>\n",
       "      <th>permno</th>\n",
       "      <th>date</th>\n",
       "      <th>exret</th>\n",
       "      <th>permco</th>\n",
       "      <th>me</th>\n",
       "      <th>melag_weights</th>\n",
       "      <th>siccd</th>\n",
       "      <th>exchcd</th>\n",
       "    </tr>\n",
       "  </thead>\n",
       "  <tbody>\n",
       "    <tr>\n",
       "      <th>1</th>\n",
       "      <td>10000</td>\n",
       "      <td>1986-01-31</td>\n",
       "      <td>NaN</td>\n",
       "      <td>7952.0</td>\n",
       "      <td>1.610000e+01</td>\n",
       "      <td>NaN</td>\n",
       "      <td>3990.0</td>\n",
       "      <td>3.0</td>\n",
       "    </tr>\n",
       "    <tr>\n",
       "      <th>2</th>\n",
       "      <td>10000</td>\n",
       "      <td>1986-02-28</td>\n",
       "      <td>-0.262439</td>\n",
       "      <td>7952.0</td>\n",
       "      <td>1.196000e+01</td>\n",
       "      <td>1.610000e+01</td>\n",
       "      <td>3990.0</td>\n",
       "      <td>3.0</td>\n",
       "    </tr>\n",
       "    <tr>\n",
       "      <th>3</th>\n",
       "      <td>10000</td>\n",
       "      <td>1986-03-31</td>\n",
       "      <td>0.359422</td>\n",
       "      <td>7952.0</td>\n",
       "      <td>1.633000e+01</td>\n",
       "      <td>1.196000e+01</td>\n",
       "      <td>3990.0</td>\n",
       "      <td>3.0</td>\n",
       "    </tr>\n",
       "    <tr>\n",
       "      <th>4</th>\n",
       "      <td>10000</td>\n",
       "      <td>1986-04-30</td>\n",
       "      <td>-0.103933</td>\n",
       "      <td>7952.0</td>\n",
       "      <td>1.517200e+01</td>\n",
       "      <td>1.633000e+01</td>\n",
       "      <td>3990.0</td>\n",
       "      <td>3.0</td>\n",
       "    </tr>\n",
       "    <tr>\n",
       "      <th>5</th>\n",
       "      <td>10000</td>\n",
       "      <td>1986-05-30</td>\n",
       "      <td>-0.227590</td>\n",
       "      <td>7952.0</td>\n",
       "      <td>1.179386e+01</td>\n",
       "      <td>1.517200e+01</td>\n",
       "      <td>3990.0</td>\n",
       "      <td>3.0</td>\n",
       "    </tr>\n",
       "    <tr>\n",
       "      <th>...</th>\n",
       "      <td>...</td>\n",
       "      <td>...</td>\n",
       "      <td>...</td>\n",
       "      <td>...</td>\n",
       "      <td>...</td>\n",
       "      <td>...</td>\n",
       "      <td>...</td>\n",
       "      <td>...</td>\n",
       "    </tr>\n",
       "    <tr>\n",
       "      <th>4809516</th>\n",
       "      <td>93436</td>\n",
       "      <td>2021-08-31</td>\n",
       "      <td>0.070556</td>\n",
       "      <td>53453.0</td>\n",
       "      <td>7.370200e+05</td>\n",
       "      <td>6.803383e+05</td>\n",
       "      <td>9999.0</td>\n",
       "      <td>3.0</td>\n",
       "    </tr>\n",
       "    <tr>\n",
       "      <th>4809517</th>\n",
       "      <td>93436</td>\n",
       "      <td>2021-09-30</td>\n",
       "      <td>0.054009</td>\n",
       "      <td>53453.0</td>\n",
       "      <td>7.785819e+05</td>\n",
       "      <td>7.370200e+05</td>\n",
       "      <td>9999.0</td>\n",
       "      <td>3.0</td>\n",
       "    </tr>\n",
       "    <tr>\n",
       "      <th>4809518</th>\n",
       "      <td>93436</td>\n",
       "      <td>2021-10-29</td>\n",
       "      <td>0.436493</td>\n",
       "      <td>53453.0</td>\n",
       "      <td>1.118751e+06</td>\n",
       "      <td>7.785819e+05</td>\n",
       "      <td>9999.0</td>\n",
       "      <td>3.0</td>\n",
       "    </tr>\n",
       "    <tr>\n",
       "      <th>4809519</th>\n",
       "      <td>93436</td>\n",
       "      <td>2021-11-30</td>\n",
       "      <td>0.027568</td>\n",
       "      <td>53453.0</td>\n",
       "      <td>1.149642e+06</td>\n",
       "      <td>1.118751e+06</td>\n",
       "      <td>9999.0</td>\n",
       "      <td>3.0</td>\n",
       "    </tr>\n",
       "    <tr>\n",
       "      <th>4809520</th>\n",
       "      <td>93436</td>\n",
       "      <td>2021-12-31</td>\n",
       "      <td>-0.076922</td>\n",
       "      <td>53453.0</td>\n",
       "      <td>1.061287e+06</td>\n",
       "      <td>1.149642e+06</td>\n",
       "      <td>9999.0</td>\n",
       "      <td>3.0</td>\n",
       "    </tr>\n",
       "  </tbody>\n",
       "</table>\n",
       "<p>3119541 rows × 8 columns</p>\n",
       "</div>"
      ],
      "text/plain": [
       "         permno       date     exret   permco            me  melag_weights  \\\n",
       "1         10000 1986-01-31       NaN   7952.0  1.610000e+01            NaN   \n",
       "2         10000 1986-02-28 -0.262439   7952.0  1.196000e+01   1.610000e+01   \n",
       "3         10000 1986-03-31  0.359422   7952.0  1.633000e+01   1.196000e+01   \n",
       "4         10000 1986-04-30 -0.103933   7952.0  1.517200e+01   1.633000e+01   \n",
       "5         10000 1986-05-30 -0.227590   7952.0  1.179386e+01   1.517200e+01   \n",
       "...         ...        ...       ...      ...           ...            ...   \n",
       "4809516   93436 2021-08-31  0.070556  53453.0  7.370200e+05   6.803383e+05   \n",
       "4809517   93436 2021-09-30  0.054009  53453.0  7.785819e+05   7.370200e+05   \n",
       "4809518   93436 2021-10-29  0.436493  53453.0  1.118751e+06   7.785819e+05   \n",
       "4809519   93436 2021-11-30  0.027568  53453.0  1.149642e+06   1.118751e+06   \n",
       "4809520   93436 2021-12-31 -0.076922  53453.0  1.061287e+06   1.149642e+06   \n",
       "\n",
       "          siccd  exchcd  \n",
       "1        3990.0     3.0  \n",
       "2        3990.0     3.0  \n",
       "3        3990.0     3.0  \n",
       "4        3990.0     3.0  \n",
       "5        3990.0     3.0  \n",
       "...         ...     ...  \n",
       "4809516  9999.0     3.0  \n",
       "4809517  9999.0     3.0  \n",
       "4809518  9999.0     3.0  \n",
       "4809519  9999.0     3.0  \n",
       "4809520  9999.0     3.0  \n",
       "\n",
       "[3119541 rows x 8 columns]"
      ]
     },
     "execution_count": 8,
     "metadata": {},
     "output_type": "execute_result"
    }
   ],
   "source": [
    "mdata"
   ]
  },
  {
   "cell_type": "markdown",
   "metadata": {
    "slideshow": {
     "slide_type": "subslide"
    }
   },
   "source": [
    "### Calculating lagged returns"
   ]
  },
  {
   "cell_type": "code",
   "execution_count": 9,
   "metadata": {
    "slideshow": {
     "slide_type": "fragment"
    }
   },
   "outputs": [],
   "source": [
    "# Create past returns\n",
    "mdata['ret1'] = mdata.groupby('permno').exret.shift(1)"
   ]
  },
  {
   "cell_type": "code",
   "execution_count": 10,
   "metadata": {
    "slideshow": {
     "slide_type": "fragment"
    }
   },
   "outputs": [
    {
     "data": {
      "text/html": [
       "<div>\n",
       "<style scoped>\n",
       "    .dataframe tbody tr th:only-of-type {\n",
       "        vertical-align: middle;\n",
       "    }\n",
       "\n",
       "    .dataframe tbody tr th {\n",
       "        vertical-align: top;\n",
       "    }\n",
       "\n",
       "    .dataframe thead th {\n",
       "        text-align: right;\n",
       "    }\n",
       "</style>\n",
       "<table border=\"1\" class=\"dataframe\">\n",
       "  <thead>\n",
       "    <tr style=\"text-align: right;\">\n",
       "      <th></th>\n",
       "      <th>permno</th>\n",
       "      <th>date</th>\n",
       "      <th>exret</th>\n",
       "      <th>ret1</th>\n",
       "    </tr>\n",
       "  </thead>\n",
       "  <tbody>\n",
       "    <tr>\n",
       "      <th>1</th>\n",
       "      <td>10000</td>\n",
       "      <td>1986-01-31</td>\n",
       "      <td>NaN</td>\n",
       "      <td>NaN</td>\n",
       "    </tr>\n",
       "    <tr>\n",
       "      <th>2</th>\n",
       "      <td>10000</td>\n",
       "      <td>1986-02-28</td>\n",
       "      <td>-0.262439</td>\n",
       "      <td>NaN</td>\n",
       "    </tr>\n",
       "    <tr>\n",
       "      <th>3</th>\n",
       "      <td>10000</td>\n",
       "      <td>1986-03-31</td>\n",
       "      <td>0.359422</td>\n",
       "      <td>-0.262439</td>\n",
       "    </tr>\n",
       "    <tr>\n",
       "      <th>4</th>\n",
       "      <td>10000</td>\n",
       "      <td>1986-04-30</td>\n",
       "      <td>-0.103933</td>\n",
       "      <td>0.359422</td>\n",
       "    </tr>\n",
       "    <tr>\n",
       "      <th>5</th>\n",
       "      <td>10000</td>\n",
       "      <td>1986-05-30</td>\n",
       "      <td>-0.227590</td>\n",
       "      <td>-0.103933</td>\n",
       "    </tr>\n",
       "  </tbody>\n",
       "</table>\n",
       "</div>"
      ],
      "text/plain": [
       "   permno       date     exret      ret1\n",
       "1   10000 1986-01-31       NaN       NaN\n",
       "2   10000 1986-02-28 -0.262439       NaN\n",
       "3   10000 1986-03-31  0.359422 -0.262439\n",
       "4   10000 1986-04-30 -0.103933  0.359422\n",
       "5   10000 1986-05-30 -0.227590 -0.103933"
      ]
     },
     "execution_count": 10,
     "metadata": {},
     "output_type": "execute_result"
    }
   ],
   "source": [
    "mdata[['permno','date','exret','ret1']].head()"
   ]
  },
  {
   "cell_type": "code",
   "execution_count": 11,
   "metadata": {
    "slideshow": {
     "slide_type": "fragment"
    }
   },
   "outputs": [
    {
     "data": {
      "text/html": [
       "<div>\n",
       "<style scoped>\n",
       "    .dataframe tbody tr th:only-of-type {\n",
       "        vertical-align: middle;\n",
       "    }\n",
       "\n",
       "    .dataframe tbody tr th {\n",
       "        vertical-align: top;\n",
       "    }\n",
       "\n",
       "    .dataframe thead th {\n",
       "        text-align: right;\n",
       "    }\n",
       "</style>\n",
       "<table border=\"1\" class=\"dataframe\">\n",
       "  <thead>\n",
       "    <tr style=\"text-align: right;\">\n",
       "      <th></th>\n",
       "      <th>permno</th>\n",
       "      <th>date</th>\n",
       "      <th>exret</th>\n",
       "      <th>permco</th>\n",
       "      <th>me</th>\n",
       "      <th>melag_weights</th>\n",
       "      <th>siccd</th>\n",
       "      <th>exchcd</th>\n",
       "      <th>ret1</th>\n",
       "    </tr>\n",
       "  </thead>\n",
       "  <tbody>\n",
       "    <tr>\n",
       "      <th>14</th>\n",
       "      <td>10000</td>\n",
       "      <td>1987-02-27</td>\n",
       "      <td>-0.004309</td>\n",
       "      <td>7952.0</td>\n",
       "      <td>1.581531</td>\n",
       "      <td>1.581531</td>\n",
       "      <td>3990.0</td>\n",
       "      <td>3.0</td>\n",
       "      <td>-0.216272</td>\n",
       "    </tr>\n",
       "    <tr>\n",
       "      <th>15</th>\n",
       "      <td>10000</td>\n",
       "      <td>1987-03-31</td>\n",
       "      <td>-0.389627</td>\n",
       "      <td>7952.0</td>\n",
       "      <td>0.973250</td>\n",
       "      <td>1.581531</td>\n",
       "      <td>3990.0</td>\n",
       "      <td>3.0</td>\n",
       "      <td>-0.004309</td>\n",
       "    </tr>\n",
       "    <tr>\n",
       "      <th>16</th>\n",
       "      <td>10000</td>\n",
       "      <td>1987-04-30</td>\n",
       "      <td>-0.066785</td>\n",
       "      <td>7952.0</td>\n",
       "      <td>0.912422</td>\n",
       "      <td>0.973250</td>\n",
       "      <td>3990.0</td>\n",
       "      <td>3.0</td>\n",
       "      <td>-0.389627</td>\n",
       "    </tr>\n",
       "    <tr>\n",
       "      <th>17</th>\n",
       "      <td>10000</td>\n",
       "      <td>1987-05-29</td>\n",
       "      <td>-0.070427</td>\n",
       "      <td>7952.0</td>\n",
       "      <td>0.851594</td>\n",
       "      <td>0.912422</td>\n",
       "      <td>3990.0</td>\n",
       "      <td>3.0</td>\n",
       "      <td>-0.066785</td>\n",
       "    </tr>\n",
       "    <tr>\n",
       "      <th>18</th>\n",
       "      <td>10000</td>\n",
       "      <td>1987-06-30</td>\n",
       "      <td>-0.005031</td>\n",
       "      <td>7952.0</td>\n",
       "      <td>NaN</td>\n",
       "      <td>0.851594</td>\n",
       "      <td>3990.0</td>\n",
       "      <td>3.0</td>\n",
       "      <td>-0.070427</td>\n",
       "    </tr>\n",
       "  </tbody>\n",
       "</table>\n",
       "</div>"
      ],
      "text/plain": [
       "    permno       date     exret  permco        me  melag_weights   siccd  \\\n",
       "14   10000 1987-02-27 -0.004309  7952.0  1.581531       1.581531  3990.0   \n",
       "15   10000 1987-03-31 -0.389627  7952.0  0.973250       1.581531  3990.0   \n",
       "16   10000 1987-04-30 -0.066785  7952.0  0.912422       0.973250  3990.0   \n",
       "17   10000 1987-05-29 -0.070427  7952.0  0.851594       0.912422  3990.0   \n",
       "18   10000 1987-06-30 -0.005031  7952.0       NaN       0.851594  3990.0   \n",
       "\n",
       "    exchcd      ret1  \n",
       "14     3.0 -0.216272  \n",
       "15     3.0 -0.004309  \n",
       "16     3.0 -0.389627  \n",
       "17     3.0 -0.066785  \n",
       "18     3.0 -0.070427  "
      ]
     },
     "execution_count": 11,
     "metadata": {},
     "output_type": "execute_result"
    }
   ],
   "source": [
    "mdata[mdata.permno==10000].tail()"
   ]
  },
  {
   "cell_type": "markdown",
   "metadata": {
    "slideshow": {
     "slide_type": "subslide"
    }
   },
   "source": [
    "**What could be the problem with lagged return?**"
   ]
  },
  {
   "cell_type": "markdown",
   "metadata": {
    "slideshow": {
     "slide_type": "fragment"
    }
   },
   "source": [
    "* CRSP reports returns if there is a price within the last 10 periods"
   ]
  },
  {
   "cell_type": "code",
   "execution_count": 12,
   "metadata": {
    "slideshow": {
     "slide_type": "fragment"
    }
   },
   "outputs": [],
   "source": [
    "mdata['date_diff'] = mdata.groupby('permno').date.diff()"
   ]
  },
  {
   "cell_type": "code",
   "execution_count": 13,
   "metadata": {
    "slideshow": {
     "slide_type": "fragment"
    }
   },
   "outputs": [
    {
     "data": {
      "text/plain": [
       "count                       3094522\n",
       "mean     31 days 02:41:01.710079941\n",
       "std      45 days 16:11:44.309700975\n",
       "min                28 days 00:00:00\n",
       "25%                29 days 00:00:00\n",
       "50%                31 days 00:00:00\n",
       "75%                31 days 00:00:00\n",
       "max             11961 days 00:00:00\n",
       "Name: date_diff, dtype: object"
      ]
     },
     "execution_count": 13,
     "metadata": {},
     "output_type": "execute_result"
    }
   ],
   "source": [
    "mdata.date_diff.describe()"
   ]
  },
  {
   "cell_type": "code",
   "execution_count": 14,
   "metadata": {
    "slideshow": {
     "slide_type": "subslide"
    }
   },
   "outputs": [
    {
     "data": {
      "text/plain": [
       "1          False\n",
       "2          False\n",
       "3          False\n",
       "4          False\n",
       "5          False\n",
       "           ...  \n",
       "4809516     True\n",
       "4809517    False\n",
       "4809518    False\n",
       "4809519     True\n",
       "4809520    False\n",
       "Name: date_diff, Length: 3119541, dtype: bool"
      ]
     },
     "execution_count": 14,
     "metadata": {},
     "output_type": "execute_result"
    }
   ],
   "source": [
    "# How to work with dates\n",
    "mdata['date_diff'].dt.days>31"
   ]
  },
  {
   "cell_type": "code",
   "execution_count": 15,
   "metadata": {
    "slideshow": {
     "slide_type": "subslide"
    }
   },
   "outputs": [
    {
     "data": {
      "text/html": [
       "<div>\n",
       "<style scoped>\n",
       "    .dataframe tbody tr th:only-of-type {\n",
       "        vertical-align: middle;\n",
       "    }\n",
       "\n",
       "    .dataframe tbody tr th {\n",
       "        vertical-align: top;\n",
       "    }\n",
       "\n",
       "    .dataframe thead th {\n",
       "        text-align: right;\n",
       "    }\n",
       "</style>\n",
       "<table border=\"1\" class=\"dataframe\">\n",
       "  <thead>\n",
       "    <tr style=\"text-align: right;\">\n",
       "      <th></th>\n",
       "      <th>permno</th>\n",
       "      <th>date</th>\n",
       "      <th>date_diff</th>\n",
       "      <th>exret</th>\n",
       "      <th>ret1</th>\n",
       "    </tr>\n",
       "  </thead>\n",
       "  <tbody>\n",
       "    <tr>\n",
       "      <th>9</th>\n",
       "      <td>10000</td>\n",
       "      <td>1986-09-30</td>\n",
       "      <td>32 days</td>\n",
       "      <td>-0.061926</td>\n",
       "      <td>-0.619999</td>\n",
       "    </tr>\n",
       "    <tr>\n",
       "      <th>12</th>\n",
       "      <td>10000</td>\n",
       "      <td>1986-12-31</td>\n",
       "      <td>33 days</td>\n",
       "      <td>-0.382125</td>\n",
       "      <td>0.056076</td>\n",
       "    </tr>\n",
       "    <tr>\n",
       "      <th>15</th>\n",
       "      <td>10000</td>\n",
       "      <td>1987-03-31</td>\n",
       "      <td>32 days</td>\n",
       "      <td>-0.389627</td>\n",
       "      <td>-0.004309</td>\n",
       "    </tr>\n",
       "    <tr>\n",
       "      <th>18</th>\n",
       "      <td>10000</td>\n",
       "      <td>1987-06-30</td>\n",
       "      <td>32 days</td>\n",
       "      <td>-0.005031</td>\n",
       "      <td>-0.070427</td>\n",
       "    </tr>\n",
       "    <tr>\n",
       "      <th>28</th>\n",
       "      <td>10001</td>\n",
       "      <td>1986-09-30</td>\n",
       "      <td>32 days</td>\n",
       "      <td>-0.007860</td>\n",
       "      <td>0.067551</td>\n",
       "    </tr>\n",
       "  </tbody>\n",
       "</table>\n",
       "</div>"
      ],
      "text/plain": [
       "    permno       date date_diff     exret      ret1\n",
       "9    10000 1986-09-30   32 days -0.061926 -0.619999\n",
       "12   10000 1986-12-31   33 days -0.382125  0.056076\n",
       "15   10000 1987-03-31   32 days -0.389627 -0.004309\n",
       "18   10000 1987-06-30   32 days -0.005031 -0.070427\n",
       "28   10001 1986-09-30   32 days -0.007860  0.067551"
      ]
     },
     "execution_count": 15,
     "metadata": {},
     "output_type": "execute_result"
    }
   ],
   "source": [
    "# Are there problems here?\n",
    "mdata.loc[(mdata.date_diff.dt.days>31), ['permno','date', 'date_diff', 'exret','ret1']].head()"
   ]
  },
  {
   "cell_type": "code",
   "execution_count": 16,
   "metadata": {
    "slideshow": {
     "slide_type": "subslide"
    }
   },
   "outputs": [
    {
     "data": {
      "text/html": [
       "<div>\n",
       "<style scoped>\n",
       "    .dataframe tbody tr th:only-of-type {\n",
       "        vertical-align: middle;\n",
       "    }\n",
       "\n",
       "    .dataframe tbody tr th {\n",
       "        vertical-align: top;\n",
       "    }\n",
       "\n",
       "    .dataframe thead th {\n",
       "        text-align: right;\n",
       "    }\n",
       "</style>\n",
       "<table border=\"1\" class=\"dataframe\">\n",
       "  <thead>\n",
       "    <tr style=\"text-align: right;\">\n",
       "      <th></th>\n",
       "      <th>permno</th>\n",
       "      <th>date</th>\n",
       "      <th>date_diff</th>\n",
       "      <th>exret</th>\n",
       "      <th>ret1</th>\n",
       "    </tr>\n",
       "  </thead>\n",
       "  <tbody>\n",
       "    <tr>\n",
       "      <th>1656</th>\n",
       "      <td>10007</td>\n",
       "      <td>1989-02-28</td>\n",
       "      <td>456 days</td>\n",
       "      <td>NaN</td>\n",
       "      <td>-0.364477</td>\n",
       "    </tr>\n",
       "    <tr>\n",
       "      <th>2150</th>\n",
       "      <td>10012</td>\n",
       "      <td>1987-10-30</td>\n",
       "      <td>91 days</td>\n",
       "      <td>NaN</td>\n",
       "      <td>0.072865</td>\n",
       "    </tr>\n",
       "    <tr>\n",
       "      <th>5465</th>\n",
       "      <td>10028</td>\n",
       "      <td>2012-11-30</td>\n",
       "      <td>245 days</td>\n",
       "      <td>-0.246609</td>\n",
       "      <td>-0.048392</td>\n",
       "    </tr>\n",
       "    <tr>\n",
       "      <th>8985</th>\n",
       "      <td>10050</td>\n",
       "      <td>1978-09-29</td>\n",
       "      <td>60 days</td>\n",
       "      <td>NaN</td>\n",
       "      <td>NaN</td>\n",
       "    </tr>\n",
       "    <tr>\n",
       "      <th>8986</th>\n",
       "      <td>10050</td>\n",
       "      <td>1978-12-29</td>\n",
       "      <td>91 days</td>\n",
       "      <td>NaN</td>\n",
       "      <td>NaN</td>\n",
       "    </tr>\n",
       "  </tbody>\n",
       "</table>\n",
       "</div>"
      ],
      "text/plain": [
       "      permno       date date_diff     exret      ret1\n",
       "1656   10007 1989-02-28  456 days       NaN -0.364477\n",
       "2150   10012 1987-10-30   91 days       NaN  0.072865\n",
       "5465   10028 2012-11-30  245 days -0.246609 -0.048392\n",
       "8985   10050 1978-09-29   60 days       NaN       NaN\n",
       "8986   10050 1978-12-29   91 days       NaN       NaN"
      ]
     },
     "execution_count": 16,
     "metadata": {},
     "output_type": "execute_result"
    }
   ],
   "source": [
    "# What about here?\n",
    "mdata.loc[(mdata.date_diff.dt.days>40), ['permno','date', 'date_diff', 'exret','ret1']].head()"
   ]
  },
  {
   "cell_type": "code",
   "execution_count": 17,
   "metadata": {
    "slideshow": {
     "slide_type": "subslide"
    }
   },
   "outputs": [
    {
     "data": {
      "text/html": [
       "<div>\n",
       "<style scoped>\n",
       "    .dataframe tbody tr th:only-of-type {\n",
       "        vertical-align: middle;\n",
       "    }\n",
       "\n",
       "    .dataframe tbody tr th {\n",
       "        vertical-align: top;\n",
       "    }\n",
       "\n",
       "    .dataframe thead th {\n",
       "        text-align: right;\n",
       "    }\n",
       "</style>\n",
       "<table border=\"1\" class=\"dataframe\">\n",
       "  <thead>\n",
       "    <tr style=\"text-align: right;\">\n",
       "      <th></th>\n",
       "      <th>permno</th>\n",
       "      <th>date</th>\n",
       "      <th>date_diff</th>\n",
       "      <th>exret</th>\n",
       "      <th>ret1</th>\n",
       "    </tr>\n",
       "  </thead>\n",
       "  <tbody>\n",
       "    <tr>\n",
       "      <th>5144</th>\n",
       "      <td>10028</td>\n",
       "      <td>1986-02-28</td>\n",
       "      <td>NaT</td>\n",
       "      <td>NaN</td>\n",
       "      <td>NaN</td>\n",
       "    </tr>\n",
       "    <tr>\n",
       "      <th>5145</th>\n",
       "      <td>10028</td>\n",
       "      <td>1986-03-31</td>\n",
       "      <td>31 days</td>\n",
       "      <td>0.216259</td>\n",
       "      <td>NaN</td>\n",
       "    </tr>\n",
       "    <tr>\n",
       "      <th>5146</th>\n",
       "      <td>10028</td>\n",
       "      <td>1986-04-30</td>\n",
       "      <td>30 days</td>\n",
       "      <td>0.176477</td>\n",
       "      <td>0.216259</td>\n",
       "    </tr>\n",
       "    <tr>\n",
       "      <th>5147</th>\n",
       "      <td>10028</td>\n",
       "      <td>1986-05-30</td>\n",
       "      <td>30 days</td>\n",
       "      <td>0.148912</td>\n",
       "      <td>0.176477</td>\n",
       "    </tr>\n",
       "    <tr>\n",
       "      <th>5148</th>\n",
       "      <td>10028</td>\n",
       "      <td>1986-06-30</td>\n",
       "      <td>31 days</td>\n",
       "      <td>-0.138579</td>\n",
       "      <td>0.148912</td>\n",
       "    </tr>\n",
       "    <tr>\n",
       "      <th>...</th>\n",
       "      <td>...</td>\n",
       "      <td>...</td>\n",
       "      <td>...</td>\n",
       "      <td>...</td>\n",
       "      <td>...</td>\n",
       "    </tr>\n",
       "    <tr>\n",
       "      <th>5454</th>\n",
       "      <td>10028</td>\n",
       "      <td>2011-12-30</td>\n",
       "      <td>30 days</td>\n",
       "      <td>-0.036129</td>\n",
       "      <td>-0.070747</td>\n",
       "    </tr>\n",
       "    <tr>\n",
       "      <th>5455</th>\n",
       "      <td>10028</td>\n",
       "      <td>2012-01-31</td>\n",
       "      <td>32 days</td>\n",
       "      <td>-0.026772</td>\n",
       "      <td>-0.036129</td>\n",
       "    </tr>\n",
       "    <tr>\n",
       "      <th>5456</th>\n",
       "      <td>10028</td>\n",
       "      <td>2012-02-29</td>\n",
       "      <td>29 days</td>\n",
       "      <td>0.081124</td>\n",
       "      <td>-0.026772</td>\n",
       "    </tr>\n",
       "    <tr>\n",
       "      <th>5457</th>\n",
       "      <td>10028</td>\n",
       "      <td>2012-03-30</td>\n",
       "      <td>30 days</td>\n",
       "      <td>-0.048392</td>\n",
       "      <td>0.081124</td>\n",
       "    </tr>\n",
       "    <tr>\n",
       "      <th>5465</th>\n",
       "      <td>10028</td>\n",
       "      <td>2012-11-30</td>\n",
       "      <td>245 days</td>\n",
       "      <td>-0.246609</td>\n",
       "      <td>-0.048392</td>\n",
       "    </tr>\n",
       "  </tbody>\n",
       "</table>\n",
       "<p>315 rows × 5 columns</p>\n",
       "</div>"
      ],
      "text/plain": [
       "      permno       date date_diff     exret      ret1\n",
       "5144   10028 1986-02-28       NaT       NaN       NaN\n",
       "5145   10028 1986-03-31   31 days  0.216259       NaN\n",
       "5146   10028 1986-04-30   30 days  0.176477  0.216259\n",
       "5147   10028 1986-05-30   30 days  0.148912  0.176477\n",
       "5148   10028 1986-06-30   31 days -0.138579  0.148912\n",
       "...      ...        ...       ...       ...       ...\n",
       "5454   10028 2011-12-30   30 days -0.036129 -0.070747\n",
       "5455   10028 2012-01-31   32 days -0.026772 -0.036129\n",
       "5456   10028 2012-02-29   29 days  0.081124 -0.026772\n",
       "5457   10028 2012-03-30   30 days -0.048392  0.081124\n",
       "5465   10028 2012-11-30  245 days -0.246609 -0.048392\n",
       "\n",
       "[315 rows x 5 columns]"
      ]
     },
     "execution_count": 17,
     "metadata": {},
     "output_type": "execute_result"
    }
   ],
   "source": [
    "# Let's look at an example\n",
    "mdata.loc[((mdata.permno==10028) & (mdata.date<'2012-12-30')), ['permno','date', 'date_diff', 'exret','ret1']]"
   ]
  },
  {
   "cell_type": "code",
   "execution_count": 18,
   "metadata": {
    "slideshow": {
     "slide_type": "fragment"
    }
   },
   "outputs": [],
   "source": [
    "# Replace errorneous return with NaN\n",
    "mdata.loc[(mdata.date_diff.dt.days>40), 'ret1'] = np.nan"
   ]
  },
  {
   "cell_type": "markdown",
   "metadata": {
    "slideshow": {
     "slide_type": "subslide"
    }
   },
   "source": [
    "### Calculating cumulative returns"
   ]
  },
  {
   "cell_type": "code",
   "execution_count": 19,
   "metadata": {
    "code_folding": [],
    "slideshow": {
     "slide_type": "subslide"
    }
   },
   "outputs": [],
   "source": [
    "# Calculate past returns \n",
    "def calculate_cumulative_returns(mdata, tt, min_periods):\n",
    "    \"\"\"\n",
    "    Calculate past returns for momentum stratagy\n",
    "\n",
    "    Parameters:\n",
    "    ------------\n",
    "    mdata: data frame\n",
    "        crsp monthly data with cols permno, date as index.\n",
    "    tt: int\n",
    "        number of periods to cumulate retuns\n",
    "    min_periods: int\n",
    "    \"\"\"\n",
    "    start_time = time.time()\n",
    "    required_cols = ['exret']\n",
    "\n",
    "    assert set(required_cols).issubset(mdata.columns), \"Required columns: {}.\".format(', '.join(required_cols))\n",
    "\n",
    "    df = mdata[required_cols].copy()\n",
    "\n",
    "    # Before applying the function calculate_cumulative_returns you need to make sure \n",
    "    # we don't have missing dates. Missing dates would lead to the wrong number of periods \n",
    "    # to cumulate returns.\n",
    "\n",
    "    # Resample data \n",
    "    # CRSP data has skipping months.\n",
    "    # Create line to missing  months to facilitate the calculation of lag/past returns\n",
    "    df.reset_index(inplace=True)\n",
    "    df['edate'] = df['date'] + MonthEnd(0)\n",
    "    df.sort_values(['permno', 'edate'], inplace=True)\n",
    "    pk_integrity(df, ['permno', 'edate'])\n",
    "    df.set_index(['edate'], inplace=True)\n",
    "    # Resample to take care of missing months\n",
    "    sdf = df[['permno', 'exret']].groupby('permno').resample('M').mean().drop(columns='permno')\n",
    "    sdf.reset_index(inplace=True)\n",
    "    print(\"Time to resample data: %s seconds\" % str(time.time() - start_time))\n",
    "    print(\"We have added %s rows to the data\" % str(sdf.shape[0] - df.shape[0]))\n",
    "\n",
    "    # Cumulative Return (adjusted) in tt months\n",
    "    sdf['gret'] = sdf['exret'].fillna(0)+1\n",
    "    sdf['ret_notnull'] = sdf['exret'].notnull()\n",
    "\n",
    "    cret = sdf.groupby(['permno']).gret.rolling(window=tt, min_periods=1).apply(np.prod, raw=True)\n",
    "    cret.reset_index(drop=True, inplace=True)\n",
    "\n",
    "    nona_count = sdf.groupby(['permno']).ret_notnull.rolling(window=tt, min_periods=1).apply(np.sum, raw=True)\n",
    "    nona_count.reset_index(drop=True, inplace=True)\n",
    "\n",
    "    cret[nona_count<min_periods] = np.nan\n",
    "    sdf['ret' + str(tt)] = cret\n",
    "\n",
    "    # Delete rows that were not in the original data set\n",
    "    df.reset_index(inplace=True)\n",
    "    fdata = pd.merge(df,\n",
    "             sdf[['edate', 'permno','ret' + str(tt)]],\n",
    "             on = ['edate', 'permno'])         \n",
    "    fdata.set_index(['permno','date'],inplace = True)\n",
    "    x = fdata['ret' + str(tt)]\n",
    "\n",
    "    print(\"Time to calculate %d months past returns: %s seconds\" % (tt, str(round(time.time() - start_time, 2))))\n",
    "\n",
    "    return x"
   ]
  },
  {
   "cell_type": "code",
   "execution_count": 20,
   "metadata": {
    "slideshow": {
     "slide_type": "subslide"
    }
   },
   "outputs": [
    {
     "name": "stdout",
     "output_type": "stream",
     "text": [
      "Time to resample data: 90.84185814857483 seconds\n",
      "We have added 68342 rows to the data\n",
      "Time to calculate 11 months past returns: 133.19 seconds\n"
     ]
    }
   ],
   "source": [
    "## Calculate 11 months returns (with at least 8 monthly returns)\n",
    "mdata.set_index(['permno','date'], inplace=True)\n",
    "mdata['ret11'] = calculate_cumulative_returns(mdata, 11, 8)"
   ]
  },
  {
   "cell_type": "code",
   "execution_count": 21,
   "metadata": {
    "slideshow": {
     "slide_type": "fragment"
    }
   },
   "outputs": [],
   "source": [
    "# Skip one month to make it investable\n",
    "mdata['ret11_1'] = mdata.groupby('permno').ret11.shift(1)\n",
    "mdata.loc[(mdata.date_diff.dt.days>40), 'ret11_1'] = np.nan"
   ]
  },
  {
   "cell_type": "code",
   "execution_count": 22,
   "metadata": {
    "slideshow": {
     "slide_type": "fragment"
    }
   },
   "outputs": [],
   "source": [
    "# Skip another month for predicting return\n",
    "mdata['ret11_2'] = mdata.groupby('permno').ret11_1.shift(1)\n",
    "mdata.loc[(mdata.date_diff.dt.days>40), 'ret11_2'] = np.nan\n",
    "\n",
    "# Can also shift retl1 by 2 months instead, and check for diff_date > 70"
   ]
  },
  {
   "cell_type": "markdown",
   "metadata": {
    "slideshow": {
     "slide_type": "subslide"
    }
   },
   "source": [
    "### Delete missing returns"
   ]
  },
  {
   "cell_type": "code",
   "execution_count": 23,
   "metadata": {
    "slideshow": {
     "slide_type": "-"
    }
   },
   "outputs": [],
   "source": [
    "mdata = mdata[mdata['exret'].notnull()]"
   ]
  },
  {
   "cell_type": "markdown",
   "metadata": {
    "slideshow": {
     "slide_type": "subslide"
    }
   },
   "source": [
    "### Delete missing characteristics"
   ]
  },
  {
   "cell_type": "code",
   "execution_count": 24,
   "metadata": {
    "slideshow": {
     "slide_type": "-"
    }
   },
   "outputs": [],
   "source": [
    "mdata = mdata[mdata.ret11_1.notnull()]\n",
    "mdata = mdata[mdata.ret11_2.notnull()]\n",
    "mdata = mdata[mdata.ret1.notnull()]"
   ]
  },
  {
   "cell_type": "markdown",
   "metadata": {
    "slideshow": {
     "slide_type": "subslide"
    }
   },
   "source": [
    "### Data Summary"
   ]
  },
  {
   "cell_type": "code",
   "execution_count": 25,
   "metadata": {
    "slideshow": {
     "slide_type": "-"
    }
   },
   "outputs": [
    {
     "data": {
      "text/html": [
       "<div>\n",
       "<style scoped>\n",
       "    .dataframe tbody tr th:only-of-type {\n",
       "        vertical-align: middle;\n",
       "    }\n",
       "\n",
       "    .dataframe tbody tr th {\n",
       "        vertical-align: top;\n",
       "    }\n",
       "\n",
       "    .dataframe thead th {\n",
       "        text-align: right;\n",
       "    }\n",
       "</style>\n",
       "<table border=\"1\" class=\"dataframe\">\n",
       "  <thead>\n",
       "    <tr style=\"text-align: right;\">\n",
       "      <th></th>\n",
       "      <th>exret</th>\n",
       "      <th>ret1</th>\n",
       "      <th>ret11_1</th>\n",
       "      <th>ret11_2</th>\n",
       "    </tr>\n",
       "  </thead>\n",
       "  <tbody>\n",
       "    <tr>\n",
       "      <th>count</th>\n",
       "      <td>2.840470e+06</td>\n",
       "      <td>2.840470e+06</td>\n",
       "      <td>2.840470e+06</td>\n",
       "      <td>2.840470e+06</td>\n",
       "    </tr>\n",
       "    <tr>\n",
       "      <th>mean</th>\n",
       "      <td>8.196844e-03</td>\n",
       "      <td>8.899633e-03</td>\n",
       "      <td>1.094210e+00</td>\n",
       "      <td>1.093569e+00</td>\n",
       "    </tr>\n",
       "    <tr>\n",
       "      <th>std</th>\n",
       "      <td>1.861559e-01</td>\n",
       "      <td>1.843803e-01</td>\n",
       "      <td>7.287419e-01</td>\n",
       "      <td>7.270090e-01</td>\n",
       "    </tr>\n",
       "    <tr>\n",
       "      <th>min</th>\n",
       "      <td>-1.014149e+00</td>\n",
       "      <td>-9.951580e-01</td>\n",
       "      <td>3.672953e-06</td>\n",
       "      <td>3.672953e-06</td>\n",
       "    </tr>\n",
       "    <tr>\n",
       "      <th>25%</th>\n",
       "      <td>-7.019119e-02</td>\n",
       "      <td>-7.017134e-02</td>\n",
       "      <td>7.485118e-01</td>\n",
       "      <td>7.484617e-01</td>\n",
       "    </tr>\n",
       "    <tr>\n",
       "      <th>50%</th>\n",
       "      <td>-3.751537e-03</td>\n",
       "      <td>-3.773000e-03</td>\n",
       "      <td>1.006219e+00</td>\n",
       "      <td>1.005127e+00</td>\n",
       "    </tr>\n",
       "    <tr>\n",
       "      <th>75%</th>\n",
       "      <td>6.867757e-02</td>\n",
       "      <td>6.909357e-02</td>\n",
       "      <td>1.282112e+00</td>\n",
       "      <td>1.280261e+00</td>\n",
       "    </tr>\n",
       "    <tr>\n",
       "      <th>max</th>\n",
       "      <td>2.399694e+01</td>\n",
       "      <td>2.399694e+01</td>\n",
       "      <td>1.066553e+02</td>\n",
       "      <td>1.066553e+02</td>\n",
       "    </tr>\n",
       "  </tbody>\n",
       "</table>\n",
       "</div>"
      ],
      "text/plain": [
       "              exret          ret1       ret11_1       ret11_2\n",
       "count  2.840470e+06  2.840470e+06  2.840470e+06  2.840470e+06\n",
       "mean   8.196844e-03  8.899633e-03  1.094210e+00  1.093569e+00\n",
       "std    1.861559e-01  1.843803e-01  7.287419e-01  7.270090e-01\n",
       "min   -1.014149e+00 -9.951580e-01  3.672953e-06  3.672953e-06\n",
       "25%   -7.019119e-02 -7.017134e-02  7.485118e-01  7.484617e-01\n",
       "50%   -3.751537e-03 -3.773000e-03  1.006219e+00  1.005127e+00\n",
       "75%    6.867757e-02  6.909357e-02  1.282112e+00  1.280261e+00\n",
       "max    2.399694e+01  2.399694e+01  1.066553e+02  1.066553e+02"
      ]
     },
     "execution_count": 25,
     "metadata": {},
     "output_type": "execute_result"
    }
   ],
   "source": [
    "mdata[['exret', 'ret1', 'ret11_1', 'ret11_2']].describe()"
   ]
  },
  {
   "cell_type": "markdown",
   "metadata": {
    "slideshow": {
     "slide_type": "slide"
    }
   },
   "source": [
    "## Forcasting Future Excess Returns"
   ]
  },
  {
   "cell_type": "code",
   "execution_count": 26,
   "metadata": {
    "slideshow": {
     "slide_type": "subslide"
    }
   },
   "outputs": [],
   "source": [
    "# Fama-MacBeth regression\n",
    "def ols_coef(x,formula):\n",
    "    return smf.ols(formula,data=x).fit().params\n",
    "\n",
    "def fm_summary(p):\n",
    "    s = p.describe().T\n",
    "    s['std_error'] = s['std']/np.sqrt(s['count'])\n",
    "    s['tstat'] = s['mean']/s['std_error']\n",
    "    return s[['mean','std_error','tstat']]"
   ]
  },
  {
   "cell_type": "markdown",
   "metadata": {
    "slideshow": {
     "slide_type": "subslide"
    }
   },
   "source": [
    "### Does ret_11_1 forcast future returns?"
   ]
  },
  {
   "cell_type": "code",
   "execution_count": 27,
   "metadata": {
    "slideshow": {
     "slide_type": "fragment"
    }
   },
   "outputs": [
    {
     "data": {
      "text/html": [
       "<div>\n",
       "<style scoped>\n",
       "    .dataframe tbody tr th:only-of-type {\n",
       "        vertical-align: middle;\n",
       "    }\n",
       "\n",
       "    .dataframe tbody tr th {\n",
       "        vertical-align: top;\n",
       "    }\n",
       "\n",
       "    .dataframe thead th {\n",
       "        text-align: right;\n",
       "    }\n",
       "</style>\n",
       "<table border=\"1\" class=\"dataframe\">\n",
       "  <thead>\n",
       "    <tr style=\"text-align: right;\">\n",
       "      <th></th>\n",
       "      <th>Intercept</th>\n",
       "      <th>ret11_1</th>\n",
       "    </tr>\n",
       "    <tr>\n",
       "      <th>date</th>\n",
       "      <th></th>\n",
       "      <th></th>\n",
       "    </tr>\n",
       "  </thead>\n",
       "  <tbody>\n",
       "    <tr>\n",
       "      <th>1970-10-30</th>\n",
       "      <td>-0.188809</td>\n",
       "      <td>0.152010</td>\n",
       "    </tr>\n",
       "    <tr>\n",
       "      <th>1970-11-30</th>\n",
       "      <td>-0.065803</td>\n",
       "      <td>0.084473</td>\n",
       "    </tr>\n",
       "    <tr>\n",
       "      <th>1970-12-31</th>\n",
       "      <td>0.086035</td>\n",
       "      <td>-0.009531</td>\n",
       "    </tr>\n",
       "    <tr>\n",
       "      <th>1971-01-29</th>\n",
       "      <td>0.292164</td>\n",
       "      <td>-0.180847</td>\n",
       "    </tr>\n",
       "    <tr>\n",
       "      <th>1971-02-26</th>\n",
       "      <td>0.086903</td>\n",
       "      <td>-0.045724</td>\n",
       "    </tr>\n",
       "  </tbody>\n",
       "</table>\n",
       "</div>"
      ],
      "text/plain": [
       "            Intercept   ret11_1\n",
       "date                           \n",
       "1970-10-30  -0.188809  0.152010\n",
       "1970-11-30  -0.065803  0.084473\n",
       "1970-12-31   0.086035 -0.009531\n",
       "1971-01-29   0.292164 -0.180847\n",
       "1971-02-26   0.086903 -0.045724"
      ]
     },
     "execution_count": 27,
     "metadata": {},
     "output_type": "execute_result"
    }
   ],
   "source": [
    "gamma_mom = (mdata[mdata.exret.notnull()].groupby('date')\n",
    "                .apply(ols_coef,'exret ~ 1 + ret11_1'))\n",
    "gamma_mom.head()"
   ]
  },
  {
   "cell_type": "code",
   "execution_count": 28,
   "metadata": {
    "slideshow": {
     "slide_type": "subslide"
    }
   },
   "outputs": [
    {
     "data": {
      "text/plain": [
       "<AxesSubplot:xlabel='date'>"
      ]
     },
     "execution_count": 28,
     "metadata": {},
     "output_type": "execute_result"
    },
    {
     "data": {
      "image/png": "[encoded data removed]",
      "text/plain": [
       "<Figure size 720x432 with 1 Axes>"
      ]
     },
     "metadata": {
      "needs_background": "light"
     },
     "output_type": "display_data"
    }
   ],
   "source": [
    "gamma_mom.ret11_1.plot()"
   ]
  },
  {
   "cell_type": "code",
   "execution_count": 29,
   "metadata": {
    "scrolled": true,
    "slideshow": {
     "slide_type": "fragment"
    }
   },
   "outputs": [
    {
     "data": {
      "text/html": [
       "<div>\n",
       "<style scoped>\n",
       "    .dataframe tbody tr th:only-of-type {\n",
       "        vertical-align: middle;\n",
       "    }\n",
       "\n",
       "    .dataframe tbody tr th {\n",
       "        vertical-align: top;\n",
       "    }\n",
       "\n",
       "    .dataframe thead th {\n",
       "        text-align: right;\n",
       "    }\n",
       "</style>\n",
       "<table border=\"1\" class=\"dataframe\">\n",
       "  <thead>\n",
       "    <tr style=\"text-align: right;\">\n",
       "      <th></th>\n",
       "      <th>mean</th>\n",
       "      <th>std_error</th>\n",
       "      <th>tstat</th>\n",
       "    </tr>\n",
       "  </thead>\n",
       "  <tbody>\n",
       "    <tr>\n",
       "      <th>Intercept</th>\n",
       "      <td>0.006011</td>\n",
       "      <td>0.003290</td>\n",
       "      <td>1.826853</td>\n",
       "    </tr>\n",
       "    <tr>\n",
       "      <th>ret11_1</th>\n",
       "      <td>0.001311</td>\n",
       "      <td>0.001841</td>\n",
       "      <td>0.712520</td>\n",
       "    </tr>\n",
       "  </tbody>\n",
       "</table>\n",
       "</div>"
      ],
      "text/plain": [
       "               mean  std_error     tstat\n",
       "Intercept  0.006011   0.003290  1.826853\n",
       "ret11_1    0.001311   0.001841  0.712520"
      ]
     },
     "execution_count": 29,
     "metadata": {},
     "output_type": "execute_result"
    }
   ],
   "source": [
    "# Fama-Macbeth regressions results\n",
    "fm_summary(gamma_mom)"
   ]
  },
  {
   "cell_type": "markdown",
   "metadata": {
    "slideshow": {
     "slide_type": "subslide"
    }
   },
   "source": [
    "### Does ret1 forcast future returns?"
   ]
  },
  {
   "cell_type": "code",
   "execution_count": 30,
   "metadata": {
    "slideshow": {
     "slide_type": "fragment"
    }
   },
   "outputs": [
    {
     "data": {
      "text/html": [
       "<div>\n",
       "<style scoped>\n",
       "    .dataframe tbody tr th:only-of-type {\n",
       "        vertical-align: middle;\n",
       "    }\n",
       "\n",
       "    .dataframe tbody tr th {\n",
       "        vertical-align: top;\n",
       "    }\n",
       "\n",
       "    .dataframe thead th {\n",
       "        text-align: right;\n",
       "    }\n",
       "</style>\n",
       "<table border=\"1\" class=\"dataframe\">\n",
       "  <thead>\n",
       "    <tr style=\"text-align: right;\">\n",
       "      <th></th>\n",
       "      <th>Intercept</th>\n",
       "      <th>ret1</th>\n",
       "    </tr>\n",
       "    <tr>\n",
       "      <th>date</th>\n",
       "      <th></th>\n",
       "      <th></th>\n",
       "    </tr>\n",
       "  </thead>\n",
       "  <tbody>\n",
       "    <tr>\n",
       "      <th>1970-10-30</th>\n",
       "      <td>-0.033043</td>\n",
       "      <td>-0.258334</td>\n",
       "    </tr>\n",
       "    <tr>\n",
       "      <th>1970-11-30</th>\n",
       "      <td>0.006658</td>\n",
       "      <td>0.114236</td>\n",
       "    </tr>\n",
       "    <tr>\n",
       "      <th>1970-12-31</th>\n",
       "      <td>0.078616</td>\n",
       "      <td>-0.030629</td>\n",
       "    </tr>\n",
       "    <tr>\n",
       "      <th>1971-01-29</th>\n",
       "      <td>0.152078</td>\n",
       "      <td>-0.231514</td>\n",
       "    </tr>\n",
       "    <tr>\n",
       "      <th>1971-02-26</th>\n",
       "      <td>0.043502</td>\n",
       "      <td>0.002026</td>\n",
       "    </tr>\n",
       "  </tbody>\n",
       "</table>\n",
       "</div>"
      ],
      "text/plain": [
       "            Intercept      ret1\n",
       "date                           \n",
       "1970-10-30  -0.033043 -0.258334\n",
       "1970-11-30   0.006658  0.114236\n",
       "1970-12-31   0.078616 -0.030629\n",
       "1971-01-29   0.152078 -0.231514\n",
       "1971-02-26   0.043502  0.002026"
      ]
     },
     "execution_count": 30,
     "metadata": {},
     "output_type": "execute_result"
    }
   ],
   "source": [
    "gamma_rev = (mdata[mdata.exret.notnull()].groupby('date')\n",
    "                .apply(ols_coef,'exret ~ 1 + ret1'))\n",
    "gamma_rev.head()"
   ]
  },
  {
   "cell_type": "code",
   "execution_count": 31,
   "metadata": {
    "slideshow": {
     "slide_type": "fragment"
    }
   },
   "outputs": [
    {
     "data": {
      "text/html": [
       "<div>\n",
       "<style scoped>\n",
       "    .dataframe tbody tr th:only-of-type {\n",
       "        vertical-align: middle;\n",
       "    }\n",
       "\n",
       "    .dataframe tbody tr th {\n",
       "        vertical-align: top;\n",
       "    }\n",
       "\n",
       "    .dataframe thead th {\n",
       "        text-align: right;\n",
       "    }\n",
       "</style>\n",
       "<table border=\"1\" class=\"dataframe\">\n",
       "  <thead>\n",
       "    <tr style=\"text-align: right;\">\n",
       "      <th></th>\n",
       "      <th>mean</th>\n",
       "      <th>std_error</th>\n",
       "      <th>tstat</th>\n",
       "    </tr>\n",
       "  </thead>\n",
       "  <tbody>\n",
       "    <tr>\n",
       "      <th>Intercept</th>\n",
       "      <td>0.008103</td>\n",
       "      <td>0.002314</td>\n",
       "      <td>3.501246</td>\n",
       "    </tr>\n",
       "    <tr>\n",
       "      <th>ret1</th>\n",
       "      <td>-0.041859</td>\n",
       "      <td>0.004180</td>\n",
       "      <td>-10.014465</td>\n",
       "    </tr>\n",
       "  </tbody>\n",
       "</table>\n",
       "</div>"
      ],
      "text/plain": [
       "               mean  std_error      tstat\n",
       "Intercept  0.008103   0.002314   3.501246\n",
       "ret1      -0.041859   0.004180 -10.014465"
      ]
     },
     "execution_count": 31,
     "metadata": {},
     "output_type": "execute_result"
    }
   ],
   "source": [
    "# Fama-Macbeth regressions results\n",
    "fm_summary(gamma_rev) "
   ]
  },
  {
   "cell_type": "markdown",
   "metadata": {
    "slideshow": {
     "slide_type": "subslide"
    }
   },
   "source": [
    "### Does ret11_2 forcast future returns?"
   ]
  },
  {
   "cell_type": "code",
   "execution_count": 32,
   "metadata": {
    "slideshow": {
     "slide_type": "fragment"
    }
   },
   "outputs": [
    {
     "data": {
      "text/html": [
       "<div>\n",
       "<style scoped>\n",
       "    .dataframe tbody tr th:only-of-type {\n",
       "        vertical-align: middle;\n",
       "    }\n",
       "\n",
       "    .dataframe tbody tr th {\n",
       "        vertical-align: top;\n",
       "    }\n",
       "\n",
       "    .dataframe thead th {\n",
       "        text-align: right;\n",
       "    }\n",
       "</style>\n",
       "<table border=\"1\" class=\"dataframe\">\n",
       "  <thead>\n",
       "    <tr style=\"text-align: right;\">\n",
       "      <th></th>\n",
       "      <th>Intercept</th>\n",
       "      <th>ret11_2</th>\n",
       "    </tr>\n",
       "    <tr>\n",
       "      <th>date</th>\n",
       "      <th></th>\n",
       "      <th></th>\n",
       "    </tr>\n",
       "  </thead>\n",
       "  <tbody>\n",
       "    <tr>\n",
       "      <th>1970-10-30</th>\n",
       "      <td>-0.207653</td>\n",
       "      <td>0.192657</td>\n",
       "    </tr>\n",
       "    <tr>\n",
       "      <th>1970-11-30</th>\n",
       "      <td>-0.074125</td>\n",
       "      <td>0.090033</td>\n",
       "    </tr>\n",
       "    <tr>\n",
       "      <th>1970-12-31</th>\n",
       "      <td>0.084399</td>\n",
       "      <td>-0.007466</td>\n",
       "    </tr>\n",
       "    <tr>\n",
       "      <th>1971-01-29</th>\n",
       "      <td>0.268664</td>\n",
       "      <td>-0.174306</td>\n",
       "    </tr>\n",
       "    <tr>\n",
       "      <th>1971-02-26</th>\n",
       "      <td>0.088120</td>\n",
       "      <td>-0.050674</td>\n",
       "    </tr>\n",
       "  </tbody>\n",
       "</table>\n",
       "</div>"
      ],
      "text/plain": [
       "            Intercept   ret11_2\n",
       "date                           \n",
       "1970-10-30  -0.207653  0.192657\n",
       "1970-11-30  -0.074125  0.090033\n",
       "1970-12-31   0.084399 -0.007466\n",
       "1971-01-29   0.268664 -0.174306\n",
       "1971-02-26   0.088120 -0.050674"
      ]
     },
     "execution_count": 32,
     "metadata": {},
     "output_type": "execute_result"
    }
   ],
   "source": [
    "gamma_mom2 = (mdata[mdata.exret.notnull()].groupby('date')\n",
    "                .apply(ols_coef,'exret ~ 1 + ret11_2'))\n",
    "gamma_mom2.head()"
   ]
  },
  {
   "cell_type": "code",
   "execution_count": 33,
   "metadata": {
    "slideshow": {
     "slide_type": "fragment"
    }
   },
   "outputs": [
    {
     "data": {
      "text/html": [
       "<div>\n",
       "<style scoped>\n",
       "    .dataframe tbody tr th:only-of-type {\n",
       "        vertical-align: middle;\n",
       "    }\n",
       "\n",
       "    .dataframe tbody tr th {\n",
       "        vertical-align: top;\n",
       "    }\n",
       "\n",
       "    .dataframe thead th {\n",
       "        text-align: right;\n",
       "    }\n",
       "</style>\n",
       "<table border=\"1\" class=\"dataframe\">\n",
       "  <thead>\n",
       "    <tr style=\"text-align: right;\">\n",
       "      <th></th>\n",
       "      <th>mean</th>\n",
       "      <th>std_error</th>\n",
       "      <th>tstat</th>\n",
       "    </tr>\n",
       "  </thead>\n",
       "  <tbody>\n",
       "    <tr>\n",
       "      <th>Intercept</th>\n",
       "      <td>0.002629</td>\n",
       "      <td>0.003129</td>\n",
       "      <td>0.840246</td>\n",
       "    </tr>\n",
       "    <tr>\n",
       "      <th>ret11_2</th>\n",
       "      <td>0.004962</td>\n",
       "      <td>0.001650</td>\n",
       "      <td>3.006933</td>\n",
       "    </tr>\n",
       "  </tbody>\n",
       "</table>\n",
       "</div>"
      ],
      "text/plain": [
       "               mean  std_error     tstat\n",
       "Intercept  0.002629   0.003129  0.840246\n",
       "ret11_2    0.004962   0.001650  3.006933"
      ]
     },
     "execution_count": 33,
     "metadata": {},
     "output_type": "execute_result"
    }
   ],
   "source": [
    "# Fama-Macbeth regressions results\n",
    "fm_summary(gamma_mom2)"
   ]
  },
  {
   "cell_type": "markdown",
   "metadata": {
    "slideshow": {
     "slide_type": "subslide"
    }
   },
   "source": [
    "### Do ret11_2 and ret1 together forcast future returns?"
   ]
  },
  {
   "cell_type": "code",
   "execution_count": 34,
   "metadata": {
    "slideshow": {
     "slide_type": "fragment"
    }
   },
   "outputs": [
    {
     "data": {
      "text/html": [
       "<div>\n",
       "<style scoped>\n",
       "    .dataframe tbody tr th:only-of-type {\n",
       "        vertical-align: middle;\n",
       "    }\n",
       "\n",
       "    .dataframe tbody tr th {\n",
       "        vertical-align: top;\n",
       "    }\n",
       "\n",
       "    .dataframe thead th {\n",
       "        text-align: right;\n",
       "    }\n",
       "</style>\n",
       "<table border=\"1\" class=\"dataframe\">\n",
       "  <thead>\n",
       "    <tr style=\"text-align: right;\">\n",
       "      <th></th>\n",
       "      <th>mean</th>\n",
       "      <th>std_error</th>\n",
       "      <th>tstat</th>\n",
       "    </tr>\n",
       "  </thead>\n",
       "  <tbody>\n",
       "    <tr>\n",
       "      <th>Intercept</th>\n",
       "      <td>0.002296</td>\n",
       "      <td>0.003020</td>\n",
       "      <td>0.760240</td>\n",
       "    </tr>\n",
       "    <tr>\n",
       "      <th>ret11_2</th>\n",
       "      <td>0.005011</td>\n",
       "      <td>0.001579</td>\n",
       "      <td>3.172553</td>\n",
       "    </tr>\n",
       "    <tr>\n",
       "      <th>ret1</th>\n",
       "      <td>-0.042884</td>\n",
       "      <td>0.003948</td>\n",
       "      <td>-10.862325</td>\n",
       "    </tr>\n",
       "  </tbody>\n",
       "</table>\n",
       "</div>"
      ],
      "text/plain": [
       "               mean  std_error      tstat\n",
       "Intercept  0.002296   0.003020   0.760240\n",
       "ret11_2    0.005011   0.001579   3.172553\n",
       "ret1      -0.042884   0.003948 -10.862325"
      ]
     },
     "execution_count": 34,
     "metadata": {},
     "output_type": "execute_result"
    }
   ],
   "source": [
    "# Fama-Macbeth regressions results\n",
    "gamma = (mdata[mdata.exret.notnull()].groupby('date')\n",
    "                .apply(ols_coef,'exret ~ 1 + ret11_2 + ret1'))\n",
    "fm_summary(gamma)"
   ]
  },
  {
   "cell_type": "markdown",
   "metadata": {
    "slideshow": {
     "slide_type": "subslide"
    }
   },
   "source": [
    "### Conceptualize the results\n",
    "<img src=\"momentum.png\" width=\"800\" height=\"400\">"
   ]
  },
  {
   "cell_type": "markdown",
   "metadata": {
    "slideshow": {
     "slide_type": "slide"
    }
   },
   "source": [
    "## Long-short portfolio"
   ]
  },
  {
   "cell_type": "markdown",
   "metadata": {
    "slideshow": {
     "slide_type": "subslide"
    }
   },
   "source": [
    "### Sort Portfolio"
   ]
  },
  {
   "cell_type": "code",
   "execution_count": 35,
   "metadata": {
    "slideshow": {
     "slide_type": "fragment"
    }
   },
   "outputs": [],
   "source": [
    "# Calculate size\n",
    "mdata['mesum'] = mdata.groupby(['date', 'permco']).me.transform(np.sum, min_count=1)"
   ]
  },
  {
   "cell_type": "code",
   "execution_count": 36,
   "metadata": {
    "slideshow": {
     "slide_type": "fragment"
    }
   },
   "outputs": [],
   "source": [
    "# Make sure size is not N/A\n",
    "mdata = mdata[mdata.mesum.notnull()]"
   ]
  },
  {
   "cell_type": "code",
   "execution_count": 37,
   "metadata": {},
   "outputs": [],
   "source": [
    "# Reset index\n",
    "mdata.reset_index(inplace=True)"
   ]
  },
  {
   "cell_type": "code",
   "execution_count": 38,
   "metadata": {
    "slideshow": {
     "slide_type": "fragment"
    }
   },
   "outputs": [
    {
     "name": "stdout",
     "output_type": "stream",
     "text": [
      "NYSE breakpoints were calculated for mesum.\n",
      "Stocks were sorted according to breakpoints, starting in 1970-10-30 00:00:00\n",
      "NYSE breakpoints were calculated for ret11_2.\n",
      "Stocks were sorted according to breakpoints, starting in 1970-10-30 00:00:00\n",
      "NYSE breakpoints were calculated for ret11_1.\n",
      "Stocks were sorted according to breakpoints, starting in 1970-10-30 00:00:00\n",
      "NYSE breakpoints were calculated for ret1.\n",
      "Stocks were sorted according to breakpoints, starting in 1970-10-30 00:00:00\n"
     ]
    }
   ],
   "source": [
    "# Sort portfolio monthly\n",
    "port = sort_portfolios(data = mdata,\n",
    "                       quantiles={'mesum': [0.5],\n",
    "                                  'ret11_2': [0.3, 0.7],\n",
    "                                  'ret11_1': [0.3, 0.7],\n",
    "                                  'ret1': [0.3, 0.7]},\n",
    "                       id_variables=['date', 'permno', 'exchcd'],\n",
    "                       exch_cd=[1])"
   ]
  },
  {
   "cell_type": "markdown",
   "metadata": {
    "slideshow": {
     "slide_type": "subslide"
    }
   },
   "source": [
    "**Look at the data**"
   ]
  },
  {
   "cell_type": "code",
   "execution_count": 39,
   "metadata": {
    "slideshow": {
     "slide_type": "fragment"
    }
   },
   "outputs": [
    {
     "data": {
      "text/html": [
       "<div>\n",
       "<style scoped>\n",
       "    .dataframe tbody tr th:only-of-type {\n",
       "        vertical-align: middle;\n",
       "    }\n",
       "\n",
       "    .dataframe tbody tr th {\n",
       "        vertical-align: top;\n",
       "    }\n",
       "\n",
       "    .dataframe thead th {\n",
       "        text-align: right;\n",
       "    }\n",
       "</style>\n",
       "<table border=\"1\" class=\"dataframe\">\n",
       "  <thead>\n",
       "    <tr style=\"text-align: right;\">\n",
       "      <th></th>\n",
       "      <th>date</th>\n",
       "      <th>permno</th>\n",
       "      <th>ret1portfolio</th>\n",
       "      <th>ret11_1portfolio</th>\n",
       "      <th>ret11_2portfolio</th>\n",
       "      <th>mesumportfolio</th>\n",
       "    </tr>\n",
       "  </thead>\n",
       "  <tbody>\n",
       "    <tr>\n",
       "      <th>0</th>\n",
       "      <td>1970-10-30</td>\n",
       "      <td>10006.0</td>\n",
       "      <td>ret12</td>\n",
       "      <td>ret11_12</td>\n",
       "      <td>ret11_22</td>\n",
       "      <td>mesum2</td>\n",
       "    </tr>\n",
       "    <tr>\n",
       "      <th>2152</th>\n",
       "      <td>1970-11-30</td>\n",
       "      <td>10006.0</td>\n",
       "      <td>ret12</td>\n",
       "      <td>ret11_12</td>\n",
       "      <td>ret11_22</td>\n",
       "      <td>mesum2</td>\n",
       "    </tr>\n",
       "    <tr>\n",
       "      <th>4320</th>\n",
       "      <td>1970-12-31</td>\n",
       "      <td>10006.0</td>\n",
       "      <td>ret13</td>\n",
       "      <td>ret11_12</td>\n",
       "      <td>ret11_22</td>\n",
       "      <td>mesum2</td>\n",
       "    </tr>\n",
       "    <tr>\n",
       "      <th>6499</th>\n",
       "      <td>1971-01-29</td>\n",
       "      <td>10006.0</td>\n",
       "      <td>ret11</td>\n",
       "      <td>ret11_12</td>\n",
       "      <td>ret11_22</td>\n",
       "      <td>mesum2</td>\n",
       "    </tr>\n",
       "    <tr>\n",
       "      <th>8687</th>\n",
       "      <td>1971-02-26</td>\n",
       "      <td>10006.0</td>\n",
       "      <td>ret12</td>\n",
       "      <td>ret11_12</td>\n",
       "      <td>ret11_22</td>\n",
       "      <td>mesum2</td>\n",
       "    </tr>\n",
       "  </tbody>\n",
       "</table>\n",
       "</div>"
      ],
      "text/plain": [
       "           date   permno ret1portfolio ret11_1portfolio ret11_2portfolio  \\\n",
       "0    1970-10-30  10006.0         ret12         ret11_12         ret11_22   \n",
       "2152 1970-11-30  10006.0         ret12         ret11_12         ret11_22   \n",
       "4320 1970-12-31  10006.0         ret13         ret11_12         ret11_22   \n",
       "6499 1971-01-29  10006.0         ret11         ret11_12         ret11_22   \n",
       "8687 1971-02-26  10006.0         ret12         ret11_12         ret11_22   \n",
       "\n",
       "     mesumportfolio  \n",
       "0            mesum2  \n",
       "2152         mesum2  \n",
       "4320         mesum2  \n",
       "6499         mesum2  \n",
       "8687         mesum2  "
      ]
     },
     "execution_count": 39,
     "metadata": {},
     "output_type": "execute_result"
    }
   ],
   "source": [
    "port[port.permno==10006].head()"
   ]
  },
  {
   "cell_type": "markdown",
   "metadata": {
    "slideshow": {
     "slide_type": "subslide"
    }
   },
   "source": [
    "### Portfolio returns"
   ]
  },
  {
   "cell_type": "markdown",
   "metadata": {
    "slideshow": {
     "slide_type": "subslide"
    }
   },
   "source": [
    "**Merge data**"
   ]
  },
  {
   "cell_type": "code",
   "execution_count": 40,
   "metadata": {
    "slideshow": {
     "slide_type": "fragment"
    }
   },
   "outputs": [],
   "source": [
    "fdata = pd.merge(mdata[['permno', 'date', 'exret', 'melag_weights']], \n",
    "                port,\n",
    "                on = ['permno', 'date']) "
   ]
  },
  {
   "cell_type": "code",
   "execution_count": 41,
   "metadata": {
    "slideshow": {
     "slide_type": "fragment"
    }
   },
   "outputs": [
    {
     "data": {
      "text/html": [
       "<div>\n",
       "<style scoped>\n",
       "    .dataframe tbody tr th:only-of-type {\n",
       "        vertical-align: middle;\n",
       "    }\n",
       "\n",
       "    .dataframe tbody tr th {\n",
       "        vertical-align: top;\n",
       "    }\n",
       "\n",
       "    .dataframe thead th {\n",
       "        text-align: right;\n",
       "    }\n",
       "</style>\n",
       "<table border=\"1\" class=\"dataframe\">\n",
       "  <thead>\n",
       "    <tr style=\"text-align: right;\">\n",
       "      <th></th>\n",
       "      <th>permno</th>\n",
       "      <th>date</th>\n",
       "      <th>exret</th>\n",
       "      <th>melag_weights</th>\n",
       "      <th>ret1portfolio</th>\n",
       "      <th>ret11_1portfolio</th>\n",
       "      <th>ret11_2portfolio</th>\n",
       "      <th>mesumportfolio</th>\n",
       "    </tr>\n",
       "  </thead>\n",
       "  <tbody>\n",
       "    <tr>\n",
       "      <th>0</th>\n",
       "      <td>10000</td>\n",
       "      <td>1986-11-28</td>\n",
       "      <td>0.056076</td>\n",
       "      <td>3.002344e+00</td>\n",
       "      <td>ret11</td>\n",
       "      <td>ret11_11</td>\n",
       "      <td>ret11_21</td>\n",
       "      <td>mesum1</td>\n",
       "    </tr>\n",
       "    <tr>\n",
       "      <th>1</th>\n",
       "      <td>10000</td>\n",
       "      <td>1986-12-31</td>\n",
       "      <td>-0.382125</td>\n",
       "      <td>3.182484e+00</td>\n",
       "      <td>ret13</td>\n",
       "      <td>ret11_11</td>\n",
       "      <td>ret11_21</td>\n",
       "      <td>mesum1</td>\n",
       "    </tr>\n",
       "    <tr>\n",
       "      <th>2</th>\n",
       "      <td>10000</td>\n",
       "      <td>1987-01-30</td>\n",
       "      <td>-0.216272</td>\n",
       "      <td>1.981547e+00</td>\n",
       "      <td>ret11</td>\n",
       "      <td>ret11_11</td>\n",
       "      <td>ret11_21</td>\n",
       "      <td>mesum1</td>\n",
       "    </tr>\n",
       "    <tr>\n",
       "      <th>3</th>\n",
       "      <td>10000</td>\n",
       "      <td>1987-02-27</td>\n",
       "      <td>-0.004309</td>\n",
       "      <td>1.581531e+00</td>\n",
       "      <td>ret11</td>\n",
       "      <td>ret11_11</td>\n",
       "      <td>ret11_21</td>\n",
       "      <td>mesum1</td>\n",
       "    </tr>\n",
       "    <tr>\n",
       "      <th>4</th>\n",
       "      <td>10000</td>\n",
       "      <td>1987-03-31</td>\n",
       "      <td>-0.389627</td>\n",
       "      <td>1.581531e+00</td>\n",
       "      <td>ret11</td>\n",
       "      <td>ret11_11</td>\n",
       "      <td>ret11_21</td>\n",
       "      <td>mesum1</td>\n",
       "    </tr>\n",
       "    <tr>\n",
       "      <th>...</th>\n",
       "      <td>...</td>\n",
       "      <td>...</td>\n",
       "      <td>...</td>\n",
       "      <td>...</td>\n",
       "      <td>...</td>\n",
       "      <td>...</td>\n",
       "      <td>...</td>\n",
       "      <td>...</td>\n",
       "    </tr>\n",
       "    <tr>\n",
       "      <th>2821022</th>\n",
       "      <td>93436</td>\n",
       "      <td>2021-08-31</td>\n",
       "      <td>0.070556</td>\n",
       "      <td>6.803383e+05</td>\n",
       "      <td>ret12</td>\n",
       "      <td>ret11_12</td>\n",
       "      <td>ret11_23</td>\n",
       "      <td>mesum2</td>\n",
       "    </tr>\n",
       "    <tr>\n",
       "      <th>2821023</th>\n",
       "      <td>93436</td>\n",
       "      <td>2021-09-30</td>\n",
       "      <td>0.054009</td>\n",
       "      <td>7.370200e+05</td>\n",
       "      <td>ret13</td>\n",
       "      <td>ret11_12</td>\n",
       "      <td>ret11_22</td>\n",
       "      <td>mesum2</td>\n",
       "    </tr>\n",
       "    <tr>\n",
       "      <th>2821024</th>\n",
       "      <td>93436</td>\n",
       "      <td>2021-10-29</td>\n",
       "      <td>0.436493</td>\n",
       "      <td>7.785819e+05</td>\n",
       "      <td>ret13</td>\n",
       "      <td>ret11_13</td>\n",
       "      <td>ret11_22</td>\n",
       "      <td>mesum2</td>\n",
       "    </tr>\n",
       "    <tr>\n",
       "      <th>2821025</th>\n",
       "      <td>93436</td>\n",
       "      <td>2021-11-30</td>\n",
       "      <td>0.027568</td>\n",
       "      <td>1.118751e+06</td>\n",
       "      <td>ret13</td>\n",
       "      <td>ret11_13</td>\n",
       "      <td>ret11_23</td>\n",
       "      <td>mesum2</td>\n",
       "    </tr>\n",
       "    <tr>\n",
       "      <th>2821026</th>\n",
       "      <td>93436</td>\n",
       "      <td>2021-12-31</td>\n",
       "      <td>-0.076922</td>\n",
       "      <td>1.149642e+06</td>\n",
       "      <td>ret13</td>\n",
       "      <td>ret11_13</td>\n",
       "      <td>ret11_23</td>\n",
       "      <td>mesum2</td>\n",
       "    </tr>\n",
       "  </tbody>\n",
       "</table>\n",
       "<p>2821027 rows × 8 columns</p>\n",
       "</div>"
      ],
      "text/plain": [
       "         permno       date     exret  melag_weights ret1portfolio  \\\n",
       "0         10000 1986-11-28  0.056076   3.002344e+00         ret11   \n",
       "1         10000 1986-12-31 -0.382125   3.182484e+00         ret13   \n",
       "2         10000 1987-01-30 -0.216272   1.981547e+00         ret11   \n",
       "3         10000 1987-02-27 -0.004309   1.581531e+00         ret11   \n",
       "4         10000 1987-03-31 -0.389627   1.581531e+00         ret11   \n",
       "...         ...        ...       ...            ...           ...   \n",
       "2821022   93436 2021-08-31  0.070556   6.803383e+05         ret12   \n",
       "2821023   93436 2021-09-30  0.054009   7.370200e+05         ret13   \n",
       "2821024   93436 2021-10-29  0.436493   7.785819e+05         ret13   \n",
       "2821025   93436 2021-11-30  0.027568   1.118751e+06         ret13   \n",
       "2821026   93436 2021-12-31 -0.076922   1.149642e+06         ret13   \n",
       "\n",
       "        ret11_1portfolio ret11_2portfolio mesumportfolio  \n",
       "0               ret11_11         ret11_21         mesum1  \n",
       "1               ret11_11         ret11_21         mesum1  \n",
       "2               ret11_11         ret11_21         mesum1  \n",
       "3               ret11_11         ret11_21         mesum1  \n",
       "4               ret11_11         ret11_21         mesum1  \n",
       "...                  ...              ...            ...  \n",
       "2821022         ret11_12         ret11_23         mesum2  \n",
       "2821023         ret11_12         ret11_22         mesum2  \n",
       "2821024         ret11_13         ret11_22         mesum2  \n",
       "2821025         ret11_13         ret11_23         mesum2  \n",
       "2821026         ret11_13         ret11_23         mesum2  \n",
       "\n",
       "[2821027 rows x 8 columns]"
      ]
     },
     "execution_count": 41,
     "metadata": {},
     "output_type": "execute_result"
    }
   ],
   "source": [
    "fdata"
   ]
  },
  {
   "cell_type": "markdown",
   "metadata": {
    "slideshow": {
     "slide_type": "subslide"
    }
   },
   "source": [
    "Which portfolio did Apple belong to in 2020?"
   ]
  },
  {
   "cell_type": "code",
   "execution_count": 42,
   "metadata": {
    "slideshow": {
     "slide_type": "fragment"
    }
   },
   "outputs": [
    {
     "data": {
      "text/html": [
       "<div>\n",
       "<style scoped>\n",
       "    .dataframe tbody tr th:only-of-type {\n",
       "        vertical-align: middle;\n",
       "    }\n",
       "\n",
       "    .dataframe tbody tr th {\n",
       "        vertical-align: top;\n",
       "    }\n",
       "\n",
       "    .dataframe thead th {\n",
       "        text-align: right;\n",
       "    }\n",
       "</style>\n",
       "<table border=\"1\" class=\"dataframe\">\n",
       "  <thead>\n",
       "    <tr style=\"text-align: right;\">\n",
       "      <th></th>\n",
       "      <th>permno</th>\n",
       "      <th>date</th>\n",
       "      <th>exret</th>\n",
       "      <th>melag_weights</th>\n",
       "      <th>ret1portfolio</th>\n",
       "      <th>ret11_1portfolio</th>\n",
       "      <th>ret11_2portfolio</th>\n",
       "      <th>mesumportfolio</th>\n",
       "    </tr>\n",
       "  </thead>\n",
       "  <tbody>\n",
       "    <tr>\n",
       "      <th>319543</th>\n",
       "      <td>14593</td>\n",
       "      <td>2020-01-31</td>\n",
       "      <td>0.052846</td>\n",
       "      <td>1.287643e+06</td>\n",
       "      <td>ret13</td>\n",
       "      <td>ret11_13</td>\n",
       "      <td>ret11_23</td>\n",
       "      <td>mesum2</td>\n",
       "    </tr>\n",
       "    <tr>\n",
       "      <th>319544</th>\n",
       "      <td>14593</td>\n",
       "      <td>2020-02-28</td>\n",
       "      <td>-0.115518</td>\n",
       "      <td>1.354255e+06</td>\n",
       "      <td>ret13</td>\n",
       "      <td>ret11_13</td>\n",
       "      <td>ret11_23</td>\n",
       "      <td>mesum2</td>\n",
       "    </tr>\n",
       "    <tr>\n",
       "      <th>319545</th>\n",
       "      <td>14593</td>\n",
       "      <td>2020-03-31</td>\n",
       "      <td>-0.071029</td>\n",
       "      <td>1.196081e+06</td>\n",
       "      <td>ret12</td>\n",
       "      <td>ret11_13</td>\n",
       "      <td>ret11_23</td>\n",
       "      <td>mesum2</td>\n",
       "    </tr>\n",
       "    <tr>\n",
       "      <th>319546</th>\n",
       "      <td>14593</td>\n",
       "      <td>2020-04-30</td>\n",
       "      <td>0.155371</td>\n",
       "      <td>1.099547e+06</td>\n",
       "      <td>ret13</td>\n",
       "      <td>ret11_13</td>\n",
       "      <td>ret11_23</td>\n",
       "      <td>mesum2</td>\n",
       "    </tr>\n",
       "    <tr>\n",
       "      <th>319547</th>\n",
       "      <td>14593</td>\n",
       "      <td>2020-05-29</td>\n",
       "      <td>0.084897</td>\n",
       "      <td>1.273428e+06</td>\n",
       "      <td>ret12</td>\n",
       "      <td>ret11_13</td>\n",
       "      <td>ret11_23</td>\n",
       "      <td>mesum2</td>\n",
       "    </tr>\n",
       "    <tr>\n",
       "      <th>319548</th>\n",
       "      <td>14593</td>\n",
       "      <td>2020-06-30</td>\n",
       "      <td>0.147275</td>\n",
       "      <td>1.378058e+06</td>\n",
       "      <td>ret12</td>\n",
       "      <td>ret11_13</td>\n",
       "      <td>ret11_23</td>\n",
       "      <td>mesum2</td>\n",
       "    </tr>\n",
       "    <tr>\n",
       "      <th>319549</th>\n",
       "      <td>14593</td>\n",
       "      <td>2020-07-31</td>\n",
       "      <td>0.165036</td>\n",
       "      <td>1.562781e+06</td>\n",
       "      <td>ret13</td>\n",
       "      <td>ret11_13</td>\n",
       "      <td>ret11_23</td>\n",
       "      <td>mesum2</td>\n",
       "    </tr>\n",
       "    <tr>\n",
       "      <th>319550</th>\n",
       "      <td>14593</td>\n",
       "      <td>2020-08-31</td>\n",
       "      <td>0.216230</td>\n",
       "      <td>1.817316e+06</td>\n",
       "      <td>ret13</td>\n",
       "      <td>ret11_13</td>\n",
       "      <td>ret11_23</td>\n",
       "      <td>mesum2</td>\n",
       "    </tr>\n",
       "    <tr>\n",
       "      <th>319551</th>\n",
       "      <td>14593</td>\n",
       "      <td>2020-09-30</td>\n",
       "      <td>-0.102602</td>\n",
       "      <td>2.206911e+06</td>\n",
       "      <td>ret13</td>\n",
       "      <td>ret11_13</td>\n",
       "      <td>ret11_23</td>\n",
       "      <td>mesum2</td>\n",
       "    </tr>\n",
       "    <tr>\n",
       "      <th>319552</th>\n",
       "      <td>14593</td>\n",
       "      <td>2020-10-30</td>\n",
       "      <td>-0.060085</td>\n",
       "      <td>1.966079e+06</td>\n",
       "      <td>ret11</td>\n",
       "      <td>ret11_13</td>\n",
       "      <td>ret11_23</td>\n",
       "      <td>mesum2</td>\n",
       "    </tr>\n",
       "    <tr>\n",
       "      <th>319553</th>\n",
       "      <td>14593</td>\n",
       "      <td>2020-11-30</td>\n",
       "      <td>0.095424</td>\n",
       "      <td>1.850816e+06</td>\n",
       "      <td>ret11</td>\n",
       "      <td>ret11_13</td>\n",
       "      <td>ret11_23</td>\n",
       "      <td>mesum2</td>\n",
       "    </tr>\n",
       "    <tr>\n",
       "      <th>319554</th>\n",
       "      <td>14593</td>\n",
       "      <td>2020-12-31</td>\n",
       "      <td>0.114514</td>\n",
       "      <td>2.024065e+06</td>\n",
       "      <td>ret11</td>\n",
       "      <td>ret11_13</td>\n",
       "      <td>ret11_23</td>\n",
       "      <td>mesum2</td>\n",
       "    </tr>\n",
       "    <tr>\n",
       "      <th>319555</th>\n",
       "      <td>14593</td>\n",
       "      <td>2021-01-29</td>\n",
       "      <td>-0.005548</td>\n",
       "      <td>2.232279e+06</td>\n",
       "      <td>ret13</td>\n",
       "      <td>ret11_13</td>\n",
       "      <td>ret11_23</td>\n",
       "      <td>mesum2</td>\n",
       "    </tr>\n",
       "    <tr>\n",
       "      <th>319556</th>\n",
       "      <td>14593</td>\n",
       "      <td>2021-02-26</td>\n",
       "      <td>-0.079577</td>\n",
       "      <td>2.215357e+06</td>\n",
       "      <td>ret12</td>\n",
       "      <td>ret11_13</td>\n",
       "      <td>ret11_23</td>\n",
       "      <td>mesum2</td>\n",
       "    </tr>\n",
       "    <tr>\n",
       "      <th>319557</th>\n",
       "      <td>14593</td>\n",
       "      <td>2021-03-31</td>\n",
       "      <td>0.007313</td>\n",
       "      <td>2.035725e+06</td>\n",
       "      <td>ret11</td>\n",
       "      <td>ret11_12</td>\n",
       "      <td>ret11_23</td>\n",
       "      <td>mesum2</td>\n",
       "    </tr>\n",
       "    <tr>\n",
       "      <th>319558</th>\n",
       "      <td>14593</td>\n",
       "      <td>2021-04-30</td>\n",
       "      <td>0.076204</td>\n",
       "      <td>2.038232e+06</td>\n",
       "      <td>ret12</td>\n",
       "      <td>ret11_12</td>\n",
       "      <td>ret11_22</td>\n",
       "      <td>mesum2</td>\n",
       "    </tr>\n",
       "    <tr>\n",
       "      <th>319559</th>\n",
       "      <td>14593</td>\n",
       "      <td>2021-05-28</td>\n",
       "      <td>-0.050439</td>\n",
       "      <td>2.193756e+06</td>\n",
       "      <td>ret13</td>\n",
       "      <td>ret11_12</td>\n",
       "      <td>ret11_22</td>\n",
       "      <td>mesum2</td>\n",
       "    </tr>\n",
       "    <tr>\n",
       "      <th>319560</th>\n",
       "      <td>14593</td>\n",
       "      <td>2021-06-30</td>\n",
       "      <td>0.099105</td>\n",
       "      <td>2.079446e+06</td>\n",
       "      <td>ret11</td>\n",
       "      <td>ret11_12</td>\n",
       "      <td>ret11_22</td>\n",
       "      <td>mesum2</td>\n",
       "    </tr>\n",
       "    <tr>\n",
       "      <th>319561</th>\n",
       "      <td>14593</td>\n",
       "      <td>2021-07-30</td>\n",
       "      <td>0.064951</td>\n",
       "      <td>2.267639e+06</td>\n",
       "      <td>ret13</td>\n",
       "      <td>ret11_12</td>\n",
       "      <td>ret11_22</td>\n",
       "      <td>mesum2</td>\n",
       "    </tr>\n",
       "    <tr>\n",
       "      <th>319562</th>\n",
       "      <td>14593</td>\n",
       "      <td>2021-08-31</td>\n",
       "      <td>0.042389</td>\n",
       "      <td>2.411090e+06</td>\n",
       "      <td>ret13</td>\n",
       "      <td>ret11_11</td>\n",
       "      <td>ret11_22</td>\n",
       "      <td>mesum2</td>\n",
       "    </tr>\n",
       "    <tr>\n",
       "      <th>319563</th>\n",
       "      <td>14593</td>\n",
       "      <td>2021-09-30</td>\n",
       "      <td>-0.068070</td>\n",
       "      <td>2.509775e+06</td>\n",
       "      <td>ret12</td>\n",
       "      <td>ret11_12</td>\n",
       "      <td>ret11_21</td>\n",
       "      <td>mesum2</td>\n",
       "    </tr>\n",
       "    <tr>\n",
       "      <th>319564</th>\n",
       "      <td>14593</td>\n",
       "      <td>2021-10-29</td>\n",
       "      <td>0.058620</td>\n",
       "      <td>2.324390e+06</td>\n",
       "      <td>ret12</td>\n",
       "      <td>ret11_12</td>\n",
       "      <td>ret11_22</td>\n",
       "      <td>mesum2</td>\n",
       "    </tr>\n",
       "    <tr>\n",
       "      <th>319565</th>\n",
       "      <td>14593</td>\n",
       "      <td>2021-11-30</td>\n",
       "      <td>0.104896</td>\n",
       "      <td>2.457678e+06</td>\n",
       "      <td>ret12</td>\n",
       "      <td>ret11_12</td>\n",
       "      <td>ret11_22</td>\n",
       "      <td>mesum2</td>\n",
       "    </tr>\n",
       "    <tr>\n",
       "      <th>319566</th>\n",
       "      <td>14593</td>\n",
       "      <td>2021-12-31</td>\n",
       "      <td>0.074162</td>\n",
       "      <td>2.711977e+06</td>\n",
       "      <td>ret13</td>\n",
       "      <td>ret11_12</td>\n",
       "      <td>ret11_22</td>\n",
       "      <td>mesum2</td>\n",
       "    </tr>\n",
       "  </tbody>\n",
       "</table>\n",
       "</div>"
      ],
      "text/plain": [
       "        permno       date     exret  melag_weights ret1portfolio  \\\n",
       "319543   14593 2020-01-31  0.052846   1.287643e+06         ret13   \n",
       "319544   14593 2020-02-28 -0.115518   1.354255e+06         ret13   \n",
       "319545   14593 2020-03-31 -0.071029   1.196081e+06         ret12   \n",
       "319546   14593 2020-04-30  0.155371   1.099547e+06         ret13   \n",
       "319547   14593 2020-05-29  0.084897   1.273428e+06         ret12   \n",
       "319548   14593 2020-06-30  0.147275   1.378058e+06         ret12   \n",
       "319549   14593 2020-07-31  0.165036   1.562781e+06         ret13   \n",
       "319550   14593 2020-08-31  0.216230   1.817316e+06         ret13   \n",
       "319551   14593 2020-09-30 -0.102602   2.206911e+06         ret13   \n",
       "319552   14593 2020-10-30 -0.060085   1.966079e+06         ret11   \n",
       "319553   14593 2020-11-30  0.095424   1.850816e+06         ret11   \n",
       "319554   14593 2020-12-31  0.114514   2.024065e+06         ret11   \n",
       "319555   14593 2021-01-29 -0.005548   2.232279e+06         ret13   \n",
       "319556   14593 2021-02-26 -0.079577   2.215357e+06         ret12   \n",
       "319557   14593 2021-03-31  0.007313   2.035725e+06         ret11   \n",
       "319558   14593 2021-04-30  0.076204   2.038232e+06         ret12   \n",
       "319559   14593 2021-05-28 -0.050439   2.193756e+06         ret13   \n",
       "319560   14593 2021-06-30  0.099105   2.079446e+06         ret11   \n",
       "319561   14593 2021-07-30  0.064951   2.267639e+06         ret13   \n",
       "319562   14593 2021-08-31  0.042389   2.411090e+06         ret13   \n",
       "319563   14593 2021-09-30 -0.068070   2.509775e+06         ret12   \n",
       "319564   14593 2021-10-29  0.058620   2.324390e+06         ret12   \n",
       "319565   14593 2021-11-30  0.104896   2.457678e+06         ret12   \n",
       "319566   14593 2021-12-31  0.074162   2.711977e+06         ret13   \n",
       "\n",
       "       ret11_1portfolio ret11_2portfolio mesumportfolio  \n",
       "319543         ret11_13         ret11_23         mesum2  \n",
       "319544         ret11_13         ret11_23         mesum2  \n",
       "319545         ret11_13         ret11_23         mesum2  \n",
       "319546         ret11_13         ret11_23         mesum2  \n",
       "319547         ret11_13         ret11_23         mesum2  \n",
       "319548         ret11_13         ret11_23         mesum2  \n",
       "319549         ret11_13         ret11_23         mesum2  \n",
       "319550         ret11_13         ret11_23         mesum2  \n",
       "319551         ret11_13         ret11_23         mesum2  \n",
       "319552         ret11_13         ret11_23         mesum2  \n",
       "319553         ret11_13         ret11_23         mesum2  \n",
       "319554         ret11_13         ret11_23         mesum2  \n",
       "319555         ret11_13         ret11_23         mesum2  \n",
       "319556         ret11_13         ret11_23         mesum2  \n",
       "319557         ret11_12         ret11_23         mesum2  \n",
       "319558         ret11_12         ret11_22         mesum2  \n",
       "319559         ret11_12         ret11_22         mesum2  \n",
       "319560         ret11_12         ret11_22         mesum2  \n",
       "319561         ret11_12         ret11_22         mesum2  \n",
       "319562         ret11_11         ret11_22         mesum2  \n",
       "319563         ret11_12         ret11_21         mesum2  \n",
       "319564         ret11_12         ret11_22         mesum2  \n",
       "319565         ret11_12         ret11_22         mesum2  \n",
       "319566         ret11_12         ret11_22         mesum2  "
      ]
     },
     "execution_count": 42,
     "metadata": {},
     "output_type": "execute_result"
    }
   ],
   "source": [
    "fdata[(fdata.permno==14593) & (fdata.date.dt.year>=2020)]"
   ]
  },
  {
   "cell_type": "markdown",
   "metadata": {
    "slideshow": {
     "slide_type": "subslide"
    }
   },
   "source": [
    "**Calculate returns**"
   ]
  },
  {
   "cell_type": "code",
   "execution_count": 43,
   "metadata": {
    "slideshow": {
     "slide_type": "fragment"
    }
   },
   "outputs": [],
   "source": [
    "# Reversal Returns \n",
    "rev = fdata.groupby(['date', \n",
    "                     'mesumportfolio', \n",
    "                     'ret1portfolio']).apply(lambda x: np.average(x['exret'], \n",
    "                                                                   weights = x['melag_weights']))"
   ]
  },
  {
   "cell_type": "code",
   "execution_count": 44,
   "metadata": {},
   "outputs": [
    {
     "data": {
      "text/plain": [
       "date        mesumportfolio  ret1portfolio\n",
       "1970-10-30  mesum1          ret11           -0.025202\n",
       "                            ret12           -0.055249\n",
       "                            ret13           -0.101283\n",
       "            mesum2          ret11           -0.009772\n",
       "                            ret12           -0.018604\n",
       "                                               ...   \n",
       "2021-12-31  mesum1          ret12            0.027340\n",
       "                            ret13            0.003851\n",
       "            mesum2          ret11            0.041109\n",
       "                            ret12            0.047687\n",
       "                            ret13            0.015045\n",
       "Length: 3690, dtype: float64"
      ]
     },
     "execution_count": 44,
     "metadata": {},
     "output_type": "execute_result"
    }
   ],
   "source": [
    "rev"
   ]
  },
  {
   "cell_type": "code",
   "execution_count": 45,
   "metadata": {
    "slideshow": {
     "slide_type": "subslide"
    }
   },
   "outputs": [],
   "source": [
    "rev = rev.unstack(level=[1, 2])"
   ]
  },
  {
   "cell_type": "code",
   "execution_count": 46,
   "metadata": {},
   "outputs": [
    {
     "data": {
      "text/html": [
       "<div>\n",
       "<style scoped>\n",
       "    .dataframe tbody tr th:only-of-type {\n",
       "        vertical-align: middle;\n",
       "    }\n",
       "\n",
       "    .dataframe tbody tr th {\n",
       "        vertical-align: top;\n",
       "    }\n",
       "\n",
       "    .dataframe thead tr th {\n",
       "        text-align: left;\n",
       "    }\n",
       "\n",
       "    .dataframe thead tr:last-of-type th {\n",
       "        text-align: right;\n",
       "    }\n",
       "</style>\n",
       "<table border=\"1\" class=\"dataframe\">\n",
       "  <thead>\n",
       "    <tr>\n",
       "      <th>mesumportfolio</th>\n",
       "      <th colspan=\"3\" halign=\"left\">mesum1</th>\n",
       "      <th colspan=\"3\" halign=\"left\">mesum2</th>\n",
       "    </tr>\n",
       "    <tr>\n",
       "      <th>ret1portfolio</th>\n",
       "      <th>ret11</th>\n",
       "      <th>ret12</th>\n",
       "      <th>ret13</th>\n",
       "      <th>ret11</th>\n",
       "      <th>ret12</th>\n",
       "      <th>ret13</th>\n",
       "    </tr>\n",
       "    <tr>\n",
       "      <th>date</th>\n",
       "      <th></th>\n",
       "      <th></th>\n",
       "      <th></th>\n",
       "      <th></th>\n",
       "      <th></th>\n",
       "      <th></th>\n",
       "    </tr>\n",
       "  </thead>\n",
       "  <tbody>\n",
       "    <tr>\n",
       "      <th>1970-10-30</th>\n",
       "      <td>-0.025202</td>\n",
       "      <td>-0.055249</td>\n",
       "      <td>-0.101283</td>\n",
       "      <td>-0.009772</td>\n",
       "      <td>-0.018604</td>\n",
       "      <td>-0.061833</td>\n",
       "    </tr>\n",
       "    <tr>\n",
       "      <th>1970-11-30</th>\n",
       "      <td>-0.007556</td>\n",
       "      <td>0.007791</td>\n",
       "      <td>0.013077</td>\n",
       "      <td>0.057785</td>\n",
       "      <td>0.055633</td>\n",
       "      <td>0.043627</td>\n",
       "    </tr>\n",
       "    <tr>\n",
       "      <th>1970-12-31</th>\n",
       "      <td>0.089769</td>\n",
       "      <td>0.073310</td>\n",
       "      <td>0.065054</td>\n",
       "      <td>0.077108</td>\n",
       "      <td>0.059134</td>\n",
       "      <td>0.045373</td>\n",
       "    </tr>\n",
       "    <tr>\n",
       "      <th>1971-01-29</th>\n",
       "      <td>0.133908</td>\n",
       "      <td>0.109467</td>\n",
       "      <td>0.076747</td>\n",
       "      <td>0.043691</td>\n",
       "      <td>0.037085</td>\n",
       "      <td>0.059520</td>\n",
       "    </tr>\n",
       "    <tr>\n",
       "      <th>1971-02-26</th>\n",
       "      <td>0.049126</td>\n",
       "      <td>0.032587</td>\n",
       "      <td>0.023697</td>\n",
       "      <td>0.017585</td>\n",
       "      <td>0.004421</td>\n",
       "      <td>0.011798</td>\n",
       "    </tr>\n",
       "    <tr>\n",
       "      <th>...</th>\n",
       "      <td>...</td>\n",
       "      <td>...</td>\n",
       "      <td>...</td>\n",
       "      <td>...</td>\n",
       "      <td>...</td>\n",
       "      <td>...</td>\n",
       "    </tr>\n",
       "    <tr>\n",
       "      <th>2021-08-31</th>\n",
       "      <td>0.005903</td>\n",
       "      <td>-0.001340</td>\n",
       "      <td>0.025343</td>\n",
       "      <td>0.017823</td>\n",
       "      <td>0.029381</td>\n",
       "      <td>0.032801</td>\n",
       "    </tr>\n",
       "    <tr>\n",
       "      <th>2021-09-30</th>\n",
       "      <td>-0.042146</td>\n",
       "      <td>-0.032445</td>\n",
       "      <td>-0.034841</td>\n",
       "      <td>-0.026280</td>\n",
       "      <td>-0.047683</td>\n",
       "      <td>-0.047991</td>\n",
       "    </tr>\n",
       "    <tr>\n",
       "      <th>2021-10-29</th>\n",
       "      <td>0.011688</td>\n",
       "      <td>0.019883</td>\n",
       "      <td>0.023230</td>\n",
       "      <td>0.062294</td>\n",
       "      <td>0.062706</td>\n",
       "      <td>0.093832</td>\n",
       "    </tr>\n",
       "    <tr>\n",
       "      <th>2021-11-30</th>\n",
       "      <td>-0.082699</td>\n",
       "      <td>-0.038545</td>\n",
       "      <td>-0.066360</td>\n",
       "      <td>-0.041840</td>\n",
       "      <td>-0.003094</td>\n",
       "      <td>-0.008213</td>\n",
       "    </tr>\n",
       "    <tr>\n",
       "      <th>2021-12-31</th>\n",
       "      <td>-0.023623</td>\n",
       "      <td>0.027340</td>\n",
       "      <td>0.003851</td>\n",
       "      <td>0.041109</td>\n",
       "      <td>0.047687</td>\n",
       "      <td>0.015045</td>\n",
       "    </tr>\n",
       "  </tbody>\n",
       "</table>\n",
       "<p>615 rows × 6 columns</p>\n",
       "</div>"
      ],
      "text/plain": [
       "mesumportfolio    mesum1                        mesum2                    \n",
       "ret1portfolio      ret11     ret12     ret13     ret11     ret12     ret13\n",
       "date                                                                      \n",
       "1970-10-30     -0.025202 -0.055249 -0.101283 -0.009772 -0.018604 -0.061833\n",
       "1970-11-30     -0.007556  0.007791  0.013077  0.057785  0.055633  0.043627\n",
       "1970-12-31      0.089769  0.073310  0.065054  0.077108  0.059134  0.045373\n",
       "1971-01-29      0.133908  0.109467  0.076747  0.043691  0.037085  0.059520\n",
       "1971-02-26      0.049126  0.032587  0.023697  0.017585  0.004421  0.011798\n",
       "...                  ...       ...       ...       ...       ...       ...\n",
       "2021-08-31      0.005903 -0.001340  0.025343  0.017823  0.029381  0.032801\n",
       "2021-09-30     -0.042146 -0.032445 -0.034841 -0.026280 -0.047683 -0.047991\n",
       "2021-10-29      0.011688  0.019883  0.023230  0.062294  0.062706  0.093832\n",
       "2021-11-30     -0.082699 -0.038545 -0.066360 -0.041840 -0.003094 -0.008213\n",
       "2021-12-31     -0.023623  0.027340  0.003851  0.041109  0.047687  0.015045\n",
       "\n",
       "[615 rows x 6 columns]"
      ]
     },
     "execution_count": 46,
     "metadata": {},
     "output_type": "execute_result"
    }
   ],
   "source": [
    "rev"
   ]
  },
  {
   "cell_type": "code",
   "execution_count": 47,
   "metadata": {
    "slideshow": {
     "slide_type": "fragment"
    }
   },
   "outputs": [],
   "source": [
    "rev_ret = rev.loc[:, idx[:, 'ret13']].mean(axis=1)-rev.loc[:, idx[:, 'ret11']].mean(axis=1)\n",
    "rev_ret = rev_ret.to_frame('rev')"
   ]
  },
  {
   "cell_type": "code",
   "execution_count": 48,
   "metadata": {
    "slideshow": {
     "slide_type": "subslide"
    }
   },
   "outputs": [],
   "source": [
    "# Momentum not skipping 1-month\n",
    "mom2 = fdata.groupby(['date', \n",
    "                      'mesumportfolio', \n",
    "                      'ret11_1portfolio']).apply(lambda x: np.average(x['exret'], \n",
    "                                                                weights = x['melag_weights']))\n",
    "mom2 = mom2.unstack(level=[1, 2])\n",
    "mom2_ret = mom2.loc[:, idx[:, 'ret11_13']].mean(axis=1)-mom2.loc[:, idx[:, 'ret11_11']].mean(axis=1)\n",
    "mom2_ret = mom2_ret.to_frame('mom2')"
   ]
  },
  {
   "cell_type": "code",
   "execution_count": 49,
   "metadata": {
    "slideshow": {
     "slide_type": "fragment"
    }
   },
   "outputs": [],
   "source": [
    "# Momemtum Returns\n",
    "mom = fdata.groupby(['date', \n",
    "                     'mesumportfolio', \n",
    "                     'ret11_2portfolio']).apply(lambda x: np.average(x['exret'], \n",
    "                                                                weights = x['melag_weights']))\n",
    "mom = mom.unstack(level=[1, 2])\n",
    "mom_ret = mom.loc[:, idx[:, 'ret11_23']].mean(axis=1)-mom.loc[:, idx[:, 'ret11_21']].mean(axis=1)\n",
    "mom_ret = mom_ret.to_frame('mom')"
   ]
  },
  {
   "cell_type": "code",
   "execution_count": 50,
   "metadata": {
    "slideshow": {
     "slide_type": "fragment"
    }
   },
   "outputs": [],
   "source": [
    "ret = mom_ret.join(rev_ret)\n",
    "ret = ret.join(mom2_ret)"
   ]
  },
  {
   "cell_type": "markdown",
   "metadata": {
    "slideshow": {
     "slide_type": "subslide"
    }
   },
   "source": [
    "**Long-short portfolio returns**"
   ]
  },
  {
   "cell_type": "code",
   "execution_count": 51,
   "metadata": {
    "scrolled": true,
    "slideshow": {
     "slide_type": "fragment"
    }
   },
   "outputs": [
    {
     "data": {
      "text/plain": [
       "<AxesSubplot:xlabel='date'>"
      ]
     },
     "execution_count": 51,
     "metadata": {},
     "output_type": "execute_result"
    },
    {
     "data": {
      "image/png": "[encoded data removed]",
      "text/plain": [
       "<Figure size 720x432 with 1 Axes>"
      ]
     },
     "metadata": {
      "needs_background": "light"
     },
     "output_type": "display_data"
    }
   ],
   "source": [
    "np.log(1+ret).cumsum().plot()"
   ]
  },
  {
   "cell_type": "code",
   "execution_count": 52,
   "metadata": {
    "slideshow": {
     "slide_type": "subslide"
    }
   },
   "outputs": [],
   "source": [
    "# Reversal with equal weight\n",
    "rev2 = fdata.groupby(['date', \n",
    "                      'mesumportfolio', \n",
    "                      'ret1portfolio']).apply(lambda x: np.average(x['exret']))\n",
    "rev2 = rev2.unstack(level=[1, 2])\n",
    "rev2_ret = rev2.loc[:, idx[:, 'ret13']].mean(axis=1)-rev2.loc[:, idx[:, 'ret11']].mean(axis=1)\n",
    "rev2_ret = rev2_ret.to_frame('rev2')\n",
    "\n",
    "ret= ret.join(rev2_ret)"
   ]
  },
  {
   "cell_type": "code",
   "execution_count": 53,
   "metadata": {
    "slideshow": {
     "slide_type": "fragment"
    }
   },
   "outputs": [
    {
     "data": {
      "text/plain": [
       "<AxesSubplot:xlabel='date'>"
      ]
     },
     "execution_count": 53,
     "metadata": {},
     "output_type": "execute_result"
    },
    {
     "data": {
      "image/png": "[encoded data removed]",
      "text/plain": [
       "<Figure size 720x432 with 1 Axes>"
      ]
     },
     "metadata": {
      "needs_background": "light"
     },
     "output_type": "display_data"
    }
   ],
   "source": [
    "np.log(1+ret).cumsum().plot()"
   ]
  },
  {
   "cell_type": "markdown",
   "metadata": {
    "slideshow": {
     "slide_type": "subslide"
    }
   },
   "source": [
    "### Compare Sharpe-ratio"
   ]
  },
  {
   "cell_type": "code",
   "execution_count": 54,
   "metadata": {
    "slideshow": {
     "slide_type": "fragment"
    }
   },
   "outputs": [
    {
     "data": {
      "text/plain": [
       "mom     0.404532\n",
       "rev    -0.526083\n",
       "mom2    0.174745\n",
       "rev2   -0.969398\n",
       "dtype: float64"
      ]
     },
     "execution_count": 54,
     "metadata": {},
     "output_type": "execute_result"
    }
   ],
   "source": [
    "(ret.mean()/ret.std())*np.sqrt(12)"
   ]
  },
  {
   "cell_type": "markdown",
   "metadata": {
    "slideshow": {
     "slide_type": "fragment"
    }
   },
   "source": [
    "Is Sharpe ratio the only/main thing we care about?"
   ]
  },
  {
   "cell_type": "markdown",
   "metadata": {
    "slideshow": {
     "slide_type": "slide"
    }
   },
   "source": [
    "## Are there alphas?"
   ]
  },
  {
   "cell_type": "code",
   "execution_count": 55,
   "metadata": {
    "slideshow": {
     "slide_type": "subslide"
    }
   },
   "outputs": [],
   "source": [
    "# FF5 factor\n",
    "ff = kf_factors(ff_factor_file='F-F_Research_Data_5_Factors_2x3', freq='monthly')\n",
    "ff.drop(columns=['date'], inplace=True)\n",
    "ff_ret = ff.set_index('mdate')/100\n",
    "ff_ret.rename(columns = {'Mkt-RF': 'MktRF'}, inplace=True)"
   ]
  },
  {
   "cell_type": "code",
   "execution_count": 56,
   "metadata": {
    "slideshow": {
     "slide_type": "-"
    }
   },
   "outputs": [
    {
     "data": {
      "text/html": [
       "<div>\n",
       "<style scoped>\n",
       "    .dataframe tbody tr th:only-of-type {\n",
       "        vertical-align: middle;\n",
       "    }\n",
       "\n",
       "    .dataframe tbody tr th {\n",
       "        vertical-align: top;\n",
       "    }\n",
       "\n",
       "    .dataframe thead th {\n",
       "        text-align: right;\n",
       "    }\n",
       "</style>\n",
       "<table border=\"1\" class=\"dataframe\">\n",
       "  <thead>\n",
       "    <tr style=\"text-align: right;\">\n",
       "      <th></th>\n",
       "      <th>Mkt-RF</th>\n",
       "      <th>SMB</th>\n",
       "      <th>HML</th>\n",
       "      <th>RMW</th>\n",
       "      <th>CMA</th>\n",
       "      <th>RF</th>\n",
       "      <th>mdate</th>\n",
       "    </tr>\n",
       "  </thead>\n",
       "  <tbody>\n",
       "    <tr>\n",
       "      <th>0</th>\n",
       "      <td>-0.39</td>\n",
       "      <td>-0.44</td>\n",
       "      <td>-0.89</td>\n",
       "      <td>0.68</td>\n",
       "      <td>-1.23</td>\n",
       "      <td>0.27</td>\n",
       "      <td>196307</td>\n",
       "    </tr>\n",
       "    <tr>\n",
       "      <th>1</th>\n",
       "      <td>5.07</td>\n",
       "      <td>-0.75</td>\n",
       "      <td>1.68</td>\n",
       "      <td>0.36</td>\n",
       "      <td>-0.34</td>\n",
       "      <td>0.25</td>\n",
       "      <td>196308</td>\n",
       "    </tr>\n",
       "    <tr>\n",
       "      <th>2</th>\n",
       "      <td>-1.57</td>\n",
       "      <td>-0.55</td>\n",
       "      <td>0.08</td>\n",
       "      <td>-0.71</td>\n",
       "      <td>0.29</td>\n",
       "      <td>0.27</td>\n",
       "      <td>196309</td>\n",
       "    </tr>\n",
       "    <tr>\n",
       "      <th>3</th>\n",
       "      <td>2.53</td>\n",
       "      <td>-1.37</td>\n",
       "      <td>-0.14</td>\n",
       "      <td>2.80</td>\n",
       "      <td>-2.02</td>\n",
       "      <td>0.29</td>\n",
       "      <td>196310</td>\n",
       "    </tr>\n",
       "    <tr>\n",
       "      <th>4</th>\n",
       "      <td>-0.85</td>\n",
       "      <td>-0.89</td>\n",
       "      <td>1.81</td>\n",
       "      <td>-0.51</td>\n",
       "      <td>2.31</td>\n",
       "      <td>0.27</td>\n",
       "      <td>196311</td>\n",
       "    </tr>\n",
       "    <tr>\n",
       "      <th>...</th>\n",
       "      <td>...</td>\n",
       "      <td>...</td>\n",
       "      <td>...</td>\n",
       "      <td>...</td>\n",
       "      <td>...</td>\n",
       "      <td>...</td>\n",
       "      <td>...</td>\n",
       "    </tr>\n",
       "    <tr>\n",
       "      <th>698</th>\n",
       "      <td>-4.37</td>\n",
       "      <td>1.25</td>\n",
       "      <td>5.09</td>\n",
       "      <td>-1.94</td>\n",
       "      <td>2.08</td>\n",
       "      <td>0.00</td>\n",
       "      <td>202109</td>\n",
       "    </tr>\n",
       "    <tr>\n",
       "      <th>699</th>\n",
       "      <td>6.65</td>\n",
       "      <td>-2.69</td>\n",
       "      <td>-0.44</td>\n",
       "      <td>1.74</td>\n",
       "      <td>-1.48</td>\n",
       "      <td>0.00</td>\n",
       "      <td>202110</td>\n",
       "    </tr>\n",
       "    <tr>\n",
       "      <th>700</th>\n",
       "      <td>-1.55</td>\n",
       "      <td>-1.74</td>\n",
       "      <td>-0.53</td>\n",
       "      <td>7.38</td>\n",
       "      <td>1.60</td>\n",
       "      <td>0.00</td>\n",
       "      <td>202111</td>\n",
       "    </tr>\n",
       "    <tr>\n",
       "      <th>701</th>\n",
       "      <td>3.10</td>\n",
       "      <td>-0.68</td>\n",
       "      <td>3.23</td>\n",
       "      <td>4.75</td>\n",
       "      <td>4.37</td>\n",
       "      <td>0.01</td>\n",
       "      <td>202112</td>\n",
       "    </tr>\n",
       "    <tr>\n",
       "      <th>702</th>\n",
       "      <td>-6.23</td>\n",
       "      <td>-3.91</td>\n",
       "      <td>12.78</td>\n",
       "      <td>0.74</td>\n",
       "      <td>7.78</td>\n",
       "      <td>0.00</td>\n",
       "      <td>202201</td>\n",
       "    </tr>\n",
       "  </tbody>\n",
       "</table>\n",
       "<p>703 rows × 7 columns</p>\n",
       "</div>"
      ],
      "text/plain": [
       "     Mkt-RF   SMB    HML   RMW   CMA    RF   mdate\n",
       "0     -0.39 -0.44  -0.89  0.68 -1.23  0.27  196307\n",
       "1      5.07 -0.75   1.68  0.36 -0.34  0.25  196308\n",
       "2     -1.57 -0.55   0.08 -0.71  0.29  0.27  196309\n",
       "3      2.53 -1.37  -0.14  2.80 -2.02  0.29  196310\n",
       "4     -0.85 -0.89   1.81 -0.51  2.31  0.27  196311\n",
       "..      ...   ...    ...   ...   ...   ...     ...\n",
       "698   -4.37  1.25   5.09 -1.94  2.08  0.00  202109\n",
       "699    6.65 -2.69  -0.44  1.74 -1.48  0.00  202110\n",
       "700   -1.55 -1.74  -0.53  7.38  1.60  0.00  202111\n",
       "701    3.10 -0.68   3.23  4.75  4.37  0.01  202112\n",
       "702   -6.23 -3.91  12.78  0.74  7.78  0.00  202201\n",
       "\n",
       "[703 rows x 7 columns]"
      ]
     },
     "execution_count": 56,
     "metadata": {},
     "output_type": "execute_result"
    }
   ],
   "source": [
    "ff"
   ]
  },
  {
   "cell_type": "markdown",
   "metadata": {
    "slideshow": {
     "slide_type": "subslide"
    }
   },
   "source": [
    "**Merge our data with FF5 factors**"
   ]
  },
  {
   "cell_type": "code",
   "execution_count": 57,
   "metadata": {
    "slideshow": {
     "slide_type": "-"
    }
   },
   "outputs": [],
   "source": [
    "ret.reset_index(inplace=True)\n",
    "ret['mdate'] = ret.date.dt.year * 100 +  ret.date.dt.month"
   ]
  },
  {
   "cell_type": "code",
   "execution_count": 58,
   "metadata": {
    "slideshow": {
     "slide_type": "-"
    }
   },
   "outputs": [],
   "source": [
    "ret.set_index('mdate', inplace=True)"
   ]
  },
  {
   "cell_type": "code",
   "execution_count": 59,
   "metadata": {
    "slideshow": {
     "slide_type": "-"
    }
   },
   "outputs": [],
   "source": [
    "# Merge \n",
    "ret = ret.join(ff_ret)\n",
    "ret.reset_index(inplace=True)\n",
    "ret.set_index('date', inplace=True)"
   ]
  },
  {
   "cell_type": "code",
   "execution_count": 60,
   "metadata": {
    "scrolled": true,
    "slideshow": {
     "slide_type": "subslide"
    }
   },
   "outputs": [
    {
     "data": {
      "text/html": [
       "<div>\n",
       "<style scoped>\n",
       "    .dataframe tbody tr th:only-of-type {\n",
       "        vertical-align: middle;\n",
       "    }\n",
       "\n",
       "    .dataframe tbody tr th {\n",
       "        vertical-align: top;\n",
       "    }\n",
       "\n",
       "    .dataframe thead th {\n",
       "        text-align: right;\n",
       "    }\n",
       "</style>\n",
       "<table border=\"1\" class=\"dataframe\">\n",
       "  <thead>\n",
       "    <tr style=\"text-align: right;\">\n",
       "      <th></th>\n",
       "      <th>mdate</th>\n",
       "      <th>mom</th>\n",
       "      <th>rev</th>\n",
       "      <th>mom2</th>\n",
       "      <th>rev2</th>\n",
       "      <th>MktRF</th>\n",
       "      <th>SMB</th>\n",
       "      <th>HML</th>\n",
       "      <th>RMW</th>\n",
       "      <th>CMA</th>\n",
       "      <th>RF</th>\n",
       "    </tr>\n",
       "    <tr>\n",
       "      <th>date</th>\n",
       "      <th></th>\n",
       "      <th></th>\n",
       "      <th></th>\n",
       "      <th></th>\n",
       "      <th></th>\n",
       "      <th></th>\n",
       "      <th></th>\n",
       "      <th></th>\n",
       "      <th></th>\n",
       "      <th></th>\n",
       "      <th></th>\n",
       "    </tr>\n",
       "  </thead>\n",
       "  <tbody>\n",
       "    <tr>\n",
       "      <th>1970-10-30</th>\n",
       "      <td>197010</td>\n",
       "      <td>0.083603</td>\n",
       "      <td>-0.064071</td>\n",
       "      <td>0.073112</td>\n",
       "      <td>-0.062213</td>\n",
       "      <td>-0.0228</td>\n",
       "      <td>-0.0443</td>\n",
       "      <td>0.0021</td>\n",
       "      <td>0.0171</td>\n",
       "      <td>0.0232</td>\n",
       "      <td>0.0046</td>\n",
       "    </tr>\n",
       "    <tr>\n",
       "      <th>1970-11-30</th>\n",
       "      <td>197011</td>\n",
       "      <td>0.023131</td>\n",
       "      <td>0.003238</td>\n",
       "      <td>0.023705</td>\n",
       "      <td>0.009348</td>\n",
       "      <td>0.0460</td>\n",
       "      <td>-0.0386</td>\n",
       "      <td>0.0170</td>\n",
       "      <td>0.0156</td>\n",
       "      <td>0.0148</td>\n",
       "      <td>0.0046</td>\n",
       "    </tr>\n",
       "    <tr>\n",
       "      <th>1970-12-31</th>\n",
       "      <td>197012</td>\n",
       "      <td>-0.022009</td>\n",
       "      <td>-0.028225</td>\n",
       "      <td>-0.034313</td>\n",
       "      <td>-0.024298</td>\n",
       "      <td>0.0572</td>\n",
       "      <td>0.0293</td>\n",
       "      <td>0.0099</td>\n",
       "      <td>0.0024</td>\n",
       "      <td>0.0029</td>\n",
       "      <td>0.0042</td>\n",
       "    </tr>\n",
       "    <tr>\n",
       "      <th>1971-01-29</th>\n",
       "      <td>197101</td>\n",
       "      <td>-0.070859</td>\n",
       "      <td>-0.020666</td>\n",
       "      <td>-0.076117</td>\n",
       "      <td>-0.045204</td>\n",
       "      <td>0.0484</td>\n",
       "      <td>0.0754</td>\n",
       "      <td>0.0148</td>\n",
       "      <td>-0.0199</td>\n",
       "      <td>0.0006</td>\n",
       "      <td>0.0038</td>\n",
       "    </tr>\n",
       "    <tr>\n",
       "      <th>1971-02-26</th>\n",
       "      <td>197102</td>\n",
       "      <td>0.003639</td>\n",
       "      <td>-0.015608</td>\n",
       "      <td>-0.002177</td>\n",
       "      <td>-0.008825</td>\n",
       "      <td>0.0141</td>\n",
       "      <td>0.0204</td>\n",
       "      <td>-0.0127</td>\n",
       "      <td>0.0058</td>\n",
       "      <td>-0.0069</td>\n",
       "      <td>0.0033</td>\n",
       "    </tr>\n",
       "    <tr>\n",
       "      <th>...</th>\n",
       "      <td>...</td>\n",
       "      <td>...</td>\n",
       "      <td>...</td>\n",
       "      <td>...</td>\n",
       "      <td>...</td>\n",
       "      <td>...</td>\n",
       "      <td>...</td>\n",
       "      <td>...</td>\n",
       "      <td>...</td>\n",
       "      <td>...</td>\n",
       "      <td>...</td>\n",
       "    </tr>\n",
       "    <tr>\n",
       "      <th>2021-08-31</th>\n",
       "      <td>202108</td>\n",
       "      <td>0.024879</td>\n",
       "      <td>0.017209</td>\n",
       "      <td>0.014472</td>\n",
       "      <td>0.002749</td>\n",
       "      <td>0.0290</td>\n",
       "      <td>-0.0079</td>\n",
       "      <td>-0.0013</td>\n",
       "      <td>-0.0026</td>\n",
       "      <td>-0.0167</td>\n",
       "      <td>0.0000</td>\n",
       "    </tr>\n",
       "    <tr>\n",
       "      <th>2021-09-30</th>\n",
       "      <td>202109</td>\n",
       "      <td>0.012821</td>\n",
       "      <td>-0.007203</td>\n",
       "      <td>0.008545</td>\n",
       "      <td>0.006751</td>\n",
       "      <td>-0.0437</td>\n",
       "      <td>0.0125</td>\n",
       "      <td>0.0509</td>\n",
       "      <td>-0.0194</td>\n",
       "      <td>0.0208</td>\n",
       "      <td>0.0000</td>\n",
       "    </tr>\n",
       "    <tr>\n",
       "      <th>2021-10-29</th>\n",
       "      <td>202110</td>\n",
       "      <td>0.039870</td>\n",
       "      <td>0.021540</td>\n",
       "      <td>0.055191</td>\n",
       "      <td>0.007051</td>\n",
       "      <td>0.0665</td>\n",
       "      <td>-0.0269</td>\n",
       "      <td>-0.0044</td>\n",
       "      <td>0.0174</td>\n",
       "      <td>-0.0148</td>\n",
       "      <td>0.0000</td>\n",
       "    </tr>\n",
       "    <tr>\n",
       "      <th>2021-11-30</th>\n",
       "      <td>202111</td>\n",
       "      <td>0.013026</td>\n",
       "      <td>0.024983</td>\n",
       "      <td>0.032417</td>\n",
       "      <td>0.016293</td>\n",
       "      <td>-0.0155</td>\n",
       "      <td>-0.0174</td>\n",
       "      <td>-0.0053</td>\n",
       "      <td>0.0738</td>\n",
       "      <td>0.0160</td>\n",
       "      <td>0.0000</td>\n",
       "    </tr>\n",
       "    <tr>\n",
       "      <th>2021-12-31</th>\n",
       "      <td>202112</td>\n",
       "      <td>-0.012179</td>\n",
       "      <td>0.000705</td>\n",
       "      <td>-0.019768</td>\n",
       "      <td>0.027229</td>\n",
       "      <td>0.0310</td>\n",
       "      <td>-0.0068</td>\n",
       "      <td>0.0323</td>\n",
       "      <td>0.0475</td>\n",
       "      <td>0.0437</td>\n",
       "      <td>0.0001</td>\n",
       "    </tr>\n",
       "  </tbody>\n",
       "</table>\n",
       "<p>615 rows × 11 columns</p>\n",
       "</div>"
      ],
      "text/plain": [
       "             mdate       mom       rev      mom2      rev2   MktRF     SMB  \\\n",
       "date                                                                         \n",
       "1970-10-30  197010  0.083603 -0.064071  0.073112 -0.062213 -0.0228 -0.0443   \n",
       "1970-11-30  197011  0.023131  0.003238  0.023705  0.009348  0.0460 -0.0386   \n",
       "1970-12-31  197012 -0.022009 -0.028225 -0.034313 -0.024298  0.0572  0.0293   \n",
       "1971-01-29  197101 -0.070859 -0.020666 -0.076117 -0.045204  0.0484  0.0754   \n",
       "1971-02-26  197102  0.003639 -0.015608 -0.002177 -0.008825  0.0141  0.0204   \n",
       "...            ...       ...       ...       ...       ...     ...     ...   \n",
       "2021-08-31  202108  0.024879  0.017209  0.014472  0.002749  0.0290 -0.0079   \n",
       "2021-09-30  202109  0.012821 -0.007203  0.008545  0.006751 -0.0437  0.0125   \n",
       "2021-10-29  202110  0.039870  0.021540  0.055191  0.007051  0.0665 -0.0269   \n",
       "2021-11-30  202111  0.013026  0.024983  0.032417  0.016293 -0.0155 -0.0174   \n",
       "2021-12-31  202112 -0.012179  0.000705 -0.019768  0.027229  0.0310 -0.0068   \n",
       "\n",
       "               HML     RMW     CMA      RF  \n",
       "date                                        \n",
       "1970-10-30  0.0021  0.0171  0.0232  0.0046  \n",
       "1970-11-30  0.0170  0.0156  0.0148  0.0046  \n",
       "1970-12-31  0.0099  0.0024  0.0029  0.0042  \n",
       "1971-01-29  0.0148 -0.0199  0.0006  0.0038  \n",
       "1971-02-26 -0.0127  0.0058 -0.0069  0.0033  \n",
       "...            ...     ...     ...     ...  \n",
       "2021-08-31 -0.0013 -0.0026 -0.0167  0.0000  \n",
       "2021-09-30  0.0509 -0.0194  0.0208  0.0000  \n",
       "2021-10-29 -0.0044  0.0174 -0.0148  0.0000  \n",
       "2021-11-30 -0.0053  0.0738  0.0160  0.0000  \n",
       "2021-12-31  0.0323  0.0475  0.0437  0.0001  \n",
       "\n",
       "[615 rows x 11 columns]"
      ]
     },
     "execution_count": 60,
     "metadata": {},
     "output_type": "execute_result"
    }
   ],
   "source": [
    "ret"
   ]
  },
  {
   "cell_type": "code",
   "execution_count": 61,
   "metadata": {
    "slideshow": {
     "slide_type": "subslide"
    }
   },
   "outputs": [
    {
     "data": {
      "text/html": [
       "<table class=\"simpletable\">\n",
       "<caption>OLS Regression Results</caption>\n",
       "<tr>\n",
       "  <th>Dep. Variable:</th>           <td>mom</td>       <th>  R-squared:         </th> <td>   0.094</td>\n",
       "</tr>\n",
       "<tr>\n",
       "  <th>Model:</th>                   <td>OLS</td>       <th>  Adj. R-squared:    </th> <td>   0.088</td>\n",
       "</tr>\n",
       "<tr>\n",
       "  <th>Method:</th>             <td>Least Squares</td>  <th>  F-statistic:       </th> <td>   14.80</td>\n",
       "</tr>\n",
       "<tr>\n",
       "  <th>Date:</th>             <td>Thu, 24 Mar 2022</td> <th>  Prob (F-statistic):</th> <td>0.000180</td>\n",
       "</tr>\n",
       "<tr>\n",
       "  <th>Time:</th>                 <td>14:55:02</td>     <th>  Log-Likelihood:    </th> <td>  289.35</td>\n",
       "</tr>\n",
       "<tr>\n",
       "  <th>No. Observations:</th>      <td>   144</td>      <th>  AIC:               </th> <td>  -574.7</td>\n",
       "</tr>\n",
       "<tr>\n",
       "  <th>Df Residuals:</th>          <td>   142</td>      <th>  BIC:               </th> <td>  -568.8</td>\n",
       "</tr>\n",
       "<tr>\n",
       "  <th>Df Model:</th>              <td>     1</td>      <th>                     </th>     <td> </td>   \n",
       "</tr>\n",
       "<tr>\n",
       "  <th>Covariance Type:</th>      <td>nonrobust</td>    <th>                     </th>     <td> </td>   \n",
       "</tr>\n",
       "</table>\n",
       "<table class=\"simpletable\">\n",
       "<tr>\n",
       "      <td></td>         <th>coef</th>     <th>std err</th>      <th>t</th>      <th>P>|t|</th>  <th>[0.025</th>    <th>0.975]</th>  \n",
       "</tr>\n",
       "<tr>\n",
       "  <th>Intercept</th> <td>    0.0037</td> <td>    0.003</td> <td>    1.319</td> <td> 0.189</td> <td>   -0.002</td> <td>    0.009</td>\n",
       "</tr>\n",
       "<tr>\n",
       "  <th>MktRF</th>     <td>   -0.2523</td> <td>    0.066</td> <td>   -3.847</td> <td> 0.000</td> <td>   -0.382</td> <td>   -0.123</td>\n",
       "</tr>\n",
       "</table>\n",
       "<table class=\"simpletable\">\n",
       "<tr>\n",
       "  <th>Omnibus:</th>       <td> 4.764</td> <th>  Durbin-Watson:     </th> <td>   2.046</td>\n",
       "</tr>\n",
       "<tr>\n",
       "  <th>Prob(Omnibus):</th> <td> 0.092</td> <th>  Jarque-Bera (JB):  </th> <td>   4.415</td>\n",
       "</tr>\n",
       "<tr>\n",
       "  <th>Skew:</th>          <td>-0.323</td> <th>  Prob(JB):          </th> <td>   0.110</td>\n",
       "</tr>\n",
       "<tr>\n",
       "  <th>Kurtosis:</th>      <td> 3.565</td> <th>  Cond. No.          </th> <td>    24.1</td>\n",
       "</tr>\n",
       "</table><br/><br/>Notes:<br/>[1] Standard Errors assume that the covariance matrix of the errors is correctly specified."
      ],
      "text/plain": [
       "<class 'statsmodels.iolib.summary.Summary'>\n",
       "\"\"\"\n",
       "                            OLS Regression Results                            \n",
       "==============================================================================\n",
       "Dep. Variable:                    mom   R-squared:                       0.094\n",
       "Model:                            OLS   Adj. R-squared:                  0.088\n",
       "Method:                 Least Squares   F-statistic:                     14.80\n",
       "Date:                Thu, 24 Mar 2022   Prob (F-statistic):           0.000180\n",
       "Time:                        14:55:02   Log-Likelihood:                 289.35\n",
       "No. Observations:                 144   AIC:                            -574.7\n",
       "Df Residuals:                     142   BIC:                            -568.8\n",
       "Df Model:                           1                                         \n",
       "Covariance Type:            nonrobust                                         \n",
       "==============================================================================\n",
       "                 coef    std err          t      P>|t|      [0.025      0.975]\n",
       "------------------------------------------------------------------------------\n",
       "Intercept      0.0037      0.003      1.319      0.189      -0.002       0.009\n",
       "MktRF         -0.2523      0.066     -3.847      0.000      -0.382      -0.123\n",
       "==============================================================================\n",
       "Omnibus:                        4.764   Durbin-Watson:                   2.046\n",
       "Prob(Omnibus):                  0.092   Jarque-Bera (JB):                4.415\n",
       "Skew:                          -0.323   Prob(JB):                        0.110\n",
       "Kurtosis:                       3.565   Cond. No.                         24.1\n",
       "==============================================================================\n",
       "\n",
       "Notes:\n",
       "[1] Standard Errors assume that the covariance matrix of the errors is correctly specified.\n",
       "\"\"\""
      ]
     },
     "execution_count": 61,
     "metadata": {},
     "output_type": "execute_result"
    }
   ],
   "source": [
    "smf.ols('mom ~ MktRF', data=ret.loc['2010-01-01':]).fit().summary()"
   ]
  },
  {
   "cell_type": "code",
   "execution_count": 62,
   "metadata": {
    "slideshow": {
     "slide_type": "subslide"
    }
   },
   "outputs": [
    {
     "data": {
      "text/html": [
       "<table class=\"simpletable\">\n",
       "<caption>OLS Regression Results</caption>\n",
       "<tr>\n",
       "  <th>Dep. Variable:</th>           <td>mom</td>       <th>  R-squared:         </th> <td>   0.036</td>\n",
       "</tr>\n",
       "<tr>\n",
       "  <th>Model:</th>                   <td>OLS</td>       <th>  Adj. R-squared:    </th> <td>   0.035</td>\n",
       "</tr>\n",
       "<tr>\n",
       "  <th>Method:</th>             <td>Least Squares</td>  <th>  F-statistic:       </th> <td>   22.96</td>\n",
       "</tr>\n",
       "<tr>\n",
       "  <th>Date:</th>             <td>Thu, 24 Mar 2022</td> <th>  Prob (F-statistic):</th> <td>2.08e-06</td>\n",
       "</tr>\n",
       "<tr>\n",
       "  <th>Time:</th>                 <td>14:55:02</td>     <th>  Log-Likelihood:    </th> <td>  1084.8</td>\n",
       "</tr>\n",
       "<tr>\n",
       "  <th>No. Observations:</th>      <td>   615</td>      <th>  AIC:               </th> <td>  -2166.</td>\n",
       "</tr>\n",
       "<tr>\n",
       "  <th>Df Residuals:</th>          <td>   613</td>      <th>  BIC:               </th> <td>  -2157.</td>\n",
       "</tr>\n",
       "<tr>\n",
       "  <th>Df Model:</th>              <td>     1</td>      <th>                     </th>     <td> </td>   \n",
       "</tr>\n",
       "<tr>\n",
       "  <th>Covariance Type:</th>      <td>nonrobust</td>    <th>                     </th>     <td> </td>   \n",
       "</tr>\n",
       "</table>\n",
       "<table class=\"simpletable\">\n",
       "<tr>\n",
       "      <td></td>         <th>coef</th>     <th>std err</th>      <th>t</th>      <th>P>|t|</th>  <th>[0.025</th>    <th>0.975]</th>  \n",
       "</tr>\n",
       "<tr>\n",
       "  <th>Intercept</th> <td>    0.0061</td> <td>    0.002</td> <td>    3.593</td> <td> 0.000</td> <td>    0.003</td> <td>    0.009</td>\n",
       "</tr>\n",
       "<tr>\n",
       "  <th>MktRF</th>     <td>   -0.1772</td> <td>    0.037</td> <td>   -4.792</td> <td> 0.000</td> <td>   -0.250</td> <td>   -0.105</td>\n",
       "</tr>\n",
       "</table>\n",
       "<table class=\"simpletable\">\n",
       "<tr>\n",
       "  <th>Omnibus:</th>       <td>218.705</td> <th>  Durbin-Watson:     </th> <td>   1.916</td>\n",
       "</tr>\n",
       "<tr>\n",
       "  <th>Prob(Omnibus):</th> <td> 0.000</td>  <th>  Jarque-Bera (JB):  </th> <td>1948.345</td>\n",
       "</tr>\n",
       "<tr>\n",
       "  <th>Skew:</th>          <td>-1.317</td>  <th>  Prob(JB):          </th> <td>    0.00</td>\n",
       "</tr>\n",
       "<tr>\n",
       "  <th>Kurtosis:</th>      <td>11.312</td>  <th>  Cond. No.          </th> <td>    22.1</td>\n",
       "</tr>\n",
       "</table><br/><br/>Notes:<br/>[1] Standard Errors assume that the covariance matrix of the errors is correctly specified."
      ],
      "text/plain": [
       "<class 'statsmodels.iolib.summary.Summary'>\n",
       "\"\"\"\n",
       "                            OLS Regression Results                            \n",
       "==============================================================================\n",
       "Dep. Variable:                    mom   R-squared:                       0.036\n",
       "Model:                            OLS   Adj. R-squared:                  0.035\n",
       "Method:                 Least Squares   F-statistic:                     22.96\n",
       "Date:                Thu, 24 Mar 2022   Prob (F-statistic):           2.08e-06\n",
       "Time:                        14:55:02   Log-Likelihood:                 1084.8\n",
       "No. Observations:                 615   AIC:                            -2166.\n",
       "Df Residuals:                     613   BIC:                            -2157.\n",
       "Df Model:                           1                                         \n",
       "Covariance Type:            nonrobust                                         \n",
       "==============================================================================\n",
       "                 coef    std err          t      P>|t|      [0.025      0.975]\n",
       "------------------------------------------------------------------------------\n",
       "Intercept      0.0061      0.002      3.593      0.000       0.003       0.009\n",
       "MktRF         -0.1772      0.037     -4.792      0.000      -0.250      -0.105\n",
       "==============================================================================\n",
       "Omnibus:                      218.705   Durbin-Watson:                   1.916\n",
       "Prob(Omnibus):                  0.000   Jarque-Bera (JB):             1948.345\n",
       "Skew:                          -1.317   Prob(JB):                         0.00\n",
       "Kurtosis:                      11.312   Cond. No.                         22.1\n",
       "==============================================================================\n",
       "\n",
       "Notes:\n",
       "[1] Standard Errors assume that the covariance matrix of the errors is correctly specified.\n",
       "\"\"\""
      ]
     },
     "execution_count": 62,
     "metadata": {},
     "output_type": "execute_result"
    }
   ],
   "source": [
    "smf.ols('mom ~ MktRF', data=ret).fit().summary()"
   ]
  },
  {
   "cell_type": "code",
   "execution_count": 63,
   "metadata": {
    "slideshow": {
     "slide_type": "subslide"
    }
   },
   "outputs": [
    {
     "data": {
      "text/html": [
       "<table class=\"simpletable\">\n",
       "<caption>OLS Regression Results</caption>\n",
       "<tr>\n",
       "  <th>Dep. Variable:</th>           <td>mom</td>       <th>  R-squared:         </th> <td>   0.103</td>\n",
       "</tr>\n",
       "<tr>\n",
       "  <th>Model:</th>                   <td>OLS</td>       <th>  Adj. R-squared:    </th> <td>   0.099</td>\n",
       "</tr>\n",
       "<tr>\n",
       "  <th>Method:</th>             <td>Least Squares</td>  <th>  F-statistic:       </th> <td>   23.47</td>\n",
       "</tr>\n",
       "<tr>\n",
       "  <th>Date:</th>             <td>Thu, 24 Mar 2022</td> <th>  Prob (F-statistic):</th> <td>2.19e-14</td>\n",
       "</tr>\n",
       "<tr>\n",
       "  <th>Time:</th>                 <td>14:55:02</td>     <th>  Log-Likelihood:    </th> <td>  1107.1</td>\n",
       "</tr>\n",
       "<tr>\n",
       "  <th>No. Observations:</th>      <td>   615</td>      <th>  AIC:               </th> <td>  -2206.</td>\n",
       "</tr>\n",
       "<tr>\n",
       "  <th>Df Residuals:</th>          <td>   611</td>      <th>  BIC:               </th> <td>  -2188.</td>\n",
       "</tr>\n",
       "<tr>\n",
       "  <th>Df Model:</th>              <td>     3</td>      <th>                     </th>     <td> </td>   \n",
       "</tr>\n",
       "<tr>\n",
       "  <th>Covariance Type:</th>      <td>nonrobust</td>    <th>                     </th>     <td> </td>   \n",
       "</tr>\n",
       "</table>\n",
       "<table class=\"simpletable\">\n",
       "<tr>\n",
       "      <td></td>         <th>coef</th>     <th>std err</th>      <th>t</th>      <th>P>|t|</th>  <th>[0.025</th>    <th>0.975]</th>  \n",
       "</tr>\n",
       "<tr>\n",
       "  <th>Intercept</th> <td>    0.0074</td> <td>    0.002</td> <td>    4.491</td> <td> 0.000</td> <td>    0.004</td> <td>    0.011</td>\n",
       "</tr>\n",
       "<tr>\n",
       "  <th>MktRF</th>     <td>   -0.2191</td> <td>    0.038</td> <td>   -5.784</td> <td> 0.000</td> <td>   -0.294</td> <td>   -0.145</td>\n",
       "</tr>\n",
       "<tr>\n",
       "  <th>SMB</th>       <td>   -0.0569</td> <td>    0.056</td> <td>   -1.023</td> <td> 0.307</td> <td>   -0.166</td> <td>    0.052</td>\n",
       "</tr>\n",
       "<tr>\n",
       "  <th>HML</th>       <td>   -0.3672</td> <td>    0.055</td> <td>   -6.624</td> <td> 0.000</td> <td>   -0.476</td> <td>   -0.258</td>\n",
       "</tr>\n",
       "</table>\n",
       "<table class=\"simpletable\">\n",
       "<tr>\n",
       "  <th>Omnibus:</th>       <td>218.081</td> <th>  Durbin-Watson:     </th> <td>   1.941</td>\n",
       "</tr>\n",
       "<tr>\n",
       "  <th>Prob(Omnibus):</th> <td> 0.000</td>  <th>  Jarque-Bera (JB):  </th> <td>1933.559</td>\n",
       "</tr>\n",
       "<tr>\n",
       "  <th>Skew:</th>          <td>-1.314</td>  <th>  Prob(JB):          </th> <td>    0.00</td>\n",
       "</tr>\n",
       "<tr>\n",
       "  <th>Kurtosis:</th>      <td>11.280</td>  <th>  Cond. No.          </th> <td>    36.6</td>\n",
       "</tr>\n",
       "</table><br/><br/>Notes:<br/>[1] Standard Errors assume that the covariance matrix of the errors is correctly specified."
      ],
      "text/plain": [
       "<class 'statsmodels.iolib.summary.Summary'>\n",
       "\"\"\"\n",
       "                            OLS Regression Results                            \n",
       "==============================================================================\n",
       "Dep. Variable:                    mom   R-squared:                       0.103\n",
       "Model:                            OLS   Adj. R-squared:                  0.099\n",
       "Method:                 Least Squares   F-statistic:                     23.47\n",
       "Date:                Thu, 24 Mar 2022   Prob (F-statistic):           2.19e-14\n",
       "Time:                        14:55:02   Log-Likelihood:                 1107.1\n",
       "No. Observations:                 615   AIC:                            -2206.\n",
       "Df Residuals:                     611   BIC:                            -2188.\n",
       "Df Model:                           3                                         \n",
       "Covariance Type:            nonrobust                                         \n",
       "==============================================================================\n",
       "                 coef    std err          t      P>|t|      [0.025      0.975]\n",
       "------------------------------------------------------------------------------\n",
       "Intercept      0.0074      0.002      4.491      0.000       0.004       0.011\n",
       "MktRF         -0.2191      0.038     -5.784      0.000      -0.294      -0.145\n",
       "SMB           -0.0569      0.056     -1.023      0.307      -0.166       0.052\n",
       "HML           -0.3672      0.055     -6.624      0.000      -0.476      -0.258\n",
       "==============================================================================\n",
       "Omnibus:                      218.081   Durbin-Watson:                   1.941\n",
       "Prob(Omnibus):                  0.000   Jarque-Bera (JB):             1933.559\n",
       "Skew:                          -1.314   Prob(JB):                         0.00\n",
       "Kurtosis:                      11.280   Cond. No.                         36.6\n",
       "==============================================================================\n",
       "\n",
       "Notes:\n",
       "[1] Standard Errors assume that the covariance matrix of the errors is correctly specified.\n",
       "\"\"\""
      ]
     },
     "execution_count": 63,
     "metadata": {},
     "output_type": "execute_result"
    }
   ],
   "source": [
    "smf.ols('mom ~ MktRF + SMB + HML', data=ret).fit().summary()"
   ]
  },
  {
   "cell_type": "code",
   "execution_count": 64,
   "metadata": {
    "slideshow": {
     "slide_type": "subslide"
    }
   },
   "outputs": [
    {
     "data": {
      "text/html": [
       "<table class=\"simpletable\">\n",
       "<caption>OLS Regression Results</caption>\n",
       "<tr>\n",
       "  <th>Dep. Variable:</th>           <td>mom</td>       <th>  R-squared:         </th> <td>   0.126</td>\n",
       "</tr>\n",
       "<tr>\n",
       "  <th>Model:</th>                   <td>OLS</td>       <th>  Adj. R-squared:    </th> <td>   0.118</td>\n",
       "</tr>\n",
       "<tr>\n",
       "  <th>Method:</th>             <td>Least Squares</td>  <th>  F-statistic:       </th> <td>   17.50</td>\n",
       "</tr>\n",
       "<tr>\n",
       "  <th>Date:</th>             <td>Thu, 24 Mar 2022</td> <th>  Prob (F-statistic):</th> <td>3.24e-16</td>\n",
       "</tr>\n",
       "<tr>\n",
       "  <th>Time:</th>                 <td>14:55:02</td>     <th>  Log-Likelihood:    </th> <td>  1114.8</td>\n",
       "</tr>\n",
       "<tr>\n",
       "  <th>No. Observations:</th>      <td>   615</td>      <th>  AIC:               </th> <td>  -2218.</td>\n",
       "</tr>\n",
       "<tr>\n",
       "  <th>Df Residuals:</th>          <td>   609</td>      <th>  BIC:               </th> <td>  -2191.</td>\n",
       "</tr>\n",
       "<tr>\n",
       "  <th>Df Model:</th>              <td>     5</td>      <th>                     </th>     <td> </td>   \n",
       "</tr>\n",
       "<tr>\n",
       "  <th>Covariance Type:</th>      <td>nonrobust</td>    <th>                     </th>     <td> </td>   \n",
       "</tr>\n",
       "</table>\n",
       "<table class=\"simpletable\">\n",
       "<tr>\n",
       "      <td></td>         <th>coef</th>     <th>std err</th>      <th>t</th>      <th>P>|t|</th>  <th>[0.025</th>    <th>0.975]</th>  \n",
       "</tr>\n",
       "<tr>\n",
       "  <th>Intercept</th> <td>    0.0057</td> <td>    0.002</td> <td>    3.395</td> <td> 0.001</td> <td>    0.002</td> <td>    0.009</td>\n",
       "</tr>\n",
       "<tr>\n",
       "  <th>MktRF</th>     <td>   -0.1682</td> <td>    0.040</td> <td>   -4.220</td> <td> 0.000</td> <td>   -0.246</td> <td>   -0.090</td>\n",
       "</tr>\n",
       "<tr>\n",
       "  <th>SMB</th>       <td>   -0.0108</td> <td>    0.059</td> <td>   -0.184</td> <td> 0.854</td> <td>   -0.126</td> <td>    0.105</td>\n",
       "</tr>\n",
       "<tr>\n",
       "  <th>HML</th>       <td>   -0.5384</td> <td>    0.073</td> <td>   -7.382</td> <td> 0.000</td> <td>   -0.682</td> <td>   -0.395</td>\n",
       "</tr>\n",
       "<tr>\n",
       "  <th>RMW</th>       <td>    0.2011</td> <td>    0.078</td> <td>    2.595</td> <td> 0.010</td> <td>    0.049</td> <td>    0.353</td>\n",
       "</tr>\n",
       "<tr>\n",
       "  <th>CMA</th>       <td>    0.3868</td> <td>    0.118</td> <td>    3.279</td> <td> 0.001</td> <td>    0.155</td> <td>    0.618</td>\n",
       "</tr>\n",
       "</table>\n",
       "<table class=\"simpletable\">\n",
       "<tr>\n",
       "  <th>Omnibus:</th>       <td>205.331</td> <th>  Durbin-Watson:     </th> <td>   1.933</td>\n",
       "</tr>\n",
       "<tr>\n",
       "  <th>Prob(Omnibus):</th> <td> 0.000</td>  <th>  Jarque-Bera (JB):  </th> <td>1723.653</td>\n",
       "</tr>\n",
       "<tr>\n",
       "  <th>Skew:</th>          <td>-1.236</td>  <th>  Prob(JB):          </th> <td>    0.00</td>\n",
       "</tr>\n",
       "<tr>\n",
       "  <th>Kurtosis:</th>      <td>10.820</td>  <th>  Cond. No.          </th> <td>    81.6</td>\n",
       "</tr>\n",
       "</table><br/><br/>Notes:<br/>[1] Standard Errors assume that the covariance matrix of the errors is correctly specified."
      ],
      "text/plain": [
       "<class 'statsmodels.iolib.summary.Summary'>\n",
       "\"\"\"\n",
       "                            OLS Regression Results                            \n",
       "==============================================================================\n",
       "Dep. Variable:                    mom   R-squared:                       0.126\n",
       "Model:                            OLS   Adj. R-squared:                  0.118\n",
       "Method:                 Least Squares   F-statistic:                     17.50\n",
       "Date:                Thu, 24 Mar 2022   Prob (F-statistic):           3.24e-16\n",
       "Time:                        14:55:02   Log-Likelihood:                 1114.8\n",
       "No. Observations:                 615   AIC:                            -2218.\n",
       "Df Residuals:                     609   BIC:                            -2191.\n",
       "Df Model:                           5                                         \n",
       "Covariance Type:            nonrobust                                         \n",
       "==============================================================================\n",
       "                 coef    std err          t      P>|t|      [0.025      0.975]\n",
       "------------------------------------------------------------------------------\n",
       "Intercept      0.0057      0.002      3.395      0.001       0.002       0.009\n",
       "MktRF         -0.1682      0.040     -4.220      0.000      -0.246      -0.090\n",
       "SMB           -0.0108      0.059     -0.184      0.854      -0.126       0.105\n",
       "HML           -0.5384      0.073     -7.382      0.000      -0.682      -0.395\n",
       "RMW            0.2011      0.078      2.595      0.010       0.049       0.353\n",
       "CMA            0.3868      0.118      3.279      0.001       0.155       0.618\n",
       "==============================================================================\n",
       "Omnibus:                      205.331   Durbin-Watson:                   1.933\n",
       "Prob(Omnibus):                  0.000   Jarque-Bera (JB):             1723.653\n",
       "Skew:                          -1.236   Prob(JB):                         0.00\n",
       "Kurtosis:                      10.820   Cond. No.                         81.6\n",
       "==============================================================================\n",
       "\n",
       "Notes:\n",
       "[1] Standard Errors assume that the covariance matrix of the errors is correctly specified.\n",
       "\"\"\""
      ]
     },
     "execution_count": 64,
     "metadata": {},
     "output_type": "execute_result"
    }
   ],
   "source": [
    "smf.ols('mom ~ MktRF + SMB + HML + RMW + CMA', data=ret).fit().summary()"
   ]
  },
  {
   "cell_type": "markdown",
   "metadata": {
    "slideshow": {
     "slide_type": "slide"
    }
   },
   "source": [
    "## Should we add Reversal to our portfolio?"
   ]
  },
  {
   "cell_type": "code",
   "execution_count": 65,
   "metadata": {
    "slideshow": {
     "slide_type": "subslide"
    }
   },
   "outputs": [
    {
     "data": {
      "text/html": [
       "<table class=\"simpletable\">\n",
       "<caption>OLS Regression Results</caption>\n",
       "<tr>\n",
       "  <th>Dep. Variable:</th>           <td>rev</td>       <th>  R-squared:         </th> <td>   0.183</td>\n",
       "</tr>\n",
       "<tr>\n",
       "  <th>Model:</th>                   <td>OLS</td>       <th>  Adj. R-squared:    </th> <td>   0.175</td>\n",
       "</tr>\n",
       "<tr>\n",
       "  <th>Method:</th>             <td>Least Squares</td>  <th>  F-statistic:       </th> <td>   22.68</td>\n",
       "</tr>\n",
       "<tr>\n",
       "  <th>Date:</th>             <td>Thu, 24 Mar 2022</td> <th>  Prob (F-statistic):</th> <td>3.48e-24</td>\n",
       "</tr>\n",
       "<tr>\n",
       "  <th>Time:</th>                 <td>14:55:02</td>     <th>  Log-Likelihood:    </th> <td>  1296.2</td>\n",
       "</tr>\n",
       "<tr>\n",
       "  <th>No. Observations:</th>      <td>   615</td>      <th>  AIC:               </th> <td>  -2578.</td>\n",
       "</tr>\n",
       "<tr>\n",
       "  <th>Df Residuals:</th>          <td>   608</td>      <th>  BIC:               </th> <td>  -2547.</td>\n",
       "</tr>\n",
       "<tr>\n",
       "  <th>Df Model:</th>              <td>     6</td>      <th>                     </th>     <td> </td>   \n",
       "</tr>\n",
       "<tr>\n",
       "  <th>Covariance Type:</th>      <td>nonrobust</td>    <th>                     </th>     <td> </td>   \n",
       "</tr>\n",
       "</table>\n",
       "<table class=\"simpletable\">\n",
       "<tr>\n",
       "      <td></td>         <th>coef</th>     <th>std err</th>      <th>t</th>      <th>P>|t|</th>  <th>[0.025</th>    <th>0.975]</th>  \n",
       "</tr>\n",
       "<tr>\n",
       "  <th>Intercept</th> <td>   -0.0047</td> <td>    0.001</td> <td>   -3.738</td> <td> 0.000</td> <td>   -0.007</td> <td>   -0.002</td>\n",
       "</tr>\n",
       "<tr>\n",
       "  <th>MktRF</th>     <td>   -0.1665</td> <td>    0.030</td> <td>   -5.527</td> <td> 0.000</td> <td>   -0.226</td> <td>   -0.107</td>\n",
       "</tr>\n",
       "<tr>\n",
       "  <th>SMB</th>       <td>   -0.1117</td> <td>    0.044</td> <td>   -2.549</td> <td> 0.011</td> <td>   -0.198</td> <td>   -0.026</td>\n",
       "</tr>\n",
       "<tr>\n",
       "  <th>HML</th>       <td>   -0.1252</td> <td>    0.057</td> <td>   -2.207</td> <td> 0.028</td> <td>   -0.237</td> <td>   -0.014</td>\n",
       "</tr>\n",
       "<tr>\n",
       "  <th>RMW</th>       <td>    0.0106</td> <td>    0.058</td> <td>    0.183</td> <td> 0.855</td> <td>   -0.103</td> <td>    0.125</td>\n",
       "</tr>\n",
       "<tr>\n",
       "  <th>CMA</th>       <td>    0.1620</td> <td>    0.089</td> <td>    1.827</td> <td> 0.068</td> <td>   -0.012</td> <td>    0.336</td>\n",
       "</tr>\n",
       "<tr>\n",
       "  <th>mom</th>       <td>    0.1799</td> <td>    0.030</td> <td>    5.957</td> <td> 0.000</td> <td>    0.121</td> <td>    0.239</td>\n",
       "</tr>\n",
       "</table>\n",
       "<table class=\"simpletable\">\n",
       "<tr>\n",
       "  <th>Omnibus:</th>       <td>87.581</td> <th>  Durbin-Watson:     </th> <td>   2.058</td> \n",
       "</tr>\n",
       "<tr>\n",
       "  <th>Prob(Omnibus):</th> <td> 0.000</td> <th>  Jarque-Bera (JB):  </th> <td> 941.274</td> \n",
       "</tr>\n",
       "<tr>\n",
       "  <th>Skew:</th>          <td>-0.085</td> <th>  Prob(JB):          </th> <td>4.03e-205</td>\n",
       "</tr>\n",
       "<tr>\n",
       "  <th>Kurtosis:</th>      <td> 9.058</td> <th>  Cond. No.          </th> <td>    83.1</td> \n",
       "</tr>\n",
       "</table><br/><br/>Notes:<br/>[1] Standard Errors assume that the covariance matrix of the errors is correctly specified."
      ],
      "text/plain": [
       "<class 'statsmodels.iolib.summary.Summary'>\n",
       "\"\"\"\n",
       "                            OLS Regression Results                            \n",
       "==============================================================================\n",
       "Dep. Variable:                    rev   R-squared:                       0.183\n",
       "Model:                            OLS   Adj. R-squared:                  0.175\n",
       "Method:                 Least Squares   F-statistic:                     22.68\n",
       "Date:                Thu, 24 Mar 2022   Prob (F-statistic):           3.48e-24\n",
       "Time:                        14:55:02   Log-Likelihood:                 1296.2\n",
       "No. Observations:                 615   AIC:                            -2578.\n",
       "Df Residuals:                     608   BIC:                            -2547.\n",
       "Df Model:                           6                                         \n",
       "Covariance Type:            nonrobust                                         \n",
       "==============================================================================\n",
       "                 coef    std err          t      P>|t|      [0.025      0.975]\n",
       "------------------------------------------------------------------------------\n",
       "Intercept     -0.0047      0.001     -3.738      0.000      -0.007      -0.002\n",
       "MktRF         -0.1665      0.030     -5.527      0.000      -0.226      -0.107\n",
       "SMB           -0.1117      0.044     -2.549      0.011      -0.198      -0.026\n",
       "HML           -0.1252      0.057     -2.207      0.028      -0.237      -0.014\n",
       "RMW            0.0106      0.058      0.183      0.855      -0.103       0.125\n",
       "CMA            0.1620      0.089      1.827      0.068      -0.012       0.336\n",
       "mom            0.1799      0.030      5.957      0.000       0.121       0.239\n",
       "==============================================================================\n",
       "Omnibus:                       87.581   Durbin-Watson:                   2.058\n",
       "Prob(Omnibus):                  0.000   Jarque-Bera (JB):              941.274\n",
       "Skew:                          -0.085   Prob(JB):                    4.03e-205\n",
       "Kurtosis:                       9.058   Cond. No.                         83.1\n",
       "==============================================================================\n",
       "\n",
       "Notes:\n",
       "[1] Standard Errors assume that the covariance matrix of the errors is correctly specified.\n",
       "\"\"\""
      ]
     },
     "execution_count": 65,
     "metadata": {},
     "output_type": "execute_result"
    }
   ],
   "source": [
    "smf.ols('rev ~ MktRF + SMB + HML + RMW + CMA + mom', data=ret).fit().summary()"
   ]
  },
  {
   "cell_type": "code",
   "execution_count": 66,
   "metadata": {
    "slideshow": {
     "slide_type": "subslide"
    }
   },
   "outputs": [],
   "source": [
    "ret.drop(columns='mdate', inplace = True)"
   ]
  },
  {
   "cell_type": "code",
   "execution_count": 67,
   "metadata": {},
   "outputs": [
    {
     "data": {
      "text/plain": [
       "<AxesSubplot:xlabel='date'>"
      ]
     },
     "execution_count": 67,
     "metadata": {},
     "output_type": "execute_result"
    },
    {
     "data": {
      "image/png": "[encoded data removed]",
      "text/plain": [
       "<Figure size 720x432 with 1 Axes>"
      ]
     },
     "metadata": {
      "needs_background": "light"
     },
     "output_type": "display_data"
    }
   ],
   "source": [
    "np.log(1+ret).cumsum().plot()"
   ]
  },
  {
   "cell_type": "markdown",
   "metadata": {
    "slideshow": {
     "slide_type": "slide"
    }
   },
   "source": [
    "## Optimal Portfolio"
   ]
  },
  {
   "cell_type": "markdown",
   "metadata": {
    "slideshow": {
     "slide_type": "fragment"
    }
   },
   "source": [
    "Consider mean-variance preferences:\n",
    "\n",
    "$$ \\max_{\\phi}\\; (\\mu-R_f\\iota)'\\phi - \\frac{1}{2}\\alpha\\phi'\\Sigma\\phi $$\n",
    "\n",
    "FOC:\n",
    "\n",
    "$$ \\phi = \\frac{1}{\\alpha}\\Sigma^{-1}(\\mu-R_f\\iota) $$"
   ]
  },
  {
   "cell_type": "code",
   "execution_count": 68,
   "metadata": {
    "slideshow": {
     "slide_type": "subslide"
    }
   },
   "outputs": [],
   "source": [
    "rcov = ret[['MktRF', 'SMB', 'HML', 'RMW', 'CMA']].cov()"
   ]
  },
  {
   "cell_type": "code",
   "execution_count": 69,
   "metadata": {
    "slideshow": {
     "slide_type": "-"
    }
   },
   "outputs": [
    {
     "data": {
      "text/html": [
       "<div>\n",
       "<style scoped>\n",
       "    .dataframe tbody tr th:only-of-type {\n",
       "        vertical-align: middle;\n",
       "    }\n",
       "\n",
       "    .dataframe tbody tr th {\n",
       "        vertical-align: top;\n",
       "    }\n",
       "\n",
       "    .dataframe thead th {\n",
       "        text-align: right;\n",
       "    }\n",
       "</style>\n",
       "<table border=\"1\" class=\"dataframe\">\n",
       "  <thead>\n",
       "    <tr style=\"text-align: right;\">\n",
       "      <th></th>\n",
       "      <th>MktRF</th>\n",
       "      <th>SMB</th>\n",
       "      <th>HML</th>\n",
       "      <th>RMW</th>\n",
       "      <th>CMA</th>\n",
       "    </tr>\n",
       "  </thead>\n",
       "  <tbody>\n",
       "    <tr>\n",
       "      <th>MktRF</th>\n",
       "      <td>0.002054</td>\n",
       "      <td>0.000350</td>\n",
       "      <td>-0.000289</td>\n",
       "      <td>-0.000222</td>\n",
       "      <td>-0.000325</td>\n",
       "    </tr>\n",
       "    <tr>\n",
       "      <th>SMB</th>\n",
       "      <td>0.000350</td>\n",
       "      <td>0.000911</td>\n",
       "      <td>-0.000002</td>\n",
       "      <td>-0.000264</td>\n",
       "      <td>-0.000019</td>\n",
       "    </tr>\n",
       "    <tr>\n",
       "      <th>HML</th>\n",
       "      <td>-0.000289</td>\n",
       "      <td>-0.000002</td>\n",
       "      <td>0.000897</td>\n",
       "      <td>0.000096</td>\n",
       "      <td>0.000386</td>\n",
       "    </tr>\n",
       "    <tr>\n",
       "      <th>RMW</th>\n",
       "      <td>-0.000222</td>\n",
       "      <td>-0.000264</td>\n",
       "      <td>0.000096</td>\n",
       "      <td>0.000525</td>\n",
       "      <td>0.000019</td>\n",
       "    </tr>\n",
       "    <tr>\n",
       "      <th>CMA</th>\n",
       "      <td>-0.000325</td>\n",
       "      <td>-0.000019</td>\n",
       "      <td>0.000386</td>\n",
       "      <td>0.000019</td>\n",
       "      <td>0.000374</td>\n",
       "    </tr>\n",
       "  </tbody>\n",
       "</table>\n",
       "</div>"
      ],
      "text/plain": [
       "          MktRF       SMB       HML       RMW       CMA\n",
       "MktRF  0.002054  0.000350 -0.000289 -0.000222 -0.000325\n",
       "SMB    0.000350  0.000911 -0.000002 -0.000264 -0.000019\n",
       "HML   -0.000289 -0.000002  0.000897  0.000096  0.000386\n",
       "RMW   -0.000222 -0.000264  0.000096  0.000525  0.000019\n",
       "CMA   -0.000325 -0.000019  0.000386  0.000019  0.000374"
      ]
     },
     "execution_count": 69,
     "metadata": {},
     "output_type": "execute_result"
    }
   ],
   "source": [
    "rcov"
   ]
  },
  {
   "cell_type": "code",
   "execution_count": 70,
   "metadata": {
    "scrolled": true,
    "slideshow": {
     "slide_type": "-"
    }
   },
   "outputs": [
    {
     "data": {
      "text/plain": [
       "MktRF    0.006449\n",
       "SMB      0.001699\n",
       "HML      0.002573\n",
       "RMW      0.003120\n",
       "CMA      0.002797\n",
       "dtype: float64"
      ]
     },
     "execution_count": 70,
     "metadata": {},
     "output_type": "execute_result"
    }
   ],
   "source": [
    "ret[['MktRF', 'SMB', 'HML', 'RMW', 'CMA']].mean()"
   ]
  },
  {
   "cell_type": "markdown",
   "metadata": {
    "slideshow": {
     "slide_type": "slide"
    }
   },
   "source": [
    "## Other Datasets to Explore"
   ]
  },
  {
   "cell_type": "markdown",
   "metadata": {
    "slideshow": {
     "slide_type": "fragment"
    }
   },
   "source": [
    "* Capital IQ\n",
    "* FactSet\n",
    "* Orbis / Amadeus\n",
    "* Compustat Global\n",
    "* Mergent FISD\n",
    "* Bond Returns by WRDS"
   ]
  }
 ],
 "metadata": {
  "celltoolbar": "Slideshow",
  "kernelspec": {
   "display_name": "Python 3 (ipykernel)",
   "language": "python",
   "name": "python3"
  },
  "language_info": {
   "codemirror_mode": {
    "name": "ipython",
    "version": 3
   },
   "file_extension": ".py",
   "mimetype": "text/x-python",
   "name": "python",
   "nbconvert_exporter": "python",
   "pygments_lexer": "ipython3",
   "version": "3.8.12"
  },
  "toc": {
   "base_numbering": 1,
   "nav_menu": {},
   "number_sections": true,
   "sideBar": true,
   "skip_h1_title": true,
   "title_cell": "Table of Contents",
   "title_sidebar": "Contents",
   "toc_cell": true,
   "toc_position": {},
   "toc_section_display": true,
   "toc_window_display": false
  }
 },
 "nbformat": 4,
 "nbformat_minor": 4
}
