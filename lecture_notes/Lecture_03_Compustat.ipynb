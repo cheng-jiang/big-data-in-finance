{
 "cells": [
  {
   "cell_type": "markdown",
   "metadata": {
    "slideshow": {
     "slide_type": "skip"
    },
    "toc": true
   },
   "source": [
    "<h1>Table of Contents<span class=\"tocSkip\"></span></h1>\n",
    "<div class=\"toc\"><ul class=\"toc-item\"><li><span><a href=\"#Compustat\" data-toc-modified-id=\"Compustat-1\"><span class=\"toc-item-num\">1&nbsp;&nbsp;</span>Compustat</a></span></li><li><span><a href=\"#How-is-the-fundamentals-data-organized?\" data-toc-modified-id=\"How-is-the-fundamentals-data-organized?-2\"><span class=\"toc-item-num\">2&nbsp;&nbsp;</span>How is the fundamentals data organized?</a></span><ul class=\"toc-item\"><li><span><a href=\"#All-tables-in-comp\" data-toc-modified-id=\"All-tables-in-comp-2.1\"><span class=\"toc-item-num\">2.1&nbsp;&nbsp;</span>All tables in comp</a></span></li><li><span><a href=\"#All-variables-in-comp.funda\" data-toc-modified-id=\"All-variables-in-comp.funda-2.2\"><span class=\"toc-item-num\">2.2&nbsp;&nbsp;</span>All variables in comp.funda</a></span><ul class=\"toc-item\"><li><span><a href=\"#Where-to-check-variable-definitions?\" data-toc-modified-id=\"Where-to-check-variable-definitions?-2.2.1\"><span class=\"toc-item-num\">2.2.1&nbsp;&nbsp;</span>Where to check variable definitions?</a></span></li></ul></li></ul></li><li><span><a href=\"#Primary-Keys\" data-toc-modified-id=\"Primary-Keys-3\"><span class=\"toc-item-num\">3&nbsp;&nbsp;</span>Primary Keys</a></span></li><li><span><a href=\"#Book-Equity\" data-toc-modified-id=\"Book-Equity-4\"><span class=\"toc-item-num\">4&nbsp;&nbsp;</span>Book Equity</a></span></li><li><span><a href=\"#Operating-Profitability-(OPBE)\" data-toc-modified-id=\"Operating-Profitability-(OPBE)-5\"><span class=\"toc-item-num\">5&nbsp;&nbsp;</span>Operating Profitability (OPBE)</a></span></li><li><span><a href=\"#Investment-(INV)\" data-toc-modified-id=\"Investment-(INV)-6\"><span class=\"toc-item-num\">6&nbsp;&nbsp;</span>Investment (INV)</a></span></li></ul></div>"
   ]
  },
  {
   "cell_type": "markdown",
   "metadata": {
    "slideshow": {
     "slide_type": "slide"
    }
   },
   "source": [
    "# Big Data in Finance: Part II <BR><BR> Lecture 3: Compustat \n",
    "    \n",
    "**Instructor** <BR>\n",
    "Ritt Keerati, ritt.keerati@gsb.columbia.edu\n",
    "    \n",
    "**TA's:** <BR>\n",
    "Meha Sadasivam, MSadasivam21@gsb.columbia.edu <BR>\n",
    "Daheng Yang, dyang22@gsb.columbia.edu<BR>\n",
    "\n",
    "\n",
    "<sub> Credit: lecture notes originally developed by Lira Mota"
   ]
  },
  {
   "cell_type": "markdown",
   "metadata": {
    "slideshow": {
     "slide_type": "slide"
    }
   },
   "source": [
    "## Compustat\n",
    "\n",
    "In this section we are going to:\n",
    "1. Download a set of US firm's annual fundamentals;\n",
    "2. Understand how the data is organized:\n",
    "    1. Primary keys;\n",
    "    2. Secondary keys;\n",
    "    3. Data frequency;\n",
    "    4. Others.        \n",
    "2. Clean the data;\n",
    "3. Construct important variables:\n",
    "    1. Book Equity Value\n",
    "    2. Asset Growth\n",
    "    3. Operational Profitability"
   ]
  },
  {
   "cell_type": "markdown",
   "metadata": {
    "slideshow": {
     "slide_type": "slide"
    }
   },
   "source": [
    "## How is the fundamentals data organized?\n",
    "\n",
    "* We can display all tables in \"comp\" library\n",
    "* We are going to focus on the \"funda\" table: annual fundamentals\n",
    "* Others that are interesting to know: \"namesd\""
   ]
  },
  {
   "cell_type": "markdown",
   "metadata": {
    "slideshow": {
     "slide_type": "slide"
    }
   },
   "source": [
    "# Setup"
   ]
  },
  {
   "cell_type": "code",
   "execution_count": 1,
   "metadata": {
    "slideshow": {
     "slide_type": "-"
    }
   },
   "outputs": [],
   "source": [
    "%matplotlib inline \n",
    "\n",
    "# Packages \n",
    "import wrds\n",
    "import datetime\n",
    "import pandas as pd\n",
    "import numpy as np\n",
    "import matplotlib.pyplot as plt\n",
    "\n",
    "import time\n",
    "from time import strptime, strftime\n",
    "\n",
    "# Setups\n",
    "plt.rcParams['figure.figsize'] = [10, 6]\n",
    "pd.set_option(\"display.max_rows\", 100) # max number or rows to be displayed "
   ]
  },
  {
   "cell_type": "code",
   "execution_count": 2,
   "metadata": {
    "slideshow": {
     "slide_type": "subslide"
    }
   },
   "outputs": [
    {
     "name": "stdout",
     "output_type": "stream",
     "text": [
      "Loading library list...\n",
      "Done\n"
     ]
    }
   ],
   "source": [
    "# Set WRDS Connection\n",
    "db = wrds.Connection(wrds_username='rkeerati') # make sure to configure wrds connector before hand."
   ]
  },
  {
   "cell_type": "markdown",
   "metadata": {
    "slideshow": {
     "slide_type": "subslide"
    }
   },
   "source": [
    "### All tables in comp"
   ]
  },
  {
   "cell_type": "code",
   "execution_count": 3,
   "metadata": {
    "slideshow": {
     "slide_type": "fragment"
    }
   },
   "outputs": [],
   "source": [
    "comp_tables = db.list_tables(library=\"comp\")"
   ]
  },
  {
   "cell_type": "code",
   "execution_count": 4,
   "metadata": {
    "slideshow": {
     "slide_type": "fragment"
    }
   },
   "outputs": [
    {
     "data": {
      "text/html": [
       "<div>\n",
       "<style scoped>\n",
       "    .dataframe tbody tr th:only-of-type {\n",
       "        vertical-align: middle;\n",
       "    }\n",
       "\n",
       "    .dataframe tbody tr th {\n",
       "        vertical-align: top;\n",
       "    }\n",
       "\n",
       "    .dataframe thead th {\n",
       "        text-align: right;\n",
       "    }\n",
       "</style>\n",
       "<table border=\"1\" class=\"dataframe\">\n",
       "  <thead>\n",
       "    <tr style=\"text-align: right;\">\n",
       "      <th></th>\n",
       "      <th>tables</th>\n",
       "    </tr>\n",
       "  </thead>\n",
       "  <tbody>\n",
       "    <tr>\n",
       "      <th>0</th>\n",
       "      <td>aco_amda</td>\n",
       "    </tr>\n",
       "    <tr>\n",
       "      <th>1</th>\n",
       "      <td>aco_imda</td>\n",
       "    </tr>\n",
       "    <tr>\n",
       "      <th>2</th>\n",
       "      <td>aco_indfnta</td>\n",
       "    </tr>\n",
       "    <tr>\n",
       "      <th>3</th>\n",
       "      <td>aco_indfntq</td>\n",
       "    </tr>\n",
       "    <tr>\n",
       "      <th>4</th>\n",
       "      <td>aco_indfntytd</td>\n",
       "    </tr>\n",
       "    <tr>\n",
       "      <th>5</th>\n",
       "      <td>aco_indsta</td>\n",
       "    </tr>\n",
       "    <tr>\n",
       "      <th>6</th>\n",
       "      <td>aco_indstq</td>\n",
       "    </tr>\n",
       "    <tr>\n",
       "      <th>7</th>\n",
       "      <td>aco_indstytd</td>\n",
       "    </tr>\n",
       "    <tr>\n",
       "      <th>8</th>\n",
       "      <td>aco_notesa</td>\n",
       "    </tr>\n",
       "    <tr>\n",
       "      <th>9</th>\n",
       "      <td>aco_notesq</td>\n",
       "    </tr>\n",
       "    <tr>\n",
       "      <th>10</th>\n",
       "      <td>aco_notessa</td>\n",
       "    </tr>\n",
       "    <tr>\n",
       "      <th>11</th>\n",
       "      <td>aco_notesytd</td>\n",
       "    </tr>\n",
       "    <tr>\n",
       "      <th>12</th>\n",
       "      <td>aco_pnfnda</td>\n",
       "    </tr>\n",
       "    <tr>\n",
       "      <th>13</th>\n",
       "      <td>aco_pnfndq</td>\n",
       "    </tr>\n",
       "    <tr>\n",
       "      <th>14</th>\n",
       "      <td>aco_pnfndytd</td>\n",
       "    </tr>\n",
       "    <tr>\n",
       "      <th>15</th>\n",
       "      <td>aco_pnfnta</td>\n",
       "    </tr>\n",
       "    <tr>\n",
       "      <th>16</th>\n",
       "      <td>aco_pnfntq</td>\n",
       "    </tr>\n",
       "    <tr>\n",
       "      <th>17</th>\n",
       "      <td>aco_pnfntytd</td>\n",
       "    </tr>\n",
       "    <tr>\n",
       "      <th>18</th>\n",
       "      <td>aco_transa</td>\n",
       "    </tr>\n",
       "    <tr>\n",
       "      <th>19</th>\n",
       "      <td>aco_transq</td>\n",
       "    </tr>\n",
       "    <tr>\n",
       "      <th>20</th>\n",
       "      <td>aco_transsa</td>\n",
       "    </tr>\n",
       "    <tr>\n",
       "      <th>21</th>\n",
       "      <td>aco_transytd</td>\n",
       "    </tr>\n",
       "    <tr>\n",
       "      <th>22</th>\n",
       "      <td>adsprate</td>\n",
       "    </tr>\n",
       "    <tr>\n",
       "      <th>23</th>\n",
       "      <td>asec_amda</td>\n",
       "    </tr>\n",
       "    <tr>\n",
       "      <th>24</th>\n",
       "      <td>asec_imda</td>\n",
       "    </tr>\n",
       "    <tr>\n",
       "      <th>25</th>\n",
       "      <td>asec_notesa</td>\n",
       "    </tr>\n",
       "    <tr>\n",
       "      <th>26</th>\n",
       "      <td>asec_notesq</td>\n",
       "    </tr>\n",
       "    <tr>\n",
       "      <th>27</th>\n",
       "      <td>asec_transa</td>\n",
       "    </tr>\n",
       "    <tr>\n",
       "      <th>28</th>\n",
       "      <td>asec_transq</td>\n",
       "    </tr>\n",
       "    <tr>\n",
       "      <th>29</th>\n",
       "      <td>bank_aacctchg</td>\n",
       "    </tr>\n",
       "    <tr>\n",
       "      <th>30</th>\n",
       "      <td>bank_adesind</td>\n",
       "    </tr>\n",
       "    <tr>\n",
       "      <th>31</th>\n",
       "      <td>bank_afnd1</td>\n",
       "    </tr>\n",
       "    <tr>\n",
       "      <th>32</th>\n",
       "      <td>bank_afnd2</td>\n",
       "    </tr>\n",
       "    <tr>\n",
       "      <th>33</th>\n",
       "      <td>bank_afnddc1</td>\n",
       "    </tr>\n",
       "    <tr>\n",
       "      <th>34</th>\n",
       "      <td>bank_afnddc2</td>\n",
       "    </tr>\n",
       "    <tr>\n",
       "      <th>35</th>\n",
       "      <td>bank_afntind</td>\n",
       "    </tr>\n",
       "    <tr>\n",
       "      <th>36</th>\n",
       "      <td>bank_funda</td>\n",
       "    </tr>\n",
       "    <tr>\n",
       "      <th>37</th>\n",
       "      <td>bank_funda_fncd</td>\n",
       "    </tr>\n",
       "    <tr>\n",
       "      <th>38</th>\n",
       "      <td>bank_fundq</td>\n",
       "    </tr>\n",
       "    <tr>\n",
       "      <th>39</th>\n",
       "      <td>bank_fundq_fncd</td>\n",
       "    </tr>\n",
       "    <tr>\n",
       "      <th>40</th>\n",
       "      <td>bank_iacctchg</td>\n",
       "    </tr>\n",
       "    <tr>\n",
       "      <th>41</th>\n",
       "      <td>bank_idesind</td>\n",
       "    </tr>\n",
       "    <tr>\n",
       "      <th>42</th>\n",
       "      <td>bank_ifndq</td>\n",
       "    </tr>\n",
       "    <tr>\n",
       "      <th>43</th>\n",
       "      <td>bank_ifndytd</td>\n",
       "    </tr>\n",
       "    <tr>\n",
       "      <th>44</th>\n",
       "      <td>bank_ifntq</td>\n",
       "    </tr>\n",
       "    <tr>\n",
       "      <th>45</th>\n",
       "      <td>bank_ifntytd</td>\n",
       "    </tr>\n",
       "    <tr>\n",
       "      <th>46</th>\n",
       "      <td>bank_names</td>\n",
       "    </tr>\n",
       "    <tr>\n",
       "      <th>47</th>\n",
       "      <td>bank_namesq</td>\n",
       "    </tr>\n",
       "    <tr>\n",
       "      <th>48</th>\n",
       "      <td>chars</td>\n",
       "    </tr>\n",
       "    <tr>\n",
       "      <th>49</th>\n",
       "      <td>co_aacctchg</td>\n",
       "    </tr>\n",
       "    <tr>\n",
       "      <th>50</th>\n",
       "      <td>co_aaudit</td>\n",
       "    </tr>\n",
       "    <tr>\n",
       "      <th>51</th>\n",
       "      <td>co_adesind</td>\n",
       "    </tr>\n",
       "    <tr>\n",
       "      <th>52</th>\n",
       "      <td>co_adjfact</td>\n",
       "    </tr>\n",
       "    <tr>\n",
       "      <th>53</th>\n",
       "      <td>co_afnd1</td>\n",
       "    </tr>\n",
       "    <tr>\n",
       "      <th>54</th>\n",
       "      <td>co_afnd2</td>\n",
       "    </tr>\n",
       "    <tr>\n",
       "      <th>55</th>\n",
       "      <td>co_afnddc1</td>\n",
       "    </tr>\n",
       "    <tr>\n",
       "      <th>56</th>\n",
       "      <td>co_afnddc2</td>\n",
       "    </tr>\n",
       "    <tr>\n",
       "      <th>57</th>\n",
       "      <td>co_afntind1</td>\n",
       "    </tr>\n",
       "    <tr>\n",
       "      <th>58</th>\n",
       "      <td>co_afntind2</td>\n",
       "    </tr>\n",
       "    <tr>\n",
       "      <th>59</th>\n",
       "      <td>co_ainvval</td>\n",
       "    </tr>\n",
       "    <tr>\n",
       "      <th>60</th>\n",
       "      <td>co_amkt</td>\n",
       "    </tr>\n",
       "    <tr>\n",
       "      <th>61</th>\n",
       "      <td>co_busdescl</td>\n",
       "    </tr>\n",
       "    <tr>\n",
       "      <th>62</th>\n",
       "      <td>co_cotype</td>\n",
       "    </tr>\n",
       "    <tr>\n",
       "      <th>63</th>\n",
       "      <td>co_filedate</td>\n",
       "    </tr>\n",
       "    <tr>\n",
       "      <th>64</th>\n",
       "      <td>co_fortune</td>\n",
       "    </tr>\n",
       "    <tr>\n",
       "      <th>65</th>\n",
       "      <td>co_hgic</td>\n",
       "    </tr>\n",
       "    <tr>\n",
       "      <th>66</th>\n",
       "      <td>co_iacctchg</td>\n",
       "    </tr>\n",
       "    <tr>\n",
       "      <th>67</th>\n",
       "      <td>co_iaudit</td>\n",
       "    </tr>\n",
       "    <tr>\n",
       "      <th>68</th>\n",
       "      <td>co_idesind</td>\n",
       "    </tr>\n",
       "    <tr>\n",
       "      <th>69</th>\n",
       "      <td>co_ifndq</td>\n",
       "    </tr>\n",
       "    <tr>\n",
       "      <th>70</th>\n",
       "      <td>co_ifndsa</td>\n",
       "    </tr>\n",
       "    <tr>\n",
       "      <th>71</th>\n",
       "      <td>co_ifndytd</td>\n",
       "    </tr>\n",
       "    <tr>\n",
       "      <th>72</th>\n",
       "      <td>co_ifntq</td>\n",
       "    </tr>\n",
       "    <tr>\n",
       "      <th>73</th>\n",
       "      <td>co_ifntsa</td>\n",
       "    </tr>\n",
       "    <tr>\n",
       "      <th>74</th>\n",
       "      <td>co_ifntytd</td>\n",
       "    </tr>\n",
       "    <tr>\n",
       "      <th>75</th>\n",
       "      <td>co_imkt</td>\n",
       "    </tr>\n",
       "    <tr>\n",
       "      <th>76</th>\n",
       "      <td>co_industry</td>\n",
       "    </tr>\n",
       "    <tr>\n",
       "      <th>77</th>\n",
       "      <td>co_ipcd</td>\n",
       "    </tr>\n",
       "    <tr>\n",
       "      <th>78</th>\n",
       "      <td>co_mthly</td>\n",
       "    </tr>\n",
       "    <tr>\n",
       "      <th>79</th>\n",
       "      <td>co_offtitl</td>\n",
       "    </tr>\n",
       "    <tr>\n",
       "      <th>80</th>\n",
       "      <td>company</td>\n",
       "    </tr>\n",
       "    <tr>\n",
       "      <th>81</th>\n",
       "      <td>currency</td>\n",
       "    </tr>\n",
       "    <tr>\n",
       "      <th>82</th>\n",
       "      <td>dd_group</td>\n",
       "    </tr>\n",
       "    <tr>\n",
       "      <th>83</th>\n",
       "      <td>dd_group_xref</td>\n",
       "    </tr>\n",
       "    <tr>\n",
       "      <th>84</th>\n",
       "      <td>dd_item</td>\n",
       "    </tr>\n",
       "    <tr>\n",
       "      <th>85</th>\n",
       "      <td>dd_package</td>\n",
       "    </tr>\n",
       "    <tr>\n",
       "      <th>86</th>\n",
       "      <td>ecind_desc</td>\n",
       "    </tr>\n",
       "    <tr>\n",
       "      <th>87</th>\n",
       "      <td>ecind_mth</td>\n",
       "    </tr>\n",
       "    <tr>\n",
       "      <th>88</th>\n",
       "      <td>exrt_dly</td>\n",
       "    </tr>\n",
       "    <tr>\n",
       "      <th>89</th>\n",
       "      <td>exrt_mth</td>\n",
       "    </tr>\n",
       "    <tr>\n",
       "      <th>90</th>\n",
       "      <td>filings</td>\n",
       "    </tr>\n",
       "    <tr>\n",
       "      <th>91</th>\n",
       "      <td>funda</td>\n",
       "    </tr>\n",
       "    <tr>\n",
       "      <th>92</th>\n",
       "      <td>funda_fncd</td>\n",
       "    </tr>\n",
       "    <tr>\n",
       "      <th>93</th>\n",
       "      <td>fundq</td>\n",
       "    </tr>\n",
       "    <tr>\n",
       "      <th>94</th>\n",
       "      <td>fundq_fncd</td>\n",
       "    </tr>\n",
       "    <tr>\n",
       "      <th>95</th>\n",
       "      <td>g_chars</td>\n",
       "    </tr>\n",
       "    <tr>\n",
       "      <th>96</th>\n",
       "      <td>g_co_aaudit</td>\n",
       "    </tr>\n",
       "    <tr>\n",
       "      <th>97</th>\n",
       "      <td>g_co_adesind</td>\n",
       "    </tr>\n",
       "    <tr>\n",
       "      <th>98</th>\n",
       "      <td>g_co_afnd1</td>\n",
       "    </tr>\n",
       "    <tr>\n",
       "      <th>99</th>\n",
       "      <td>g_co_afnd2</td>\n",
       "    </tr>\n",
       "  </tbody>\n",
       "</table>\n",
       "</div>"
      ],
      "text/plain": [
       "             tables\n",
       "0          aco_amda\n",
       "1          aco_imda\n",
       "2       aco_indfnta\n",
       "3       aco_indfntq\n",
       "4     aco_indfntytd\n",
       "5        aco_indsta\n",
       "6        aco_indstq\n",
       "7      aco_indstytd\n",
       "8        aco_notesa\n",
       "9        aco_notesq\n",
       "10      aco_notessa\n",
       "11     aco_notesytd\n",
       "12       aco_pnfnda\n",
       "13       aco_pnfndq\n",
       "14     aco_pnfndytd\n",
       "15       aco_pnfnta\n",
       "16       aco_pnfntq\n",
       "17     aco_pnfntytd\n",
       "18       aco_transa\n",
       "19       aco_transq\n",
       "20      aco_transsa\n",
       "21     aco_transytd\n",
       "22         adsprate\n",
       "23        asec_amda\n",
       "24        asec_imda\n",
       "25      asec_notesa\n",
       "26      asec_notesq\n",
       "27      asec_transa\n",
       "28      asec_transq\n",
       "29    bank_aacctchg\n",
       "30     bank_adesind\n",
       "31       bank_afnd1\n",
       "32       bank_afnd2\n",
       "33     bank_afnddc1\n",
       "34     bank_afnddc2\n",
       "35     bank_afntind\n",
       "36       bank_funda\n",
       "37  bank_funda_fncd\n",
       "38       bank_fundq\n",
       "39  bank_fundq_fncd\n",
       "40    bank_iacctchg\n",
       "41     bank_idesind\n",
       "42       bank_ifndq\n",
       "43     bank_ifndytd\n",
       "44       bank_ifntq\n",
       "45     bank_ifntytd\n",
       "46       bank_names\n",
       "47      bank_namesq\n",
       "48            chars\n",
       "49      co_aacctchg\n",
       "50        co_aaudit\n",
       "51       co_adesind\n",
       "52       co_adjfact\n",
       "53         co_afnd1\n",
       "54         co_afnd2\n",
       "55       co_afnddc1\n",
       "56       co_afnddc2\n",
       "57      co_afntind1\n",
       "58      co_afntind2\n",
       "59       co_ainvval\n",
       "60          co_amkt\n",
       "61      co_busdescl\n",
       "62        co_cotype\n",
       "63      co_filedate\n",
       "64       co_fortune\n",
       "65          co_hgic\n",
       "66      co_iacctchg\n",
       "67        co_iaudit\n",
       "68       co_idesind\n",
       "69         co_ifndq\n",
       "70        co_ifndsa\n",
       "71       co_ifndytd\n",
       "72         co_ifntq\n",
       "73        co_ifntsa\n",
       "74       co_ifntytd\n",
       "75          co_imkt\n",
       "76      co_industry\n",
       "77          co_ipcd\n",
       "78         co_mthly\n",
       "79       co_offtitl\n",
       "80          company\n",
       "81         currency\n",
       "82         dd_group\n",
       "83    dd_group_xref\n",
       "84          dd_item\n",
       "85       dd_package\n",
       "86       ecind_desc\n",
       "87        ecind_mth\n",
       "88         exrt_dly\n",
       "89         exrt_mth\n",
       "90          filings\n",
       "91            funda\n",
       "92       funda_fncd\n",
       "93            fundq\n",
       "94       fundq_fncd\n",
       "95          g_chars\n",
       "96      g_co_aaudit\n",
       "97     g_co_adesind\n",
       "98       g_co_afnd1\n",
       "99       g_co_afnd2"
      ]
     },
     "execution_count": 4,
     "metadata": {},
     "output_type": "execute_result"
    }
   ],
   "source": [
    " pd.DataFrame({'tables':comp_tables}).head(100) # Transform libs to a Pandas data frame to have a better display"
   ]
  },
  {
   "cell_type": "markdown",
   "metadata": {
    "slideshow": {
     "slide_type": "subslide"
    }
   },
   "source": [
    "### All variables in comp.funda"
   ]
  },
  {
   "cell_type": "code",
   "execution_count": 5,
   "metadata": {
    "slideshow": {
     "slide_type": "fragment"
    }
   },
   "outputs": [
    {
     "name": "stdout",
     "output_type": "stream",
     "text": [
      "Approximately 846865 rows in comp.funda.\n"
     ]
    },
    {
     "data": {
      "text/html": [
       "<div>\n",
       "<style scoped>\n",
       "    .dataframe tbody tr th:only-of-type {\n",
       "        vertical-align: middle;\n",
       "    }\n",
       "\n",
       "    .dataframe tbody tr th {\n",
       "        vertical-align: top;\n",
       "    }\n",
       "\n",
       "    .dataframe thead th {\n",
       "        text-align: right;\n",
       "    }\n",
       "</style>\n",
       "<table border=\"1\" class=\"dataframe\">\n",
       "  <thead>\n",
       "    <tr style=\"text-align: right;\">\n",
       "      <th></th>\n",
       "      <th>name</th>\n",
       "      <th>nullable</th>\n",
       "      <th>type</th>\n",
       "    </tr>\n",
       "  </thead>\n",
       "  <tbody>\n",
       "    <tr>\n",
       "      <th>0</th>\n",
       "      <td>gvkey</td>\n",
       "      <td>True</td>\n",
       "      <td>VARCHAR(6)</td>\n",
       "    </tr>\n",
       "    <tr>\n",
       "      <th>1</th>\n",
       "      <td>datadate</td>\n",
       "      <td>True</td>\n",
       "      <td>DATE</td>\n",
       "    </tr>\n",
       "    <tr>\n",
       "      <th>2</th>\n",
       "      <td>fyear</td>\n",
       "      <td>True</td>\n",
       "      <td>DOUBLE_PRECISION</td>\n",
       "    </tr>\n",
       "    <tr>\n",
       "      <th>3</th>\n",
       "      <td>indfmt</td>\n",
       "      <td>True</td>\n",
       "      <td>VARCHAR(12)</td>\n",
       "    </tr>\n",
       "    <tr>\n",
       "      <th>4</th>\n",
       "      <td>consol</td>\n",
       "      <td>True</td>\n",
       "      <td>VARCHAR(2)</td>\n",
       "    </tr>\n",
       "    <tr>\n",
       "      <th>...</th>\n",
       "      <td>...</td>\n",
       "      <td>...</td>\n",
       "      <td>...</td>\n",
       "    </tr>\n",
       "    <tr>\n",
       "      <th>943</th>\n",
       "      <td>au</td>\n",
       "      <td>True</td>\n",
       "      <td>VARCHAR(8)</td>\n",
       "    </tr>\n",
       "    <tr>\n",
       "      <th>944</th>\n",
       "      <td>auop</td>\n",
       "      <td>True</td>\n",
       "      <td>VARCHAR(8)</td>\n",
       "    </tr>\n",
       "    <tr>\n",
       "      <th>945</th>\n",
       "      <td>auopic</td>\n",
       "      <td>True</td>\n",
       "      <td>VARCHAR(1)</td>\n",
       "    </tr>\n",
       "    <tr>\n",
       "      <th>946</th>\n",
       "      <td>ceoso</td>\n",
       "      <td>True</td>\n",
       "      <td>VARCHAR(1)</td>\n",
       "    </tr>\n",
       "    <tr>\n",
       "      <th>947</th>\n",
       "      <td>cfoso</td>\n",
       "      <td>True</td>\n",
       "      <td>VARCHAR(1)</td>\n",
       "    </tr>\n",
       "  </tbody>\n",
       "</table>\n",
       "<p>948 rows × 3 columns</p>\n",
       "</div>"
      ],
      "text/plain": [
       "         name  nullable              type\n",
       "0       gvkey      True        VARCHAR(6)\n",
       "1    datadate      True              DATE\n",
       "2       fyear      True  DOUBLE_PRECISION\n",
       "3      indfmt      True       VARCHAR(12)\n",
       "4      consol      True        VARCHAR(2)\n",
       "..        ...       ...               ...\n",
       "943        au      True        VARCHAR(8)\n",
       "944      auop      True        VARCHAR(8)\n",
       "945    auopic      True        VARCHAR(1)\n",
       "946     ceoso      True        VARCHAR(1)\n",
       "947     cfoso      True        VARCHAR(1)\n",
       "\n",
       "[948 rows x 3 columns]"
      ]
     },
     "execution_count": 5,
     "metadata": {},
     "output_type": "execute_result"
    }
   ],
   "source": [
    "db.describe_table(library=\"comp\", table=\"funda\")"
   ]
  },
  {
   "cell_type": "markdown",
   "metadata": {
    "slideshow": {
     "slide_type": "subslide"
    }
   },
   "source": [
    "#### Where to check variable definitions?\n",
    "1. [Xpressfeed Data Items](https://w3.loibl.com/uni/xf_understanding_the_data.pdf)\n",
    "2. WRDS [website](https://wrds-www.wharton.upenn.edu/pages/get-data/compustat-capital-iq-standard-poors/compustat/north-america-daily/fundamentals-annual/): go to the (?) sign\n",
    "3. What if we want to replicate a paper that says:\n",
    "\n",
    "   \"Earnings (E) is income before extraordinary items (Item 18) plus income statement deferred taxes (Item 50) minus preferred dividends (Item 19), if earnings are positive;\" [Baker and Wurgler, JF 2006](https://onlinelibrary.wiley.com/doi/epdf/10.1111/j.1540-6261.2006.00885.x)\n",
    "\n",
    "    * All previous documentation does not contain ITEM numbers\n",
    "    * These are the legacy CST item numbers\n",
    "    * You can find item reference [here](https://www.crsp.org/products/documentation/annual-data-industrial).\n",
    "    \n",
    "    "
   ]
  },
  {
   "cell_type": "markdown",
   "metadata": {
    "slideshow": {
     "slide_type": "slide"
    }
   },
   "source": [
    "**Objective**\n",
    "\n",
    "Create a data frame with company fundamentals necessary to replicate FF 2015:\n",
    "\n",
    "1. Book Equity (BE)\n",
    "2. Operating Profits (OP)\n",
    "3. Investment (INV)"
   ]
  },
  {
   "cell_type": "markdown",
   "metadata": {
    "slideshow": {
     "slide_type": "slide"
    }
   },
   "source": [
    "# Choose variables of interest"
   ]
  },
  {
   "cell_type": "markdown",
   "metadata": {
    "slideshow": {
     "slide_type": "subslide"
    }
   },
   "source": [
    "Compustat XpressFeed Variables 1/5:  \n",
    "* AT      = Total Assets  \n",
    "* CAPX    = Capital Expenditures  \n",
    "* CEQ     = Common/Ordinary Equity - Total \n",
    "* COGS    = Cost of Goods Sold\n",
    "* CSHO    = Common Shares Outstanding\n",
    "* DLC     = Debt in Current Liabilities \n",
    "* DLCCH   = Current Debt - Changes\n",
    "* DLTT    = Long-Term Debt - Total"
   ]
  },
  {
   "cell_type": "markdown",
   "metadata": {
    "slideshow": {
     "slide_type": "subslide"
    }
   },
   "source": [
    "Compustat XpressFeed Variables 2/5:\n",
    "* DP      = Depreciation and Amortization\n",
    "* DVC     = Divdends common/ordinary  \n",
    "* DVP     = Dividends - Preferred/Preference\n",
    "* GP      = Gross Profits\n",
    "* IB      = Income Before Extraordinary Items\n",
    "* ICAPT   = Invested Capital - Total\n",
    "* ITCB    = Investment Tax Credit (Balance Sheet)  \n",
    "* LT      = Total Liabilities"
   ]
  },
  {
   "cell_type": "markdown",
   "metadata": {
    "slideshow": {
     "slide_type": "subslide"
    }
   },
   "source": [
    "Compustat XpressFeed Variables 3/5:\n",
    "* MIB     = Minority Interest (Balance Sheet)\n",
    "* NAICS   = North American Industrial Classification System Variable Name\n",
    "* NAICSH  = North American Industry Classification Codes - Historical Company Variable Name\n",
    "* NI      = Net Income\n",
    "* PPEGT   = \"Property, Plant and Equipment - Total (Gross)\"\n",
    "* PRBA    = Postretirement Benefit Assets (from separate pension annual file) \n",
    "* PRSTKCC = Purchase of Common Stock (Cash Flow)                   \n",
    "* PSTKRV  = Preferred Stock Redemption Value"
   ]
  },
  {
   "cell_type": "markdown",
   "metadata": {
    "slideshow": {
     "slide_type": "subslide"
    }
   },
   "source": [
    "Compustat XpressFeed Variables 4/5:\n",
    "* PSTK    = Preferred/Preference Stock (Capital) - Total (kd: = par?)               \n",
    "* PSTKL   = Preferred Stock Liquidating Value     \n",
    "* PSTKRV  = Preferred Stock Liquidating Value          \n",
    "* RE      = Retained Earnings\n",
    "* REVT    = Revenue - Total\n",
    "* SALE    = Sales/Turnover Net\n",
    "* SEQ     = Shareholders Equity   \n",
    "* SIC     = Standard Industrial Classification Code"
   ]
  },
  {
   "cell_type": "markdown",
   "metadata": {
    "slideshow": {
     "slide_type": "subslide"
    }
   },
   "source": [
    "Compustat XpressFeed Variables 5/5:\n",
    "* TXDB    = Deferred Taxes Balance Sheet\n",
    "* TXDI    = Income Taxes - Deferred\n",
    "* TXDITC  = Deferred Taxes and Investment Tax Credit                        \n",
    "* WCAPCH  = Working Capital Change - Total\n",
    "* XINT    = Interest and Related Expense - Total \n",
    "* XLR     = Staff Expense - Total\n",
    "* XRD     = Research and Development Expense \n",
    "* XSGAQ   = Selling, General and Administrative Expenses (millions)  "
   ]
  },
  {
   "cell_type": "markdown",
   "metadata": {
    "slideshow": {
     "slide_type": "slide"
    }
   },
   "source": [
    "# Download Compustat FUNDA"
   ]
  },
  {
   "cell_type": "code",
   "execution_count": 6,
   "metadata": {
    "slideshow": {
     "slide_type": "fragment"
    }
   },
   "outputs": [],
   "source": [
    "fund_table = 'funda'\n",
    "varlist = ['conm', 'tic', 'cusip','fyear', 'fyr', 'at','capx', 'ceq', 'cogs', 'csho', 'dlc', 'dlcch','dltt', 'dp', 'ib', 'itcb', \n",
    "           'lt', 'mib', 'naicsh', 'ni', 'prstkcc', 'pstk', 'pstkl', 'pstkrv', 're', 'revt', 'sale', \n",
    "           'seq', 'sich', 'txdb', 'txdi', 'txditc', 'wcapch', 'xint', 'xlr', 'xrd', 'xsga']\n",
    "query = \"\"\"SELECT gvkey, datadate, {}\n",
    "           FROM comp.{}\n",
    "           WHERE datafmt = 'STD'\n",
    "           AND popsrc = 'D'\n",
    "           AND indfmt = 'INDL'\n",
    "           AND consol = 'C'\n",
    "           AND fyear>=1980;\"\"\".format(\", \".join(varlist), fund_table)\n",
    "\n",
    "compa = db.raw_sql(query, date_cols=['datadate'])\n",
    "del(fund_table, varlist, query)"
   ]
  },
  {
   "cell_type": "markdown",
   "metadata": {
    "slideshow": {
     "slide_type": "subslide"
    }
   },
   "source": [
    "**Look at the data**"
   ]
  },
  {
   "cell_type": "code",
   "execution_count": 7,
   "metadata": {
    "slideshow": {
     "slide_type": "subslide"
    }
   },
   "outputs": [
    {
     "data": {
      "text/html": [
       "<div>\n",
       "<style scoped>\n",
       "    .dataframe tbody tr th:only-of-type {\n",
       "        vertical-align: middle;\n",
       "    }\n",
       "\n",
       "    .dataframe tbody tr th {\n",
       "        vertical-align: top;\n",
       "    }\n",
       "\n",
       "    .dataframe thead th {\n",
       "        text-align: right;\n",
       "    }\n",
       "</style>\n",
       "<table border=\"1\" class=\"dataframe\">\n",
       "  <thead>\n",
       "    <tr style=\"text-align: right;\">\n",
       "      <th></th>\n",
       "      <th>gvkey</th>\n",
       "      <th>datadate</th>\n",
       "      <th>conm</th>\n",
       "      <th>tic</th>\n",
       "      <th>cusip</th>\n",
       "      <th>fyear</th>\n",
       "      <th>fyr</th>\n",
       "      <th>at</th>\n",
       "      <th>capx</th>\n",
       "      <th>ceq</th>\n",
       "      <th>...</th>\n",
       "      <th>seq</th>\n",
       "      <th>sich</th>\n",
       "      <th>txdb</th>\n",
       "      <th>txdi</th>\n",
       "      <th>txditc</th>\n",
       "      <th>wcapch</th>\n",
       "      <th>xint</th>\n",
       "      <th>xlr</th>\n",
       "      <th>xrd</th>\n",
       "      <th>xsga</th>\n",
       "    </tr>\n",
       "  </thead>\n",
       "  <tbody>\n",
       "    <tr>\n",
       "      <th>0</th>\n",
       "      <td>001001</td>\n",
       "      <td>1980-12-31</td>\n",
       "      <td>A &amp; M FOOD SERVICES INC</td>\n",
       "      <td>AMFD.</td>\n",
       "      <td>000165100</td>\n",
       "      <td>1980.0</td>\n",
       "      <td>12.0</td>\n",
       "      <td>NaN</td>\n",
       "      <td>NaN</td>\n",
       "      <td>NaN</td>\n",
       "      <td>...</td>\n",
       "      <td>NaN</td>\n",
       "      <td>NaN</td>\n",
       "      <td>NaN</td>\n",
       "      <td>NaN</td>\n",
       "      <td>NaN</td>\n",
       "      <td>NaN</td>\n",
       "      <td>NaN</td>\n",
       "      <td>NaN</td>\n",
       "      <td>NaN</td>\n",
       "      <td>NaN</td>\n",
       "    </tr>\n",
       "    <tr>\n",
       "      <th>1</th>\n",
       "      <td>001001</td>\n",
       "      <td>1981-12-31</td>\n",
       "      <td>A &amp; M FOOD SERVICES INC</td>\n",
       "      <td>AMFD.</td>\n",
       "      <td>000165100</td>\n",
       "      <td>1981.0</td>\n",
       "      <td>12.0</td>\n",
       "      <td>NaN</td>\n",
       "      <td>NaN</td>\n",
       "      <td>NaN</td>\n",
       "      <td>...</td>\n",
       "      <td>NaN</td>\n",
       "      <td>NaN</td>\n",
       "      <td>NaN</td>\n",
       "      <td>NaN</td>\n",
       "      <td>NaN</td>\n",
       "      <td>NaN</td>\n",
       "      <td>NaN</td>\n",
       "      <td>NaN</td>\n",
       "      <td>NaN</td>\n",
       "      <td>NaN</td>\n",
       "    </tr>\n",
       "    <tr>\n",
       "      <th>2</th>\n",
       "      <td>001001</td>\n",
       "      <td>1982-12-31</td>\n",
       "      <td>A &amp; M FOOD SERVICES INC</td>\n",
       "      <td>AMFD.</td>\n",
       "      <td>000165100</td>\n",
       "      <td>1982.0</td>\n",
       "      <td>12.0</td>\n",
       "      <td>NaN</td>\n",
       "      <td>NaN</td>\n",
       "      <td>NaN</td>\n",
       "      <td>...</td>\n",
       "      <td>NaN</td>\n",
       "      <td>NaN</td>\n",
       "      <td>NaN</td>\n",
       "      <td>NaN</td>\n",
       "      <td>NaN</td>\n",
       "      <td>NaN</td>\n",
       "      <td>NaN</td>\n",
       "      <td>NaN</td>\n",
       "      <td>NaN</td>\n",
       "      <td>NaN</td>\n",
       "    </tr>\n",
       "    <tr>\n",
       "      <th>3</th>\n",
       "      <td>001001</td>\n",
       "      <td>1983-12-31</td>\n",
       "      <td>A &amp; M FOOD SERVICES INC</td>\n",
       "      <td>AMFD.</td>\n",
       "      <td>000165100</td>\n",
       "      <td>1983.0</td>\n",
       "      <td>12.0</td>\n",
       "      <td>14.080</td>\n",
       "      <td>3.367</td>\n",
       "      <td>7.823</td>\n",
       "      <td>...</td>\n",
       "      <td>7.823</td>\n",
       "      <td>NaN</td>\n",
       "      <td>0.000</td>\n",
       "      <td>0.144</td>\n",
       "      <td>0.000</td>\n",
       "      <td>3.618</td>\n",
       "      <td>0.763</td>\n",
       "      <td>NaN</td>\n",
       "      <td>0.0</td>\n",
       "      <td>16.435</td>\n",
       "    </tr>\n",
       "    <tr>\n",
       "      <th>4</th>\n",
       "      <td>001001</td>\n",
       "      <td>1984-12-31</td>\n",
       "      <td>A &amp; M FOOD SERVICES INC</td>\n",
       "      <td>AMFD.</td>\n",
       "      <td>000165100</td>\n",
       "      <td>1984.0</td>\n",
       "      <td>12.0</td>\n",
       "      <td>16.267</td>\n",
       "      <td>5.496</td>\n",
       "      <td>8.962</td>\n",
       "      <td>...</td>\n",
       "      <td>8.962</td>\n",
       "      <td>NaN</td>\n",
       "      <td>0.357</td>\n",
       "      <td>0.275</td>\n",
       "      <td>0.357</td>\n",
       "      <td>-2.993</td>\n",
       "      <td>0.661</td>\n",
       "      <td>NaN</td>\n",
       "      <td>NaN</td>\n",
       "      <td>20.628</td>\n",
       "    </tr>\n",
       "  </tbody>\n",
       "</table>\n",
       "<p>5 rows × 39 columns</p>\n",
       "</div>"
      ],
      "text/plain": [
       "    gvkey   datadate                     conm    tic      cusip   fyear   fyr  \\\n",
       "0  001001 1980-12-31  A & M FOOD SERVICES INC  AMFD.  000165100  1980.0  12.0   \n",
       "1  001001 1981-12-31  A & M FOOD SERVICES INC  AMFD.  000165100  1981.0  12.0   \n",
       "2  001001 1982-12-31  A & M FOOD SERVICES INC  AMFD.  000165100  1982.0  12.0   \n",
       "3  001001 1983-12-31  A & M FOOD SERVICES INC  AMFD.  000165100  1983.0  12.0   \n",
       "4  001001 1984-12-31  A & M FOOD SERVICES INC  AMFD.  000165100  1984.0  12.0   \n",
       "\n",
       "       at   capx    ceq  ...    seq  sich   txdb   txdi  txditc  wcapch  \\\n",
       "0     NaN    NaN    NaN  ...    NaN   NaN    NaN    NaN     NaN     NaN   \n",
       "1     NaN    NaN    NaN  ...    NaN   NaN    NaN    NaN     NaN     NaN   \n",
       "2     NaN    NaN    NaN  ...    NaN   NaN    NaN    NaN     NaN     NaN   \n",
       "3  14.080  3.367  7.823  ...  7.823   NaN  0.000  0.144   0.000   3.618   \n",
       "4  16.267  5.496  8.962  ...  8.962   NaN  0.357  0.275   0.357  -2.993   \n",
       "\n",
       "    xint  xlr  xrd    xsga  \n",
       "0    NaN  NaN  NaN     NaN  \n",
       "1    NaN  NaN  NaN     NaN  \n",
       "2    NaN  NaN  NaN     NaN  \n",
       "3  0.763  NaN  0.0  16.435  \n",
       "4  0.661  NaN  NaN  20.628  \n",
       "\n",
       "[5 rows x 39 columns]"
      ]
     },
     "execution_count": 7,
     "metadata": {},
     "output_type": "execute_result"
    }
   ],
   "source": [
    "compa.head()  "
   ]
  },
  {
   "cell_type": "code",
   "execution_count": 8,
   "metadata": {
    "slideshow": {
     "slide_type": "subslide"
    }
   },
   "outputs": [
    {
     "data": {
      "text/plain": [
       "0.16564275266183623"
      ]
     },
     "execution_count": 8,
     "metadata": {},
     "output_type": "execute_result"
    }
   ],
   "source": [
    "# Missing data?\n",
    "compa['at'].isnull().mean()"
   ]
  },
  {
   "cell_type": "code",
   "execution_count": 9,
   "metadata": {},
   "outputs": [
    {
     "data": {
      "text/plain": [
       "39471"
      ]
     },
     "execution_count": 9,
     "metadata": {},
     "output_type": "execute_result"
    }
   ],
   "source": [
    "# Number of companies\n",
    "compa.gvkey.nunique()"
   ]
  },
  {
   "cell_type": "code",
   "execution_count": 10,
   "metadata": {},
   "outputs": [
    {
     "data": {
      "text/plain": [
       "fyear\n",
       "1980.0     6889\n",
       "1981.0     7058\n",
       "1982.0     7685\n",
       "1983.0     7996\n",
       "1984.0     8243\n",
       "1985.0     8599\n",
       "1986.0     9017\n",
       "1987.0     9225\n",
       "1988.0     9333\n",
       "1989.0     9343\n",
       "1990.0     9571\n",
       "1991.0     9966\n",
       "1992.0    10705\n",
       "1993.0    11482\n",
       "1994.0    11899\n",
       "1995.0    12492\n",
       "1996.0    12624\n",
       "1997.0    12438\n",
       "1998.0    12555\n",
       "1999.0    12531\n",
       "2000.0    12093\n",
       "2001.0    11584\n",
       "2002.0    11251\n",
       "2003.0    11064\n",
       "2004.0    10898\n",
       "2005.0    10854\n",
       "2006.0    10876\n",
       "2007.0    10870\n",
       "2008.0    10680\n",
       "2009.0    10631\n",
       "2010.0    10853\n",
       "2011.0    11550\n",
       "2012.0    11835\n",
       "2013.0    11828\n",
       "2014.0    11636\n",
       "2015.0    11468\n",
       "2016.0    11330\n",
       "2017.0    11243\n",
       "2018.0    11298\n",
       "2019.0    11264\n",
       "2020.0    11080\n",
       "2021.0     5105\n",
       "Name: gvkey, dtype: int64"
      ]
     },
     "execution_count": 10,
     "metadata": {},
     "output_type": "execute_result"
    }
   ],
   "source": [
    "compa.groupby('fyear').gvkey.nunique()"
   ]
  },
  {
   "cell_type": "markdown",
   "metadata": {
    "slideshow": {
     "slide_type": "slide"
    }
   },
   "source": [
    "# Data Consistency "
   ]
  },
  {
   "cell_type": "markdown",
   "metadata": {
    "slideshow": {
     "slide_type": "fragment"
    }
   },
   "source": [
    "## Primary Keys\n",
    "\n",
    "\n",
    "* We are looking at Annual data\n",
    "* Logic says that that we should have one company (gvkey) per year (fyear)\n",
    "* But remember, the primary key for funda is (gvkey and datadate)\n",
    "* Question: Can a firm have two datadate for the same year?\n"
   ]
  },
  {
   "cell_type": "code",
   "execution_count": 11,
   "metadata": {
    "slideshow": {
     "slide_type": "subslide"
    }
   },
   "outputs": [
    {
     "data": {
      "text/plain": [
       "0"
      ]
     },
     "execution_count": 11,
     "metadata": {},
     "output_type": "execute_result"
    }
   ],
   "source": [
    "# Check if we have the right PK\n",
    "compa.duplicated(['gvkey', 'datadate']).sum()"
   ]
  },
  {
   "cell_type": "code",
   "execution_count": 12,
   "metadata": {
    "slideshow": {
     "slide_type": "subslide"
    }
   },
   "outputs": [
    {
     "data": {
      "text/html": [
       "<div>\n",
       "<style scoped>\n",
       "    .dataframe tbody tr th:only-of-type {\n",
       "        vertical-align: middle;\n",
       "    }\n",
       "\n",
       "    .dataframe tbody tr th {\n",
       "        vertical-align: top;\n",
       "    }\n",
       "\n",
       "    .dataframe thead th {\n",
       "        text-align: right;\n",
       "    }\n",
       "</style>\n",
       "<table border=\"1\" class=\"dataframe\">\n",
       "  <thead>\n",
       "    <tr style=\"text-align: right;\">\n",
       "      <th></th>\n",
       "      <th>gvkey</th>\n",
       "      <th>datadate</th>\n",
       "      <th>conm</th>\n",
       "      <th>tic</th>\n",
       "      <th>cusip</th>\n",
       "      <th>fyear</th>\n",
       "      <th>fyr</th>\n",
       "      <th>at</th>\n",
       "      <th>capx</th>\n",
       "      <th>ceq</th>\n",
       "      <th>...</th>\n",
       "      <th>seq</th>\n",
       "      <th>sich</th>\n",
       "      <th>txdb</th>\n",
       "      <th>txdi</th>\n",
       "      <th>txditc</th>\n",
       "      <th>wcapch</th>\n",
       "      <th>xint</th>\n",
       "      <th>xlr</th>\n",
       "      <th>xrd</th>\n",
       "      <th>xsga</th>\n",
       "    </tr>\n",
       "  </thead>\n",
       "  <tbody>\n",
       "    <tr>\n",
       "      <th>65647</th>\n",
       "      <td>006557</td>\n",
       "      <td>1982-12-31</td>\n",
       "      <td>LAIDLAW INTERNATIONAL INC</td>\n",
       "      <td>LI.3</td>\n",
       "      <td>50730R102</td>\n",
       "      <td>1982.0</td>\n",
       "      <td>12.0</td>\n",
       "      <td>NaN</td>\n",
       "      <td>NaN</td>\n",
       "      <td>NaN</td>\n",
       "      <td>...</td>\n",
       "      <td>NaN</td>\n",
       "      <td>NaN</td>\n",
       "      <td>NaN</td>\n",
       "      <td>NaN</td>\n",
       "      <td>NaN</td>\n",
       "      <td>NaN</td>\n",
       "      <td>NaN</td>\n",
       "      <td>NaN</td>\n",
       "      <td>NaN</td>\n",
       "      <td>NaN</td>\n",
       "    </tr>\n",
       "    <tr>\n",
       "      <th>65649</th>\n",
       "      <td>006557</td>\n",
       "      <td>1983-12-31</td>\n",
       "      <td>LAIDLAW INTERNATIONAL INC</td>\n",
       "      <td>LI.3</td>\n",
       "      <td>50730R102</td>\n",
       "      <td>1983.0</td>\n",
       "      <td>12.0</td>\n",
       "      <td>NaN</td>\n",
       "      <td>NaN</td>\n",
       "      <td>NaN</td>\n",
       "      <td>...</td>\n",
       "      <td>NaN</td>\n",
       "      <td>NaN</td>\n",
       "      <td>NaN</td>\n",
       "      <td>NaN</td>\n",
       "      <td>NaN</td>\n",
       "      <td>NaN</td>\n",
       "      <td>NaN</td>\n",
       "      <td>NaN</td>\n",
       "      <td>NaN</td>\n",
       "      <td>NaN</td>\n",
       "    </tr>\n",
       "    <tr>\n",
       "      <th>287911</th>\n",
       "      <td>039310</td>\n",
       "      <td>2021-01-31</td>\n",
       "      <td>VICTORIAS SECRET AND CO</td>\n",
       "      <td>VSCO</td>\n",
       "      <td>926400102</td>\n",
       "      <td>2020.0</td>\n",
       "      <td>1.0</td>\n",
       "      <td>4229.0</td>\n",
       "      <td>127.0</td>\n",
       "      <td>891.0</td>\n",
       "      <td>...</td>\n",
       "      <td>891.0</td>\n",
       "      <td>5621.0</td>\n",
       "      <td>19.0</td>\n",
       "      <td>-64.0</td>\n",
       "      <td>19.0</td>\n",
       "      <td>NaN</td>\n",
       "      <td>6.0</td>\n",
       "      <td>NaN</td>\n",
       "      <td>0.0</td>\n",
       "      <td>1621.0</td>\n",
       "    </tr>\n",
       "    <tr>\n",
       "      <th>324925</th>\n",
       "      <td>066552</td>\n",
       "      <td>2015-12-31</td>\n",
       "      <td>BIO LAB NATURALS INC</td>\n",
       "      <td>BLAB</td>\n",
       "      <td>090622200</td>\n",
       "      <td>2015.0</td>\n",
       "      <td>12.0</td>\n",
       "      <td>NaN</td>\n",
       "      <td>NaN</td>\n",
       "      <td>NaN</td>\n",
       "      <td>...</td>\n",
       "      <td>NaN</td>\n",
       "      <td>NaN</td>\n",
       "      <td>NaN</td>\n",
       "      <td>NaN</td>\n",
       "      <td>NaN</td>\n",
       "      <td>NaN</td>\n",
       "      <td>NaN</td>\n",
       "      <td>NaN</td>\n",
       "      <td>NaN</td>\n",
       "      <td>NaN</td>\n",
       "    </tr>\n",
       "    <tr>\n",
       "      <th>324929</th>\n",
       "      <td>066552</td>\n",
       "      <td>2016-12-31</td>\n",
       "      <td>BIO LAB NATURALS INC</td>\n",
       "      <td>BLAB</td>\n",
       "      <td>090622200</td>\n",
       "      <td>2016.0</td>\n",
       "      <td>12.0</td>\n",
       "      <td>NaN</td>\n",
       "      <td>NaN</td>\n",
       "      <td>NaN</td>\n",
       "      <td>...</td>\n",
       "      <td>NaN</td>\n",
       "      <td>NaN</td>\n",
       "      <td>NaN</td>\n",
       "      <td>NaN</td>\n",
       "      <td>NaN</td>\n",
       "      <td>NaN</td>\n",
       "      <td>NaN</td>\n",
       "      <td>NaN</td>\n",
       "      <td>NaN</td>\n",
       "      <td>NaN</td>\n",
       "    </tr>\n",
       "    <tr>\n",
       "      <th>324933</th>\n",
       "      <td>066552</td>\n",
       "      <td>2017-12-31</td>\n",
       "      <td>BIO LAB NATURALS INC</td>\n",
       "      <td>BLAB</td>\n",
       "      <td>090622200</td>\n",
       "      <td>2017.0</td>\n",
       "      <td>12.0</td>\n",
       "      <td>NaN</td>\n",
       "      <td>NaN</td>\n",
       "      <td>NaN</td>\n",
       "      <td>...</td>\n",
       "      <td>NaN</td>\n",
       "      <td>NaN</td>\n",
       "      <td>NaN</td>\n",
       "      <td>NaN</td>\n",
       "      <td>NaN</td>\n",
       "      <td>NaN</td>\n",
       "      <td>NaN</td>\n",
       "      <td>NaN</td>\n",
       "      <td>NaN</td>\n",
       "      <td>NaN</td>\n",
       "    </tr>\n",
       "    <tr>\n",
       "      <th>324935</th>\n",
       "      <td>066552</td>\n",
       "      <td>2018-12-31</td>\n",
       "      <td>BIO LAB NATURALS INC</td>\n",
       "      <td>BLAB</td>\n",
       "      <td>090622200</td>\n",
       "      <td>2018.0</td>\n",
       "      <td>12.0</td>\n",
       "      <td>NaN</td>\n",
       "      <td>NaN</td>\n",
       "      <td>NaN</td>\n",
       "      <td>...</td>\n",
       "      <td>NaN</td>\n",
       "      <td>NaN</td>\n",
       "      <td>NaN</td>\n",
       "      <td>NaN</td>\n",
       "      <td>NaN</td>\n",
       "      <td>NaN</td>\n",
       "      <td>NaN</td>\n",
       "      <td>NaN</td>\n",
       "      <td>NaN</td>\n",
       "      <td>NaN</td>\n",
       "    </tr>\n",
       "    <tr>\n",
       "      <th>324943</th>\n",
       "      <td>066552</td>\n",
       "      <td>2019-12-31</td>\n",
       "      <td>BIO LAB NATURALS INC</td>\n",
       "      <td>BLAB</td>\n",
       "      <td>090622200</td>\n",
       "      <td>2019.0</td>\n",
       "      <td>12.0</td>\n",
       "      <td>NaN</td>\n",
       "      <td>NaN</td>\n",
       "      <td>NaN</td>\n",
       "      <td>...</td>\n",
       "      <td>NaN</td>\n",
       "      <td>NaN</td>\n",
       "      <td>NaN</td>\n",
       "      <td>NaN</td>\n",
       "      <td>NaN</td>\n",
       "      <td>NaN</td>\n",
       "      <td>NaN</td>\n",
       "      <td>NaN</td>\n",
       "      <td>NaN</td>\n",
       "      <td>NaN</td>\n",
       "    </tr>\n",
       "    <tr>\n",
       "      <th>324953</th>\n",
       "      <td>066552</td>\n",
       "      <td>2010-12-31</td>\n",
       "      <td>BIO LAB NATURALS INC</td>\n",
       "      <td>BLAB</td>\n",
       "      <td>090622200</td>\n",
       "      <td>2010.0</td>\n",
       "      <td>12.0</td>\n",
       "      <td>NaN</td>\n",
       "      <td>NaN</td>\n",
       "      <td>NaN</td>\n",
       "      <td>...</td>\n",
       "      <td>NaN</td>\n",
       "      <td>NaN</td>\n",
       "      <td>NaN</td>\n",
       "      <td>NaN</td>\n",
       "      <td>NaN</td>\n",
       "      <td>NaN</td>\n",
       "      <td>NaN</td>\n",
       "      <td>NaN</td>\n",
       "      <td>NaN</td>\n",
       "      <td>NaN</td>\n",
       "    </tr>\n",
       "    <tr>\n",
       "      <th>324955</th>\n",
       "      <td>066552</td>\n",
       "      <td>2011-12-31</td>\n",
       "      <td>BIO LAB NATURALS INC</td>\n",
       "      <td>BLAB</td>\n",
       "      <td>090622200</td>\n",
       "      <td>2011.0</td>\n",
       "      <td>12.0</td>\n",
       "      <td>NaN</td>\n",
       "      <td>NaN</td>\n",
       "      <td>NaN</td>\n",
       "      <td>...</td>\n",
       "      <td>NaN</td>\n",
       "      <td>NaN</td>\n",
       "      <td>NaN</td>\n",
       "      <td>NaN</td>\n",
       "      <td>NaN</td>\n",
       "      <td>NaN</td>\n",
       "      <td>NaN</td>\n",
       "      <td>NaN</td>\n",
       "      <td>NaN</td>\n",
       "      <td>NaN</td>\n",
       "    </tr>\n",
       "    <tr>\n",
       "      <th>324957</th>\n",
       "      <td>066552</td>\n",
       "      <td>2012-12-31</td>\n",
       "      <td>BIO LAB NATURALS INC</td>\n",
       "      <td>BLAB</td>\n",
       "      <td>090622200</td>\n",
       "      <td>2012.0</td>\n",
       "      <td>12.0</td>\n",
       "      <td>NaN</td>\n",
       "      <td>NaN</td>\n",
       "      <td>NaN</td>\n",
       "      <td>...</td>\n",
       "      <td>NaN</td>\n",
       "      <td>NaN</td>\n",
       "      <td>NaN</td>\n",
       "      <td>NaN</td>\n",
       "      <td>NaN</td>\n",
       "      <td>NaN</td>\n",
       "      <td>NaN</td>\n",
       "      <td>NaN</td>\n",
       "      <td>NaN</td>\n",
       "      <td>NaN</td>\n",
       "    </tr>\n",
       "    <tr>\n",
       "      <th>324959</th>\n",
       "      <td>066552</td>\n",
       "      <td>2013-12-31</td>\n",
       "      <td>BIO LAB NATURALS INC</td>\n",
       "      <td>BLAB</td>\n",
       "      <td>090622200</td>\n",
       "      <td>2013.0</td>\n",
       "      <td>12.0</td>\n",
       "      <td>NaN</td>\n",
       "      <td>NaN</td>\n",
       "      <td>NaN</td>\n",
       "      <td>...</td>\n",
       "      <td>NaN</td>\n",
       "      <td>NaN</td>\n",
       "      <td>NaN</td>\n",
       "      <td>NaN</td>\n",
       "      <td>NaN</td>\n",
       "      <td>NaN</td>\n",
       "      <td>NaN</td>\n",
       "      <td>NaN</td>\n",
       "      <td>NaN</td>\n",
       "      <td>NaN</td>\n",
       "    </tr>\n",
       "    <tr>\n",
       "      <th>324960</th>\n",
       "      <td>066552</td>\n",
       "      <td>2014-06-30</td>\n",
       "      <td>BIO LAB NATURALS INC</td>\n",
       "      <td>BLAB</td>\n",
       "      <td>090622200</td>\n",
       "      <td>2014.0</td>\n",
       "      <td>6.0</td>\n",
       "      <td>NaN</td>\n",
       "      <td>NaN</td>\n",
       "      <td>NaN</td>\n",
       "      <td>...</td>\n",
       "      <td>NaN</td>\n",
       "      <td>NaN</td>\n",
       "      <td>NaN</td>\n",
       "      <td>NaN</td>\n",
       "      <td>NaN</td>\n",
       "      <td>NaN</td>\n",
       "      <td>NaN</td>\n",
       "      <td>NaN</td>\n",
       "      <td>NaN</td>\n",
       "      <td>NaN</td>\n",
       "    </tr>\n",
       "  </tbody>\n",
       "</table>\n",
       "<p>13 rows × 39 columns</p>\n",
       "</div>"
      ],
      "text/plain": [
       "         gvkey   datadate                       conm   tic      cusip   fyear  \\\n",
       "65647   006557 1982-12-31  LAIDLAW INTERNATIONAL INC  LI.3  50730R102  1982.0   \n",
       "65649   006557 1983-12-31  LAIDLAW INTERNATIONAL INC  LI.3  50730R102  1983.0   \n",
       "287911  039310 2021-01-31    VICTORIAS SECRET AND CO  VSCO  926400102  2020.0   \n",
       "324925  066552 2015-12-31       BIO LAB NATURALS INC  BLAB  090622200  2015.0   \n",
       "324929  066552 2016-12-31       BIO LAB NATURALS INC  BLAB  090622200  2016.0   \n",
       "324933  066552 2017-12-31       BIO LAB NATURALS INC  BLAB  090622200  2017.0   \n",
       "324935  066552 2018-12-31       BIO LAB NATURALS INC  BLAB  090622200  2018.0   \n",
       "324943  066552 2019-12-31       BIO LAB NATURALS INC  BLAB  090622200  2019.0   \n",
       "324953  066552 2010-12-31       BIO LAB NATURALS INC  BLAB  090622200  2010.0   \n",
       "324955  066552 2011-12-31       BIO LAB NATURALS INC  BLAB  090622200  2011.0   \n",
       "324957  066552 2012-12-31       BIO LAB NATURALS INC  BLAB  090622200  2012.0   \n",
       "324959  066552 2013-12-31       BIO LAB NATURALS INC  BLAB  090622200  2013.0   \n",
       "324960  066552 2014-06-30       BIO LAB NATURALS INC  BLAB  090622200  2014.0   \n",
       "\n",
       "         fyr      at   capx    ceq  ...    seq    sich  txdb  txdi  txditc  \\\n",
       "65647   12.0     NaN    NaN    NaN  ...    NaN     NaN   NaN   NaN     NaN   \n",
       "65649   12.0     NaN    NaN    NaN  ...    NaN     NaN   NaN   NaN     NaN   \n",
       "287911   1.0  4229.0  127.0  891.0  ...  891.0  5621.0  19.0 -64.0    19.0   \n",
       "324925  12.0     NaN    NaN    NaN  ...    NaN     NaN   NaN   NaN     NaN   \n",
       "324929  12.0     NaN    NaN    NaN  ...    NaN     NaN   NaN   NaN     NaN   \n",
       "324933  12.0     NaN    NaN    NaN  ...    NaN     NaN   NaN   NaN     NaN   \n",
       "324935  12.0     NaN    NaN    NaN  ...    NaN     NaN   NaN   NaN     NaN   \n",
       "324943  12.0     NaN    NaN    NaN  ...    NaN     NaN   NaN   NaN     NaN   \n",
       "324953  12.0     NaN    NaN    NaN  ...    NaN     NaN   NaN   NaN     NaN   \n",
       "324955  12.0     NaN    NaN    NaN  ...    NaN     NaN   NaN   NaN     NaN   \n",
       "324957  12.0     NaN    NaN    NaN  ...    NaN     NaN   NaN   NaN     NaN   \n",
       "324959  12.0     NaN    NaN    NaN  ...    NaN     NaN   NaN   NaN     NaN   \n",
       "324960   6.0     NaN    NaN    NaN  ...    NaN     NaN   NaN   NaN     NaN   \n",
       "\n",
       "        wcapch  xint  xlr  xrd    xsga  \n",
       "65647      NaN   NaN  NaN  NaN     NaN  \n",
       "65649      NaN   NaN  NaN  NaN     NaN  \n",
       "287911     NaN   6.0  NaN  0.0  1621.0  \n",
       "324925     NaN   NaN  NaN  NaN     NaN  \n",
       "324929     NaN   NaN  NaN  NaN     NaN  \n",
       "324933     NaN   NaN  NaN  NaN     NaN  \n",
       "324935     NaN   NaN  NaN  NaN     NaN  \n",
       "324943     NaN   NaN  NaN  NaN     NaN  \n",
       "324953     NaN   NaN  NaN  NaN     NaN  \n",
       "324955     NaN   NaN  NaN  NaN     NaN  \n",
       "324957     NaN   NaN  NaN  NaN     NaN  \n",
       "324959     NaN   NaN  NaN  NaN     NaN  \n",
       "324960     NaN   NaN  NaN  NaN     NaN  \n",
       "\n",
       "[13 rows x 39 columns]"
      ]
     },
     "execution_count": 12,
     "metadata": {},
     "output_type": "execute_result"
    }
   ],
   "source": [
    "# Is (gvkey, fyear) PK?\n",
    "compa[compa.duplicated(['gvkey', 'fyear'])]"
   ]
  },
  {
   "cell_type": "code",
   "execution_count": 13,
   "metadata": {},
   "outputs": [
    {
     "data": {
      "text/html": [
       "<div>\n",
       "<style scoped>\n",
       "    .dataframe tbody tr th:only-of-type {\n",
       "        vertical-align: middle;\n",
       "    }\n",
       "\n",
       "    .dataframe tbody tr th {\n",
       "        vertical-align: top;\n",
       "    }\n",
       "\n",
       "    .dataframe thead th {\n",
       "        text-align: right;\n",
       "    }\n",
       "</style>\n",
       "<table border=\"1\" class=\"dataframe\">\n",
       "  <thead>\n",
       "    <tr style=\"text-align: right;\">\n",
       "      <th></th>\n",
       "      <th>gvkey</th>\n",
       "      <th>datadate</th>\n",
       "      <th>conm</th>\n",
       "      <th>tic</th>\n",
       "      <th>cusip</th>\n",
       "      <th>fyear</th>\n",
       "      <th>fyr</th>\n",
       "      <th>at</th>\n",
       "      <th>capx</th>\n",
       "      <th>ceq</th>\n",
       "      <th>...</th>\n",
       "      <th>seq</th>\n",
       "      <th>sich</th>\n",
       "      <th>txdb</th>\n",
       "      <th>txdi</th>\n",
       "      <th>txditc</th>\n",
       "      <th>wcapch</th>\n",
       "      <th>xint</th>\n",
       "      <th>xlr</th>\n",
       "      <th>xrd</th>\n",
       "      <th>xsga</th>\n",
       "    </tr>\n",
       "  </thead>\n",
       "  <tbody>\n",
       "    <tr>\n",
       "      <th>65644</th>\n",
       "      <td>006557</td>\n",
       "      <td>1980-08-31</td>\n",
       "      <td>LAIDLAW INTERNATIONAL INC</td>\n",
       "      <td>LI.3</td>\n",
       "      <td>50730R102</td>\n",
       "      <td>1980.0</td>\n",
       "      <td>8.0</td>\n",
       "      <td>201.266</td>\n",
       "      <td>38.344</td>\n",
       "      <td>50.957</td>\n",
       "      <td>...</td>\n",
       "      <td>73.039</td>\n",
       "      <td>NaN</td>\n",
       "      <td>14.636</td>\n",
       "      <td>3.474</td>\n",
       "      <td>14.636</td>\n",
       "      <td>NaN</td>\n",
       "      <td>7.208</td>\n",
       "      <td>NaN</td>\n",
       "      <td>NaN</td>\n",
       "      <td>NaN</td>\n",
       "    </tr>\n",
       "    <tr>\n",
       "      <th>65645</th>\n",
       "      <td>006557</td>\n",
       "      <td>1981-08-31</td>\n",
       "      <td>LAIDLAW INTERNATIONAL INC</td>\n",
       "      <td>LI.3</td>\n",
       "      <td>50730R102</td>\n",
       "      <td>1981.0</td>\n",
       "      <td>8.0</td>\n",
       "      <td>242.081</td>\n",
       "      <td>53.382</td>\n",
       "      <td>59.995</td>\n",
       "      <td>...</td>\n",
       "      <td>81.481</td>\n",
       "      <td>NaN</td>\n",
       "      <td>18.192</td>\n",
       "      <td>3.276</td>\n",
       "      <td>18.192</td>\n",
       "      <td>NaN</td>\n",
       "      <td>11.743</td>\n",
       "      <td>NaN</td>\n",
       "      <td>NaN</td>\n",
       "      <td>NaN</td>\n",
       "    </tr>\n",
       "    <tr>\n",
       "      <th>65646</th>\n",
       "      <td>006557</td>\n",
       "      <td>1982-08-31</td>\n",
       "      <td>LAIDLAW INTERNATIONAL INC</td>\n",
       "      <td>LI.3</td>\n",
       "      <td>50730R102</td>\n",
       "      <td>1982.0</td>\n",
       "      <td>8.0</td>\n",
       "      <td>251.360</td>\n",
       "      <td>47.089</td>\n",
       "      <td>63.491</td>\n",
       "      <td>...</td>\n",
       "      <td>84.314</td>\n",
       "      <td>NaN</td>\n",
       "      <td>19.938</td>\n",
       "      <td>2.672</td>\n",
       "      <td>19.938</td>\n",
       "      <td>13.777</td>\n",
       "      <td>14.309</td>\n",
       "      <td>NaN</td>\n",
       "      <td>NaN</td>\n",
       "      <td>NaN</td>\n",
       "    </tr>\n",
       "    <tr>\n",
       "      <th>65647</th>\n",
       "      <td>006557</td>\n",
       "      <td>1982-12-31</td>\n",
       "      <td>LAIDLAW INTERNATIONAL INC</td>\n",
       "      <td>LI.3</td>\n",
       "      <td>50730R102</td>\n",
       "      <td>1982.0</td>\n",
       "      <td>12.0</td>\n",
       "      <td>NaN</td>\n",
       "      <td>NaN</td>\n",
       "      <td>NaN</td>\n",
       "      <td>...</td>\n",
       "      <td>NaN</td>\n",
       "      <td>NaN</td>\n",
       "      <td>NaN</td>\n",
       "      <td>NaN</td>\n",
       "      <td>NaN</td>\n",
       "      <td>NaN</td>\n",
       "      <td>NaN</td>\n",
       "      <td>NaN</td>\n",
       "      <td>NaN</td>\n",
       "      <td>NaN</td>\n",
       "    </tr>\n",
       "    <tr>\n",
       "      <th>65648</th>\n",
       "      <td>006557</td>\n",
       "      <td>1983-08-31</td>\n",
       "      <td>LAIDLAW INTERNATIONAL INC</td>\n",
       "      <td>LI.3</td>\n",
       "      <td>50730R102</td>\n",
       "      <td>1983.0</td>\n",
       "      <td>8.0</td>\n",
       "      <td>328.891</td>\n",
       "      <td>78.264</td>\n",
       "      <td>103.481</td>\n",
       "      <td>...</td>\n",
       "      <td>120.161</td>\n",
       "      <td>NaN</td>\n",
       "      <td>25.469</td>\n",
       "      <td>5.533</td>\n",
       "      <td>25.469</td>\n",
       "      <td>3.109</td>\n",
       "      <td>8.879</td>\n",
       "      <td>NaN</td>\n",
       "      <td>NaN</td>\n",
       "      <td>17.218</td>\n",
       "    </tr>\n",
       "    <tr>\n",
       "      <th>65649</th>\n",
       "      <td>006557</td>\n",
       "      <td>1983-12-31</td>\n",
       "      <td>LAIDLAW INTERNATIONAL INC</td>\n",
       "      <td>LI.3</td>\n",
       "      <td>50730R102</td>\n",
       "      <td>1983.0</td>\n",
       "      <td>12.0</td>\n",
       "      <td>NaN</td>\n",
       "      <td>NaN</td>\n",
       "      <td>NaN</td>\n",
       "      <td>...</td>\n",
       "      <td>NaN</td>\n",
       "      <td>NaN</td>\n",
       "      <td>NaN</td>\n",
       "      <td>NaN</td>\n",
       "      <td>NaN</td>\n",
       "      <td>NaN</td>\n",
       "      <td>NaN</td>\n",
       "      <td>NaN</td>\n",
       "      <td>NaN</td>\n",
       "      <td>NaN</td>\n",
       "    </tr>\n",
       "    <tr>\n",
       "      <th>65650</th>\n",
       "      <td>006557</td>\n",
       "      <td>1984-08-31</td>\n",
       "      <td>LAIDLAW INTERNATIONAL INC</td>\n",
       "      <td>LI.3</td>\n",
       "      <td>50730R102</td>\n",
       "      <td>1984.0</td>\n",
       "      <td>8.0</td>\n",
       "      <td>426.880</td>\n",
       "      <td>93.098</td>\n",
       "      <td>177.188</td>\n",
       "      <td>...</td>\n",
       "      <td>191.757</td>\n",
       "      <td>NaN</td>\n",
       "      <td>31.525</td>\n",
       "      <td>7.398</td>\n",
       "      <td>31.525</td>\n",
       "      <td>19.261</td>\n",
       "      <td>10.364</td>\n",
       "      <td>NaN</td>\n",
       "      <td>NaN</td>\n",
       "      <td>24.115</td>\n",
       "    </tr>\n",
       "    <tr>\n",
       "      <th>65651</th>\n",
       "      <td>006557</td>\n",
       "      <td>1985-08-31</td>\n",
       "      <td>LAIDLAW INTERNATIONAL INC</td>\n",
       "      <td>LI.3</td>\n",
       "      <td>50730R102</td>\n",
       "      <td>1985.0</td>\n",
       "      <td>8.0</td>\n",
       "      <td>652.477</td>\n",
       "      <td>149.695</td>\n",
       "      <td>225.685</td>\n",
       "      <td>...</td>\n",
       "      <td>357.124</td>\n",
       "      <td>NaN</td>\n",
       "      <td>34.765</td>\n",
       "      <td>7.129</td>\n",
       "      <td>34.765</td>\n",
       "      <td>111.813</td>\n",
       "      <td>15.567</td>\n",
       "      <td>NaN</td>\n",
       "      <td>NaN</td>\n",
       "      <td>32.761</td>\n",
       "    </tr>\n",
       "    <tr>\n",
       "      <th>65652</th>\n",
       "      <td>006557</td>\n",
       "      <td>1986-08-31</td>\n",
       "      <td>LAIDLAW INTERNATIONAL INC</td>\n",
       "      <td>LI.3</td>\n",
       "      <td>50730R102</td>\n",
       "      <td>1986.0</td>\n",
       "      <td>8.0</td>\n",
       "      <td>901.769</td>\n",
       "      <td>149.687</td>\n",
       "      <td>406.137</td>\n",
       "      <td>...</td>\n",
       "      <td>537.574</td>\n",
       "      <td>NaN</td>\n",
       "      <td>36.442</td>\n",
       "      <td>14.026</td>\n",
       "      <td>36.442</td>\n",
       "      <td>NaN</td>\n",
       "      <td>20.606</td>\n",
       "      <td>NaN</td>\n",
       "      <td>NaN</td>\n",
       "      <td>43.760</td>\n",
       "    </tr>\n",
       "    <tr>\n",
       "      <th>65653</th>\n",
       "      <td>006557</td>\n",
       "      <td>1987-08-31</td>\n",
       "      <td>LAIDLAW INTERNATIONAL INC</td>\n",
       "      <td>LI.3</td>\n",
       "      <td>50730R102</td>\n",
       "      <td>1987.0</td>\n",
       "      <td>8.0</td>\n",
       "      <td>1655.019</td>\n",
       "      <td>242.522</td>\n",
       "      <td>821.060</td>\n",
       "      <td>...</td>\n",
       "      <td>1138.647</td>\n",
       "      <td>4953.0</td>\n",
       "      <td>38.797</td>\n",
       "      <td>14.087</td>\n",
       "      <td>38.797</td>\n",
       "      <td>NaN</td>\n",
       "      <td>41.287</td>\n",
       "      <td>NaN</td>\n",
       "      <td>NaN</td>\n",
       "      <td>71.831</td>\n",
       "    </tr>\n",
       "  </tbody>\n",
       "</table>\n",
       "<p>10 rows × 39 columns</p>\n",
       "</div>"
      ],
      "text/plain": [
       "        gvkey   datadate                       conm   tic      cusip   fyear  \\\n",
       "65644  006557 1980-08-31  LAIDLAW INTERNATIONAL INC  LI.3  50730R102  1980.0   \n",
       "65645  006557 1981-08-31  LAIDLAW INTERNATIONAL INC  LI.3  50730R102  1981.0   \n",
       "65646  006557 1982-08-31  LAIDLAW INTERNATIONAL INC  LI.3  50730R102  1982.0   \n",
       "65647  006557 1982-12-31  LAIDLAW INTERNATIONAL INC  LI.3  50730R102  1982.0   \n",
       "65648  006557 1983-08-31  LAIDLAW INTERNATIONAL INC  LI.3  50730R102  1983.0   \n",
       "65649  006557 1983-12-31  LAIDLAW INTERNATIONAL INC  LI.3  50730R102  1983.0   \n",
       "65650  006557 1984-08-31  LAIDLAW INTERNATIONAL INC  LI.3  50730R102  1984.0   \n",
       "65651  006557 1985-08-31  LAIDLAW INTERNATIONAL INC  LI.3  50730R102  1985.0   \n",
       "65652  006557 1986-08-31  LAIDLAW INTERNATIONAL INC  LI.3  50730R102  1986.0   \n",
       "65653  006557 1987-08-31  LAIDLAW INTERNATIONAL INC  LI.3  50730R102  1987.0   \n",
       "\n",
       "        fyr        at     capx      ceq  ...       seq    sich    txdb  \\\n",
       "65644   8.0   201.266   38.344   50.957  ...    73.039     NaN  14.636   \n",
       "65645   8.0   242.081   53.382   59.995  ...    81.481     NaN  18.192   \n",
       "65646   8.0   251.360   47.089   63.491  ...    84.314     NaN  19.938   \n",
       "65647  12.0       NaN      NaN      NaN  ...       NaN     NaN     NaN   \n",
       "65648   8.0   328.891   78.264  103.481  ...   120.161     NaN  25.469   \n",
       "65649  12.0       NaN      NaN      NaN  ...       NaN     NaN     NaN   \n",
       "65650   8.0   426.880   93.098  177.188  ...   191.757     NaN  31.525   \n",
       "65651   8.0   652.477  149.695  225.685  ...   357.124     NaN  34.765   \n",
       "65652   8.0   901.769  149.687  406.137  ...   537.574     NaN  36.442   \n",
       "65653   8.0  1655.019  242.522  821.060  ...  1138.647  4953.0  38.797   \n",
       "\n",
       "         txdi  txditc   wcapch    xint  xlr  xrd    xsga  \n",
       "65644   3.474  14.636      NaN   7.208  NaN  NaN     NaN  \n",
       "65645   3.276  18.192      NaN  11.743  NaN  NaN     NaN  \n",
       "65646   2.672  19.938   13.777  14.309  NaN  NaN     NaN  \n",
       "65647     NaN     NaN      NaN     NaN  NaN  NaN     NaN  \n",
       "65648   5.533  25.469    3.109   8.879  NaN  NaN  17.218  \n",
       "65649     NaN     NaN      NaN     NaN  NaN  NaN     NaN  \n",
       "65650   7.398  31.525   19.261  10.364  NaN  NaN  24.115  \n",
       "65651   7.129  34.765  111.813  15.567  NaN  NaN  32.761  \n",
       "65652  14.026  36.442      NaN  20.606  NaN  NaN  43.760  \n",
       "65653  14.087  38.797      NaN  41.287  NaN  NaN  71.831  \n",
       "\n",
       "[10 rows x 39 columns]"
      ]
     },
     "execution_count": 13,
     "metadata": {},
     "output_type": "execute_result"
    }
   ],
   "source": [
    "compa[compa.gvkey=='006557'].head(10)"
   ]
  },
  {
   "cell_type": "code",
   "execution_count": 14,
   "metadata": {
    "slideshow": {
     "slide_type": "subslide"
    }
   },
   "outputs": [
    {
     "data": {
      "text/html": [
       "<div>\n",
       "<style scoped>\n",
       "    .dataframe tbody tr th:only-of-type {\n",
       "        vertical-align: middle;\n",
       "    }\n",
       "\n",
       "    .dataframe tbody tr th {\n",
       "        vertical-align: top;\n",
       "    }\n",
       "\n",
       "    .dataframe thead th {\n",
       "        text-align: right;\n",
       "    }\n",
       "</style>\n",
       "<table border=\"1\" class=\"dataframe\">\n",
       "  <thead>\n",
       "    <tr style=\"text-align: right;\">\n",
       "      <th></th>\n",
       "      <th>gvkey</th>\n",
       "      <th>datadate</th>\n",
       "      <th>conm</th>\n",
       "      <th>tic</th>\n",
       "      <th>cusip</th>\n",
       "      <th>fyear</th>\n",
       "      <th>fyr</th>\n",
       "      <th>at</th>\n",
       "      <th>capx</th>\n",
       "      <th>ceq</th>\n",
       "      <th>...</th>\n",
       "      <th>seq</th>\n",
       "      <th>sich</th>\n",
       "      <th>txdb</th>\n",
       "      <th>txdi</th>\n",
       "      <th>txditc</th>\n",
       "      <th>wcapch</th>\n",
       "      <th>xint</th>\n",
       "      <th>xlr</th>\n",
       "      <th>xrd</th>\n",
       "      <th>xsga</th>\n",
       "    </tr>\n",
       "  </thead>\n",
       "  <tbody>\n",
       "    <tr>\n",
       "      <th>65646</th>\n",
       "      <td>006557</td>\n",
       "      <td>1982-08-31</td>\n",
       "      <td>LAIDLAW INTERNATIONAL INC</td>\n",
       "      <td>LI.3</td>\n",
       "      <td>50730R102</td>\n",
       "      <td>1982.0</td>\n",
       "      <td>8.0</td>\n",
       "      <td>251.360</td>\n",
       "      <td>47.089</td>\n",
       "      <td>63.491</td>\n",
       "      <td>...</td>\n",
       "      <td>84.314</td>\n",
       "      <td>NaN</td>\n",
       "      <td>19.938</td>\n",
       "      <td>2.672</td>\n",
       "      <td>19.938</td>\n",
       "      <td>13.777</td>\n",
       "      <td>14.309</td>\n",
       "      <td>NaN</td>\n",
       "      <td>NaN</td>\n",
       "      <td>NaN</td>\n",
       "    </tr>\n",
       "    <tr>\n",
       "      <th>65648</th>\n",
       "      <td>006557</td>\n",
       "      <td>1983-08-31</td>\n",
       "      <td>LAIDLAW INTERNATIONAL INC</td>\n",
       "      <td>LI.3</td>\n",
       "      <td>50730R102</td>\n",
       "      <td>1983.0</td>\n",
       "      <td>8.0</td>\n",
       "      <td>328.891</td>\n",
       "      <td>78.264</td>\n",
       "      <td>103.481</td>\n",
       "      <td>...</td>\n",
       "      <td>120.161</td>\n",
       "      <td>NaN</td>\n",
       "      <td>25.469</td>\n",
       "      <td>5.533</td>\n",
       "      <td>25.469</td>\n",
       "      <td>3.109</td>\n",
       "      <td>8.879</td>\n",
       "      <td>NaN</td>\n",
       "      <td>NaN</td>\n",
       "      <td>17.218</td>\n",
       "    </tr>\n",
       "    <tr>\n",
       "      <th>287910</th>\n",
       "      <td>039310</td>\n",
       "      <td>2020-12-31</td>\n",
       "      <td>VICTORIAS SECRET AND CO</td>\n",
       "      <td>VSCO</td>\n",
       "      <td>926400102</td>\n",
       "      <td>2020.0</td>\n",
       "      <td>12.0</td>\n",
       "      <td>NaN</td>\n",
       "      <td>NaN</td>\n",
       "      <td>NaN</td>\n",
       "      <td>...</td>\n",
       "      <td>NaN</td>\n",
       "      <td>NaN</td>\n",
       "      <td>NaN</td>\n",
       "      <td>NaN</td>\n",
       "      <td>NaN</td>\n",
       "      <td>NaN</td>\n",
       "      <td>NaN</td>\n",
       "      <td>NaN</td>\n",
       "      <td>NaN</td>\n",
       "      <td>NaN</td>\n",
       "    </tr>\n",
       "    <tr>\n",
       "      <th>324923</th>\n",
       "      <td>066552</td>\n",
       "      <td>2014-12-31</td>\n",
       "      <td>BIO LAB NATURALS INC</td>\n",
       "      <td>BLAB</td>\n",
       "      <td>090622200</td>\n",
       "      <td>2014.0</td>\n",
       "      <td>12.0</td>\n",
       "      <td>NaN</td>\n",
       "      <td>NaN</td>\n",
       "      <td>NaN</td>\n",
       "      <td>...</td>\n",
       "      <td>NaN</td>\n",
       "      <td>NaN</td>\n",
       "      <td>NaN</td>\n",
       "      <td>NaN</td>\n",
       "      <td>NaN</td>\n",
       "      <td>NaN</td>\n",
       "      <td>NaN</td>\n",
       "      <td>NaN</td>\n",
       "      <td>NaN</td>\n",
       "      <td>NaN</td>\n",
       "    </tr>\n",
       "    <tr>\n",
       "      <th>324924</th>\n",
       "      <td>066552</td>\n",
       "      <td>2015-06-30</td>\n",
       "      <td>BIO LAB NATURALS INC</td>\n",
       "      <td>BLAB</td>\n",
       "      <td>090622200</td>\n",
       "      <td>2015.0</td>\n",
       "      <td>6.0</td>\n",
       "      <td>NaN</td>\n",
       "      <td>NaN</td>\n",
       "      <td>NaN</td>\n",
       "      <td>...</td>\n",
       "      <td>NaN</td>\n",
       "      <td>NaN</td>\n",
       "      <td>NaN</td>\n",
       "      <td>NaN</td>\n",
       "      <td>NaN</td>\n",
       "      <td>NaN</td>\n",
       "      <td>NaN</td>\n",
       "      <td>NaN</td>\n",
       "      <td>NaN</td>\n",
       "      <td>NaN</td>\n",
       "    </tr>\n",
       "    <tr>\n",
       "      <th>324928</th>\n",
       "      <td>066552</td>\n",
       "      <td>2016-06-30</td>\n",
       "      <td>BIO LAB NATURALS INC</td>\n",
       "      <td>BLAB</td>\n",
       "      <td>090622200</td>\n",
       "      <td>2016.0</td>\n",
       "      <td>6.0</td>\n",
       "      <td>NaN</td>\n",
       "      <td>NaN</td>\n",
       "      <td>NaN</td>\n",
       "      <td>...</td>\n",
       "      <td>NaN</td>\n",
       "      <td>NaN</td>\n",
       "      <td>NaN</td>\n",
       "      <td>NaN</td>\n",
       "      <td>NaN</td>\n",
       "      <td>NaN</td>\n",
       "      <td>NaN</td>\n",
       "      <td>NaN</td>\n",
       "      <td>NaN</td>\n",
       "      <td>NaN</td>\n",
       "    </tr>\n",
       "    <tr>\n",
       "      <th>324930</th>\n",
       "      <td>066552</td>\n",
       "      <td>2017-06-30</td>\n",
       "      <td>BIO LAB NATURALS INC</td>\n",
       "      <td>BLAB</td>\n",
       "      <td>090622200</td>\n",
       "      <td>2017.0</td>\n",
       "      <td>6.0</td>\n",
       "      <td>NaN</td>\n",
       "      <td>NaN</td>\n",
       "      <td>NaN</td>\n",
       "      <td>...</td>\n",
       "      <td>NaN</td>\n",
       "      <td>NaN</td>\n",
       "      <td>NaN</td>\n",
       "      <td>NaN</td>\n",
       "      <td>NaN</td>\n",
       "      <td>NaN</td>\n",
       "      <td>NaN</td>\n",
       "      <td>NaN</td>\n",
       "      <td>NaN</td>\n",
       "      <td>NaN</td>\n",
       "    </tr>\n",
       "    <tr>\n",
       "      <th>324934</th>\n",
       "      <td>066552</td>\n",
       "      <td>2018-06-30</td>\n",
       "      <td>BIO LAB NATURALS INC</td>\n",
       "      <td>BLAB</td>\n",
       "      <td>090622200</td>\n",
       "      <td>2018.0</td>\n",
       "      <td>6.0</td>\n",
       "      <td>NaN</td>\n",
       "      <td>NaN</td>\n",
       "      <td>NaN</td>\n",
       "      <td>...</td>\n",
       "      <td>NaN</td>\n",
       "      <td>NaN</td>\n",
       "      <td>NaN</td>\n",
       "      <td>NaN</td>\n",
       "      <td>NaN</td>\n",
       "      <td>NaN</td>\n",
       "      <td>NaN</td>\n",
       "      <td>NaN</td>\n",
       "      <td>NaN</td>\n",
       "      <td>NaN</td>\n",
       "    </tr>\n",
       "    <tr>\n",
       "      <th>324939</th>\n",
       "      <td>066552</td>\n",
       "      <td>2019-06-30</td>\n",
       "      <td>BIO LAB NATURALS INC</td>\n",
       "      <td>BLAB</td>\n",
       "      <td>090622200</td>\n",
       "      <td>2019.0</td>\n",
       "      <td>6.0</td>\n",
       "      <td>NaN</td>\n",
       "      <td>NaN</td>\n",
       "      <td>NaN</td>\n",
       "      <td>...</td>\n",
       "      <td>NaN</td>\n",
       "      <td>NaN</td>\n",
       "      <td>NaN</td>\n",
       "      <td>NaN</td>\n",
       "      <td>NaN</td>\n",
       "      <td>NaN</td>\n",
       "      <td>NaN</td>\n",
       "      <td>NaN</td>\n",
       "      <td>NaN</td>\n",
       "      <td>NaN</td>\n",
       "    </tr>\n",
       "    <tr>\n",
       "      <th>324952</th>\n",
       "      <td>066552</td>\n",
       "      <td>2010-06-30</td>\n",
       "      <td>BIO LAB NATURALS INC</td>\n",
       "      <td>BLAB</td>\n",
       "      <td>090622200</td>\n",
       "      <td>2010.0</td>\n",
       "      <td>6.0</td>\n",
       "      <td>NaN</td>\n",
       "      <td>NaN</td>\n",
       "      <td>NaN</td>\n",
       "      <td>...</td>\n",
       "      <td>NaN</td>\n",
       "      <td>NaN</td>\n",
       "      <td>NaN</td>\n",
       "      <td>NaN</td>\n",
       "      <td>NaN</td>\n",
       "      <td>NaN</td>\n",
       "      <td>NaN</td>\n",
       "      <td>NaN</td>\n",
       "      <td>NaN</td>\n",
       "      <td>NaN</td>\n",
       "    </tr>\n",
       "    <tr>\n",
       "      <th>324954</th>\n",
       "      <td>066552</td>\n",
       "      <td>2011-06-30</td>\n",
       "      <td>BIO LAB NATURALS INC</td>\n",
       "      <td>BLAB</td>\n",
       "      <td>090622200</td>\n",
       "      <td>2011.0</td>\n",
       "      <td>6.0</td>\n",
       "      <td>NaN</td>\n",
       "      <td>NaN</td>\n",
       "      <td>NaN</td>\n",
       "      <td>...</td>\n",
       "      <td>NaN</td>\n",
       "      <td>NaN</td>\n",
       "      <td>NaN</td>\n",
       "      <td>NaN</td>\n",
       "      <td>NaN</td>\n",
       "      <td>NaN</td>\n",
       "      <td>NaN</td>\n",
       "      <td>NaN</td>\n",
       "      <td>NaN</td>\n",
       "      <td>NaN</td>\n",
       "    </tr>\n",
       "    <tr>\n",
       "      <th>324956</th>\n",
       "      <td>066552</td>\n",
       "      <td>2012-06-30</td>\n",
       "      <td>BIO LAB NATURALS INC</td>\n",
       "      <td>BLAB</td>\n",
       "      <td>090622200</td>\n",
       "      <td>2012.0</td>\n",
       "      <td>6.0</td>\n",
       "      <td>NaN</td>\n",
       "      <td>NaN</td>\n",
       "      <td>NaN</td>\n",
       "      <td>...</td>\n",
       "      <td>NaN</td>\n",
       "      <td>NaN</td>\n",
       "      <td>NaN</td>\n",
       "      <td>NaN</td>\n",
       "      <td>NaN</td>\n",
       "      <td>NaN</td>\n",
       "      <td>NaN</td>\n",
       "      <td>NaN</td>\n",
       "      <td>NaN</td>\n",
       "      <td>NaN</td>\n",
       "    </tr>\n",
       "    <tr>\n",
       "      <th>324958</th>\n",
       "      <td>066552</td>\n",
       "      <td>2013-06-30</td>\n",
       "      <td>BIO LAB NATURALS INC</td>\n",
       "      <td>BLAB</td>\n",
       "      <td>090622200</td>\n",
       "      <td>2013.0</td>\n",
       "      <td>6.0</td>\n",
       "      <td>NaN</td>\n",
       "      <td>NaN</td>\n",
       "      <td>NaN</td>\n",
       "      <td>...</td>\n",
       "      <td>NaN</td>\n",
       "      <td>NaN</td>\n",
       "      <td>NaN</td>\n",
       "      <td>NaN</td>\n",
       "      <td>NaN</td>\n",
       "      <td>NaN</td>\n",
       "      <td>NaN</td>\n",
       "      <td>NaN</td>\n",
       "      <td>NaN</td>\n",
       "      <td>NaN</td>\n",
       "    </tr>\n",
       "  </tbody>\n",
       "</table>\n",
       "<p>13 rows × 39 columns</p>\n",
       "</div>"
      ],
      "text/plain": [
       "         gvkey   datadate                       conm   tic      cusip   fyear  \\\n",
       "65646   006557 1982-08-31  LAIDLAW INTERNATIONAL INC  LI.3  50730R102  1982.0   \n",
       "65648   006557 1983-08-31  LAIDLAW INTERNATIONAL INC  LI.3  50730R102  1983.0   \n",
       "287910  039310 2020-12-31    VICTORIAS SECRET AND CO  VSCO  926400102  2020.0   \n",
       "324923  066552 2014-12-31       BIO LAB NATURALS INC  BLAB  090622200  2014.0   \n",
       "324924  066552 2015-06-30       BIO LAB NATURALS INC  BLAB  090622200  2015.0   \n",
       "324928  066552 2016-06-30       BIO LAB NATURALS INC  BLAB  090622200  2016.0   \n",
       "324930  066552 2017-06-30       BIO LAB NATURALS INC  BLAB  090622200  2017.0   \n",
       "324934  066552 2018-06-30       BIO LAB NATURALS INC  BLAB  090622200  2018.0   \n",
       "324939  066552 2019-06-30       BIO LAB NATURALS INC  BLAB  090622200  2019.0   \n",
       "324952  066552 2010-06-30       BIO LAB NATURALS INC  BLAB  090622200  2010.0   \n",
       "324954  066552 2011-06-30       BIO LAB NATURALS INC  BLAB  090622200  2011.0   \n",
       "324956  066552 2012-06-30       BIO LAB NATURALS INC  BLAB  090622200  2012.0   \n",
       "324958  066552 2013-06-30       BIO LAB NATURALS INC  BLAB  090622200  2013.0   \n",
       "\n",
       "         fyr       at    capx      ceq  ...      seq  sich    txdb   txdi  \\\n",
       "65646    8.0  251.360  47.089   63.491  ...   84.314   NaN  19.938  2.672   \n",
       "65648    8.0  328.891  78.264  103.481  ...  120.161   NaN  25.469  5.533   \n",
       "287910  12.0      NaN     NaN      NaN  ...      NaN   NaN     NaN    NaN   \n",
       "324923  12.0      NaN     NaN      NaN  ...      NaN   NaN     NaN    NaN   \n",
       "324924   6.0      NaN     NaN      NaN  ...      NaN   NaN     NaN    NaN   \n",
       "324928   6.0      NaN     NaN      NaN  ...      NaN   NaN     NaN    NaN   \n",
       "324930   6.0      NaN     NaN      NaN  ...      NaN   NaN     NaN    NaN   \n",
       "324934   6.0      NaN     NaN      NaN  ...      NaN   NaN     NaN    NaN   \n",
       "324939   6.0      NaN     NaN      NaN  ...      NaN   NaN     NaN    NaN   \n",
       "324952   6.0      NaN     NaN      NaN  ...      NaN   NaN     NaN    NaN   \n",
       "324954   6.0      NaN     NaN      NaN  ...      NaN   NaN     NaN    NaN   \n",
       "324956   6.0      NaN     NaN      NaN  ...      NaN   NaN     NaN    NaN   \n",
       "324958   6.0      NaN     NaN      NaN  ...      NaN   NaN     NaN    NaN   \n",
       "\n",
       "        txditc  wcapch    xint  xlr  xrd    xsga  \n",
       "65646   19.938  13.777  14.309  NaN  NaN     NaN  \n",
       "65648   25.469   3.109   8.879  NaN  NaN  17.218  \n",
       "287910     NaN     NaN     NaN  NaN  NaN     NaN  \n",
       "324923     NaN     NaN     NaN  NaN  NaN     NaN  \n",
       "324924     NaN     NaN     NaN  NaN  NaN     NaN  \n",
       "324928     NaN     NaN     NaN  NaN  NaN     NaN  \n",
       "324930     NaN     NaN     NaN  NaN  NaN     NaN  \n",
       "324934     NaN     NaN     NaN  NaN  NaN     NaN  \n",
       "324939     NaN     NaN     NaN  NaN  NaN     NaN  \n",
       "324952     NaN     NaN     NaN  NaN  NaN     NaN  \n",
       "324954     NaN     NaN     NaN  NaN  NaN     NaN  \n",
       "324956     NaN     NaN     NaN  NaN  NaN     NaN  \n",
       "324958     NaN     NaN     NaN  NaN  NaN     NaN  \n",
       "\n",
       "[13 rows x 39 columns]"
      ]
     },
     "execution_count": 14,
     "metadata": {},
     "output_type": "execute_result"
    }
   ],
   "source": [
    "# Check duplicates\n",
    "compa[compa.duplicated(['gvkey', 'fyear'], keep='last')]"
   ]
  },
  {
   "cell_type": "code",
   "execution_count": 15,
   "metadata": {
    "slideshow": {
     "slide_type": "subslide"
    }
   },
   "outputs": [
    {
     "data": {
      "text/html": [
       "<div>\n",
       "<style scoped>\n",
       "    .dataframe tbody tr th:only-of-type {\n",
       "        vertical-align: middle;\n",
       "    }\n",
       "\n",
       "    .dataframe tbody tr th {\n",
       "        vertical-align: top;\n",
       "    }\n",
       "\n",
       "    .dataframe thead th {\n",
       "        text-align: right;\n",
       "    }\n",
       "</style>\n",
       "<table border=\"1\" class=\"dataframe\">\n",
       "  <thead>\n",
       "    <tr style=\"text-align: right;\">\n",
       "      <th></th>\n",
       "      <th>gvkey</th>\n",
       "      <th>datadate</th>\n",
       "      <th>fyear</th>\n",
       "      <th>fyr</th>\n",
       "      <th>conm</th>\n",
       "      <th>at</th>\n",
       "    </tr>\n",
       "  </thead>\n",
       "  <tbody>\n",
       "    <tr>\n",
       "      <th>65644</th>\n",
       "      <td>006557</td>\n",
       "      <td>1980-08-31</td>\n",
       "      <td>1980.0</td>\n",
       "      <td>8.0</td>\n",
       "      <td>LAIDLAW INTERNATIONAL INC</td>\n",
       "      <td>201.266</td>\n",
       "    </tr>\n",
       "    <tr>\n",
       "      <th>65645</th>\n",
       "      <td>006557</td>\n",
       "      <td>1981-08-31</td>\n",
       "      <td>1981.0</td>\n",
       "      <td>8.0</td>\n",
       "      <td>LAIDLAW INTERNATIONAL INC</td>\n",
       "      <td>242.081</td>\n",
       "    </tr>\n",
       "    <tr>\n",
       "      <th>65646</th>\n",
       "      <td>006557</td>\n",
       "      <td>1982-08-31</td>\n",
       "      <td>1982.0</td>\n",
       "      <td>8.0</td>\n",
       "      <td>LAIDLAW INTERNATIONAL INC</td>\n",
       "      <td>251.360</td>\n",
       "    </tr>\n",
       "    <tr>\n",
       "      <th>65647</th>\n",
       "      <td>006557</td>\n",
       "      <td>1982-12-31</td>\n",
       "      <td>1982.0</td>\n",
       "      <td>12.0</td>\n",
       "      <td>LAIDLAW INTERNATIONAL INC</td>\n",
       "      <td>NaN</td>\n",
       "    </tr>\n",
       "    <tr>\n",
       "      <th>65648</th>\n",
       "      <td>006557</td>\n",
       "      <td>1983-08-31</td>\n",
       "      <td>1983.0</td>\n",
       "      <td>8.0</td>\n",
       "      <td>LAIDLAW INTERNATIONAL INC</td>\n",
       "      <td>328.891</td>\n",
       "    </tr>\n",
       "    <tr>\n",
       "      <th>65649</th>\n",
       "      <td>006557</td>\n",
       "      <td>1983-12-31</td>\n",
       "      <td>1983.0</td>\n",
       "      <td>12.0</td>\n",
       "      <td>LAIDLAW INTERNATIONAL INC</td>\n",
       "      <td>NaN</td>\n",
       "    </tr>\n",
       "    <tr>\n",
       "      <th>65650</th>\n",
       "      <td>006557</td>\n",
       "      <td>1984-08-31</td>\n",
       "      <td>1984.0</td>\n",
       "      <td>8.0</td>\n",
       "      <td>LAIDLAW INTERNATIONAL INC</td>\n",
       "      <td>426.880</td>\n",
       "    </tr>\n",
       "    <tr>\n",
       "      <th>65651</th>\n",
       "      <td>006557</td>\n",
       "      <td>1985-08-31</td>\n",
       "      <td>1985.0</td>\n",
       "      <td>8.0</td>\n",
       "      <td>LAIDLAW INTERNATIONAL INC</td>\n",
       "      <td>652.477</td>\n",
       "    </tr>\n",
       "    <tr>\n",
       "      <th>65652</th>\n",
       "      <td>006557</td>\n",
       "      <td>1986-08-31</td>\n",
       "      <td>1986.0</td>\n",
       "      <td>8.0</td>\n",
       "      <td>LAIDLAW INTERNATIONAL INC</td>\n",
       "      <td>901.769</td>\n",
       "    </tr>\n",
       "    <tr>\n",
       "      <th>65653</th>\n",
       "      <td>006557</td>\n",
       "      <td>1987-08-31</td>\n",
       "      <td>1987.0</td>\n",
       "      <td>8.0</td>\n",
       "      <td>LAIDLAW INTERNATIONAL INC</td>\n",
       "      <td>1655.019</td>\n",
       "    </tr>\n",
       "  </tbody>\n",
       "</table>\n",
       "</div>"
      ],
      "text/plain": [
       "        gvkey   datadate   fyear   fyr                       conm        at\n",
       "65644  006557 1980-08-31  1980.0   8.0  LAIDLAW INTERNATIONAL INC   201.266\n",
       "65645  006557 1981-08-31  1981.0   8.0  LAIDLAW INTERNATIONAL INC   242.081\n",
       "65646  006557 1982-08-31  1982.0   8.0  LAIDLAW INTERNATIONAL INC   251.360\n",
       "65647  006557 1982-12-31  1982.0  12.0  LAIDLAW INTERNATIONAL INC       NaN\n",
       "65648  006557 1983-08-31  1983.0   8.0  LAIDLAW INTERNATIONAL INC   328.891\n",
       "65649  006557 1983-12-31  1983.0  12.0  LAIDLAW INTERNATIONAL INC       NaN\n",
       "65650  006557 1984-08-31  1984.0   8.0  LAIDLAW INTERNATIONAL INC   426.880\n",
       "65651  006557 1985-08-31  1985.0   8.0  LAIDLAW INTERNATIONAL INC   652.477\n",
       "65652  006557 1986-08-31  1986.0   8.0  LAIDLAW INTERNATIONAL INC   901.769\n",
       "65653  006557 1987-08-31  1987.0   8.0  LAIDLAW INTERNATIONAL INC  1655.019"
      ]
     },
     "execution_count": 15,
     "metadata": {},
     "output_type": "execute_result"
    }
   ],
   "source": [
    "# Example of a company that have two reports for the same year\n",
    "compa.loc[compa.gvkey=='006557',['gvkey','datadate','fyear','fyr','conm', 'at']].head(10)"
   ]
  },
  {
   "cell_type": "code",
   "execution_count": 16,
   "metadata": {
    "slideshow": {
     "slide_type": "subslide"
    }
   },
   "outputs": [],
   "source": [
    "# How to deal with duplicates? Keep entry with available data\n",
    "compa.dropna(subset=['fyear'], inplace=True)\n",
    "compa.sort_values(['gvkey','fyear', 'at'], inplace=True)\n",
    "compa = compa[~compa.duplicated(['gvkey', 'fyear'], keep='first')]"
   ]
  },
  {
   "cell_type": "code",
   "execution_count": 17,
   "metadata": {
    "slideshow": {
     "slide_type": "subslide"
    }
   },
   "outputs": [
    {
     "data": {
      "text/plain": [
       "0"
      ]
     },
     "execution_count": 17,
     "metadata": {},
     "output_type": "execute_result"
    }
   ],
   "source": [
    "# Always check your result\n",
    "compa.duplicated(['gvkey', 'fyear']).sum()"
   ]
  },
  {
   "cell_type": "markdown",
   "metadata": {
    "slideshow": {
     "slide_type": "slide"
    }
   },
   "source": [
    "# Calculate Variables of Interest"
   ]
  },
  {
   "cell_type": "markdown",
   "metadata": {
    "slideshow": {
     "slide_type": "slide"
    }
   },
   "source": [
    "## Book Equity\n",
    "\n",
    "Daniel, Mota, Rottke, Santos (RFS, 2020) BE definition:\n",
    "\n",
    "Stockholders book equity, minus the book value of preferred stock, plus balance sheet deferred taxes (if available and fiscal year is < 1993), minus investment tax credit (if available), minus post-retirement benefit assets (PRBA) if available. \n",
    "\n",
    "Stockholders book equity is shareholder equity (SEQ), common equity (CEQ) plus preferred stock (PSTK) or total\n",
    "assets (AT) minus liabilities (LT) plus minority interest (MIB, if available) (depending on availability, in that order). \n",
    "\n",
    "Book value of preferred stock is redemption (PSTKRV), liquidation (PSTKL), or par value (PSTK) (depending on availability, in that order). \n",
    "\n",
    "Deferred taxes is deferred taxes and investment tax credit (TXDITC) or deferred taxes and investment tax credit (TXDB) plus investment tax credit (ITCB) (depending on availability, in that order).\n"
   ]
  },
  {
   "cell_type": "code",
   "execution_count": 18,
   "metadata": {
    "slideshow": {
     "slide_type": "subslide"
    }
   },
   "outputs": [],
   "source": [
    "# Calculating BE\n",
    "# Shareholder Equity\n",
    "compa['se'] = compa['seq']\n",
    "\n",
    "# Uses Common Equity (ceq) + Preferred Stock (pstk) if SEQ is missing:\n",
    "compa['se'].fillna((compa['ceq'] + compa['pstk']), inplace=True)\n",
    "\n",
    "# Uses Total Assets (at) - Liabilities (lt) + Minority Interest (mib, if available), if others are missing\n",
    "compa['se'].fillna((compa['at'] - compa['lt'] + compa['mib'].fillna(0)), inplace=True)"
   ]
  },
  {
   "cell_type": "code",
   "execution_count": 19,
   "metadata": {
    "slideshow": {
     "slide_type": "subslide"
    }
   },
   "outputs": [],
   "source": [
    "# Preferred Stock\n",
    "# Preferred Stock (Redemption Value)\n",
    "compa['ps'] = compa['pstkrv']\n",
    "\n",
    "# Uses Preferred Stock (Liquidating Value (pstkl)) if Preferred Stock (Redemption Value) is missing\n",
    "compa['ps'].fillna(compa['pstkl'], inplace=True)\n",
    "\n",
    "# Uses Preferred Stock (Carrying Value (pstk)) if others are missing\n",
    "compa['ps'].fillna(compa['pstk'], inplace=True)"
   ]
  },
  {
   "cell_type": "code",
   "execution_count": 20,
   "metadata": {
    "slideshow": {
     "slide_type": "subslide"
    }
   },
   "outputs": [],
   "source": [
    "# Deferred Taxes\n",
    "# Uses Deferred Taxes and Investment Tax Credit (txditc)\n",
    "compa['dt'] = compa['txditc']\n",
    "\n",
    "# This was Novy-Marx old legacy code. We drop this part to be in accordance with Ken French.\n",
    "# Uses Deferred Taxes and Investment Tax Credit(txdb) + Investment Tax Credit (Balance Sheet) (itcb) if txditc is missing\n",
    "compa['dt'].fillna((compa['txdb'].fillna(0) + compa['itcb'].fillna(0)), inplace=True)\n",
    "# If all measures are missing, set n  to missing\n",
    "compa.loc[pd.isnull(compa['txditc']) & pd.isnull(compa['txdb']) & pd.isnull(compa['itcb']), 'dt'] = np.nan\n",
    "\n",
    "compa.loc[compa['fyear'] >= 1993, 'dt'] = 0"
   ]
  },
  {
   "cell_type": "code",
   "execution_count": 21,
   "metadata": {
    "slideshow": {
     "slide_type": "subslide"
    }
   },
   "outputs": [],
   "source": [
    "# Book Equity\n",
    "# Book Equity (BE) = Share Equity (se) - Prefered Stocks (ps) + Deferred Taxes (dt)\n",
    "compa['be'] = (compa['se']  # shareholder equity must be available, otherwise BE is missing\n",
    "               - compa['ps']  # preferred stock must be available, otherwise BE is missing\n",
    "               + compa['dt'].fillna(0))  # add deferred taxes if available\n",
    "               #- compa['prba'].fillna(0))  # subtract postretirement benefit assets if available"
   ]
  },
  {
   "cell_type": "markdown",
   "metadata": {
    "slideshow": {
     "slide_type": "subslide"
    }
   },
   "source": [
    "**Look at your data**"
   ]
  },
  {
   "cell_type": "code",
   "execution_count": 22,
   "metadata": {
    "slideshow": {
     "slide_type": "subslide"
    }
   },
   "outputs": [
    {
     "data": {
      "text/plain": [
       "0.16735987953064121"
      ]
     },
     "execution_count": 22,
     "metadata": {},
     "output_type": "execute_result"
    }
   ],
   "source": [
    "# Missings\n",
    "compa.be.isnull().mean()  "
   ]
  },
  {
   "cell_type": "code",
   "execution_count": 23,
   "metadata": {
    "slideshow": {
     "slide_type": "subslide"
    }
   },
   "outputs": [
    {
     "data": {
      "text/plain": [
       "<AxesSubplot:>"
      ]
     },
     "execution_count": 23,
     "metadata": {},
     "output_type": "execute_result"
    },
    {
     "data": {
      "image/png": "[encoded data removed]",
      "text/plain": [
       "<Figure size 720x432 with 1 Axes>"
      ]
     },
     "metadata": {
      "needs_background": "light"
     },
     "output_type": "display_data"
    }
   ],
   "source": [
    "compa.be.hist() "
   ]
  },
  {
   "cell_type": "code",
   "execution_count": 24,
   "metadata": {
    "slideshow": {
     "slide_type": "subslide"
    }
   },
   "outputs": [
    {
     "data": {
      "text/plain": [
       "0.0974255117453089"
      ]
     },
     "execution_count": 24,
     "metadata": {},
     "output_type": "execute_result"
    }
   ],
   "source": [
    "# Does it make sense to have a negative BE?\n",
    "(compa.be<0).mean()   "
   ]
  },
  {
   "cell_type": "code",
   "execution_count": 25,
   "metadata": {
    "slideshow": {
     "slide_type": "subslide"
    }
   },
   "outputs": [
    {
     "data": {
      "text/plain": [
       "<AxesSubplot:>"
      ]
     },
     "execution_count": 25,
     "metadata": {},
     "output_type": "execute_result"
    },
    {
     "data": {
      "image/png": "[encoded data removed]",
      "text/plain": [
       "<Figure size 720x432 with 1 Axes>"
      ]
     },
     "metadata": {
      "needs_background": "light"
     },
     "output_type": "display_data"
    }
   ],
   "source": [
    "compa[compa.be>0].be.hist()"
   ]
  },
  {
   "cell_type": "code",
   "execution_count": 26,
   "metadata": {
    "slideshow": {
     "slide_type": "subslide"
    }
   },
   "outputs": [
    {
     "data": {
      "text/plain": [
       "<AxesSubplot:>"
      ]
     },
     "execution_count": 26,
     "metadata": {},
     "output_type": "execute_result"
    },
    {
     "data": {
      "image/png": "[encoded data removed]",
      "text/plain": [
       "<Figure size 720x432 with 1 Axes>"
      ]
     },
     "metadata": {
      "needs_background": "light"
     },
     "output_type": "display_data"
    }
   ],
   "source": [
    "compa[(compa.be>0)&(compa.be<10e3)&(compa.fyear==2020)].be.hist()"
   ]
  },
  {
   "cell_type": "markdown",
   "metadata": {
    "slideshow": {
     "slide_type": "slide"
    }
   },
   "source": [
    "## Operating Profitability (OPBE)\n",
    "\n",
    "Daniel, Mota, Rottke, Santos (RFS, 2020) OPBE definition:\n",
    "\n",
    "Operating profits to book equity (BE) ratio. \n",
    "\n",
    "Operating profits is sales (SALE) minus cost of goods sold (COGS), minus selling, general, and administrative expenses (XSGA),\n",
    "minus interest expense (XINT). In order to be non-missing, SALE must be non-missing, at least one of the other entries must be non-missing and BE must be greater than zero."
   ]
  },
  {
   "cell_type": "code",
   "execution_count": 27,
   "metadata": {
    "slideshow": {
     "slide_type": "subslide"
    }
   },
   "outputs": [],
   "source": [
    "# COST = COGS + XSGA + XINT \n",
    "compa['cost'] = compa[['cogs', 'xsga', 'xint']].sum(axis=1, skipna=True)\n",
    "compa.loc[compa[['cogs', 'xsga', 'xint']].isnull().all(axis=1), 'cost'] = np.nan"
   ]
  },
  {
   "cell_type": "code",
   "execution_count": 28,
   "metadata": {
    "slideshow": {
     "slide_type": "subslide"
    }
   },
   "outputs": [],
   "source": [
    "# OP = SALE - COST    \n",
    "compa['op'] = compa['sale']-compa['cost']"
   ]
  },
  {
   "cell_type": "markdown",
   "metadata": {
    "slideshow": {
     "slide_type": "subslide"
    }
   },
   "source": [
    "**Always look at your data...**"
   ]
  },
  {
   "cell_type": "code",
   "execution_count": 29,
   "metadata": {
    "slideshow": {
     "slide_type": "subslide"
    }
   },
   "outputs": [
    {
     "data": {
      "text/plain": [
       "0.17156224628182393"
      ]
     },
     "execution_count": 29,
     "metadata": {},
     "output_type": "execute_result"
    }
   ],
   "source": [
    "# Look at missings\n",
    "compa.op.isnull().mean()"
   ]
  },
  {
   "cell_type": "code",
   "execution_count": 30,
   "metadata": {
    "slideshow": {
     "slide_type": "subslide"
    }
   },
   "outputs": [
    {
     "data": {
      "text/plain": [
       "<AxesSubplot:>"
      ]
     },
     "execution_count": 30,
     "metadata": {},
     "output_type": "execute_result"
    },
    {
     "data": {
      "image/png": "[encoded data removed]",
      "text/plain": [
       "<Figure size 720x432 with 1 Axes>"
      ]
     },
     "metadata": {
      "needs_background": "light"
     },
     "output_type": "display_data"
    }
   ],
   "source": [
    "compa[compa.fyear==2020].op.hist()"
   ]
  },
  {
   "cell_type": "code",
   "execution_count": 31,
   "metadata": {
    "slideshow": {
     "slide_type": "subslide"
    }
   },
   "outputs": [
    {
     "data": {
      "text/plain": [
       "gvkey                002176\n",
       "conm     BERKSHIRE HATHAWAY\n",
       "op                  76529.0\n",
       "be                 443164.0\n",
       "at                 873729.0\n",
       "Name: 13833, dtype: object"
      ]
     },
     "execution_count": 31,
     "metadata": {},
     "output_type": "execute_result"
    }
   ],
   "source": [
    "# Which was the most profitable company in 2020?\n",
    "compa.loc[compa[compa.fyear==2020].op.idxmax(),['gvkey','conm','op','be','at']]"
   ]
  },
  {
   "cell_type": "code",
   "execution_count": 32,
   "metadata": {
    "slideshow": {
     "slide_type": "subslide"
    }
   },
   "outputs": [
    {
     "data": {
      "text/plain": [
       "<AxesSubplot:title={'center':\"Apple's OP\"}, xlabel='fyear'>"
      ]
     },
     "execution_count": 32,
     "metadata": {},
     "output_type": "execute_result"
    },
    {
     "data": {
      "image/png": "[encoded data removed]",
      "text/plain": [
       "<Figure size 720x432 with 1 Axes>"
      ]
     },
     "metadata": {
      "needs_background": "light"
     },
     "output_type": "display_data"
    }
   ],
   "source": [
    "# Plot\n",
    "compa[compa.gvkey=='001690'].set_index('fyear').op.plot(title = \"Apple's OP\", grid=True)"
   ]
  },
  {
   "cell_type": "code",
   "execution_count": 33,
   "metadata": {
    "slideshow": {
     "slide_type": "subslide"
    }
   },
   "outputs": [],
   "source": [
    "# Calculate OPBE\n",
    "compa.loc[(compa.be > 0), 'opbe'] = compa['op']/compa['be']"
   ]
  },
  {
   "cell_type": "markdown",
   "metadata": {
    "slideshow": {
     "slide_type": "subslide"
    }
   },
   "source": [
    "**What do we do now?**"
   ]
  },
  {
   "cell_type": "markdown",
   "metadata": {
    "slideshow": {
     "slide_type": "fragment"
    }
   },
   "source": [
    "Look at the data..."
   ]
  },
  {
   "cell_type": "code",
   "execution_count": 34,
   "metadata": {
    "slideshow": {
     "slide_type": "subslide"
    }
   },
   "outputs": [
    {
     "data": {
      "text/plain": [
       "0.2705571254269269"
      ]
     },
     "execution_count": 34,
     "metadata": {},
     "output_type": "execute_result"
    }
   ],
   "source": [
    "# Look at missings\n",
    "compa.opbe.isnull().mean()"
   ]
  },
  {
   "cell_type": "code",
   "execution_count": 35,
   "metadata": {
    "slideshow": {
     "slide_type": "subslide"
    }
   },
   "outputs": [
    {
     "data": {
      "text/plain": [
       "<AxesSubplot:>"
      ]
     },
     "execution_count": 35,
     "metadata": {},
     "output_type": "execute_result"
    },
    {
     "data": {
      "image/png": "[encoded data removed]",
      "text/plain": [
       "<Figure size 720x432 with 1 Axes>"
      ]
     },
     "metadata": {
      "needs_background": "light"
     },
     "output_type": "display_data"
    }
   ],
   "source": [
    "# Be careful with ratios\n",
    "compa.opbe.hist()"
   ]
  },
  {
   "cell_type": "code",
   "execution_count": 36,
   "metadata": {
    "slideshow": {
     "slide_type": "subslide"
    }
   },
   "outputs": [
    {
     "data": {
      "text/plain": [
       "<AxesSubplot:title={'center':\"Apple's OPBE\"}, xlabel='fyear'>"
      ]
     },
     "execution_count": 36,
     "metadata": {},
     "output_type": "execute_result"
    },
    {
     "data": {
      "image/png": "[encoded data removed]",
      "text/plain": [
       "<Figure size 720x432 with 1 Axes>"
      ]
     },
     "metadata": {
      "needs_background": "light"
     },
     "output_type": "display_data"
    }
   ],
   "source": [
    "# Plot\n",
    "compa[compa.gvkey=='001690'].set_index('fyear').opbe.plot(title = \"Apple's OPBE\", grid=True)"
   ]
  },
  {
   "cell_type": "markdown",
   "metadata": {
    "slideshow": {
     "slide_type": "slide"
    }
   },
   "source": [
    "## Investment (INV)\n",
    "\n",
    "Daniel, Mota, Rottke, Santos (RFS, 2020) OP definition:\n",
    "\n",
    "Total asset (AT) growth $(AT_t/AT_{t-1} - 1)$. \n",
    "\n",
    "We consider PERMCO as company's identification key. AT must be greater than zero to be not missing.\n"
   ]
  },
  {
   "cell_type": "code",
   "execution_count": 37,
   "metadata": {
    "slideshow": {
     "slide_type": "subslide"
    }
   },
   "outputs": [],
   "source": [
    "# Calculate lag assets and investment\n",
    "compa.sort_values(['gvkey', 'fyear'], inplace=True)\n",
    "compa['at_lag'] = compa.groupby('gvkey').at.shift(1)\n",
    "compa['inv'] = (compa['at'] - compa['at_lag']) / compa['at_lag']"
   ]
  },
  {
   "cell_type": "code",
   "execution_count": 38,
   "metadata": {},
   "outputs": [
    {
     "data": {
      "text/plain": [
       "inf"
      ]
     },
     "execution_count": 38,
     "metadata": {},
     "output_type": "execute_result"
    }
   ],
   "source": [
    "compa.inv.max()"
   ]
  },
  {
   "cell_type": "code",
   "execution_count": 39,
   "metadata": {},
   "outputs": [
    {
     "data": {
      "text/plain": [
       "-1.0"
      ]
     },
     "execution_count": 39,
     "metadata": {},
     "output_type": "execute_result"
    }
   ],
   "source": [
    "compa.inv.min()"
   ]
  },
  {
   "cell_type": "code",
   "execution_count": 40,
   "metadata": {},
   "outputs": [],
   "source": [
    "compa.loc[compa.at_lag==0, 'inv'] = np.nan"
   ]
  },
  {
   "cell_type": "markdown",
   "metadata": {
    "slideshow": {
     "slide_type": "subslide"
    }
   },
   "source": [
    "What if compa has missing years?"
   ]
  },
  {
   "cell_type": "code",
   "execution_count": 41,
   "metadata": {
    "slideshow": {
     "slide_type": "fragment"
    }
   },
   "outputs": [],
   "source": [
    "compa['fdiff'] = compa.groupby('gvkey').fyear.diff()"
   ]
  },
  {
   "cell_type": "code",
   "execution_count": 42,
   "metadata": {
    "slideshow": {
     "slide_type": "fragment"
    }
   },
   "outputs": [
    {
     "data": {
      "text/html": [
       "<div>\n",
       "<style scoped>\n",
       "    .dataframe tbody tr th:only-of-type {\n",
       "        vertical-align: middle;\n",
       "    }\n",
       "\n",
       "    .dataframe tbody tr th {\n",
       "        vertical-align: top;\n",
       "    }\n",
       "\n",
       "    .dataframe thead th {\n",
       "        text-align: right;\n",
       "    }\n",
       "</style>\n",
       "<table border=\"1\" class=\"dataframe\">\n",
       "  <thead>\n",
       "    <tr style=\"text-align: right;\">\n",
       "      <th></th>\n",
       "      <th>gvkey</th>\n",
       "      <th>fyear</th>\n",
       "      <th>fdiff</th>\n",
       "      <th>at</th>\n",
       "      <th>at_lag</th>\n",
       "      <th>inv</th>\n",
       "    </tr>\n",
       "  </thead>\n",
       "  <tbody>\n",
       "    <tr>\n",
       "      <th>21237</th>\n",
       "      <td>002820</td>\n",
       "      <td>2001.0</td>\n",
       "      <td>4.0</td>\n",
       "      <td>117.090</td>\n",
       "      <td>NaN</td>\n",
       "      <td>NaN</td>\n",
       "    </tr>\n",
       "    <tr>\n",
       "      <th>27112</th>\n",
       "      <td>003279</td>\n",
       "      <td>2011.0</td>\n",
       "      <td>19.0</td>\n",
       "      <td>NaN</td>\n",
       "      <td>1.269</td>\n",
       "      <td>NaN</td>\n",
       "    </tr>\n",
       "    <tr>\n",
       "      <th>29201</th>\n",
       "      <td>003469</td>\n",
       "      <td>2002.0</td>\n",
       "      <td>4.0</td>\n",
       "      <td>406.677</td>\n",
       "      <td>NaN</td>\n",
       "      <td>NaN</td>\n",
       "    </tr>\n",
       "    <tr>\n",
       "      <th>32675</th>\n",
       "      <td>003819</td>\n",
       "      <td>2011.0</td>\n",
       "      <td>19.0</td>\n",
       "      <td>NaN</td>\n",
       "      <td>2.295</td>\n",
       "      <td>NaN</td>\n",
       "    </tr>\n",
       "    <tr>\n",
       "      <th>35755</th>\n",
       "      <td>004049</td>\n",
       "      <td>2000.0</td>\n",
       "      <td>4.0</td>\n",
       "      <td>905.890</td>\n",
       "      <td>NaN</td>\n",
       "      <td>NaN</td>\n",
       "    </tr>\n",
       "    <tr>\n",
       "      <th>...</th>\n",
       "      <td>...</td>\n",
       "      <td>...</td>\n",
       "      <td>...</td>\n",
       "      <td>...</td>\n",
       "      <td>...</td>\n",
       "      <td>...</td>\n",
       "    </tr>\n",
       "    <tr>\n",
       "      <th>436906</th>\n",
       "      <td>221237</td>\n",
       "      <td>2005.0</td>\n",
       "      <td>2.0</td>\n",
       "      <td>613.738</td>\n",
       "      <td>172.843</td>\n",
       "      <td>2.550841</td>\n",
       "    </tr>\n",
       "    <tr>\n",
       "      <th>437512</th>\n",
       "      <td>233149</td>\n",
       "      <td>2007.0</td>\n",
       "      <td>2.0</td>\n",
       "      <td>163.373</td>\n",
       "      <td>119.603</td>\n",
       "      <td>0.365961</td>\n",
       "    </tr>\n",
       "    <tr>\n",
       "      <th>437519</th>\n",
       "      <td>233491</td>\n",
       "      <td>2009.0</td>\n",
       "      <td>2.0</td>\n",
       "      <td>453.331</td>\n",
       "      <td>707.883</td>\n",
       "      <td>-0.359596</td>\n",
       "    </tr>\n",
       "    <tr>\n",
       "      <th>432022</th>\n",
       "      <td>260850</td>\n",
       "      <td>2020.0</td>\n",
       "      <td>2.0</td>\n",
       "      <td>NaN</td>\n",
       "      <td>NaN</td>\n",
       "      <td>NaN</td>\n",
       "    </tr>\n",
       "    <tr>\n",
       "      <th>439053</th>\n",
       "      <td>265008</td>\n",
       "      <td>2008.0</td>\n",
       "      <td>2.0</td>\n",
       "      <td>1405.940</td>\n",
       "      <td>399.094</td>\n",
       "      <td>2.522829</td>\n",
       "    </tr>\n",
       "  </tbody>\n",
       "</table>\n",
       "<p>164 rows × 6 columns</p>\n",
       "</div>"
      ],
      "text/plain": [
       "         gvkey   fyear  fdiff        at   at_lag       inv\n",
       "21237   002820  2001.0    4.0   117.090      NaN       NaN\n",
       "27112   003279  2011.0   19.0       NaN    1.269       NaN\n",
       "29201   003469  2002.0    4.0   406.677      NaN       NaN\n",
       "32675   003819  2011.0   19.0       NaN    2.295       NaN\n",
       "35755   004049  2000.0    4.0   905.890      NaN       NaN\n",
       "...        ...     ...    ...       ...      ...       ...\n",
       "436906  221237  2005.0    2.0   613.738  172.843  2.550841\n",
       "437512  233149  2007.0    2.0   163.373  119.603  0.365961\n",
       "437519  233491  2009.0    2.0   453.331  707.883 -0.359596\n",
       "432022  260850  2020.0    2.0       NaN      NaN       NaN\n",
       "439053  265008  2008.0    2.0  1405.940  399.094  2.522829\n",
       "\n",
       "[164 rows x 6 columns]"
      ]
     },
     "execution_count": 42,
     "metadata": {},
     "output_type": "execute_result"
    }
   ],
   "source": [
    "compa[(compa.fdiff>1)][['gvkey','fyear','fdiff', 'at','at_lag', 'inv']]"
   ]
  },
  {
   "cell_type": "code",
   "execution_count": 43,
   "metadata": {
    "scrolled": true,
    "slideshow": {
     "slide_type": "subslide"
    }
   },
   "outputs": [
    {
     "data": {
      "text/html": [
       "<div>\n",
       "<style scoped>\n",
       "    .dataframe tbody tr th:only-of-type {\n",
       "        vertical-align: middle;\n",
       "    }\n",
       "\n",
       "    .dataframe tbody tr th {\n",
       "        vertical-align: top;\n",
       "    }\n",
       "\n",
       "    .dataframe thead th {\n",
       "        text-align: right;\n",
       "    }\n",
       "</style>\n",
       "<table border=\"1\" class=\"dataframe\">\n",
       "  <thead>\n",
       "    <tr style=\"text-align: right;\">\n",
       "      <th></th>\n",
       "      <th>gvkey</th>\n",
       "      <th>fyear</th>\n",
       "      <th>at</th>\n",
       "      <th>at_lag</th>\n",
       "      <th>inv</th>\n",
       "      <th>fdiff</th>\n",
       "    </tr>\n",
       "  </thead>\n",
       "  <tbody>\n",
       "    <tr>\n",
       "      <th>54861</th>\n",
       "      <td>005681</td>\n",
       "      <td>1983.0</td>\n",
       "      <td>6803.074</td>\n",
       "      <td>NaN</td>\n",
       "      <td>NaN</td>\n",
       "      <td>NaN</td>\n",
       "    </tr>\n",
       "    <tr>\n",
       "      <th>54862</th>\n",
       "      <td>005681</td>\n",
       "      <td>1984.0</td>\n",
       "      <td>8885.500</td>\n",
       "      <td>6803.074</td>\n",
       "      <td>0.306101</td>\n",
       "      <td>1.0</td>\n",
       "    </tr>\n",
       "    <tr>\n",
       "      <th>54805</th>\n",
       "      <td>005681</td>\n",
       "      <td>1985.0</td>\n",
       "      <td>10018.598</td>\n",
       "      <td>8885.500</td>\n",
       "      <td>0.127522</td>\n",
       "      <td>1.0</td>\n",
       "    </tr>\n",
       "    <tr>\n",
       "      <th>54825</th>\n",
       "      <td>005681</td>\n",
       "      <td>1986.0</td>\n",
       "      <td>12074.598</td>\n",
       "      <td>10018.598</td>\n",
       "      <td>0.205218</td>\n",
       "      <td>1.0</td>\n",
       "    </tr>\n",
       "    <tr>\n",
       "      <th>54835</th>\n",
       "      <td>005681</td>\n",
       "      <td>1987.0</td>\n",
       "      <td>14109.098</td>\n",
       "      <td>12074.598</td>\n",
       "      <td>0.168494</td>\n",
       "      <td>1.0</td>\n",
       "    </tr>\n",
       "    <tr>\n",
       "      <th>54849</th>\n",
       "      <td>005681</td>\n",
       "      <td>1988.0</td>\n",
       "      <td>17008.699</td>\n",
       "      <td>14109.098</td>\n",
       "      <td>0.205513</td>\n",
       "      <td>1.0</td>\n",
       "    </tr>\n",
       "    <tr>\n",
       "      <th>53544</th>\n",
       "      <td>005681</td>\n",
       "      <td>1989.0</td>\n",
       "      <td>17766.699</td>\n",
       "      <td>17008.699</td>\n",
       "      <td>0.044565</td>\n",
       "      <td>1.0</td>\n",
       "    </tr>\n",
       "    <tr>\n",
       "      <th>53743</th>\n",
       "      <td>005681</td>\n",
       "      <td>1990.0</td>\n",
       "      <td>18259.500</td>\n",
       "      <td>17766.699</td>\n",
       "      <td>0.027737</td>\n",
       "      <td>1.0</td>\n",
       "    </tr>\n",
       "    <tr>\n",
       "      <th>53995</th>\n",
       "      <td>005681</td>\n",
       "      <td>1991.0</td>\n",
       "      <td>13885.098</td>\n",
       "      <td>18259.500</td>\n",
       "      <td>-0.239569</td>\n",
       "      <td>1.0</td>\n",
       "    </tr>\n",
       "    <tr>\n",
       "      <th>54863</th>\n",
       "      <td>005681</td>\n",
       "      <td>1995.0</td>\n",
       "      <td>26.851</td>\n",
       "      <td>13885.098</td>\n",
       "      <td>-0.998066</td>\n",
       "      <td>4.0</td>\n",
       "    </tr>\n",
       "    <tr>\n",
       "      <th>54864</th>\n",
       "      <td>005681</td>\n",
       "      <td>1996.0</td>\n",
       "      <td>17.091</td>\n",
       "      <td>26.851</td>\n",
       "      <td>-0.363487</td>\n",
       "      <td>1.0</td>\n",
       "    </tr>\n",
       "    <tr>\n",
       "      <th>54865</th>\n",
       "      <td>005681</td>\n",
       "      <td>1997.0</td>\n",
       "      <td>15.457</td>\n",
       "      <td>17.091</td>\n",
       "      <td>-0.095606</td>\n",
       "      <td>1.0</td>\n",
       "    </tr>\n",
       "    <tr>\n",
       "      <th>54866</th>\n",
       "      <td>005681</td>\n",
       "      <td>1998.0</td>\n",
       "      <td>19.043</td>\n",
       "      <td>15.457</td>\n",
       "      <td>0.231998</td>\n",
       "      <td>1.0</td>\n",
       "    </tr>\n",
       "    <tr>\n",
       "      <th>54867</th>\n",
       "      <td>005681</td>\n",
       "      <td>1999.0</td>\n",
       "      <td>27.528</td>\n",
       "      <td>19.043</td>\n",
       "      <td>0.445571</td>\n",
       "      <td>1.0</td>\n",
       "    </tr>\n",
       "    <tr>\n",
       "      <th>54868</th>\n",
       "      <td>005681</td>\n",
       "      <td>2000.0</td>\n",
       "      <td>24.818</td>\n",
       "      <td>27.528</td>\n",
       "      <td>-0.098445</td>\n",
       "      <td>1.0</td>\n",
       "    </tr>\n",
       "    <tr>\n",
       "      <th>54869</th>\n",
       "      <td>005681</td>\n",
       "      <td>2001.0</td>\n",
       "      <td>25.804</td>\n",
       "      <td>24.818</td>\n",
       "      <td>0.039729</td>\n",
       "      <td>1.0</td>\n",
       "    </tr>\n",
       "    <tr>\n",
       "      <th>54870</th>\n",
       "      <td>005681</td>\n",
       "      <td>2002.0</td>\n",
       "      <td>117.043</td>\n",
       "      <td>25.804</td>\n",
       "      <td>3.535847</td>\n",
       "      <td>1.0</td>\n",
       "    </tr>\n",
       "    <tr>\n",
       "      <th>54871</th>\n",
       "      <td>005681</td>\n",
       "      <td>2003.0</td>\n",
       "      <td>217.010</td>\n",
       "      <td>117.043</td>\n",
       "      <td>0.854105</td>\n",
       "      <td>1.0</td>\n",
       "    </tr>\n",
       "    <tr>\n",
       "      <th>54872</th>\n",
       "      <td>005681</td>\n",
       "      <td>2004.0</td>\n",
       "      <td>211.487</td>\n",
       "      <td>217.010</td>\n",
       "      <td>-0.025450</td>\n",
       "      <td>1.0</td>\n",
       "    </tr>\n",
       "    <tr>\n",
       "      <th>54873</th>\n",
       "      <td>005681</td>\n",
       "      <td>2005.0</td>\n",
       "      <td>294.261</td>\n",
       "      <td>211.487</td>\n",
       "      <td>0.391390</td>\n",
       "      <td>1.0</td>\n",
       "    </tr>\n",
       "    <tr>\n",
       "      <th>54874</th>\n",
       "      <td>005681</td>\n",
       "      <td>2006.0</td>\n",
       "      <td>237.299</td>\n",
       "      <td>294.261</td>\n",
       "      <td>-0.193576</td>\n",
       "      <td>1.0</td>\n",
       "    </tr>\n",
       "    <tr>\n",
       "      <th>54875</th>\n",
       "      <td>005681</td>\n",
       "      <td>2007.0</td>\n",
       "      <td>219.255</td>\n",
       "      <td>237.299</td>\n",
       "      <td>-0.076039</td>\n",
       "      <td>1.0</td>\n",
       "    </tr>\n",
       "    <tr>\n",
       "      <th>54876</th>\n",
       "      <td>005681</td>\n",
       "      <td>2008.0</td>\n",
       "      <td>190.397</td>\n",
       "      <td>219.255</td>\n",
       "      <td>-0.131618</td>\n",
       "      <td>1.0</td>\n",
       "    </tr>\n",
       "    <tr>\n",
       "      <th>54877</th>\n",
       "      <td>005681</td>\n",
       "      <td>2009.0</td>\n",
       "      <td>185.704</td>\n",
       "      <td>190.397</td>\n",
       "      <td>-0.024648</td>\n",
       "      <td>1.0</td>\n",
       "    </tr>\n",
       "    <tr>\n",
       "      <th>54878</th>\n",
       "      <td>005681</td>\n",
       "      <td>2010.0</td>\n",
       "      <td>184.510</td>\n",
       "      <td>185.704</td>\n",
       "      <td>-0.006430</td>\n",
       "      <td>1.0</td>\n",
       "    </tr>\n",
       "    <tr>\n",
       "      <th>54879</th>\n",
       "      <td>005681</td>\n",
       "      <td>2011.0</td>\n",
       "      <td>188.753</td>\n",
       "      <td>184.510</td>\n",
       "      <td>0.022996</td>\n",
       "      <td>1.0</td>\n",
       "    </tr>\n",
       "    <tr>\n",
       "      <th>54880</th>\n",
       "      <td>005681</td>\n",
       "      <td>2012.0</td>\n",
       "      <td>189.409</td>\n",
       "      <td>188.753</td>\n",
       "      <td>0.003475</td>\n",
       "      <td>1.0</td>\n",
       "    </tr>\n",
       "    <tr>\n",
       "      <th>54881</th>\n",
       "      <td>005681</td>\n",
       "      <td>2013.0</td>\n",
       "      <td>204.402</td>\n",
       "      <td>189.409</td>\n",
       "      <td>0.079157</td>\n",
       "      <td>1.0</td>\n",
       "    </tr>\n",
       "    <tr>\n",
       "      <th>54882</th>\n",
       "      <td>005681</td>\n",
       "      <td>2014.0</td>\n",
       "      <td>433.189</td>\n",
       "      <td>204.402</td>\n",
       "      <td>1.119299</td>\n",
       "      <td>1.0</td>\n",
       "    </tr>\n",
       "    <tr>\n",
       "      <th>54883</th>\n",
       "      <td>005681</td>\n",
       "      <td>2015.0</td>\n",
       "      <td>555.311</td>\n",
       "      <td>433.189</td>\n",
       "      <td>0.281914</td>\n",
       "      <td>1.0</td>\n",
       "    </tr>\n",
       "    <tr>\n",
       "      <th>54884</th>\n",
       "      <td>005681</td>\n",
       "      <td>2016.0</td>\n",
       "      <td>582.332</td>\n",
       "      <td>555.311</td>\n",
       "      <td>0.048659</td>\n",
       "      <td>1.0</td>\n",
       "    </tr>\n",
       "    <tr>\n",
       "      <th>54885</th>\n",
       "      <td>005681</td>\n",
       "      <td>2017.0</td>\n",
       "      <td>607.947</td>\n",
       "      <td>582.332</td>\n",
       "      <td>0.043987</td>\n",
       "      <td>1.0</td>\n",
       "    </tr>\n",
       "    <tr>\n",
       "      <th>54886</th>\n",
       "      <td>005681</td>\n",
       "      <td>2018.0</td>\n",
       "      <td>594.008</td>\n",
       "      <td>607.947</td>\n",
       "      <td>-0.022928</td>\n",
       "      <td>1.0</td>\n",
       "    </tr>\n",
       "  </tbody>\n",
       "</table>\n",
       "</div>"
      ],
      "text/plain": [
       "        gvkey   fyear         at     at_lag       inv  fdiff\n",
       "54861  005681  1983.0   6803.074        NaN       NaN    NaN\n",
       "54862  005681  1984.0   8885.500   6803.074  0.306101    1.0\n",
       "54805  005681  1985.0  10018.598   8885.500  0.127522    1.0\n",
       "54825  005681  1986.0  12074.598  10018.598  0.205218    1.0\n",
       "54835  005681  1987.0  14109.098  12074.598  0.168494    1.0\n",
       "54849  005681  1988.0  17008.699  14109.098  0.205513    1.0\n",
       "53544  005681  1989.0  17766.699  17008.699  0.044565    1.0\n",
       "53743  005681  1990.0  18259.500  17766.699  0.027737    1.0\n",
       "53995  005681  1991.0  13885.098  18259.500 -0.239569    1.0\n",
       "54863  005681  1995.0     26.851  13885.098 -0.998066    4.0\n",
       "54864  005681  1996.0     17.091     26.851 -0.363487    1.0\n",
       "54865  005681  1997.0     15.457     17.091 -0.095606    1.0\n",
       "54866  005681  1998.0     19.043     15.457  0.231998    1.0\n",
       "54867  005681  1999.0     27.528     19.043  0.445571    1.0\n",
       "54868  005681  2000.0     24.818     27.528 -0.098445    1.0\n",
       "54869  005681  2001.0     25.804     24.818  0.039729    1.0\n",
       "54870  005681  2002.0    117.043     25.804  3.535847    1.0\n",
       "54871  005681  2003.0    217.010    117.043  0.854105    1.0\n",
       "54872  005681  2004.0    211.487    217.010 -0.025450    1.0\n",
       "54873  005681  2005.0    294.261    211.487  0.391390    1.0\n",
       "54874  005681  2006.0    237.299    294.261 -0.193576    1.0\n",
       "54875  005681  2007.0    219.255    237.299 -0.076039    1.0\n",
       "54876  005681  2008.0    190.397    219.255 -0.131618    1.0\n",
       "54877  005681  2009.0    185.704    190.397 -0.024648    1.0\n",
       "54878  005681  2010.0    184.510    185.704 -0.006430    1.0\n",
       "54879  005681  2011.0    188.753    184.510  0.022996    1.0\n",
       "54880  005681  2012.0    189.409    188.753  0.003475    1.0\n",
       "54881  005681  2013.0    204.402    189.409  0.079157    1.0\n",
       "54882  005681  2014.0    433.189    204.402  1.119299    1.0\n",
       "54883  005681  2015.0    555.311    433.189  0.281914    1.0\n",
       "54884  005681  2016.0    582.332    555.311  0.048659    1.0\n",
       "54885  005681  2017.0    607.947    582.332  0.043987    1.0\n",
       "54886  005681  2018.0    594.008    607.947 -0.022928    1.0"
      ]
     },
     "execution_count": 43,
     "metadata": {},
     "output_type": "execute_result"
    }
   ],
   "source": [
    "# Check one case of skipping years\n",
    "compa.loc[compa.gvkey=='005681',['gvkey','fyear','at','at_lag','inv','fdiff']]  "
   ]
  },
  {
   "cell_type": "code",
   "execution_count": 44,
   "metadata": {
    "slideshow": {
     "slide_type": "subslide"
    }
   },
   "outputs": [],
   "source": [
    "# Input missings\n",
    "filter_inv = (compa['at']<=0)|(compa['at_lag']<=0)|(compa.fdiff>1)\n",
    "compa.loc[filter_inv,['inv']] = np.nan\n",
    "del(filter_inv)"
   ]
  },
  {
   "cell_type": "code",
   "execution_count": 45,
   "metadata": {
    "scrolled": true,
    "slideshow": {
     "slide_type": "subslide"
    }
   },
   "outputs": [
    {
     "data": {
      "text/html": [
       "<div>\n",
       "<style scoped>\n",
       "    .dataframe tbody tr th:only-of-type {\n",
       "        vertical-align: middle;\n",
       "    }\n",
       "\n",
       "    .dataframe tbody tr th {\n",
       "        vertical-align: top;\n",
       "    }\n",
       "\n",
       "    .dataframe thead th {\n",
       "        text-align: right;\n",
       "    }\n",
       "</style>\n",
       "<table border=\"1\" class=\"dataframe\">\n",
       "  <thead>\n",
       "    <tr style=\"text-align: right;\">\n",
       "      <th></th>\n",
       "      <th>gvkey</th>\n",
       "      <th>fyear</th>\n",
       "      <th>at</th>\n",
       "      <th>at_lag</th>\n",
       "      <th>inv</th>\n",
       "    </tr>\n",
       "  </thead>\n",
       "  <tbody>\n",
       "    <tr>\n",
       "      <th>54861</th>\n",
       "      <td>005681</td>\n",
       "      <td>1983.0</td>\n",
       "      <td>6803.074</td>\n",
       "      <td>NaN</td>\n",
       "      <td>NaN</td>\n",
       "    </tr>\n",
       "    <tr>\n",
       "      <th>54862</th>\n",
       "      <td>005681</td>\n",
       "      <td>1984.0</td>\n",
       "      <td>8885.500</td>\n",
       "      <td>6803.074</td>\n",
       "      <td>0.306101</td>\n",
       "    </tr>\n",
       "    <tr>\n",
       "      <th>54805</th>\n",
       "      <td>005681</td>\n",
       "      <td>1985.0</td>\n",
       "      <td>10018.598</td>\n",
       "      <td>8885.500</td>\n",
       "      <td>0.127522</td>\n",
       "    </tr>\n",
       "    <tr>\n",
       "      <th>54825</th>\n",
       "      <td>005681</td>\n",
       "      <td>1986.0</td>\n",
       "      <td>12074.598</td>\n",
       "      <td>10018.598</td>\n",
       "      <td>0.205218</td>\n",
       "    </tr>\n",
       "    <tr>\n",
       "      <th>54835</th>\n",
       "      <td>005681</td>\n",
       "      <td>1987.0</td>\n",
       "      <td>14109.098</td>\n",
       "      <td>12074.598</td>\n",
       "      <td>0.168494</td>\n",
       "    </tr>\n",
       "    <tr>\n",
       "      <th>54849</th>\n",
       "      <td>005681</td>\n",
       "      <td>1988.0</td>\n",
       "      <td>17008.699</td>\n",
       "      <td>14109.098</td>\n",
       "      <td>0.205513</td>\n",
       "    </tr>\n",
       "    <tr>\n",
       "      <th>53544</th>\n",
       "      <td>005681</td>\n",
       "      <td>1989.0</td>\n",
       "      <td>17766.699</td>\n",
       "      <td>17008.699</td>\n",
       "      <td>0.044565</td>\n",
       "    </tr>\n",
       "    <tr>\n",
       "      <th>53743</th>\n",
       "      <td>005681</td>\n",
       "      <td>1990.0</td>\n",
       "      <td>18259.500</td>\n",
       "      <td>17766.699</td>\n",
       "      <td>0.027737</td>\n",
       "    </tr>\n",
       "    <tr>\n",
       "      <th>53995</th>\n",
       "      <td>005681</td>\n",
       "      <td>1991.0</td>\n",
       "      <td>13885.098</td>\n",
       "      <td>18259.500</td>\n",
       "      <td>-0.239569</td>\n",
       "    </tr>\n",
       "    <tr>\n",
       "      <th>54863</th>\n",
       "      <td>005681</td>\n",
       "      <td>1995.0</td>\n",
       "      <td>26.851</td>\n",
       "      <td>13885.098</td>\n",
       "      <td>NaN</td>\n",
       "    </tr>\n",
       "    <tr>\n",
       "      <th>54864</th>\n",
       "      <td>005681</td>\n",
       "      <td>1996.0</td>\n",
       "      <td>17.091</td>\n",
       "      <td>26.851</td>\n",
       "      <td>-0.363487</td>\n",
       "    </tr>\n",
       "    <tr>\n",
       "      <th>54865</th>\n",
       "      <td>005681</td>\n",
       "      <td>1997.0</td>\n",
       "      <td>15.457</td>\n",
       "      <td>17.091</td>\n",
       "      <td>-0.095606</td>\n",
       "    </tr>\n",
       "    <tr>\n",
       "      <th>54866</th>\n",
       "      <td>005681</td>\n",
       "      <td>1998.0</td>\n",
       "      <td>19.043</td>\n",
       "      <td>15.457</td>\n",
       "      <td>0.231998</td>\n",
       "    </tr>\n",
       "    <tr>\n",
       "      <th>54867</th>\n",
       "      <td>005681</td>\n",
       "      <td>1999.0</td>\n",
       "      <td>27.528</td>\n",
       "      <td>19.043</td>\n",
       "      <td>0.445571</td>\n",
       "    </tr>\n",
       "    <tr>\n",
       "      <th>54868</th>\n",
       "      <td>005681</td>\n",
       "      <td>2000.0</td>\n",
       "      <td>24.818</td>\n",
       "      <td>27.528</td>\n",
       "      <td>-0.098445</td>\n",
       "    </tr>\n",
       "    <tr>\n",
       "      <th>54869</th>\n",
       "      <td>005681</td>\n",
       "      <td>2001.0</td>\n",
       "      <td>25.804</td>\n",
       "      <td>24.818</td>\n",
       "      <td>0.039729</td>\n",
       "    </tr>\n",
       "    <tr>\n",
       "      <th>54870</th>\n",
       "      <td>005681</td>\n",
       "      <td>2002.0</td>\n",
       "      <td>117.043</td>\n",
       "      <td>25.804</td>\n",
       "      <td>3.535847</td>\n",
       "    </tr>\n",
       "    <tr>\n",
       "      <th>54871</th>\n",
       "      <td>005681</td>\n",
       "      <td>2003.0</td>\n",
       "      <td>217.010</td>\n",
       "      <td>117.043</td>\n",
       "      <td>0.854105</td>\n",
       "    </tr>\n",
       "    <tr>\n",
       "      <th>54872</th>\n",
       "      <td>005681</td>\n",
       "      <td>2004.0</td>\n",
       "      <td>211.487</td>\n",
       "      <td>217.010</td>\n",
       "      <td>-0.025450</td>\n",
       "    </tr>\n",
       "    <tr>\n",
       "      <th>54873</th>\n",
       "      <td>005681</td>\n",
       "      <td>2005.0</td>\n",
       "      <td>294.261</td>\n",
       "      <td>211.487</td>\n",
       "      <td>0.391390</td>\n",
       "    </tr>\n",
       "    <tr>\n",
       "      <th>54874</th>\n",
       "      <td>005681</td>\n",
       "      <td>2006.0</td>\n",
       "      <td>237.299</td>\n",
       "      <td>294.261</td>\n",
       "      <td>-0.193576</td>\n",
       "    </tr>\n",
       "    <tr>\n",
       "      <th>54875</th>\n",
       "      <td>005681</td>\n",
       "      <td>2007.0</td>\n",
       "      <td>219.255</td>\n",
       "      <td>237.299</td>\n",
       "      <td>-0.076039</td>\n",
       "    </tr>\n",
       "    <tr>\n",
       "      <th>54876</th>\n",
       "      <td>005681</td>\n",
       "      <td>2008.0</td>\n",
       "      <td>190.397</td>\n",
       "      <td>219.255</td>\n",
       "      <td>-0.131618</td>\n",
       "    </tr>\n",
       "    <tr>\n",
       "      <th>54877</th>\n",
       "      <td>005681</td>\n",
       "      <td>2009.0</td>\n",
       "      <td>185.704</td>\n",
       "      <td>190.397</td>\n",
       "      <td>-0.024648</td>\n",
       "    </tr>\n",
       "    <tr>\n",
       "      <th>54878</th>\n",
       "      <td>005681</td>\n",
       "      <td>2010.0</td>\n",
       "      <td>184.510</td>\n",
       "      <td>185.704</td>\n",
       "      <td>-0.006430</td>\n",
       "    </tr>\n",
       "    <tr>\n",
       "      <th>54879</th>\n",
       "      <td>005681</td>\n",
       "      <td>2011.0</td>\n",
       "      <td>188.753</td>\n",
       "      <td>184.510</td>\n",
       "      <td>0.022996</td>\n",
       "    </tr>\n",
       "    <tr>\n",
       "      <th>54880</th>\n",
       "      <td>005681</td>\n",
       "      <td>2012.0</td>\n",
       "      <td>189.409</td>\n",
       "      <td>188.753</td>\n",
       "      <td>0.003475</td>\n",
       "    </tr>\n",
       "    <tr>\n",
       "      <th>54881</th>\n",
       "      <td>005681</td>\n",
       "      <td>2013.0</td>\n",
       "      <td>204.402</td>\n",
       "      <td>189.409</td>\n",
       "      <td>0.079157</td>\n",
       "    </tr>\n",
       "    <tr>\n",
       "      <th>54882</th>\n",
       "      <td>005681</td>\n",
       "      <td>2014.0</td>\n",
       "      <td>433.189</td>\n",
       "      <td>204.402</td>\n",
       "      <td>1.119299</td>\n",
       "    </tr>\n",
       "    <tr>\n",
       "      <th>54883</th>\n",
       "      <td>005681</td>\n",
       "      <td>2015.0</td>\n",
       "      <td>555.311</td>\n",
       "      <td>433.189</td>\n",
       "      <td>0.281914</td>\n",
       "    </tr>\n",
       "    <tr>\n",
       "      <th>54884</th>\n",
       "      <td>005681</td>\n",
       "      <td>2016.0</td>\n",
       "      <td>582.332</td>\n",
       "      <td>555.311</td>\n",
       "      <td>0.048659</td>\n",
       "    </tr>\n",
       "    <tr>\n",
       "      <th>54885</th>\n",
       "      <td>005681</td>\n",
       "      <td>2017.0</td>\n",
       "      <td>607.947</td>\n",
       "      <td>582.332</td>\n",
       "      <td>0.043987</td>\n",
       "    </tr>\n",
       "    <tr>\n",
       "      <th>54886</th>\n",
       "      <td>005681</td>\n",
       "      <td>2018.0</td>\n",
       "      <td>594.008</td>\n",
       "      <td>607.947</td>\n",
       "      <td>-0.022928</td>\n",
       "    </tr>\n",
       "  </tbody>\n",
       "</table>\n",
       "</div>"
      ],
      "text/plain": [
       "        gvkey   fyear         at     at_lag       inv\n",
       "54861  005681  1983.0   6803.074        NaN       NaN\n",
       "54862  005681  1984.0   8885.500   6803.074  0.306101\n",
       "54805  005681  1985.0  10018.598   8885.500  0.127522\n",
       "54825  005681  1986.0  12074.598  10018.598  0.205218\n",
       "54835  005681  1987.0  14109.098  12074.598  0.168494\n",
       "54849  005681  1988.0  17008.699  14109.098  0.205513\n",
       "53544  005681  1989.0  17766.699  17008.699  0.044565\n",
       "53743  005681  1990.0  18259.500  17766.699  0.027737\n",
       "53995  005681  1991.0  13885.098  18259.500 -0.239569\n",
       "54863  005681  1995.0     26.851  13885.098       NaN\n",
       "54864  005681  1996.0     17.091     26.851 -0.363487\n",
       "54865  005681  1997.0     15.457     17.091 -0.095606\n",
       "54866  005681  1998.0     19.043     15.457  0.231998\n",
       "54867  005681  1999.0     27.528     19.043  0.445571\n",
       "54868  005681  2000.0     24.818     27.528 -0.098445\n",
       "54869  005681  2001.0     25.804     24.818  0.039729\n",
       "54870  005681  2002.0    117.043     25.804  3.535847\n",
       "54871  005681  2003.0    217.010    117.043  0.854105\n",
       "54872  005681  2004.0    211.487    217.010 -0.025450\n",
       "54873  005681  2005.0    294.261    211.487  0.391390\n",
       "54874  005681  2006.0    237.299    294.261 -0.193576\n",
       "54875  005681  2007.0    219.255    237.299 -0.076039\n",
       "54876  005681  2008.0    190.397    219.255 -0.131618\n",
       "54877  005681  2009.0    185.704    190.397 -0.024648\n",
       "54878  005681  2010.0    184.510    185.704 -0.006430\n",
       "54879  005681  2011.0    188.753    184.510  0.022996\n",
       "54880  005681  2012.0    189.409    188.753  0.003475\n",
       "54881  005681  2013.0    204.402    189.409  0.079157\n",
       "54882  005681  2014.0    433.189    204.402  1.119299\n",
       "54883  005681  2015.0    555.311    433.189  0.281914\n",
       "54884  005681  2016.0    582.332    555.311  0.048659\n",
       "54885  005681  2017.0    607.947    582.332  0.043987\n",
       "54886  005681  2018.0    594.008    607.947 -0.022928"
      ]
     },
     "execution_count": 45,
     "metadata": {},
     "output_type": "execute_result"
    }
   ],
   "source": [
    "# Check one case of skipping years (again)\n",
    "compa.loc[compa.gvkey=='005681',['gvkey','fyear','at','at_lag','inv']]"
   ]
  },
  {
   "cell_type": "markdown",
   "metadata": {
    "slideshow": {
     "slide_type": "subslide"
    }
   },
   "source": [
    "**What do we do now?**"
   ]
  },
  {
   "cell_type": "code",
   "execution_count": 46,
   "metadata": {
    "slideshow": {
     "slide_type": "subslide"
    }
   },
   "outputs": [
    {
     "data": {
      "text/plain": [
       "0.2459098929110858"
      ]
     },
     "execution_count": 46,
     "metadata": {},
     "output_type": "execute_result"
    }
   ],
   "source": [
    "# Look at missings\n",
    "compa.inv.isnull().mean()"
   ]
  },
  {
   "cell_type": "code",
   "execution_count": 47,
   "metadata": {},
   "outputs": [
    {
     "data": {
      "text/plain": [
       "190562"
      ]
     },
     "execution_count": 47,
     "metadata": {},
     "output_type": "execute_result"
    }
   ],
   "source": [
    "compa.inv.idxmax(axis=0)"
   ]
  },
  {
   "cell_type": "code",
   "execution_count": 48,
   "metadata": {
    "slideshow": {
     "slide_type": "subslide"
    }
   },
   "outputs": [
    {
     "data": {
      "text/plain": [
       "gvkey                    018073\n",
       "conm      CHERRY HILL MTG INVST\n",
       "fyear                    2013.0\n",
       "at                      427.398\n",
       "at_lag                    0.001\n",
       "inv                    427397.0\n",
       "Name: 190562, dtype: object"
      ]
     },
     "execution_count": 48,
     "metadata": {},
     "output_type": "execute_result"
    }
   ],
   "source": [
    "# Be careful with ratios\n",
    "compa.loc[compa.inv.idxmax(axis=0),['gvkey','conm','fyear','at','at_lag','inv']]"
   ]
  },
  {
   "cell_type": "code",
   "execution_count": 49,
   "metadata": {
    "slideshow": {
     "slide_type": "subslide"
    }
   },
   "outputs": [
    {
     "data": {
      "text/plain": [
       "<AxesSubplot:>"
      ]
     },
     "execution_count": 49,
     "metadata": {},
     "output_type": "execute_result"
    },
    {
     "data": {
      "image/png": "[encoded data removed]",
      "text/plain": [
       "<Figure size 720x432 with 1 Axes>"
      ]
     },
     "metadata": {
      "needs_background": "light"
     },
     "output_type": "display_data"
    }
   ],
   "source": [
    " # What explains such large inv?\n",
    "compa[compa.inv<10].inv.hist()"
   ]
  },
  {
   "cell_type": "markdown",
   "metadata": {
    "slideshow": {
     "slide_type": "slide"
    }
   },
   "source": [
    "# Is Asset Growth Investment?\n",
    "\n",
    "* See Cooper, Gulen, Schill, JF (2008);\n",
    "* What is asset growth capturing other than investment? \n",
    "    * Mergers;\n",
    "    * Issuance;\n",
    "    * Spin-offs.\n",
    "* Is it really investments that forecast future stock returns?"
   ]
  },
  {
   "cell_type": "code",
   "execution_count": 50,
   "metadata": {
    "slideshow": {
     "slide_type": "slide"
    }
   },
   "outputs": [],
   "source": [
    "# A more traditional measure of investment: CAPX\n",
    "compa['inv_capx'] = compa['capx']/compa['at_lag']\n",
    "filter_inv_capx = (compa['capx']<=0)|(compa['at_lag']<=0)|(compa.fdiff>1)\n",
    "compa.loc[filter_inv_capx,'inv_capx']=np.nan"
   ]
  },
  {
   "cell_type": "code",
   "execution_count": 51,
   "metadata": {
    "slideshow": {
     "slide_type": "subslide"
    }
   },
   "outputs": [
    {
     "data": {
      "text/plain": [
       "<AxesSubplot:title={'center':\"Apple's Investment\"}, xlabel='fyear'>"
      ]
     },
     "execution_count": 51,
     "metadata": {},
     "output_type": "execute_result"
    },
    {
     "data": {
      "image/png": "[encoded data removed]",
      "text/plain": [
       "<Figure size 720x432 with 1 Axes>"
      ]
     },
     "metadata": {
      "needs_background": "light"
     },
     "output_type": "display_data"
    }
   ],
   "source": [
    "# Difference for Apple\n",
    "compa.loc[(compa.gvkey=='001690')&\n",
    "          (compa.fyear>=1985),['fyear','inv','inv_capx']\n",
    "         ].set_index(['fyear']).plot(title=\"Apple's Investment\") "
   ]
  },
  {
   "cell_type": "markdown",
   "metadata": {
    "slideshow": {
     "slide_type": "slide"
    }
   },
   "source": [
    "# Save Output"
   ]
  },
  {
   "cell_type": "code",
   "execution_count": 52,
   "metadata": {
    "slideshow": {
     "slide_type": "slide"
    }
   },
   "outputs": [
    {
     "data": {
      "text/plain": [
       "Index(['gvkey', 'datadate', 'conm', 'tic', 'cusip', 'fyear', 'fyr', 'at',\n",
       "       'capx', 'ceq', 'cogs', 'csho', 'dlc', 'dlcch', 'dltt', 'dp', 'ib',\n",
       "       'itcb', 'lt', 'mib', 'naicsh', 'ni', 'prstkcc', 'pstk', 'pstkl',\n",
       "       'pstkrv', 're', 'revt', 'sale', 'seq', 'sich', 'txdb', 'txdi', 'txditc',\n",
       "       'wcapch', 'xint', 'xlr', 'xrd', 'xsga', 'se', 'ps', 'dt', 'be', 'cost',\n",
       "       'op', 'opbe', 'at_lag', 'inv', 'fdiff', 'inv_capx'],\n",
       "      dtype='object')"
      ]
     },
     "execution_count": 52,
     "metadata": {},
     "output_type": "execute_result"
    }
   ],
   "source": [
    "compa.columns"
   ]
  },
  {
   "cell_type": "code",
   "execution_count": 53,
   "metadata": {
    "slideshow": {
     "slide_type": "slide"
    }
   },
   "outputs": [],
   "source": [
    "compa.to_pickle(path='/Users/rk2941/Dropbox/courses/big_data_2022/lecture_outputs/compa_annual.pkl')"
   ]
  }
 ],
 "metadata": {
  "celltoolbar": "Slideshow",
  "kernelspec": {
   "display_name": "Python 3 (ipykernel)",
   "language": "python",
   "name": "python3"
  },
  "language_info": {
   "codemirror_mode": {
    "name": "ipython",
    "version": 3
   },
   "file_extension": ".py",
   "mimetype": "text/x-python",
   "name": "python",
   "nbconvert_exporter": "python",
   "pygments_lexer": "ipython3",
   "version": "3.8.12"
  },
  "toc": {
   "base_numbering": 1,
   "nav_menu": {
    "height": "484px",
    "width": "230px"
   },
   "number_sections": true,
   "sideBar": true,
   "skip_h1_title": true,
   "title_cell": "Table of Contents",
   "title_sidebar": "Contents",
   "toc_cell": true,
   "toc_position": {},
   "toc_section_display": true,
   "toc_window_display": true
  }
 },
 "nbformat": 4,
 "nbformat_minor": 4
}
